{
 "cells": [
  {
   "cell_type": "code",
   "execution_count": null,
   "id": "4db25e96-0285-41b1-b318-f573e124bd0a",
   "metadata": {},
   "outputs": [],
   "source": [
    "# neural activity embedding model \n",
    "class NeuralEmbedder(nn.Module):\n",
    "    def __init__(self, num_input, num_neurons, num_layers = 3, embed_shape=128, device=torch.device(\"cpu\")):\n",
    "        super().__init__()\n",
    "        \n",
    "        self.device = device\n",
    "        self.num_neurons = num_neurons\n",
    "        \n",
    "        self.linear = nn.Linear(num_input, num_neurons, device=device)\n",
    "        self.act = nn.ReLU()\n",
    "\n",
    "    def forward(self, x):\n",
    "        if len(x.shape) == 3:\n",
    "            x = x.permute(0, 2, 1)\n",
    "            x = torch.diagonal(self.linear(x), offset=0, dim1=1, dim2=2)\n",
    "        else:\n",
    "            x = self.linear(x)\n",
    "        x = self.act(x) + 1\n",
    "        return x"
   ]
  }
 ],
 "metadata": {
  "kernelspec": {
   "display_name": "Python 3 (ipykernel)",
   "language": "python",
   "name": "python3"
  },
  "language_info": {
   "codemirror_mode": {
    "name": "ipython",
    "version": 3
   },
   "file_extension": ".py",
   "mimetype": "text/x-python",
   "name": "python",
   "nbconvert_exporter": "python",
   "pygments_lexer": "ipython3",
   "version": "3.10.12"
  }
 },
 "nbformat": 4,
 "nbformat_minor": 5
}

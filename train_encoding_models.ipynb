{
 "cells": [
  {
   "cell_type": "code",
   "execution_count": 1,
   "id": "830e1050-a934-43ae-b4f0-9a5ca0517603",
   "metadata": {},
   "outputs": [],
   "source": [
    "# imports \n",
    "import torch\n",
    "import wandb\n",
    "import numpy as np\n",
    "from torch.nn import PoissonNLLLoss\n",
    "from fix_models.metrics import corr_to_avg\n",
    "\n",
    "from fix_models.datasets import get_datasets_and_loaders"
   ]
  },
  {
   "cell_type": "code",
   "execution_count": 2,
   "id": "140b03c3-58b7-4b98-84a1-15e444a45001",
   "metadata": {},
   "outputs": [],
   "source": [
    "# config\n",
    "\n",
    "# all parameters\n",
    "config = dict()\n",
    "config[\"modality\"] = \"video\" # or image\n",
    "\n",
    "# paths\n",
    "input_dir = f'../data/{config[\"modality\"]}/'\n",
    "stimulus_dir = f'../data/{config[\"modality\"]}/stimuli/'\n",
    "embedding_dir = f'../data/{config[\"modality\"]}/embeddings/'\n",
    "model_output_path = f'../data/{config[\"modality\"]}/model_output/results'\n",
    "\n",
    "# dataset and dataloader hyperparameters \n",
    "config[\"win_size\"] = 240\n",
    "config['pos'] = (400, 180)\n",
    "config[\"feat_ext_type\"] = 'resnet3d'\n",
    "config[\"stim_size\"] = 32 \n",
    "config[\"stim_dur_ms\"] = 200\n",
    "config[\"stim_shape\"] = (1, 3, 5, config[\"stim_size\"], config[\"stim_size\"])\n",
    "config[\"first_frame_only\"] = False\n",
    "config[\"exp_var_thresholds\"] = [0.25, 0.25, 0.25]\n",
    "config[\"batch_size\"] = 16\n",
    "\n",
    "# model hyperparameters\n",
    "config[\"layer\"] = \"layer1\"\n",
    "config[\"use_sigma\"] = True\n",
    "config[\"center_readout\"] = False\n",
    "config[\"use_pool\"] = True\n",
    "config[\"pool_size\"] = 4\n",
    "config[\"pool_stride\"] = 2\n",
    "config[\"use_pretrained\"] = True\n",
    "config[\"flatten_time\"] = True\n",
    "\n",
    "# training parameters \n",
    "config[\"lr\"] = 0.001 \n",
    "config[\"num_epochs\"] = 20\n",
    "config[\"l2_weight\"] = 0\n",
    "\n",
    "# logging\n",
    "config[\"wandb\"] = True\n",
    "\n",
    "# save model\n",
    "config[\"save\"] = True\n",
    "\n",
    "# device\n",
    "device = torch.device('cuda' if torch.cuda.is_available() else 'cpu')\n",
    "\n",
    "# session names\n",
    "session_ids = [\"082824\", \"082924\", \"083024\"]"
   ]
  },
  {
   "cell_type": "code",
   "execution_count": 3,
   "id": "3ec88115-3400-4df0-a713-b7094212edfa",
   "metadata": {},
   "outputs": [],
   "source": [
    "def train_model(full_model_fcn, model_name):\n",
    "    # corr avgs\n",
    "    corr_avgs = []\n",
    "\n",
    "    config['model_name'] = model_name\n",
    "\n",
    "    print(config['l2_weight'])\n",
    "    \n",
    "    for ses_idx, session_id in enumerate(session_ids):\n",
    "        # set sess_corr_avg\n",
    "        sess_corr_avg = -1\n",
    "        sess_corrs = []\n",
    "\n",
    "        # set session index \n",
    "        config[\"session_id\"] = session_id\n",
    "\n",
    "        # setup logging\n",
    "        if config[\"wandb\"]:\n",
    "            wandb.init(\n",
    "                project=f'{config[\"modality\"]}-cs230',\n",
    "                config=config,\n",
    "            )\n",
    "            wandb.define_metric(\"corr_to_avg\", summary=\"max\")\n",
    "            wandb.define_metric(\"test_loss\", summary=\"min\")\n",
    "\n",
    "        # load datasets and loaders \n",
    "        train_dataset, test_dataset, train_loader, test_loader = get_datasets_and_loaders(input_dir, session_id, config[\"modality\"], config[\"exp_var_thresholds\"][ses_idx], config[\"stim_dur_ms\"], config[\"stim_size\"], config[\"win_size\"], stimulus_dir, config[\"batch_size\"], config[\"first_frame_only\"], pos = config['pos'])\n",
    "\n",
    "        full_model = full_model_fcn(train_dataset)\n",
    "\n",
    "        for name, param in full_model.named_parameters():\n",
    "            print(name)\n",
    "            print(param.shape)\n",
    "            print(param.requires_grad)\n",
    "        # set which parameters to use regularization with and which not to\n",
    "        params_with_l2 = []\n",
    "        params_without_l2 = []\n",
    "        for name, param in full_model.named_parameters():\n",
    "            if 'mu' in name or 'sigma' in name or 'bias' in name:\n",
    "                params_without_l2.append(param)\n",
    "            else:\n",
    "                params_with_l2.append(param)\n",
    "\n",
    "        # setup Adam optimizer\n",
    "        optimizer = torch.optim.Adam([\n",
    "            {'params': params_with_l2, 'weight_decay': config['l2_weight']},  # Apply L2 regularization (weight decay)\n",
    "            {'params': params_without_l2, 'weight_decay': 0.0}  # No L2 regularization\n",
    "        ], lr=config[\"lr\"], weight_decay=config['l2_weight'])\n",
    "    \n",
    "        # using poisson loss \n",
    "        loss_func = PoissonNLLLoss(log_input=False, full=True)\n",
    "            \n",
    "        for epochs in range(config[\"num_epochs\"]):\n",
    "            epoch_loss = 0\n",
    "            for i, (stimulus, targets) in enumerate(train_loader): \n",
    "                stimulus = stimulus.to(device)\n",
    "                targets = targets.to(device)\n",
    "                \n",
    "                optimizer.zero_grad()\n",
    "                preds = full_model(stimulus)\n",
    "                loss = loss_func(preds, targets)\n",
    "                loss.backward()\n",
    "                optimizer.step()\n",
    "                \n",
    "                epoch_loss += loss.item()\n",
    "    \n",
    "            # printing corr to avg and loss metrics \n",
    "            with torch.no_grad():\n",
    "                corr_avg = corr_to_avg(full_model, test_loader, modality=config[\"modality\"], device=device)\n",
    "                test_loss = 0\n",
    "                for i, (stimulus, targets) in enumerate(test_loader):\n",
    "                    stimulus = stimulus.to(device)\n",
    "                    targets = targets.to(device)\n",
    "                    preds = full_model(stimulus) \n",
    "                    loss = loss_func(preds, targets)\n",
    "                    test_loss += loss.item()\n",
    "                    \n",
    "            if config[\"wandb\"]:\n",
    "                wandb.log({\"corr_to_avg\": np.nanmean(corr_avg), \"train_loss\": epoch_loss / len(train_loader), \"test_loss\": test_loss / len(test_loader)})\n",
    "            \n",
    "            if np.nanmean(corr_avg) > sess_corr_avg:\n",
    "                sess_corr_avg = np.nanmean(corr_avg)\n",
    "                sess_corrs = corr_avg\n",
    "                \n",
    "            print('  epoch {} loss: {} corr: {}'.format(epochs + 1, epoch_loss / len(train_dataset), np.nanmean(corr_avg)))\n",
    "            print(f' num. neurons : {len(corr_avg)}')\n",
    "            \n",
    "        if config[\"save\"]:\n",
    "            torch.save(full_model.state_dict(), f\"{model_output_path}_{session_id}.pickle\")\n",
    "            \n",
    "        corr_avgs.append(sess_corrs)\n",
    "        \n",
    "        if config[\"wandb\"]:\n",
    "            wandb.finish()\n",
    "    \n",
    "    if config[\"wandb\"]:\n",
    "        wandb.init(\n",
    "            project=f'{config[\"modality\"]}-cs230',\n",
    "            config=config,\n",
    "        )\n",
    "        for sess_corr in corr_avgs:\n",
    "            for corr in sess_corr:\n",
    "                wandb.log({\"corr\": corr})\n",
    "        wandb.finish()"
   ]
  },
  {
   "cell_type": "code",
   "execution_count": 5,
   "id": "1e6c805d-85a1-4715-93e7-79167c24ae5f",
   "metadata": {},
   "outputs": [
    {
     "name": "stdout",
     "output_type": "stream",
     "text": [
      "layer: layer1\n",
      "0\n"
     ]
    },
    {
     "name": "stderr",
     "output_type": "stream",
     "text": [
      "\u001b[34m\u001b[1mwandb\u001b[0m: Using wandb-core as the SDK backend.  Please refer to https://wandb.me/wandb-core for more information.\n",
      "\u001b[34m\u001b[1mwandb\u001b[0m: Currently logged in as: \u001b[33met22\u001b[0m. Use \u001b[1m`wandb login --relogin`\u001b[0m to force relogin\n"
     ]
    },
    {
     "data": {
      "text/html": [
       "Tracking run with wandb version 0.18.7"
      ],
      "text/plain": [
       "<IPython.core.display.HTML object>"
      ]
     },
     "metadata": {},
     "output_type": "display_data"
    },
    {
     "data": {
      "text/html": [
       "Run data is saved locally in <code>/src/models/cs230/wandb/run-20241130_172044-c8oo0kcr</code>"
      ],
      "text/plain": [
       "<IPython.core.display.HTML object>"
      ]
     },
     "metadata": {},
     "output_type": "display_data"
    },
    {
     "data": {
      "text/html": [
       "Syncing run <strong><a href='https://wandb.ai/et22/video-cs230/runs/c8oo0kcr' target=\"_blank\">pious-water-65</a></strong> to <a href='https://wandb.ai/et22/video-cs230' target=\"_blank\">Weights & Biases</a> (<a href='https://wandb.me/developer-guide' target=\"_blank\">docs</a>)<br/>"
      ],
      "text/plain": [
       "<IPython.core.display.HTML object>"
      ]
     },
     "metadata": {},
     "output_type": "display_data"
    },
    {
     "data": {
      "text/html": [
       " View project at <a href='https://wandb.ai/et22/video-cs230' target=\"_blank\">https://wandb.ai/et22/video-cs230</a>"
      ],
      "text/plain": [
       "<IPython.core.display.HTML object>"
      ]
     },
     "metadata": {},
     "output_type": "display_data"
    },
    {
     "data": {
      "text/html": [
       " View run at <a href='https://wandb.ai/et22/video-cs230/runs/c8oo0kcr' target=\"_blank\">https://wandb.ai/et22/video-cs230/runs/c8oo0kcr</a>"
      ],
      "text/plain": [
       "<IPython.core.display.HTML object>"
      ]
     },
     "metadata": {},
     "output_type": "display_data"
    },
    {
     "name": "stdout",
     "output_type": "stream",
     "text": [
      "readout input shape: 320\n",
      "model.0.stim\n",
      "torch.Size([1, 3, 5, 32, 32])\n",
      "True\n",
      "model.0.core.stem.0.weight\n",
      "torch.Size([64, 3, 3, 7, 7])\n",
      "False\n",
      "model.0.core.stem.1.weight\n",
      "torch.Size([64])\n",
      "False\n",
      "model.0.core.stem.1.bias\n",
      "torch.Size([64])\n",
      "False\n",
      "model.0.core.layer1.0.conv1.0.weight\n",
      "torch.Size([64, 64, 3, 3, 3])\n",
      "False\n",
      "model.0.core.layer1.0.conv1.1.weight\n",
      "torch.Size([64])\n",
      "False\n",
      "model.0.core.layer1.0.conv1.1.bias\n",
      "torch.Size([64])\n",
      "False\n",
      "model.1.mu\n",
      "torch.Size([54, 2])\n",
      "True\n",
      "model.1.sigma\n",
      "torch.Size([54])\n",
      "True\n",
      "model.1.poisson_linear.linear.weight\n",
      "torch.Size([54, 320])\n",
      "True\n",
      "model.1.poisson_linear.linear.bias\n",
      "torch.Size([54])\n",
      "True\n",
      "  epoch 1 loss: 0.11971184977778682 corr: 0.1411561720009646\n",
      " num. neurons : 54\n",
      "  epoch 2 loss: 0.11071030822801001 corr: 0.11844485913714636\n",
      " num. neurons : 54\n",
      "  epoch 3 loss: 0.11010752183419686 corr: 0.10726472906333752\n",
      " num. neurons : 54\n",
      "  epoch 4 loss: 0.10989189089080434 corr: 0.1492363559551482\n",
      " num. neurons : 54\n",
      "  epoch 5 loss: 0.1097915001857428 corr: 0.20662128215548028\n",
      " num. neurons : 54\n",
      "  epoch 6 loss: 0.10965192235546348 corr: 0.18028598249126218\n",
      " num. neurons : 54\n",
      "  epoch 7 loss: 0.10940879456790877 corr: 0.1378453254259212\n",
      " num. neurons : 54\n",
      "  epoch 8 loss: 0.10934226124374954 corr: 0.1731742270821257\n",
      " num. neurons : 54\n",
      "  epoch 9 loss: 0.10914225766688217 corr: 0.1572994052577952\n",
      " num. neurons : 54\n",
      "  epoch 10 loss: 0.10898502132039012 corr: 0.18105720450640408\n",
      " num. neurons : 54\n",
      "  epoch 11 loss: 0.10897567866761007 corr: 0.1916369278383786\n",
      " num. neurons : 54\n",
      "  epoch 12 loss: 0.10880473148675612 corr: 0.19319747354341385\n",
      " num. neurons : 54\n",
      "  epoch 13 loss: 0.1087885280891701 corr: 0.20001530420458394\n",
      " num. neurons : 54\n",
      "  epoch 14 loss: 0.10865765389101005 corr: 0.21773477195369356\n",
      " num. neurons : 54\n",
      "  epoch 15 loss: 0.10863903964007342 corr: 0.22647516857804076\n",
      " num. neurons : 54\n",
      "  epoch 16 loss: 0.10855028435035988 corr: 0.2138374457018785\n",
      " num. neurons : 54\n",
      "  epoch 17 loss: 0.1084888779675519 corr: 0.20373018013426578\n",
      " num. neurons : 54\n",
      "  epoch 18 loss: 0.10833108142570214 corr: 0.20646562348973507\n",
      " num. neurons : 54\n",
      "  epoch 19 loss: 0.10827303127006248 corr: 0.2224869117127764\n",
      " num. neurons : 54\n",
      "  epoch 20 loss: 0.1081552713299975 corr: 0.21259165451242787\n",
      " num. neurons : 54\n"
     ]
    },
    {
     "data": {
      "text/html": [
       "\n",
       "    <style>\n",
       "        .wandb-row {\n",
       "            display: flex;\n",
       "            flex-direction: row;\n",
       "            flex-wrap: wrap;\n",
       "            justify-content: flex-start;\n",
       "            width: 100%;\n",
       "        }\n",
       "        .wandb-col {\n",
       "            display: flex;\n",
       "            flex-direction: column;\n",
       "            flex-basis: 100%;\n",
       "            flex: 1;\n",
       "            padding: 10px;\n",
       "        }\n",
       "    </style>\n",
       "<div class=\"wandb-row\"><div class=\"wandb-col\"><h3>Run history:</h3><br/><table class=\"wandb\"><tr><td>corr_to_avg</td><td>▃▂▁▃▇▅▃▅▄▅▆▆▆▇█▇▇▇█▇</td></tr><tr><td>test_loss</td><td>█▆▅▄▄▅▅▄▃▄▂▃▃▁▂▃▁▂▁▃</td></tr><tr><td>train_loss</td><td>█▃▂▂▂▂▂▂▂▂▁▁▁▁▁▁▁▁▁▁</td></tr></table><br/></div><div class=\"wandb-col\"><h3>Run summary:</h3><br/><table class=\"wandb\"><tr><td>train_loss</td><td>1.72452</td></tr></table><br/></div></div>"
      ],
      "text/plain": [
       "<IPython.core.display.HTML object>"
      ]
     },
     "metadata": {},
     "output_type": "display_data"
    },
    {
     "data": {
      "text/html": [
       " View run <strong style=\"color:#cdcd00\">pious-water-65</strong> at: <a href='https://wandb.ai/et22/video-cs230/runs/c8oo0kcr' target=\"_blank\">https://wandb.ai/et22/video-cs230/runs/c8oo0kcr</a><br/> View project at: <a href='https://wandb.ai/et22/video-cs230' target=\"_blank\">https://wandb.ai/et22/video-cs230</a><br/>Synced 5 W&B file(s), 0 media file(s), 0 artifact file(s) and 0 other file(s)"
      ],
      "text/plain": [
       "<IPython.core.display.HTML object>"
      ]
     },
     "metadata": {},
     "output_type": "display_data"
    },
    {
     "data": {
      "text/html": [
       "Find logs at: <code>./wandb/run-20241130_172044-c8oo0kcr/logs</code>"
      ],
      "text/plain": [
       "<IPython.core.display.HTML object>"
      ]
     },
     "metadata": {},
     "output_type": "display_data"
    },
    {
     "data": {
      "text/html": [
       "Tracking run with wandb version 0.18.7"
      ],
      "text/plain": [
       "<IPython.core.display.HTML object>"
      ]
     },
     "metadata": {},
     "output_type": "display_data"
    },
    {
     "data": {
      "text/html": [
       "Run data is saved locally in <code>/src/models/cs230/wandb/run-20241130_172447-smuzcg9q</code>"
      ],
      "text/plain": [
       "<IPython.core.display.HTML object>"
      ]
     },
     "metadata": {},
     "output_type": "display_data"
    },
    {
     "data": {
      "text/html": [
       "Syncing run <strong><a href='https://wandb.ai/et22/video-cs230/runs/smuzcg9q' target=\"_blank\">ethereal-pine-66</a></strong> to <a href='https://wandb.ai/et22/video-cs230' target=\"_blank\">Weights & Biases</a> (<a href='https://wandb.me/developer-guide' target=\"_blank\">docs</a>)<br/>"
      ],
      "text/plain": [
       "<IPython.core.display.HTML object>"
      ]
     },
     "metadata": {},
     "output_type": "display_data"
    },
    {
     "data": {
      "text/html": [
       " View project at <a href='https://wandb.ai/et22/video-cs230' target=\"_blank\">https://wandb.ai/et22/video-cs230</a>"
      ],
      "text/plain": [
       "<IPython.core.display.HTML object>"
      ]
     },
     "metadata": {},
     "output_type": "display_data"
    },
    {
     "data": {
      "text/html": [
       " View run at <a href='https://wandb.ai/et22/video-cs230/runs/smuzcg9q' target=\"_blank\">https://wandb.ai/et22/video-cs230/runs/smuzcg9q</a>"
      ],
      "text/plain": [
       "<IPython.core.display.HTML object>"
      ]
     },
     "metadata": {},
     "output_type": "display_data"
    },
    {
     "name": "stdout",
     "output_type": "stream",
     "text": [
      "readout input shape: 320\n",
      "model.0.stim\n",
      "torch.Size([1, 3, 5, 32, 32])\n",
      "True\n",
      "model.0.core.stem.0.weight\n",
      "torch.Size([64, 3, 3, 7, 7])\n",
      "False\n",
      "model.0.core.stem.1.weight\n",
      "torch.Size([64])\n",
      "False\n",
      "model.0.core.stem.1.bias\n",
      "torch.Size([64])\n",
      "False\n",
      "model.0.core.layer1.0.conv1.0.weight\n",
      "torch.Size([64, 64, 3, 3, 3])\n",
      "False\n",
      "model.0.core.layer1.0.conv1.1.weight\n",
      "torch.Size([64])\n",
      "False\n",
      "model.0.core.layer1.0.conv1.1.bias\n",
      "torch.Size([64])\n",
      "False\n",
      "model.1.mu\n",
      "torch.Size([95, 2])\n",
      "True\n",
      "model.1.sigma\n",
      "torch.Size([95])\n",
      "True\n",
      "model.1.poisson_linear.linear.weight\n",
      "torch.Size([95, 320])\n",
      "True\n",
      "model.1.poisson_linear.linear.bias\n",
      "torch.Size([95])\n",
      "True\n",
      "  epoch 1 loss: 0.11322425641314522 corr: 0.15243800999530488\n",
      " num. neurons : 95\n",
      "  epoch 2 loss: 0.10636829025458291 corr: 0.17595817716659506\n",
      " num. neurons : 95\n",
      "  epoch 3 loss: 0.1057932906749985 corr: 0.1899716343673713\n",
      " num. neurons : 95\n",
      "  epoch 4 loss: 0.1054267930734844 corr: 0.203550364511327\n",
      " num. neurons : 95\n",
      "  epoch 5 loss: 0.10532792881521255 corr: 0.1750038053284786\n",
      " num. neurons : 95\n",
      "  epoch 6 loss: 0.10496422083590043 corr: 0.2300778521282842\n",
      " num. neurons : 95\n",
      "  epoch 7 loss: 0.10476631188267813 corr: 0.16727369042938248\n",
      " num. neurons : 95\n",
      "  epoch 8 loss: 0.10459353761523182 corr: 0.2196192988776884\n",
      " num. neurons : 95\n",
      "  epoch 9 loss: 0.10428738132197195 corr: 0.21109739910828923\n",
      " num. neurons : 95\n",
      "  epoch 10 loss: 0.10426286221798801 corr: 0.2519019556870558\n",
      " num. neurons : 95\n",
      "  epoch 11 loss: 0.10402106102848552 corr: 0.25190980865054585\n",
      " num. neurons : 95\n",
      "  epoch 12 loss: 0.10399959748952177 corr: 0.24824393271815037\n",
      " num. neurons : 95\n",
      "  epoch 13 loss: 0.10374480960256766 corr: 0.26084438492456175\n",
      " num. neurons : 95\n",
      "  epoch 14 loss: 0.10362092306476613 corr: 0.27532156193492335\n",
      " num. neurons : 95\n",
      "  epoch 15 loss: 0.10346516558013037 corr: 0.27171445673207884\n",
      " num. neurons : 95\n",
      "  epoch 16 loss: 0.1035917807623978 corr: 0.27251418333515653\n",
      " num. neurons : 95\n",
      "  epoch 17 loss: 0.10330091771030925 corr: 0.24466165844640664\n",
      " num. neurons : 95\n",
      "  epoch 18 loss: 0.1033029038244517 corr: 0.2603045700874353\n",
      " num. neurons : 95\n",
      "  epoch 19 loss: 0.10320027136677846 corr: 0.25227484760244373\n",
      " num. neurons : 95\n",
      "  epoch 20 loss: 0.10301898025093278 corr: 0.26242738464955245\n",
      " num. neurons : 95\n"
     ]
    },
    {
     "data": {
      "text/html": [
       "\n",
       "    <style>\n",
       "        .wandb-row {\n",
       "            display: flex;\n",
       "            flex-direction: row;\n",
       "            flex-wrap: wrap;\n",
       "            justify-content: flex-start;\n",
       "            width: 100%;\n",
       "        }\n",
       "        .wandb-col {\n",
       "            display: flex;\n",
       "            flex-direction: column;\n",
       "            flex-basis: 100%;\n",
       "            flex: 1;\n",
       "            padding: 10px;\n",
       "        }\n",
       "    </style>\n",
       "<div class=\"wandb-row\"><div class=\"wandb-col\"><h3>Run history:</h3><br/><table class=\"wandb\"><tr><td>corr_to_avg</td><td>▁▂▃▄▂▅▂▅▄▇▇▆▇███▆▇▇▇</td></tr><tr><td>test_loss</td><td>█▅▅▅▄▃▂▃▂▁▂▂▂▁▂▁▂▁▁▁</td></tr><tr><td>train_loss</td><td>█▃▃▃▃▂▂▂▂▂▂▂▁▁▁▁▁▁▁▁</td></tr></table><br/></div><div class=\"wandb-col\"><h3>Run summary:</h3><br/><table class=\"wandb\"><tr><td>train_loss</td><td>1.63972</td></tr></table><br/></div></div>"
      ],
      "text/plain": [
       "<IPython.core.display.HTML object>"
      ]
     },
     "metadata": {},
     "output_type": "display_data"
    },
    {
     "data": {
      "text/html": [
       " View run <strong style=\"color:#cdcd00\">ethereal-pine-66</strong> at: <a href='https://wandb.ai/et22/video-cs230/runs/smuzcg9q' target=\"_blank\">https://wandb.ai/et22/video-cs230/runs/smuzcg9q</a><br/> View project at: <a href='https://wandb.ai/et22/video-cs230' target=\"_blank\">https://wandb.ai/et22/video-cs230</a><br/>Synced 5 W&B file(s), 0 media file(s), 0 artifact file(s) and 0 other file(s)"
      ],
      "text/plain": [
       "<IPython.core.display.HTML object>"
      ]
     },
     "metadata": {},
     "output_type": "display_data"
    },
    {
     "data": {
      "text/html": [
       "Find logs at: <code>./wandb/run-20241130_172447-smuzcg9q/logs</code>"
      ],
      "text/plain": [
       "<IPython.core.display.HTML object>"
      ]
     },
     "metadata": {},
     "output_type": "display_data"
    },
    {
     "data": {
      "text/html": [
       "Tracking run with wandb version 0.18.7"
      ],
      "text/plain": [
       "<IPython.core.display.HTML object>"
      ]
     },
     "metadata": {},
     "output_type": "display_data"
    },
    {
     "data": {
      "text/html": [
       "Run data is saved locally in <code>/src/models/cs230/wandb/run-20241130_172846-exsalxo1</code>"
      ],
      "text/plain": [
       "<IPython.core.display.HTML object>"
      ]
     },
     "metadata": {},
     "output_type": "display_data"
    },
    {
     "data": {
      "text/html": [
       "Syncing run <strong><a href='https://wandb.ai/et22/video-cs230/runs/exsalxo1' target=\"_blank\">sunny-paper-67</a></strong> to <a href='https://wandb.ai/et22/video-cs230' target=\"_blank\">Weights & Biases</a> (<a href='https://wandb.me/developer-guide' target=\"_blank\">docs</a>)<br/>"
      ],
      "text/plain": [
       "<IPython.core.display.HTML object>"
      ]
     },
     "metadata": {},
     "output_type": "display_data"
    },
    {
     "data": {
      "text/html": [
       " View project at <a href='https://wandb.ai/et22/video-cs230' target=\"_blank\">https://wandb.ai/et22/video-cs230</a>"
      ],
      "text/plain": [
       "<IPython.core.display.HTML object>"
      ]
     },
     "metadata": {},
     "output_type": "display_data"
    },
    {
     "data": {
      "text/html": [
       " View run at <a href='https://wandb.ai/et22/video-cs230/runs/exsalxo1' target=\"_blank\">https://wandb.ai/et22/video-cs230/runs/exsalxo1</a>"
      ],
      "text/plain": [
       "<IPython.core.display.HTML object>"
      ]
     },
     "metadata": {},
     "output_type": "display_data"
    },
    {
     "name": "stdout",
     "output_type": "stream",
     "text": [
      "readout input shape: 320\n",
      "model.0.stim\n",
      "torch.Size([1, 3, 5, 32, 32])\n",
      "True\n",
      "model.0.core.stem.0.weight\n",
      "torch.Size([64, 3, 3, 7, 7])\n",
      "False\n",
      "model.0.core.stem.1.weight\n",
      "torch.Size([64])\n",
      "False\n",
      "model.0.core.stem.1.bias\n",
      "torch.Size([64])\n",
      "False\n",
      "model.0.core.layer1.0.conv1.0.weight\n",
      "torch.Size([64, 64, 3, 3, 3])\n",
      "False\n",
      "model.0.core.layer1.0.conv1.1.weight\n",
      "torch.Size([64])\n",
      "False\n",
      "model.0.core.layer1.0.conv1.1.bias\n",
      "torch.Size([64])\n",
      "False\n",
      "model.1.mu\n",
      "torch.Size([54, 2])\n",
      "True\n",
      "model.1.sigma\n",
      "torch.Size([54])\n",
      "True\n",
      "model.1.poisson_linear.linear.weight\n",
      "torch.Size([54, 320])\n",
      "True\n",
      "model.1.poisson_linear.linear.bias\n",
      "torch.Size([54])\n",
      "True\n",
      "  epoch 1 loss: 0.13499187587528177 corr: 0.12183234949544966\n",
      " num. neurons : 54\n",
      "  epoch 2 loss: 0.11987168215605254 corr: 0.17570166846053645\n",
      " num. neurons : 54\n",
      "  epoch 3 loss: 0.11860771409790391 corr: 0.18995573714770012\n",
      " num. neurons : 54\n",
      "  epoch 4 loss: 0.11825785926727457 corr: 0.12308779536834902\n",
      " num. neurons : 54\n",
      "  epoch 5 loss: 0.1180444964287867 corr: 0.19364934781785134\n",
      " num. neurons : 54\n",
      "  epoch 6 loss: 0.11795440302978286 corr: 0.16955550823679158\n",
      " num. neurons : 54\n",
      "  epoch 7 loss: 0.11776946922689809 corr: 0.18084280046429294\n",
      " num. neurons : 54\n",
      "  epoch 8 loss: 0.11765058757778597 corr: 0.2596059063183093\n",
      " num. neurons : 54\n",
      "  epoch 9 loss: 0.11750161954546355 corr: 0.21803521383280736\n",
      " num. neurons : 54\n",
      "  epoch 10 loss: 0.11736069925083137 corr: 0.2236481090301036\n",
      " num. neurons : 54\n",
      "  epoch 11 loss: 0.1172950474054494 corr: 0.23124128535824973\n",
      " num. neurons : 54\n",
      "  epoch 12 loss: 0.11713442896569631 corr: 0.24448146872068183\n",
      " num. neurons : 54\n",
      "  epoch 13 loss: 0.11703280606096364 corr: 0.27083770106504296\n",
      " num. neurons : 54\n",
      "  epoch 14 loss: 0.11691895452556932 corr: 0.2557249048116788\n",
      " num. neurons : 54\n",
      "  epoch 15 loss: 0.11682647635900774 corr: 0.2361253862461734\n",
      " num. neurons : 54\n",
      "  epoch 16 loss: 0.11670782858011675 corr: 0.27764003654780456\n",
      " num. neurons : 54\n",
      "  epoch 17 loss: 0.1166114415229689 corr: 0.2707769556000843\n",
      " num. neurons : 54\n",
      "  epoch 18 loss: 0.11650858495546423 corr: 0.2506608753571308\n",
      " num. neurons : 54\n",
      "  epoch 19 loss: 0.11645472382906802 corr: 0.2669808117357389\n",
      " num. neurons : 54\n",
      "  epoch 20 loss: 0.11636643337801482 corr: 0.2768755425745924\n",
      " num. neurons : 54\n"
     ]
    },
    {
     "data": {
      "text/html": [
       "\n",
       "    <style>\n",
       "        .wandb-row {\n",
       "            display: flex;\n",
       "            flex-direction: row;\n",
       "            flex-wrap: wrap;\n",
       "            justify-content: flex-start;\n",
       "            width: 100%;\n",
       "        }\n",
       "        .wandb-col {\n",
       "            display: flex;\n",
       "            flex-direction: column;\n",
       "            flex-basis: 100%;\n",
       "            flex: 1;\n",
       "            padding: 10px;\n",
       "        }\n",
       "    </style>\n",
       "<div class=\"wandb-row\"><div class=\"wandb-col\"><h3>Run history:</h3><br/><table class=\"wandb\"><tr><td>corr_to_avg</td><td>▁▃▄▁▄▃▄▇▅▆▆▇█▇▆██▇██</td></tr><tr><td>test_loss</td><td>█▅▄▄▄▄▃▄▃▂▃▂▁▂▁▂▂▁▂▁</td></tr><tr><td>train_loss</td><td>█▂▂▂▂▂▂▁▁▁▁▁▁▁▁▁▁▁▁▁</td></tr></table><br/></div><div class=\"wandb-col\"><h3>Run summary:</h3><br/><table class=\"wandb\"><tr><td>train_loss</td><td>1.86021</td></tr></table><br/></div></div>"
      ],
      "text/plain": [
       "<IPython.core.display.HTML object>"
      ]
     },
     "metadata": {},
     "output_type": "display_data"
    },
    {
     "data": {
      "text/html": [
       " View run <strong style=\"color:#cdcd00\">sunny-paper-67</strong> at: <a href='https://wandb.ai/et22/video-cs230/runs/exsalxo1' target=\"_blank\">https://wandb.ai/et22/video-cs230/runs/exsalxo1</a><br/> View project at: <a href='https://wandb.ai/et22/video-cs230' target=\"_blank\">https://wandb.ai/et22/video-cs230</a><br/>Synced 5 W&B file(s), 0 media file(s), 0 artifact file(s) and 0 other file(s)"
      ],
      "text/plain": [
       "<IPython.core.display.HTML object>"
      ]
     },
     "metadata": {},
     "output_type": "display_data"
    },
    {
     "data": {
      "text/html": [
       "Find logs at: <code>./wandb/run-20241130_172846-exsalxo1/logs</code>"
      ],
      "text/plain": [
       "<IPython.core.display.HTML object>"
      ]
     },
     "metadata": {},
     "output_type": "display_data"
    },
    {
     "data": {
      "text/html": [
       "Tracking run with wandb version 0.18.7"
      ],
      "text/plain": [
       "<IPython.core.display.HTML object>"
      ]
     },
     "metadata": {},
     "output_type": "display_data"
    },
    {
     "data": {
      "text/html": [
       "Run data is saved locally in <code>/src/models/cs230/wandb/run-20241130_173334-jutmf374</code>"
      ],
      "text/plain": [
       "<IPython.core.display.HTML object>"
      ]
     },
     "metadata": {},
     "output_type": "display_data"
    },
    {
     "data": {
      "text/html": [
       "Syncing run <strong><a href='https://wandb.ai/et22/video-cs230/runs/jutmf374' target=\"_blank\">vital-donkey-68</a></strong> to <a href='https://wandb.ai/et22/video-cs230' target=\"_blank\">Weights & Biases</a> (<a href='https://wandb.me/developer-guide' target=\"_blank\">docs</a>)<br/>"
      ],
      "text/plain": [
       "<IPython.core.display.HTML object>"
      ]
     },
     "metadata": {},
     "output_type": "display_data"
    },
    {
     "data": {
      "text/html": [
       " View project at <a href='https://wandb.ai/et22/video-cs230' target=\"_blank\">https://wandb.ai/et22/video-cs230</a>"
      ],
      "text/plain": [
       "<IPython.core.display.HTML object>"
      ]
     },
     "metadata": {},
     "output_type": "display_data"
    },
    {
     "data": {
      "text/html": [
       " View run at <a href='https://wandb.ai/et22/video-cs230/runs/jutmf374' target=\"_blank\">https://wandb.ai/et22/video-cs230/runs/jutmf374</a>"
      ],
      "text/plain": [
       "<IPython.core.display.HTML object>"
      ]
     },
     "metadata": {},
     "output_type": "display_data"
    },
    {
     "data": {
      "text/html": [
       "\n",
       "    <style>\n",
       "        .wandb-row {\n",
       "            display: flex;\n",
       "            flex-direction: row;\n",
       "            flex-wrap: wrap;\n",
       "            justify-content: flex-start;\n",
       "            width: 100%;\n",
       "        }\n",
       "        .wandb-col {\n",
       "            display: flex;\n",
       "            flex-direction: column;\n",
       "            flex-basis: 100%;\n",
       "            flex: 1;\n",
       "            padding: 10px;\n",
       "        }\n",
       "    </style>\n",
       "<div class=\"wandb-row\"><div class=\"wandb-col\"><h3>Run history:</h3><br/><table class=\"wandb\"><tr><td>corr</td><td>▅▅▅▄▆▆▇▆▇▅▆▆▇▇▅▆▇▆▅▄▁▇▅█▄▆▅▆▅▆▆▇▅▅▆▄▄▅▆▅</td></tr></table><br/></div><div class=\"wandb-col\"><h3>Run summary:</h3><br/><table class=\"wandb\"><tr><td>corr</td><td>0.3867</td></tr></table><br/></div></div>"
      ],
      "text/plain": [
       "<IPython.core.display.HTML object>"
      ]
     },
     "metadata": {},
     "output_type": "display_data"
    },
    {
     "data": {
      "text/html": [
       " View run <strong style=\"color:#cdcd00\">vital-donkey-68</strong> at: <a href='https://wandb.ai/et22/video-cs230/runs/jutmf374' target=\"_blank\">https://wandb.ai/et22/video-cs230/runs/jutmf374</a><br/> View project at: <a href='https://wandb.ai/et22/video-cs230' target=\"_blank\">https://wandb.ai/et22/video-cs230</a><br/>Synced 5 W&B file(s), 0 media file(s), 0 artifact file(s) and 0 other file(s)"
      ],
      "text/plain": [
       "<IPython.core.display.HTML object>"
      ]
     },
     "metadata": {},
     "output_type": "display_data"
    },
    {
     "data": {
      "text/html": [
       "Find logs at: <code>./wandb/run-20241130_173334-jutmf374/logs</code>"
      ],
      "text/plain": [
       "<IPython.core.display.HTML object>"
      ]
     },
     "metadata": {},
     "output_type": "display_data"
    },
    {
     "name": "stdout",
     "output_type": "stream",
     "text": [
      "0\n"
     ]
    },
    {
     "data": {
      "text/html": [
       "Tracking run with wandb version 0.18.7"
      ],
      "text/plain": [
       "<IPython.core.display.HTML object>"
      ]
     },
     "metadata": {},
     "output_type": "display_data"
    },
    {
     "data": {
      "text/html": [
       "Run data is saved locally in <code>/src/models/cs230/wandb/run-20241130_173337-r2v3o5yu</code>"
      ],
      "text/plain": [
       "<IPython.core.display.HTML object>"
      ]
     },
     "metadata": {},
     "output_type": "display_data"
    },
    {
     "data": {
      "text/html": [
       "Syncing run <strong><a href='https://wandb.ai/et22/video-cs230/runs/r2v3o5yu' target=\"_blank\">visionary-darkness-69</a></strong> to <a href='https://wandb.ai/et22/video-cs230' target=\"_blank\">Weights & Biases</a> (<a href='https://wandb.me/developer-guide' target=\"_blank\">docs</a>)<br/>"
      ],
      "text/plain": [
       "<IPython.core.display.HTML object>"
      ]
     },
     "metadata": {},
     "output_type": "display_data"
    },
    {
     "data": {
      "text/html": [
       " View project at <a href='https://wandb.ai/et22/video-cs230' target=\"_blank\">https://wandb.ai/et22/video-cs230</a>"
      ],
      "text/plain": [
       "<IPython.core.display.HTML object>"
      ]
     },
     "metadata": {},
     "output_type": "display_data"
    },
    {
     "data": {
      "text/html": [
       " View run at <a href='https://wandb.ai/et22/video-cs230/runs/r2v3o5yu' target=\"_blank\">https://wandb.ai/et22/video-cs230/runs/r2v3o5yu</a>"
      ],
      "text/plain": [
       "<IPython.core.display.HTML object>"
      ]
     },
     "metadata": {},
     "output_type": "display_data"
    },
    {
     "name": "stdout",
     "output_type": "stream",
     "text": [
      "readout input shape: 320\n",
      "model.0.stim\n",
      "torch.Size([1, 3, 5, 32, 32])\n",
      "True\n",
      "model.0.core.stem.0.weight\n",
      "torch.Size([64, 3, 3, 7, 7])\n",
      "True\n",
      "model.0.core.stem.1.weight\n",
      "torch.Size([64])\n",
      "True\n",
      "model.0.core.stem.1.bias\n",
      "torch.Size([64])\n",
      "True\n",
      "model.0.core.layer1.0.conv1.0.weight\n",
      "torch.Size([64, 64, 3, 3, 3])\n",
      "True\n",
      "model.0.core.layer1.0.conv1.1.weight\n",
      "torch.Size([64])\n",
      "True\n",
      "model.0.core.layer1.0.conv1.1.bias\n",
      "torch.Size([64])\n",
      "True\n",
      "model.1.mu\n",
      "torch.Size([54, 2])\n",
      "True\n",
      "model.1.sigma\n",
      "torch.Size([54])\n",
      "True\n",
      "model.1.poisson_linear.linear.weight\n",
      "torch.Size([54, 320])\n",
      "True\n",
      "model.1.poisson_linear.linear.bias\n",
      "torch.Size([54])\n",
      "True\n",
      "  epoch 1 loss: 0.11542467305689683 corr: 0.028716704857319815\n",
      " num. neurons : 54\n",
      "  epoch 2 loss: 0.11036782264709473 corr: 0.09549239197286756\n",
      " num. neurons : 54\n",
      "  epoch 3 loss: 0.11006301291194963 corr: 0.08663872011856187\n",
      " num. neurons : 54\n",
      "  epoch 4 loss: 0.10992128089622215 corr: 0.06881272590273341\n",
      " num. neurons : 54\n",
      "  epoch 5 loss: 0.10977907121917348 corr: 0.14203829583079683\n",
      " num. neurons : 54\n",
      "  epoch 6 loss: 0.10945251912246516 corr: 0.17703328353739686\n",
      " num. neurons : 54\n",
      "  epoch 7 loss: 0.10914434509512819 corr: 0.16364307971518402\n",
      " num. neurons : 54\n",
      "  epoch 8 loss: 0.10901655120614134 corr: 0.14577400104978738\n",
      " num. neurons : 54\n",
      "  epoch 9 loss: 0.10865546538506025 corr: 0.18374363927120746\n",
      " num. neurons : 54\n",
      "  epoch 10 loss: 0.10852978841758068 corr: 0.22334982234752931\n",
      " num. neurons : 54\n",
      "  epoch 11 loss: 0.1080217507444782 corr: 0.254361133327083\n",
      " num. neurons : 54\n",
      "  epoch 12 loss: 0.10790910697277681 corr: 0.25776126176837505\n",
      " num. neurons : 54\n",
      "  epoch 13 loss: 0.10770733374136465 corr: 0.2481956986335255\n",
      " num. neurons : 54\n",
      "  epoch 14 loss: 0.10751459233554793 corr: 0.24877533273979593\n",
      " num. neurons : 54\n",
      "  epoch 15 loss: 0.1072750762656883 corr: 0.27313401533392123\n",
      " num. neurons : 54\n",
      "  epoch 16 loss: 0.10722869749422427 corr: 0.26954549122049326\n",
      " num. neurons : 54\n",
      "  epoch 17 loss: 0.10693476341388844 corr: 0.29423791320028514\n",
      " num. neurons : 54\n",
      "  epoch 18 loss: 0.10690222575340742 corr: 0.26391329397015556\n",
      " num. neurons : 54\n",
      "  epoch 19 loss: 0.10676168494754368 corr: 0.2913893816030963\n",
      " num. neurons : 54\n",
      "  epoch 20 loss: 0.1065932869028162 corr: 0.2785007263057196\n",
      " num. neurons : 54\n"
     ]
    },
    {
     "data": {
      "text/html": [
       "\n",
       "    <style>\n",
       "        .wandb-row {\n",
       "            display: flex;\n",
       "            flex-direction: row;\n",
       "            flex-wrap: wrap;\n",
       "            justify-content: flex-start;\n",
       "            width: 100%;\n",
       "        }\n",
       "        .wandb-col {\n",
       "            display: flex;\n",
       "            flex-direction: column;\n",
       "            flex-basis: 100%;\n",
       "            flex: 1;\n",
       "            padding: 10px;\n",
       "        }\n",
       "    </style>\n",
       "<div class=\"wandb-row\"><div class=\"wandb-col\"><h3>Run history:</h3><br/><table class=\"wandb\"><tr><td>corr_to_avg</td><td>▁▃▃▂▄▅▅▄▅▆▇▇▇▇▇▇█▇██</td></tr><tr><td>test_loss</td><td>█▇▇█▆▅▆▅▅▃▃▃▂▂▂▁▁▂▁▁</td></tr><tr><td>train_loss</td><td>█▄▄▄▄▃▃▃▃▃▂▂▂▂▂▂▁▁▁▁</td></tr></table><br/></div><div class=\"wandb-col\"><h3>Run summary:</h3><br/><table class=\"wandb\"><tr><td>train_loss</td><td>1.69962</td></tr></table><br/></div></div>"
      ],
      "text/plain": [
       "<IPython.core.display.HTML object>"
      ]
     },
     "metadata": {},
     "output_type": "display_data"
    },
    {
     "data": {
      "text/html": [
       " View run <strong style=\"color:#cdcd00\">visionary-darkness-69</strong> at: <a href='https://wandb.ai/et22/video-cs230/runs/r2v3o5yu' target=\"_blank\">https://wandb.ai/et22/video-cs230/runs/r2v3o5yu</a><br/> View project at: <a href='https://wandb.ai/et22/video-cs230' target=\"_blank\">https://wandb.ai/et22/video-cs230</a><br/>Synced 5 W&B file(s), 0 media file(s), 0 artifact file(s) and 0 other file(s)"
      ],
      "text/plain": [
       "<IPython.core.display.HTML object>"
      ]
     },
     "metadata": {},
     "output_type": "display_data"
    },
    {
     "data": {
      "text/html": [
       "Find logs at: <code>./wandb/run-20241130_173337-r2v3o5yu/logs</code>"
      ],
      "text/plain": [
       "<IPython.core.display.HTML object>"
      ]
     },
     "metadata": {},
     "output_type": "display_data"
    },
    {
     "data": {
      "text/html": [
       "Tracking run with wandb version 0.18.7"
      ],
      "text/plain": [
       "<IPython.core.display.HTML object>"
      ]
     },
     "metadata": {},
     "output_type": "display_data"
    },
    {
     "data": {
      "text/html": [
       "Run data is saved locally in <code>/src/models/cs230/wandb/run-20241130_173739-mu4z7sg8</code>"
      ],
      "text/plain": [
       "<IPython.core.display.HTML object>"
      ]
     },
     "metadata": {},
     "output_type": "display_data"
    },
    {
     "data": {
      "text/html": [
       "Syncing run <strong><a href='https://wandb.ai/et22/video-cs230/runs/mu4z7sg8' target=\"_blank\">fresh-haze-70</a></strong> to <a href='https://wandb.ai/et22/video-cs230' target=\"_blank\">Weights & Biases</a> (<a href='https://wandb.me/developer-guide' target=\"_blank\">docs</a>)<br/>"
      ],
      "text/plain": [
       "<IPython.core.display.HTML object>"
      ]
     },
     "metadata": {},
     "output_type": "display_data"
    },
    {
     "data": {
      "text/html": [
       " View project at <a href='https://wandb.ai/et22/video-cs230' target=\"_blank\">https://wandb.ai/et22/video-cs230</a>"
      ],
      "text/plain": [
       "<IPython.core.display.HTML object>"
      ]
     },
     "metadata": {},
     "output_type": "display_data"
    },
    {
     "data": {
      "text/html": [
       " View run at <a href='https://wandb.ai/et22/video-cs230/runs/mu4z7sg8' target=\"_blank\">https://wandb.ai/et22/video-cs230/runs/mu4z7sg8</a>"
      ],
      "text/plain": [
       "<IPython.core.display.HTML object>"
      ]
     },
     "metadata": {},
     "output_type": "display_data"
    },
    {
     "name": "stdout",
     "output_type": "stream",
     "text": [
      "readout input shape: 320\n",
      "model.0.stim\n",
      "torch.Size([1, 3, 5, 32, 32])\n",
      "True\n",
      "model.0.core.stem.0.weight\n",
      "torch.Size([64, 3, 3, 7, 7])\n",
      "True\n",
      "model.0.core.stem.1.weight\n",
      "torch.Size([64])\n",
      "True\n",
      "model.0.core.stem.1.bias\n",
      "torch.Size([64])\n",
      "True\n",
      "model.0.core.layer1.0.conv1.0.weight\n",
      "torch.Size([64, 64, 3, 3, 3])\n",
      "True\n",
      "model.0.core.layer1.0.conv1.1.weight\n",
      "torch.Size([64])\n",
      "True\n",
      "model.0.core.layer1.0.conv1.1.bias\n",
      "torch.Size([64])\n",
      "True\n",
      "model.1.mu\n",
      "torch.Size([95, 2])\n",
      "True\n",
      "model.1.sigma\n",
      "torch.Size([95])\n",
      "True\n",
      "model.1.poisson_linear.linear.weight\n",
      "torch.Size([95, 320])\n",
      "True\n",
      "model.1.poisson_linear.linear.bias\n",
      "torch.Size([95])\n",
      "True\n",
      "  epoch 1 loss: 0.11001958853287222 corr: 0.006370007557453737\n",
      " num. neurons : 95\n",
      "  epoch 2 loss: 0.10601983095338831 corr: 0.13721229920008915\n",
      " num. neurons : 95\n",
      "  epoch 3 loss: 0.10575780980874107 corr: 0.14341386831428793\n",
      " num. neurons : 95\n",
      "  epoch 4 loss: 0.10533650826409226 corr: 0.14978830918196345\n",
      " num. neurons : 95\n",
      "  epoch 5 loss: 0.10517595812912386 corr: 0.17451204892471914\n",
      " num. neurons : 95\n",
      "  epoch 6 loss: 0.10472850487494344 corr: 0.20364417487017794\n",
      " num. neurons : 95\n",
      "  epoch 7 loss: 0.10440939402705088 corr: 0.18517530127384152\n",
      " num. neurons : 95\n",
      "  epoch 8 loss: 0.10398389625299663 corr: 0.20026767596386894\n",
      " num. neurons : 95\n",
      "  epoch 9 loss: 0.1037252346258513 corr: 0.2191700588532309\n",
      " num. neurons : 95\n",
      "  epoch 10 loss: 0.10346910891108488 corr: 0.2378207251022038\n",
      " num. neurons : 95\n",
      "  epoch 11 loss: 0.10305366559802549 corr: 0.2859194998654909\n",
      " num. neurons : 95\n",
      "  epoch 12 loss: 0.10280585569861048 corr: 0.26219793747674563\n",
      " num. neurons : 95\n",
      "  epoch 13 loss: 0.10273594213405829 corr: 0.2683439025227924\n",
      " num. neurons : 95\n",
      "  epoch 14 loss: 0.10244788873882194 corr: 0.25036642035049905\n",
      " num. neurons : 95\n",
      "  epoch 15 loss: 0.10216503049690685 corr: 0.28151912289675396\n",
      " num. neurons : 95\n",
      "  epoch 16 loss: 0.10192001471344714 corr: 0.28399142970173535\n",
      " num. neurons : 95\n",
      "  epoch 17 loss: 0.10170381949210042 corr: 0.28914885211502517\n",
      " num. neurons : 95\n",
      "  epoch 18 loss: 0.10161216483690352 corr: 0.27952966561711046\n",
      " num. neurons : 95\n",
      "  epoch 19 loss: 0.1014170693477411 corr: 0.2912979628776396\n",
      " num. neurons : 95\n",
      "  epoch 20 loss: 0.10124298746049092 corr: 0.29092238344567883\n",
      " num. neurons : 95\n"
     ]
    },
    {
     "data": {
      "text/html": [
       "\n",
       "    <style>\n",
       "        .wandb-row {\n",
       "            display: flex;\n",
       "            flex-direction: row;\n",
       "            flex-wrap: wrap;\n",
       "            justify-content: flex-start;\n",
       "            width: 100%;\n",
       "        }\n",
       "        .wandb-col {\n",
       "            display: flex;\n",
       "            flex-direction: column;\n",
       "            flex-basis: 100%;\n",
       "            flex: 1;\n",
       "            padding: 10px;\n",
       "        }\n",
       "    </style>\n",
       "<div class=\"wandb-row\"><div class=\"wandb-col\"><h3>Run history:</h3><br/><table class=\"wandb\"><tr><td>corr_to_avg</td><td>▁▄▄▅▅▆▅▆▆▇█▇▇▇██████</td></tr><tr><td>test_loss</td><td>█▇█▇▆▆▄▅▄▄▂▂▃▂▂▂▁▂▂▁</td></tr><tr><td>train_loss</td><td>█▅▅▄▄▄▄▃▃▃▂▂▂▂▂▂▁▁▁▁</td></tr></table><br/></div><div class=\"wandb-col\"><h3>Run summary:</h3><br/><table class=\"wandb\"><tr><td>train_loss</td><td>1.61145</td></tr></table><br/></div></div>"
      ],
      "text/plain": [
       "<IPython.core.display.HTML object>"
      ]
     },
     "metadata": {},
     "output_type": "display_data"
    },
    {
     "data": {
      "text/html": [
       " View run <strong style=\"color:#cdcd00\">fresh-haze-70</strong> at: <a href='https://wandb.ai/et22/video-cs230/runs/mu4z7sg8' target=\"_blank\">https://wandb.ai/et22/video-cs230/runs/mu4z7sg8</a><br/> View project at: <a href='https://wandb.ai/et22/video-cs230' target=\"_blank\">https://wandb.ai/et22/video-cs230</a><br/>Synced 5 W&B file(s), 0 media file(s), 0 artifact file(s) and 0 other file(s)"
      ],
      "text/plain": [
       "<IPython.core.display.HTML object>"
      ]
     },
     "metadata": {},
     "output_type": "display_data"
    },
    {
     "data": {
      "text/html": [
       "Find logs at: <code>./wandb/run-20241130_173739-mu4z7sg8/logs</code>"
      ],
      "text/plain": [
       "<IPython.core.display.HTML object>"
      ]
     },
     "metadata": {},
     "output_type": "display_data"
    },
    {
     "data": {
      "text/html": [
       "Tracking run with wandb version 0.18.7"
      ],
      "text/plain": [
       "<IPython.core.display.HTML object>"
      ]
     },
     "metadata": {},
     "output_type": "display_data"
    },
    {
     "data": {
      "text/html": [
       "Run data is saved locally in <code>/src/models/cs230/wandb/run-20241130_174139-raj4lkqh</code>"
      ],
      "text/plain": [
       "<IPython.core.display.HTML object>"
      ]
     },
     "metadata": {},
     "output_type": "display_data"
    },
    {
     "data": {
      "text/html": [
       "Syncing run <strong><a href='https://wandb.ai/et22/video-cs230/runs/raj4lkqh' target=\"_blank\">breezy-rain-71</a></strong> to <a href='https://wandb.ai/et22/video-cs230' target=\"_blank\">Weights & Biases</a> (<a href='https://wandb.me/developer-guide' target=\"_blank\">docs</a>)<br/>"
      ],
      "text/plain": [
       "<IPython.core.display.HTML object>"
      ]
     },
     "metadata": {},
     "output_type": "display_data"
    },
    {
     "data": {
      "text/html": [
       " View project at <a href='https://wandb.ai/et22/video-cs230' target=\"_blank\">https://wandb.ai/et22/video-cs230</a>"
      ],
      "text/plain": [
       "<IPython.core.display.HTML object>"
      ]
     },
     "metadata": {},
     "output_type": "display_data"
    },
    {
     "data": {
      "text/html": [
       " View run at <a href='https://wandb.ai/et22/video-cs230/runs/raj4lkqh' target=\"_blank\">https://wandb.ai/et22/video-cs230/runs/raj4lkqh</a>"
      ],
      "text/plain": [
       "<IPython.core.display.HTML object>"
      ]
     },
     "metadata": {},
     "output_type": "display_data"
    },
    {
     "name": "stdout",
     "output_type": "stream",
     "text": [
      "readout input shape: 320\n",
      "model.0.stim\n",
      "torch.Size([1, 3, 5, 32, 32])\n",
      "True\n",
      "model.0.core.stem.0.weight\n",
      "torch.Size([64, 3, 3, 7, 7])\n",
      "True\n",
      "model.0.core.stem.1.weight\n",
      "torch.Size([64])\n",
      "True\n",
      "model.0.core.stem.1.bias\n",
      "torch.Size([64])\n",
      "True\n",
      "model.0.core.layer1.0.conv1.0.weight\n",
      "torch.Size([64, 64, 3, 3, 3])\n",
      "True\n",
      "model.0.core.layer1.0.conv1.1.weight\n",
      "torch.Size([64])\n",
      "True\n",
      "model.0.core.layer1.0.conv1.1.bias\n",
      "torch.Size([64])\n",
      "True\n",
      "model.1.mu\n",
      "torch.Size([54, 2])\n",
      "True\n",
      "model.1.sigma\n",
      "torch.Size([54])\n",
      "True\n",
      "model.1.poisson_linear.linear.weight\n",
      "torch.Size([54, 320])\n",
      "True\n",
      "model.1.poisson_linear.linear.bias\n",
      "torch.Size([54])\n",
      "True\n",
      "  epoch 1 loss: 0.12565484264834115 corr: 0.038344091413455954\n",
      " num. neurons : 54\n",
      "  epoch 2 loss: 0.1188017301254814 corr: 0.038410125069592876\n",
      " num. neurons : 54\n",
      "  epoch 3 loss: 0.11847253467725671 corr: 0.06268410421292353\n",
      " num. neurons : 54\n",
      "  epoch 4 loss: 0.11815750223403497 corr: 0.10176583447333025\n",
      " num. neurons : 54\n",
      "  epoch 5 loss: 0.11792382960205282 corr: 0.11098815524586206\n",
      " num. neurons : 54\n",
      "  epoch 6 loss: 0.11741257486030288 corr: 0.14274602877544554\n",
      " num. neurons : 54\n",
      "  epoch 7 loss: 0.11702364529776382 corr: 0.13311619356339466\n",
      " num. neurons : 54\n",
      "  epoch 8 loss: 0.11669648973520816 corr: 0.22596429813842156\n",
      " num. neurons : 54\n",
      "  epoch 9 loss: 0.11636500757356186 corr: 0.17663408023630575\n",
      " num. neurons : 54\n",
      "  epoch 10 loss: 0.11599204692569791 corr: 0.2287052041642859\n",
      " num. neurons : 54\n",
      "  epoch 11 loss: 0.11578693137088494 corr: 0.26163508385607936\n",
      " num. neurons : 54\n",
      "  epoch 12 loss: 0.11558250875312244 corr: 0.2676782442595784\n",
      " num. neurons : 54\n",
      "  epoch 13 loss: 0.11522496021629543 corr: 0.2359284504774246\n",
      " num. neurons : 54\n",
      "  epoch 14 loss: 0.11501196875652595 corr: 0.25641856844549504\n",
      " num. neurons : 54\n",
      "  epoch 15 loss: 0.11485677238259574 corr: 0.246567121871327\n",
      " num. neurons : 54\n",
      "  epoch 16 loss: 0.11457505793093366 corr: 0.277840227472693\n",
      " num. neurons : 54\n",
      "  epoch 17 loss: 0.11471315554633221 corr: 0.2526663108984604\n",
      " num. neurons : 54\n",
      "  epoch 18 loss: 0.11440113512096727 corr: 0.27924064153401806\n",
      " num. neurons : 54\n",
      "  epoch 19 loss: 0.11417355385097445 corr: 0.2577119476769037\n",
      " num. neurons : 54\n",
      "  epoch 20 loss: 0.1140510094514862 corr: 0.2619764638619325\n",
      " num. neurons : 54\n"
     ]
    },
    {
     "data": {
      "text/html": [
       "\n",
       "    <style>\n",
       "        .wandb-row {\n",
       "            display: flex;\n",
       "            flex-direction: row;\n",
       "            flex-wrap: wrap;\n",
       "            justify-content: flex-start;\n",
       "            width: 100%;\n",
       "        }\n",
       "        .wandb-col {\n",
       "            display: flex;\n",
       "            flex-direction: column;\n",
       "            flex-basis: 100%;\n",
       "            flex: 1;\n",
       "            padding: 10px;\n",
       "        }\n",
       "    </style>\n",
       "<div class=\"wandb-row\"><div class=\"wandb-col\"><h3>Run history:</h3><br/><table class=\"wandb\"><tr><td>corr_to_avg</td><td>▁▁▂▃▃▄▄▆▅▇▇█▇▇▇█▇█▇▇</td></tr><tr><td>test_loss</td><td>█▇▅▅▅▅▄▃▄▂▂▃▃▂▃▂▂▃▂▁</td></tr><tr><td>train_loss</td><td>█▄▄▃▃▃▃▃▂▂▂▂▂▂▁▁▁▁▁▁</td></tr></table><br/></div><div class=\"wandb-col\"><h3>Run summary:</h3><br/><table class=\"wandb\"><tr><td>train_loss</td><td>1.8232</td></tr></table><br/></div></div>"
      ],
      "text/plain": [
       "<IPython.core.display.HTML object>"
      ]
     },
     "metadata": {},
     "output_type": "display_data"
    },
    {
     "data": {
      "text/html": [
       " View run <strong style=\"color:#cdcd00\">breezy-rain-71</strong> at: <a href='https://wandb.ai/et22/video-cs230/runs/raj4lkqh' target=\"_blank\">https://wandb.ai/et22/video-cs230/runs/raj4lkqh</a><br/> View project at: <a href='https://wandb.ai/et22/video-cs230' target=\"_blank\">https://wandb.ai/et22/video-cs230</a><br/>Synced 5 W&B file(s), 0 media file(s), 0 artifact file(s) and 0 other file(s)"
      ],
      "text/plain": [
       "<IPython.core.display.HTML object>"
      ]
     },
     "metadata": {},
     "output_type": "display_data"
    },
    {
     "data": {
      "text/html": [
       "Find logs at: <code>./wandb/run-20241130_174139-raj4lkqh/logs</code>"
      ],
      "text/plain": [
       "<IPython.core.display.HTML object>"
      ]
     },
     "metadata": {},
     "output_type": "display_data"
    },
    {
     "data": {
      "text/html": [
       "Tracking run with wandb version 0.18.7"
      ],
      "text/plain": [
       "<IPython.core.display.HTML object>"
      ]
     },
     "metadata": {},
     "output_type": "display_data"
    },
    {
     "data": {
      "text/html": [
       "Run data is saved locally in <code>/src/models/cs230/wandb/run-20241130_174627-ighl7sg8</code>"
      ],
      "text/plain": [
       "<IPython.core.display.HTML object>"
      ]
     },
     "metadata": {},
     "output_type": "display_data"
    },
    {
     "data": {
      "text/html": [
       "Syncing run <strong><a href='https://wandb.ai/et22/video-cs230/runs/ighl7sg8' target=\"_blank\">worldly-lake-72</a></strong> to <a href='https://wandb.ai/et22/video-cs230' target=\"_blank\">Weights & Biases</a> (<a href='https://wandb.me/developer-guide' target=\"_blank\">docs</a>)<br/>"
      ],
      "text/plain": [
       "<IPython.core.display.HTML object>"
      ]
     },
     "metadata": {},
     "output_type": "display_data"
    },
    {
     "data": {
      "text/html": [
       " View project at <a href='https://wandb.ai/et22/video-cs230' target=\"_blank\">https://wandb.ai/et22/video-cs230</a>"
      ],
      "text/plain": [
       "<IPython.core.display.HTML object>"
      ]
     },
     "metadata": {},
     "output_type": "display_data"
    },
    {
     "data": {
      "text/html": [
       " View run at <a href='https://wandb.ai/et22/video-cs230/runs/ighl7sg8' target=\"_blank\">https://wandb.ai/et22/video-cs230/runs/ighl7sg8</a>"
      ],
      "text/plain": [
       "<IPython.core.display.HTML object>"
      ]
     },
     "metadata": {},
     "output_type": "display_data"
    },
    {
     "data": {
      "text/html": [
       "\n",
       "    <style>\n",
       "        .wandb-row {\n",
       "            display: flex;\n",
       "            flex-direction: row;\n",
       "            flex-wrap: wrap;\n",
       "            justify-content: flex-start;\n",
       "            width: 100%;\n",
       "        }\n",
       "        .wandb-col {\n",
       "            display: flex;\n",
       "            flex-direction: column;\n",
       "            flex-basis: 100%;\n",
       "            flex: 1;\n",
       "            padding: 10px;\n",
       "        }\n",
       "    </style>\n",
       "<div class=\"wandb-row\"><div class=\"wandb-col\"><h3>Run history:</h3><br/><table class=\"wandb\"><tr><td>corr</td><td>▃▄▁▆▅▆▅▆▇▇█▅▆▇▃▃▃▇▇▇▄▅▁▃▆▆▂▂▆▃▄▅▃▄▅▅▆▇▅▆</td></tr></table><br/></div><div class=\"wandb-col\"><h3>Run summary:</h3><br/><table class=\"wandb\"><tr><td>corr</td><td>0.37803</td></tr></table><br/></div></div>"
      ],
      "text/plain": [
       "<IPython.core.display.HTML object>"
      ]
     },
     "metadata": {},
     "output_type": "display_data"
    },
    {
     "data": {
      "text/html": [
       " View run <strong style=\"color:#cdcd00\">worldly-lake-72</strong> at: <a href='https://wandb.ai/et22/video-cs230/runs/ighl7sg8' target=\"_blank\">https://wandb.ai/et22/video-cs230/runs/ighl7sg8</a><br/> View project at: <a href='https://wandb.ai/et22/video-cs230' target=\"_blank\">https://wandb.ai/et22/video-cs230</a><br/>Synced 5 W&B file(s), 0 media file(s), 0 artifact file(s) and 0 other file(s)"
      ],
      "text/plain": [
       "<IPython.core.display.HTML object>"
      ]
     },
     "metadata": {},
     "output_type": "display_data"
    },
    {
     "data": {
      "text/html": [
       "Find logs at: <code>./wandb/run-20241130_174627-ighl7sg8/logs</code>"
      ],
      "text/plain": [
       "<IPython.core.display.HTML object>"
      ]
     },
     "metadata": {},
     "output_type": "display_data"
    },
    {
     "name": "stdout",
     "output_type": "stream",
     "text": [
      "0\n"
     ]
    },
    {
     "data": {
      "text/html": [
       "Tracking run with wandb version 0.18.7"
      ],
      "text/plain": [
       "<IPython.core.display.HTML object>"
      ]
     },
     "metadata": {},
     "output_type": "display_data"
    },
    {
     "data": {
      "text/html": [
       "Run data is saved locally in <code>/src/models/cs230/wandb/run-20241130_174630-c4h81mgu</code>"
      ],
      "text/plain": [
       "<IPython.core.display.HTML object>"
      ]
     },
     "metadata": {},
     "output_type": "display_data"
    },
    {
     "data": {
      "text/html": [
       "Syncing run <strong><a href='https://wandb.ai/et22/video-cs230/runs/c4h81mgu' target=\"_blank\">neat-monkey-73</a></strong> to <a href='https://wandb.ai/et22/video-cs230' target=\"_blank\">Weights & Biases</a> (<a href='https://wandb.me/developer-guide' target=\"_blank\">docs</a>)<br/>"
      ],
      "text/plain": [
       "<IPython.core.display.HTML object>"
      ]
     },
     "metadata": {},
     "output_type": "display_data"
    },
    {
     "data": {
      "text/html": [
       " View project at <a href='https://wandb.ai/et22/video-cs230' target=\"_blank\">https://wandb.ai/et22/video-cs230</a>"
      ],
      "text/plain": [
       "<IPython.core.display.HTML object>"
      ]
     },
     "metadata": {},
     "output_type": "display_data"
    },
    {
     "data": {
      "text/html": [
       " View run at <a href='https://wandb.ai/et22/video-cs230/runs/c4h81mgu' target=\"_blank\">https://wandb.ai/et22/video-cs230/runs/c4h81mgu</a>"
      ],
      "text/plain": [
       "<IPython.core.display.HTML object>"
      ]
     },
     "metadata": {},
     "output_type": "display_data"
    },
    {
     "name": "stdout",
     "output_type": "stream",
     "text": [
      "readout input shape: 320\n",
      "model.0.stim\n",
      "torch.Size([1, 3, 5, 32, 32])\n",
      "True\n",
      "model.0.core.stem.0.weight\n",
      "torch.Size([64, 3, 3, 7, 7])\n",
      "True\n",
      "model.0.core.stem.1.weight\n",
      "torch.Size([64])\n",
      "True\n",
      "model.0.core.stem.1.bias\n",
      "torch.Size([64])\n",
      "True\n",
      "model.0.core.layer1.0.conv1.0.weight\n",
      "torch.Size([64, 64, 3, 3, 3])\n",
      "True\n",
      "model.0.core.layer1.0.conv1.1.weight\n",
      "torch.Size([64])\n",
      "True\n",
      "model.0.core.layer1.0.conv1.1.bias\n",
      "torch.Size([64])\n",
      "True\n",
      "model.1.mu\n",
      "torch.Size([54, 2])\n",
      "True\n",
      "model.1.sigma\n",
      "torch.Size([54])\n",
      "True\n",
      "model.1.poisson_linear.linear.weight\n",
      "torch.Size([54, 320])\n",
      "True\n",
      "model.1.poisson_linear.linear.bias\n",
      "torch.Size([54])\n",
      "True\n",
      "  epoch 1 loss: 0.11468338495419349 corr: 0.04794707155730058\n",
      " num. neurons : 54\n",
      "  epoch 2 loss: 0.11116113992384923 corr: 0.07616055395934379\n",
      " num. neurons : 54\n",
      "  epoch 3 loss: 0.1109850842864425 corr: 0.04984696446636102\n",
      " num. neurons : 54\n",
      "  epoch 4 loss: 0.11061539231995006 corr: 0.08878463360019728\n",
      " num. neurons : 54\n",
      "  epoch 5 loss: 0.11040811491601261 corr: 0.07954158635585938\n",
      " num. neurons : 54\n",
      "  epoch 6 loss: 0.11008883370293511 corr: 0.12297129141559963\n",
      " num. neurons : 54\n",
      "  epoch 7 loss: 0.11009671894120582 corr: 0.0990202799621697\n",
      " num. neurons : 54\n",
      "  epoch 8 loss: 0.10985978373774775 corr: 0.12712382255215832\n",
      " num. neurons : 54\n",
      "  epoch 9 loss: 0.10950838171405557 corr: 0.0620002003626913\n",
      " num. neurons : 54\n",
      "  epoch 10 loss: 0.10944467591650692 corr: 0.14115198203120588\n",
      " num. neurons : 54\n",
      "  epoch 11 loss: 0.10912465142615048 corr: 0.15776836615205042\n",
      " num. neurons : 54\n",
      "  epoch 12 loss: 0.10897196069175814 corr: 0.17668309994816003\n",
      " num. neurons : 54\n",
      "  epoch 13 loss: 0.10876917727199602 corr: 0.19724666450957123\n",
      " num. neurons : 54\n",
      "  epoch 14 loss: 0.1086045268729881 corr: 0.15481813582730894\n",
      " num. neurons : 54\n",
      "  epoch 15 loss: 0.10851057629526398 corr: 0.1795757423112001\n",
      " num. neurons : 54\n",
      "  epoch 16 loss: 0.10821494479238251 corr: 0.2477109332382661\n",
      " num. neurons : 54\n",
      "  epoch 17 loss: 0.10803578117747366 corr: 0.23413967488014917\n",
      " num. neurons : 54\n",
      "  epoch 18 loss: 0.10776276923992016 corr: 0.25881919875515214\n",
      " num. neurons : 54\n",
      "  epoch 19 loss: 0.10758768364235206 corr: 0.2472660800547706\n",
      " num. neurons : 54\n",
      "  epoch 20 loss: 0.1073554516427311 corr: 0.27607482879614714\n",
      " num. neurons : 54\n"
     ]
    },
    {
     "data": {
      "text/html": [
       "\n",
       "    <style>\n",
       "        .wandb-row {\n",
       "            display: flex;\n",
       "            flex-direction: row;\n",
       "            flex-wrap: wrap;\n",
       "            justify-content: flex-start;\n",
       "            width: 100%;\n",
       "        }\n",
       "        .wandb-col {\n",
       "            display: flex;\n",
       "            flex-direction: column;\n",
       "            flex-basis: 100%;\n",
       "            flex: 1;\n",
       "            padding: 10px;\n",
       "        }\n",
       "    </style>\n",
       "<div class=\"wandb-row\"><div class=\"wandb-col\"><h3>Run history:</h3><br/><table class=\"wandb\"><tr><td>corr_to_avg</td><td>▁▂▁▂▂▃▃▃▁▄▄▅▆▄▅▇▇▇▇█</td></tr><tr><td>test_loss</td><td>█▆▇▆▆▅▆▅▅▅▄▄▄▃▄▂▂▁▂▁</td></tr><tr><td>train_loss</td><td>█▅▄▄▄▄▄▃▃▃▃▃▂▂▂▂▂▁▁▁</td></tr></table><br/></div><div class=\"wandb-col\"><h3>Run summary:</h3><br/><table class=\"wandb\"><tr><td>train_loss</td><td>1.71177</td></tr></table><br/></div></div>"
      ],
      "text/plain": [
       "<IPython.core.display.HTML object>"
      ]
     },
     "metadata": {},
     "output_type": "display_data"
    },
    {
     "data": {
      "text/html": [
       " View run <strong style=\"color:#cdcd00\">neat-monkey-73</strong> at: <a href='https://wandb.ai/et22/video-cs230/runs/c4h81mgu' target=\"_blank\">https://wandb.ai/et22/video-cs230/runs/c4h81mgu</a><br/> View project at: <a href='https://wandb.ai/et22/video-cs230' target=\"_blank\">https://wandb.ai/et22/video-cs230</a><br/>Synced 5 W&B file(s), 0 media file(s), 0 artifact file(s) and 0 other file(s)"
      ],
      "text/plain": [
       "<IPython.core.display.HTML object>"
      ]
     },
     "metadata": {},
     "output_type": "display_data"
    },
    {
     "data": {
      "text/html": [
       "Find logs at: <code>./wandb/run-20241130_174630-c4h81mgu/logs</code>"
      ],
      "text/plain": [
       "<IPython.core.display.HTML object>"
      ]
     },
     "metadata": {},
     "output_type": "display_data"
    },
    {
     "data": {
      "text/html": [
       "Tracking run with wandb version 0.18.7"
      ],
      "text/plain": [
       "<IPython.core.display.HTML object>"
      ]
     },
     "metadata": {},
     "output_type": "display_data"
    },
    {
     "data": {
      "text/html": [
       "Run data is saved locally in <code>/src/models/cs230/wandb/run-20241130_175034-bl17ky7u</code>"
      ],
      "text/plain": [
       "<IPython.core.display.HTML object>"
      ]
     },
     "metadata": {},
     "output_type": "display_data"
    },
    {
     "data": {
      "text/html": [
       "Syncing run <strong><a href='https://wandb.ai/et22/video-cs230/runs/bl17ky7u' target=\"_blank\">ruby-blaze-74</a></strong> to <a href='https://wandb.ai/et22/video-cs230' target=\"_blank\">Weights & Biases</a> (<a href='https://wandb.me/developer-guide' target=\"_blank\">docs</a>)<br/>"
      ],
      "text/plain": [
       "<IPython.core.display.HTML object>"
      ]
     },
     "metadata": {},
     "output_type": "display_data"
    },
    {
     "data": {
      "text/html": [
       " View project at <a href='https://wandb.ai/et22/video-cs230' target=\"_blank\">https://wandb.ai/et22/video-cs230</a>"
      ],
      "text/plain": [
       "<IPython.core.display.HTML object>"
      ]
     },
     "metadata": {},
     "output_type": "display_data"
    },
    {
     "data": {
      "text/html": [
       " View run at <a href='https://wandb.ai/et22/video-cs230/runs/bl17ky7u' target=\"_blank\">https://wandb.ai/et22/video-cs230/runs/bl17ky7u</a>"
      ],
      "text/plain": [
       "<IPython.core.display.HTML object>"
      ]
     },
     "metadata": {},
     "output_type": "display_data"
    },
    {
     "name": "stdout",
     "output_type": "stream",
     "text": [
      "readout input shape: 320\n",
      "model.0.stim\n",
      "torch.Size([1, 3, 5, 32, 32])\n",
      "True\n",
      "model.0.core.stem.0.weight\n",
      "torch.Size([64, 3, 3, 7, 7])\n",
      "True\n",
      "model.0.core.stem.1.weight\n",
      "torch.Size([64])\n",
      "True\n",
      "model.0.core.stem.1.bias\n",
      "torch.Size([64])\n",
      "True\n",
      "model.0.core.layer1.0.conv1.0.weight\n",
      "torch.Size([64, 64, 3, 3, 3])\n",
      "True\n",
      "model.0.core.layer1.0.conv1.1.weight\n",
      "torch.Size([64])\n",
      "True\n",
      "model.0.core.layer1.0.conv1.1.bias\n",
      "torch.Size([64])\n",
      "True\n",
      "model.1.mu\n",
      "torch.Size([95, 2])\n",
      "True\n",
      "model.1.sigma\n",
      "torch.Size([95])\n",
      "True\n",
      "model.1.poisson_linear.linear.weight\n",
      "torch.Size([95, 320])\n",
      "True\n",
      "model.1.poisson_linear.linear.bias\n",
      "torch.Size([95])\n",
      "True\n",
      "  epoch 1 loss: 0.1102906804434292 corr: 0.03798632667568064\n",
      " num. neurons : 95\n",
      "  epoch 2 loss: 0.10725807257347707 corr: 0.05447175859519283\n",
      " num. neurons : 95\n",
      "  epoch 3 loss: 0.10664440892753801 corr: 0.1266031997082627\n",
      " num. neurons : 95\n",
      "  epoch 4 loss: 0.10644053014785207 corr: 0.08954136092399452\n",
      " num. neurons : 95\n",
      "  epoch 5 loss: 0.10592031447675215 corr: 0.11213714855891996\n",
      " num. neurons : 95\n",
      "  epoch 6 loss: 0.10560980642029129 corr: 0.13823798010775176\n",
      " num. neurons : 95\n",
      "  epoch 7 loss: 0.10538302722401643 corr: 0.16131729889885363\n",
      " num. neurons : 95\n",
      "  epoch 8 loss: 0.1052696488290557 corr: 0.16054711843953975\n",
      " num. neurons : 95\n",
      "  epoch 9 loss: 0.10488079705163446 corr: 0.16753671494331818\n",
      " num. neurons : 95\n",
      "  epoch 10 loss: 0.10474898528054123 corr: 0.1739438126944956\n",
      " num. neurons : 95\n",
      "  epoch 11 loss: 0.10445439597074899 corr: 0.17783165254563973\n",
      " num. neurons : 95\n",
      "  epoch 12 loss: 0.10410856482870291 corr: 0.2369591408916876\n",
      " num. neurons : 95\n",
      "  epoch 13 loss: 0.10398698676943155 corr: 0.21351252460411532\n",
      " num. neurons : 95\n",
      "  epoch 14 loss: 0.10380789553307739 corr: 0.25234921128667503\n",
      " num. neurons : 95\n",
      "  epoch 15 loss: 0.10367783414131684 corr: 0.25345102739772\n",
      " num. neurons : 95\n",
      "  epoch 16 loss: 0.10339839346121743 corr: 0.26445397589472075\n",
      " num. neurons : 95\n",
      "  epoch 17 loss: 0.10319817996149912 corr: 0.280061268162901\n",
      " num. neurons : 95\n",
      "  epoch 18 loss: 0.10295087879240825 corr: 0.2657737786764154\n",
      " num. neurons : 95\n",
      "  epoch 19 loss: 0.1027249653301938 corr: 0.2583498665048017\n",
      " num. neurons : 95\n",
      "  epoch 20 loss: 0.10245007451292108 corr: 0.2883429285254449\n",
      " num. neurons : 95\n"
     ]
    },
    {
     "data": {
      "text/html": [
       "\n",
       "    <style>\n",
       "        .wandb-row {\n",
       "            display: flex;\n",
       "            flex-direction: row;\n",
       "            flex-wrap: wrap;\n",
       "            justify-content: flex-start;\n",
       "            width: 100%;\n",
       "        }\n",
       "        .wandb-col {\n",
       "            display: flex;\n",
       "            flex-direction: column;\n",
       "            flex-basis: 100%;\n",
       "            flex: 1;\n",
       "            padding: 10px;\n",
       "        }\n",
       "    </style>\n",
       "<div class=\"wandb-row\"><div class=\"wandb-col\"><h3>Run history:</h3><br/><table class=\"wandb\"><tr><td>corr_to_avg</td><td>▁▁▃▂▃▄▄▄▅▅▅▇▆▇▇▇█▇▇█</td></tr><tr><td>test_loss</td><td>██▇▆▆▆▅▄▄▃▃▂▃▂▃▂▁▂▁▁</td></tr><tr><td>train_loss</td><td>█▅▅▅▄▄▄▄▃▃▃▂▂▂▂▂▂▁▁▁</td></tr></table><br/></div><div class=\"wandb-col\"><h3>Run summary:</h3><br/><table class=\"wandb\"><tr><td>train_loss</td><td>1.63066</td></tr></table><br/></div></div>"
      ],
      "text/plain": [
       "<IPython.core.display.HTML object>"
      ]
     },
     "metadata": {},
     "output_type": "display_data"
    },
    {
     "data": {
      "text/html": [
       " View run <strong style=\"color:#cdcd00\">ruby-blaze-74</strong> at: <a href='https://wandb.ai/et22/video-cs230/runs/bl17ky7u' target=\"_blank\">https://wandb.ai/et22/video-cs230/runs/bl17ky7u</a><br/> View project at: <a href='https://wandb.ai/et22/video-cs230' target=\"_blank\">https://wandb.ai/et22/video-cs230</a><br/>Synced 5 W&B file(s), 0 media file(s), 0 artifact file(s) and 0 other file(s)"
      ],
      "text/plain": [
       "<IPython.core.display.HTML object>"
      ]
     },
     "metadata": {},
     "output_type": "display_data"
    },
    {
     "data": {
      "text/html": [
       "Find logs at: <code>./wandb/run-20241130_175034-bl17ky7u/logs</code>"
      ],
      "text/plain": [
       "<IPython.core.display.HTML object>"
      ]
     },
     "metadata": {},
     "output_type": "display_data"
    },
    {
     "data": {
      "text/html": [
       "Tracking run with wandb version 0.18.7"
      ],
      "text/plain": [
       "<IPython.core.display.HTML object>"
      ]
     },
     "metadata": {},
     "output_type": "display_data"
    },
    {
     "data": {
      "text/html": [
       "Run data is saved locally in <code>/src/models/cs230/wandb/run-20241130_175434-j8zid709</code>"
      ],
      "text/plain": [
       "<IPython.core.display.HTML object>"
      ]
     },
     "metadata": {},
     "output_type": "display_data"
    },
    {
     "data": {
      "text/html": [
       "Syncing run <strong><a href='https://wandb.ai/et22/video-cs230/runs/j8zid709' target=\"_blank\">eager-monkey-75</a></strong> to <a href='https://wandb.ai/et22/video-cs230' target=\"_blank\">Weights & Biases</a> (<a href='https://wandb.me/developer-guide' target=\"_blank\">docs</a>)<br/>"
      ],
      "text/plain": [
       "<IPython.core.display.HTML object>"
      ]
     },
     "metadata": {},
     "output_type": "display_data"
    },
    {
     "data": {
      "text/html": [
       " View project at <a href='https://wandb.ai/et22/video-cs230' target=\"_blank\">https://wandb.ai/et22/video-cs230</a>"
      ],
      "text/plain": [
       "<IPython.core.display.HTML object>"
      ]
     },
     "metadata": {},
     "output_type": "display_data"
    },
    {
     "data": {
      "text/html": [
       " View run at <a href='https://wandb.ai/et22/video-cs230/runs/j8zid709' target=\"_blank\">https://wandb.ai/et22/video-cs230/runs/j8zid709</a>"
      ],
      "text/plain": [
       "<IPython.core.display.HTML object>"
      ]
     },
     "metadata": {},
     "output_type": "display_data"
    },
    {
     "name": "stdout",
     "output_type": "stream",
     "text": [
      "readout input shape: 320\n",
      "model.0.stim\n",
      "torch.Size([1, 3, 5, 32, 32])\n",
      "True\n",
      "model.0.core.stem.0.weight\n",
      "torch.Size([64, 3, 3, 7, 7])\n",
      "True\n",
      "model.0.core.stem.1.weight\n",
      "torch.Size([64])\n",
      "True\n",
      "model.0.core.stem.1.bias\n",
      "torch.Size([64])\n",
      "True\n",
      "model.0.core.layer1.0.conv1.0.weight\n",
      "torch.Size([64, 64, 3, 3, 3])\n",
      "True\n",
      "model.0.core.layer1.0.conv1.1.weight\n",
      "torch.Size([64])\n",
      "True\n",
      "model.0.core.layer1.0.conv1.1.bias\n",
      "torch.Size([64])\n",
      "True\n",
      "model.1.mu\n",
      "torch.Size([54, 2])\n",
      "True\n",
      "model.1.sigma\n",
      "torch.Size([54])\n",
      "True\n",
      "model.1.poisson_linear.linear.weight\n",
      "torch.Size([54, 320])\n",
      "True\n",
      "model.1.poisson_linear.linear.bias\n",
      "torch.Size([54])\n",
      "True\n",
      "  epoch 1 loss: 0.12465544596327652 corr: 0.012332993387948432\n",
      " num. neurons : 54\n",
      "  epoch 2 loss: 0.1196177595467724 corr: 0.05073651028903067\n",
      " num. neurons : 54\n",
      "  epoch 3 loss: 0.11914079276036667 corr: 0.05256499819715316\n",
      " num. neurons : 54\n",
      "  epoch 4 loss: 0.11884576394268127 corr: 0.0590014210895141\n",
      " num. neurons : 54\n",
      "  epoch 5 loss: 0.1187085795423682 corr: 0.15596740747634924\n",
      " num. neurons : 54\n",
      "  epoch 6 loss: 0.11841237333461893 corr: 0.08779729183933738\n",
      " num. neurons : 54\n",
      "  epoch 7 loss: 0.11795349869986181 corr: 0.15033357922231202\n",
      " num. neurons : 54\n",
      "  epoch 8 loss: 0.11770936214722885 corr: 0.17025360821855426\n",
      " num. neurons : 54\n",
      "  epoch 9 loss: 0.11724295040729729 corr: 0.1809034155864397\n",
      " num. neurons : 54\n",
      "  epoch 10 loss: 0.11708662487705301 corr: 0.18081484812253396\n",
      " num. neurons : 54\n",
      "  epoch 11 loss: 0.11685362185856464 corr: 0.18926346938346314\n",
      " num. neurons : 54\n",
      "  epoch 12 loss: 0.11672229172385892 corr: 0.22927000457975327\n",
      " num. neurons : 54\n",
      "  epoch 13 loss: 0.11629163124123398 corr: 0.2587363046868608\n",
      " num. neurons : 54\n",
      "  epoch 14 loss: 0.1160356865166137 corr: 0.25499639097360954\n",
      " num. neurons : 54\n",
      "  epoch 15 loss: 0.1157175080905261 corr: 0.25204040732412836\n",
      " num. neurons : 54\n",
      "  epoch 16 loss: 0.11558349854986331 corr: 0.2483447783302076\n",
      " num. neurons : 54\n",
      "  epoch 17 loss: 0.11537097070528113 corr: 0.2667947959059625\n",
      " num. neurons : 54\n",
      "  epoch 18 loss: 0.11520260657054085 corr: 0.24875173415419805\n",
      " num. neurons : 54\n",
      "  epoch 19 loss: 0.11512740185119033 corr: 0.265827217528714\n",
      " num. neurons : 54\n",
      "  epoch 20 loss: 0.11487929378871697 corr: 0.30322214927376406\n",
      " num. neurons : 54\n"
     ]
    },
    {
     "data": {
      "text/html": [
       "\n",
       "    <style>\n",
       "        .wandb-row {\n",
       "            display: flex;\n",
       "            flex-direction: row;\n",
       "            flex-wrap: wrap;\n",
       "            justify-content: flex-start;\n",
       "            width: 100%;\n",
       "        }\n",
       "        .wandb-col {\n",
       "            display: flex;\n",
       "            flex-direction: column;\n",
       "            flex-basis: 100%;\n",
       "            flex: 1;\n",
       "            padding: 10px;\n",
       "        }\n",
       "    </style>\n",
       "<div class=\"wandb-row\"><div class=\"wandb-col\"><h3>Run history:</h3><br/><table class=\"wandb\"><tr><td>corr_to_avg</td><td>▁▂▂▂▄▃▄▅▅▅▅▆▇▇▇▇▇▇▇█</td></tr><tr><td>test_loss</td><td>█▇▇▅▅▆▄▄▄▄▃▄▃▃▂▂▂▄▃▁</td></tr><tr><td>train_loss</td><td>█▄▄▄▄▄▃▃▃▃▂▂▂▂▂▂▁▁▁▁</td></tr></table><br/></div><div class=\"wandb-col\"><h3>Run summary:</h3><br/><table class=\"wandb\"><tr><td>train_loss</td><td>1.83644</td></tr></table><br/></div></div>"
      ],
      "text/plain": [
       "<IPython.core.display.HTML object>"
      ]
     },
     "metadata": {},
     "output_type": "display_data"
    },
    {
     "data": {
      "text/html": [
       " View run <strong style=\"color:#cdcd00\">eager-monkey-75</strong> at: <a href='https://wandb.ai/et22/video-cs230/runs/j8zid709' target=\"_blank\">https://wandb.ai/et22/video-cs230/runs/j8zid709</a><br/> View project at: <a href='https://wandb.ai/et22/video-cs230' target=\"_blank\">https://wandb.ai/et22/video-cs230</a><br/>Synced 5 W&B file(s), 0 media file(s), 0 artifact file(s) and 0 other file(s)"
      ],
      "text/plain": [
       "<IPython.core.display.HTML object>"
      ]
     },
     "metadata": {},
     "output_type": "display_data"
    },
    {
     "data": {
      "text/html": [
       "Find logs at: <code>./wandb/run-20241130_175434-j8zid709/logs</code>"
      ],
      "text/plain": [
       "<IPython.core.display.HTML object>"
      ]
     },
     "metadata": {},
     "output_type": "display_data"
    },
    {
     "data": {
      "text/html": [
       "Tracking run with wandb version 0.18.7"
      ],
      "text/plain": [
       "<IPython.core.display.HTML object>"
      ]
     },
     "metadata": {},
     "output_type": "display_data"
    },
    {
     "data": {
      "text/html": [
       "Run data is saved locally in <code>/src/models/cs230/wandb/run-20241130_175922-st80dfs4</code>"
      ],
      "text/plain": [
       "<IPython.core.display.HTML object>"
      ]
     },
     "metadata": {},
     "output_type": "display_data"
    },
    {
     "data": {
      "text/html": [
       "Syncing run <strong><a href='https://wandb.ai/et22/video-cs230/runs/st80dfs4' target=\"_blank\">blooming-forest-76</a></strong> to <a href='https://wandb.ai/et22/video-cs230' target=\"_blank\">Weights & Biases</a> (<a href='https://wandb.me/developer-guide' target=\"_blank\">docs</a>)<br/>"
      ],
      "text/plain": [
       "<IPython.core.display.HTML object>"
      ]
     },
     "metadata": {},
     "output_type": "display_data"
    },
    {
     "data": {
      "text/html": [
       " View project at <a href='https://wandb.ai/et22/video-cs230' target=\"_blank\">https://wandb.ai/et22/video-cs230</a>"
      ],
      "text/plain": [
       "<IPython.core.display.HTML object>"
      ]
     },
     "metadata": {},
     "output_type": "display_data"
    },
    {
     "data": {
      "text/html": [
       " View run at <a href='https://wandb.ai/et22/video-cs230/runs/st80dfs4' target=\"_blank\">https://wandb.ai/et22/video-cs230/runs/st80dfs4</a>"
      ],
      "text/plain": [
       "<IPython.core.display.HTML object>"
      ]
     },
     "metadata": {},
     "output_type": "display_data"
    },
    {
     "data": {
      "text/html": [
       "\n",
       "    <style>\n",
       "        .wandb-row {\n",
       "            display: flex;\n",
       "            flex-direction: row;\n",
       "            flex-wrap: wrap;\n",
       "            justify-content: flex-start;\n",
       "            width: 100%;\n",
       "        }\n",
       "        .wandb-col {\n",
       "            display: flex;\n",
       "            flex-direction: column;\n",
       "            flex-basis: 100%;\n",
       "            flex: 1;\n",
       "            padding: 10px;\n",
       "        }\n",
       "    </style>\n",
       "<div class=\"wandb-row\"><div class=\"wandb-col\"><h3>Run history:</h3><br/><table class=\"wandb\"><tr><td>corr</td><td>▂▅▃▄▃▂▅▅▂▆█▅▆▆▄▂▂▄▂▄▄▇▄▇▇▅▃▅▇▂▁▇▇▅▄▄▆▄▆▅</td></tr></table><br/></div><div class=\"wandb-col\"><h3>Run summary:</h3><br/><table class=\"wandb\"><tr><td>corr</td><td>0.40119</td></tr></table><br/></div></div>"
      ],
      "text/plain": [
       "<IPython.core.display.HTML object>"
      ]
     },
     "metadata": {},
     "output_type": "display_data"
    },
    {
     "data": {
      "text/html": [
       " View run <strong style=\"color:#cdcd00\">blooming-forest-76</strong> at: <a href='https://wandb.ai/et22/video-cs230/runs/st80dfs4' target=\"_blank\">https://wandb.ai/et22/video-cs230/runs/st80dfs4</a><br/> View project at: <a href='https://wandb.ai/et22/video-cs230' target=\"_blank\">https://wandb.ai/et22/video-cs230</a><br/>Synced 5 W&B file(s), 0 media file(s), 0 artifact file(s) and 0 other file(s)"
      ],
      "text/plain": [
       "<IPython.core.display.HTML object>"
      ]
     },
     "metadata": {},
     "output_type": "display_data"
    },
    {
     "data": {
      "text/html": [
       "Find logs at: <code>./wandb/run-20241130_175922-st80dfs4/logs</code>"
      ],
      "text/plain": [
       "<IPython.core.display.HTML object>"
      ]
     },
     "metadata": {},
     "output_type": "display_data"
    },
    {
     "name": "stdout",
     "output_type": "stream",
     "text": [
      "100\n"
     ]
    },
    {
     "data": {
      "text/html": [
       "Tracking run with wandb version 0.18.7"
      ],
      "text/plain": [
       "<IPython.core.display.HTML object>"
      ]
     },
     "metadata": {},
     "output_type": "display_data"
    },
    {
     "data": {
      "text/html": [
       "Run data is saved locally in <code>/src/models/cs230/wandb/run-20241130_175925-f6kox52g</code>"
      ],
      "text/plain": [
       "<IPython.core.display.HTML object>"
      ]
     },
     "metadata": {},
     "output_type": "display_data"
    },
    {
     "data": {
      "text/html": [
       "Syncing run <strong><a href='https://wandb.ai/et22/video-cs230/runs/f6kox52g' target=\"_blank\">fallen-terrain-77</a></strong> to <a href='https://wandb.ai/et22/video-cs230' target=\"_blank\">Weights & Biases</a> (<a href='https://wandb.me/developer-guide' target=\"_blank\">docs</a>)<br/>"
      ],
      "text/plain": [
       "<IPython.core.display.HTML object>"
      ]
     },
     "metadata": {},
     "output_type": "display_data"
    },
    {
     "data": {
      "text/html": [
       " View project at <a href='https://wandb.ai/et22/video-cs230' target=\"_blank\">https://wandb.ai/et22/video-cs230</a>"
      ],
      "text/plain": [
       "<IPython.core.display.HTML object>"
      ]
     },
     "metadata": {},
     "output_type": "display_data"
    },
    {
     "data": {
      "text/html": [
       " View run at <a href='https://wandb.ai/et22/video-cs230/runs/f6kox52g' target=\"_blank\">https://wandb.ai/et22/video-cs230/runs/f6kox52g</a>"
      ],
      "text/plain": [
       "<IPython.core.display.HTML object>"
      ]
     },
     "metadata": {},
     "output_type": "display_data"
    },
    {
     "name": "stdout",
     "output_type": "stream",
     "text": [
      "readout input shape: 15360\n",
      "model.1.linear.weight\n",
      "torch.Size([54, 15360])\n",
      "True\n",
      "model.1.linear.bias\n",
      "torch.Size([54])\n",
      "True\n",
      "  epoch 1 loss: 0.14995239870047863 corr: -0.0038529157763796456\n",
      " num. neurons : 54\n",
      "  epoch 2 loss: 0.1474048912378005 corr: -0.05671359284674722\n",
      " num. neurons : 54\n",
      "  epoch 3 loss: 0.14456361252584576 corr: -0.006050159369621809\n",
      " num. neurons : 54\n",
      "  epoch 4 loss: 0.14093821184134778 corr: 0.004737145754248771\n",
      " num. neurons : 54\n",
      "  epoch 5 loss: 0.13896327324855476 corr: -0.00853658614774139\n",
      " num. neurons : 54\n",
      "  epoch 6 loss: 0.13811771116138977 corr: -0.005399715796069087\n",
      " num. neurons : 54\n",
      "  epoch 7 loss: 0.13568587785885658 corr: 0.0025135657519691416\n",
      " num. neurons : 54\n",
      "  epoch 8 loss: 0.13338802190474522 corr: -0.011734927959059768\n",
      " num. neurons : 54\n",
      "  epoch 9 loss: 0.13229606498906643 corr: -0.00608360599346543\n",
      " num. neurons : 54\n",
      "  epoch 10 loss: 0.13045316372388674 corr: 0.03292582675118912\n",
      " num. neurons : 54\n",
      "  epoch 11 loss: 0.13021904209513724 corr: -0.004803498739881233\n",
      " num. neurons : 54\n",
      "  epoch 12 loss: 0.12814783661453813 corr: 0.016333798443535368\n",
      " num. neurons : 54\n",
      "  epoch 13 loss: 0.12722021409022954 corr: 0.0008256282553525619\n",
      " num. neurons : 54\n",
      "  epoch 14 loss: 0.12699702027403278 corr: 0.009085790623737487\n",
      " num. neurons : 54\n",
      "  epoch 15 loss: 0.12653350359127846 corr: 0.008316662659168321\n",
      " num. neurons : 54\n",
      "  epoch 16 loss: 0.1242277130668546 corr: 0.029639353084735066\n",
      " num. neurons : 54\n",
      "  epoch 17 loss: 0.12532029899550073 corr: 0.010522517688099612\n",
      " num. neurons : 54\n",
      "  epoch 18 loss: 0.12328008745923455 corr: -0.01662459853662062\n",
      " num. neurons : 54\n",
      "  epoch 19 loss: 0.12319048387032969 corr: 0.027239357331146463\n",
      " num. neurons : 54\n",
      "  epoch 20 loss: 0.12249953152220926 corr: 0.039800773542439556\n",
      " num. neurons : 54\n"
     ]
    },
    {
     "data": {
      "text/html": [
       "\n",
       "    <style>\n",
       "        .wandb-row {\n",
       "            display: flex;\n",
       "            flex-direction: row;\n",
       "            flex-wrap: wrap;\n",
       "            justify-content: flex-start;\n",
       "            width: 100%;\n",
       "        }\n",
       "        .wandb-col {\n",
       "            display: flex;\n",
       "            flex-direction: column;\n",
       "            flex-basis: 100%;\n",
       "            flex: 1;\n",
       "            padding: 10px;\n",
       "        }\n",
       "    </style>\n",
       "<div class=\"wandb-row\"><div class=\"wandb-col\"><h3>Run history:</h3><br/><table class=\"wandb\"><tr><td>corr_to_avg</td><td>▅▁▅▅▄▅▅▄▅█▅▆▅▆▆▇▆▄▇█</td></tr><tr><td>test_loss</td><td>██▇▅▅▄▅▄▄▃▂▂▂▂▂▂▂▁▁▁</td></tr><tr><td>train_loss</td><td>█▇▇▆▅▅▄▄▃▃▃▂▂▂▂▁▂▁▁▁</td></tr></table><br/></div><div class=\"wandb-col\"><h3>Run summary:</h3><br/><table class=\"wandb\"><tr><td>train_loss</td><td>1.95324</td></tr></table><br/></div></div>"
      ],
      "text/plain": [
       "<IPython.core.display.HTML object>"
      ]
     },
     "metadata": {},
     "output_type": "display_data"
    },
    {
     "data": {
      "text/html": [
       " View run <strong style=\"color:#cdcd00\">fallen-terrain-77</strong> at: <a href='https://wandb.ai/et22/video-cs230/runs/f6kox52g' target=\"_blank\">https://wandb.ai/et22/video-cs230/runs/f6kox52g</a><br/> View project at: <a href='https://wandb.ai/et22/video-cs230' target=\"_blank\">https://wandb.ai/et22/video-cs230</a><br/>Synced 5 W&B file(s), 0 media file(s), 0 artifact file(s) and 0 other file(s)"
      ],
      "text/plain": [
       "<IPython.core.display.HTML object>"
      ]
     },
     "metadata": {},
     "output_type": "display_data"
    },
    {
     "data": {
      "text/html": [
       "Find logs at: <code>./wandb/run-20241130_175925-f6kox52g/logs</code>"
      ],
      "text/plain": [
       "<IPython.core.display.HTML object>"
      ]
     },
     "metadata": {},
     "output_type": "display_data"
    },
    {
     "data": {
      "text/html": [
       "Tracking run with wandb version 0.18.7"
      ],
      "text/plain": [
       "<IPython.core.display.HTML object>"
      ]
     },
     "metadata": {},
     "output_type": "display_data"
    },
    {
     "data": {
      "text/html": [
       "Run data is saved locally in <code>/src/models/cs230/wandb/run-20241130_180327-yo40sklj</code>"
      ],
      "text/plain": [
       "<IPython.core.display.HTML object>"
      ]
     },
     "metadata": {},
     "output_type": "display_data"
    },
    {
     "data": {
      "text/html": [
       "Syncing run <strong><a href='https://wandb.ai/et22/video-cs230/runs/yo40sklj' target=\"_blank\">upbeat-thunder-78</a></strong> to <a href='https://wandb.ai/et22/video-cs230' target=\"_blank\">Weights & Biases</a> (<a href='https://wandb.me/developer-guide' target=\"_blank\">docs</a>)<br/>"
      ],
      "text/plain": [
       "<IPython.core.display.HTML object>"
      ]
     },
     "metadata": {},
     "output_type": "display_data"
    },
    {
     "data": {
      "text/html": [
       " View project at <a href='https://wandb.ai/et22/video-cs230' target=\"_blank\">https://wandb.ai/et22/video-cs230</a>"
      ],
      "text/plain": [
       "<IPython.core.display.HTML object>"
      ]
     },
     "metadata": {},
     "output_type": "display_data"
    },
    {
     "data": {
      "text/html": [
       " View run at <a href='https://wandb.ai/et22/video-cs230/runs/yo40sklj' target=\"_blank\">https://wandb.ai/et22/video-cs230/runs/yo40sklj</a>"
      ],
      "text/plain": [
       "<IPython.core.display.HTML object>"
      ]
     },
     "metadata": {},
     "output_type": "display_data"
    },
    {
     "name": "stdout",
     "output_type": "stream",
     "text": [
      "readout input shape: 15360\n",
      "model.1.linear.weight\n",
      "torch.Size([95, 15360])\n",
      "True\n",
      "model.1.linear.bias\n",
      "torch.Size([95])\n",
      "True\n",
      "  epoch 1 loss: 0.1360421685648214 corr: 0.018646517129874102\n",
      " num. neurons : 95\n",
      "  epoch 2 loss: 0.13247152666770975 corr: 0.004803005988310479\n",
      " num. neurons : 95\n",
      "  epoch 3 loss: 0.12975116574951492 corr: 0.03455693755503983\n",
      " num. neurons : 95\n",
      "  epoch 4 loss: 0.1272927403450012 corr: 0.011582845075603119\n",
      " num. neurons : 95\n",
      "  epoch 5 loss: 0.1255346815623538 corr: 0.037274761375642756\n",
      " num. neurons : 95\n",
      "  epoch 6 loss: 0.12401995721287752 corr: -0.0024397353897709973\n",
      " num. neurons : 95\n",
      "  epoch 7 loss: 0.12262563330964893 corr: 0.0495670665116475\n",
      " num. neurons : 95\n",
      "  epoch 8 loss: 0.12117280105021612 corr: 0.038864721137023876\n",
      " num. neurons : 95\n",
      "  epoch 9 loss: 0.12044504281738042 corr: 0.031562478900961664\n",
      " num. neurons : 95\n",
      "  epoch 10 loss: 0.11966460749741 corr: 0.036550479648757184\n",
      " num. neurons : 95\n",
      "  epoch 11 loss: 0.11815509047183691 corr: -0.010302736096494514\n",
      " num. neurons : 95\n",
      "  epoch 12 loss: 0.11841890094167899 corr: -0.005856401075906762\n",
      " num. neurons : 95\n",
      "  epoch 13 loss: 0.11722282564452806 corr: -0.004405795795842348\n",
      " num. neurons : 95\n",
      "  epoch 14 loss: 0.11667665904729155 corr: 0.03205255013036987\n",
      " num. neurons : 95\n",
      "  epoch 15 loss: 0.11639590544226282 corr: 0.0203929242076254\n",
      " num. neurons : 95\n",
      "  epoch 16 loss: 0.11558492707956523 corr: 0.03395251104573123\n",
      " num. neurons : 95\n",
      "  epoch 17 loss: 0.115590160492203 corr: 0.030006822748337283\n",
      " num. neurons : 95\n",
      "  epoch 18 loss: 0.11485462251133943 corr: 0.02221393824780996\n",
      " num. neurons : 95\n",
      "  epoch 19 loss: 0.11456707435128577 corr: -0.06206291032253368\n",
      " num. neurons : 95\n",
      "  epoch 20 loss: 0.11431846949442519 corr: 0.06958956908528709\n",
      " num. neurons : 95\n"
     ]
    },
    {
     "data": {
      "text/html": [
       "\n",
       "    <style>\n",
       "        .wandb-row {\n",
       "            display: flex;\n",
       "            flex-direction: row;\n",
       "            flex-wrap: wrap;\n",
       "            justify-content: flex-start;\n",
       "            width: 100%;\n",
       "        }\n",
       "        .wandb-col {\n",
       "            display: flex;\n",
       "            flex-direction: column;\n",
       "            flex-basis: 100%;\n",
       "            flex: 1;\n",
       "            padding: 10px;\n",
       "        }\n",
       "    </style>\n",
       "<div class=\"wandb-row\"><div class=\"wandb-col\"><h3>Run history:</h3><br/><table class=\"wandb\"><tr><td>corr_to_avg</td><td>▅▅▆▅▆▄▇▆▆▆▄▄▄▆▅▆▆▅▁█</td></tr><tr><td>test_loss</td><td>█▇▇▆▅▄▆▄▅▃▅▃▃▁▁▁▂▁▂▁</td></tr><tr><td>train_loss</td><td>█▇▆▅▅▄▄▃▃▃▂▂▂▂▂▁▁▁▁▁</td></tr></table><br/></div><div class=\"wandb-col\"><h3>Run summary:</h3><br/><table class=\"wandb\"><tr><td>train_loss</td><td>1.81957</td></tr></table><br/></div></div>"
      ],
      "text/plain": [
       "<IPython.core.display.HTML object>"
      ]
     },
     "metadata": {},
     "output_type": "display_data"
    },
    {
     "data": {
      "text/html": [
       " View run <strong style=\"color:#cdcd00\">upbeat-thunder-78</strong> at: <a href='https://wandb.ai/et22/video-cs230/runs/yo40sklj' target=\"_blank\">https://wandb.ai/et22/video-cs230/runs/yo40sklj</a><br/> View project at: <a href='https://wandb.ai/et22/video-cs230' target=\"_blank\">https://wandb.ai/et22/video-cs230</a><br/>Synced 5 W&B file(s), 0 media file(s), 0 artifact file(s) and 0 other file(s)"
      ],
      "text/plain": [
       "<IPython.core.display.HTML object>"
      ]
     },
     "metadata": {},
     "output_type": "display_data"
    },
    {
     "data": {
      "text/html": [
       "Find logs at: <code>./wandb/run-20241130_180327-yo40sklj/logs</code>"
      ],
      "text/plain": [
       "<IPython.core.display.HTML object>"
      ]
     },
     "metadata": {},
     "output_type": "display_data"
    },
    {
     "data": {
      "text/html": [
       "Tracking run with wandb version 0.18.7"
      ],
      "text/plain": [
       "<IPython.core.display.HTML object>"
      ]
     },
     "metadata": {},
     "output_type": "display_data"
    },
    {
     "data": {
      "text/html": [
       "Run data is saved locally in <code>/src/models/cs230/wandb/run-20241130_180726-cbsqmypu</code>"
      ],
      "text/plain": [
       "<IPython.core.display.HTML object>"
      ]
     },
     "metadata": {},
     "output_type": "display_data"
    },
    {
     "data": {
      "text/html": [
       "Syncing run <strong><a href='https://wandb.ai/et22/video-cs230/runs/cbsqmypu' target=\"_blank\">absurd-waterfall-79</a></strong> to <a href='https://wandb.ai/et22/video-cs230' target=\"_blank\">Weights & Biases</a> (<a href='https://wandb.me/developer-guide' target=\"_blank\">docs</a>)<br/>"
      ],
      "text/plain": [
       "<IPython.core.display.HTML object>"
      ]
     },
     "metadata": {},
     "output_type": "display_data"
    },
    {
     "data": {
      "text/html": [
       " View project at <a href='https://wandb.ai/et22/video-cs230' target=\"_blank\">https://wandb.ai/et22/video-cs230</a>"
      ],
      "text/plain": [
       "<IPython.core.display.HTML object>"
      ]
     },
     "metadata": {},
     "output_type": "display_data"
    },
    {
     "data": {
      "text/html": [
       " View run at <a href='https://wandb.ai/et22/video-cs230/runs/cbsqmypu' target=\"_blank\">https://wandb.ai/et22/video-cs230/runs/cbsqmypu</a>"
      ],
      "text/plain": [
       "<IPython.core.display.HTML object>"
      ]
     },
     "metadata": {},
     "output_type": "display_data"
    },
    {
     "name": "stdout",
     "output_type": "stream",
     "text": [
      "readout input shape: 15360\n",
      "model.1.linear.weight\n",
      "torch.Size([54, 15360])\n",
      "True\n",
      "model.1.linear.bias\n",
      "torch.Size([54])\n",
      "True\n",
      "  epoch 1 loss: 0.1735950998214884 corr: 0.008377857280703456\n",
      " num. neurons : 54\n",
      "  epoch 2 loss: 0.17024380894181151 corr: 0.038091137461167976\n",
      " num. neurons : 54\n",
      "  epoch 3 loss: 0.16686548590131217 corr: 0.02248357195822742\n",
      " num. neurons : 54\n",
      "  epoch 4 loss: 0.16317124988721765 corr: 0.007676881169460737\n",
      " num. neurons : 54\n",
      "  epoch 5 loss: 0.16301541584407533 corr: 0.009644988463717044\n",
      " num. neurons : 54\n",
      "  epoch 6 loss: 0.15681496476746282 corr: 0.009088872192952645\n",
      " num. neurons : 54\n",
      "  epoch 7 loss: 0.15402935623805292 corr: 0.04721592851534323\n",
      " num. neurons : 54\n",
      "  epoch 8 loss: 0.15326492883721177 corr: 0.002285645323471782\n",
      " num. neurons : 54\n",
      "  epoch 9 loss: 0.15154677655914767 corr: -0.04276835105069057\n",
      " num. neurons : 54\n",
      "  epoch 10 loss: 0.14810500440072885 corr: -0.025313869636037406\n",
      " num. neurons : 54\n",
      "  epoch 11 loss: 0.14597644505505025 corr: 0.011378135394074418\n",
      " num. neurons : 54\n",
      "  epoch 12 loss: 0.1447880003657506 corr: 0.005486250127387511\n",
      " num. neurons : 54\n",
      "  epoch 13 loss: 0.1423553372762218 corr: -0.013580301370948069\n",
      " num. neurons : 54\n",
      "  epoch 14 loss: 0.1417664210671541 corr: 0.020397100188045334\n",
      " num. neurons : 54\n",
      "  epoch 15 loss: 0.1415638680360755 corr: 0.05049467518959179\n",
      " num. neurons : 54\n",
      "  epoch 16 loss: 0.14015991548150647 corr: -0.022462388202784164\n",
      " num. neurons : 54\n",
      "  epoch 17 loss: 0.1402562647767054 corr: 0.055813179546941885\n",
      " num. neurons : 54\n",
      "  epoch 18 loss: 0.1383446377785521 corr: 0.005900917947545777\n",
      " num. neurons : 54\n",
      "  epoch 19 loss: 0.13742211426690076 corr: 0.007365798863654972\n",
      " num. neurons : 54\n",
      "  epoch 20 loss: 0.13609375182568975 corr: 0.029420684325325405\n",
      " num. neurons : 54\n"
     ]
    },
    {
     "data": {
      "text/html": [
       "\n",
       "    <style>\n",
       "        .wandb-row {\n",
       "            display: flex;\n",
       "            flex-direction: row;\n",
       "            flex-wrap: wrap;\n",
       "            justify-content: flex-start;\n",
       "            width: 100%;\n",
       "        }\n",
       "        .wandb-col {\n",
       "            display: flex;\n",
       "            flex-direction: column;\n",
       "            flex-basis: 100%;\n",
       "            flex: 1;\n",
       "            padding: 10px;\n",
       "        }\n",
       "    </style>\n",
       "<div class=\"wandb-row\"><div class=\"wandb-col\"><h3>Run history:</h3><br/><table class=\"wandb\"><tr><td>corr_to_avg</td><td>▅▇▆▅▅▅▇▄▁▂▅▄▃▅█▂█▄▅▆</td></tr><tr><td>test_loss</td><td>▇▇▇█▇▃▄▄▄▃▃▂▂▂▁▂▁▂▂▁</td></tr><tr><td>train_loss</td><td>█▇▇▆▆▅▄▄▄▃▃▃▂▂▂▂▂▁▁▁</td></tr></table><br/></div><div class=\"wandb-col\"><h3>Run summary:</h3><br/><table class=\"wandb\"><tr><td>train_loss</td><td>2.17557</td></tr></table><br/></div></div>"
      ],
      "text/plain": [
       "<IPython.core.display.HTML object>"
      ]
     },
     "metadata": {},
     "output_type": "display_data"
    },
    {
     "data": {
      "text/html": [
       " View run <strong style=\"color:#cdcd00\">absurd-waterfall-79</strong> at: <a href='https://wandb.ai/et22/video-cs230/runs/cbsqmypu' target=\"_blank\">https://wandb.ai/et22/video-cs230/runs/cbsqmypu</a><br/> View project at: <a href='https://wandb.ai/et22/video-cs230' target=\"_blank\">https://wandb.ai/et22/video-cs230</a><br/>Synced 5 W&B file(s), 0 media file(s), 0 artifact file(s) and 0 other file(s)"
      ],
      "text/plain": [
       "<IPython.core.display.HTML object>"
      ]
     },
     "metadata": {},
     "output_type": "display_data"
    },
    {
     "data": {
      "text/html": [
       "Find logs at: <code>./wandb/run-20241130_180726-cbsqmypu/logs</code>"
      ],
      "text/plain": [
       "<IPython.core.display.HTML object>"
      ]
     },
     "metadata": {},
     "output_type": "display_data"
    },
    {
     "data": {
      "text/html": [
       "Tracking run with wandb version 0.18.7"
      ],
      "text/plain": [
       "<IPython.core.display.HTML object>"
      ]
     },
     "metadata": {},
     "output_type": "display_data"
    },
    {
     "data": {
      "text/html": [
       "Run data is saved locally in <code>/src/models/cs230/wandb/run-20241130_181213-am061coo</code>"
      ],
      "text/plain": [
       "<IPython.core.display.HTML object>"
      ]
     },
     "metadata": {},
     "output_type": "display_data"
    },
    {
     "data": {
      "text/html": [
       "Syncing run <strong><a href='https://wandb.ai/et22/video-cs230/runs/am061coo' target=\"_blank\">laced-wildflower-80</a></strong> to <a href='https://wandb.ai/et22/video-cs230' target=\"_blank\">Weights & Biases</a> (<a href='https://wandb.me/developer-guide' target=\"_blank\">docs</a>)<br/>"
      ],
      "text/plain": [
       "<IPython.core.display.HTML object>"
      ]
     },
     "metadata": {},
     "output_type": "display_data"
    },
    {
     "data": {
      "text/html": [
       " View project at <a href='https://wandb.ai/et22/video-cs230' target=\"_blank\">https://wandb.ai/et22/video-cs230</a>"
      ],
      "text/plain": [
       "<IPython.core.display.HTML object>"
      ]
     },
     "metadata": {},
     "output_type": "display_data"
    },
    {
     "data": {
      "text/html": [
       " View run at <a href='https://wandb.ai/et22/video-cs230/runs/am061coo' target=\"_blank\">https://wandb.ai/et22/video-cs230/runs/am061coo</a>"
      ],
      "text/plain": [
       "<IPython.core.display.HTML object>"
      ]
     },
     "metadata": {},
     "output_type": "display_data"
    },
    {
     "data": {
      "text/html": [
       "\n",
       "    <style>\n",
       "        .wandb-row {\n",
       "            display: flex;\n",
       "            flex-direction: row;\n",
       "            flex-wrap: wrap;\n",
       "            justify-content: flex-start;\n",
       "            width: 100%;\n",
       "        }\n",
       "        .wandb-col {\n",
       "            display: flex;\n",
       "            flex-direction: column;\n",
       "            flex-basis: 100%;\n",
       "            flex: 1;\n",
       "            padding: 10px;\n",
       "        }\n",
       "    </style>\n",
       "<div class=\"wandb-row\"><div class=\"wandb-col\"><h3>Run history:</h3><br/><table class=\"wandb\"><tr><td>corr</td><td>▁▂▃▆▄▄▅▆▅▂▇▅▂▃▅▇▆▄▆▄▅▅▃▃▂▂▅▄▆▆▆▂▆█▆▄▄▄▅▅</td></tr></table><br/></div><div class=\"wandb-col\"><h3>Run summary:</h3><br/><table class=\"wandb\"><tr><td>corr</td><td>-0.09925</td></tr></table><br/></div></div>"
      ],
      "text/plain": [
       "<IPython.core.display.HTML object>"
      ]
     },
     "metadata": {},
     "output_type": "display_data"
    },
    {
     "data": {
      "text/html": [
       " View run <strong style=\"color:#cdcd00\">laced-wildflower-80</strong> at: <a href='https://wandb.ai/et22/video-cs230/runs/am061coo' target=\"_blank\">https://wandb.ai/et22/video-cs230/runs/am061coo</a><br/> View project at: <a href='https://wandb.ai/et22/video-cs230' target=\"_blank\">https://wandb.ai/et22/video-cs230</a><br/>Synced 5 W&B file(s), 0 media file(s), 0 artifact file(s) and 0 other file(s)"
      ],
      "text/plain": [
       "<IPython.core.display.HTML object>"
      ]
     },
     "metadata": {},
     "output_type": "display_data"
    },
    {
     "data": {
      "text/html": [
       "Find logs at: <code>./wandb/run-20241130_181213-am061coo/logs</code>"
      ],
      "text/plain": [
       "<IPython.core.display.HTML object>"
      ]
     },
     "metadata": {},
     "output_type": "display_data"
    },
    {
     "name": "stdout",
     "output_type": "stream",
     "text": [
      "layer: layer2\n",
      "0\n"
     ]
    },
    {
     "data": {
      "text/html": [
       "Tracking run with wandb version 0.18.7"
      ],
      "text/plain": [
       "<IPython.core.display.HTML object>"
      ]
     },
     "metadata": {},
     "output_type": "display_data"
    },
    {
     "data": {
      "text/html": [
       "Run data is saved locally in <code>/src/models/cs230/wandb/run-20241130_181216-l7rpivw7</code>"
      ],
      "text/plain": [
       "<IPython.core.display.HTML object>"
      ]
     },
     "metadata": {},
     "output_type": "display_data"
    },
    {
     "data": {
      "text/html": [
       "Syncing run <strong><a href='https://wandb.ai/et22/video-cs230/runs/l7rpivw7' target=\"_blank\">dulcet-rain-81</a></strong> to <a href='https://wandb.ai/et22/video-cs230' target=\"_blank\">Weights & Biases</a> (<a href='https://wandb.me/developer-guide' target=\"_blank\">docs</a>)<br/>"
      ],
      "text/plain": [
       "<IPython.core.display.HTML object>"
      ]
     },
     "metadata": {},
     "output_type": "display_data"
    },
    {
     "data": {
      "text/html": [
       " View project at <a href='https://wandb.ai/et22/video-cs230' target=\"_blank\">https://wandb.ai/et22/video-cs230</a>"
      ],
      "text/plain": [
       "<IPython.core.display.HTML object>"
      ]
     },
     "metadata": {},
     "output_type": "display_data"
    },
    {
     "data": {
      "text/html": [
       " View run at <a href='https://wandb.ai/et22/video-cs230/runs/l7rpivw7' target=\"_blank\">https://wandb.ai/et22/video-cs230/runs/l7rpivw7</a>"
      ],
      "text/plain": [
       "<IPython.core.display.HTML object>"
      ]
     },
     "metadata": {},
     "output_type": "display_data"
    },
    {
     "name": "stdout",
     "output_type": "stream",
     "text": [
      "readout input shape: 384\n",
      "model.0.stim\n",
      "torch.Size([1, 3, 5, 32, 32])\n",
      "True\n",
      "model.0.core.stem.0.weight\n",
      "torch.Size([64, 3, 3, 7, 7])\n",
      "False\n",
      "model.0.core.stem.1.weight\n",
      "torch.Size([64])\n",
      "False\n",
      "model.0.core.stem.1.bias\n",
      "torch.Size([64])\n",
      "False\n",
      "model.0.core.layer1.0.conv1.0.weight\n",
      "torch.Size([64, 64, 3, 3, 3])\n",
      "False\n",
      "model.0.core.layer1.0.conv1.1.weight\n",
      "torch.Size([64])\n",
      "False\n",
      "model.0.core.layer1.0.conv1.1.bias\n",
      "torch.Size([64])\n",
      "False\n",
      "model.0.core.layer1.0.conv2.0.weight\n",
      "torch.Size([64, 64, 3, 3, 3])\n",
      "False\n",
      "model.0.core.layer1.0.conv2.1.weight\n",
      "torch.Size([64])\n",
      "False\n",
      "model.0.core.layer1.0.conv2.1.bias\n",
      "torch.Size([64])\n",
      "False\n",
      "model.0.core.layer1.1.conv1.0.weight\n",
      "torch.Size([64, 64, 3, 3, 3])\n",
      "False\n",
      "model.0.core.layer1.1.conv1.1.weight\n",
      "torch.Size([64])\n",
      "False\n",
      "model.0.core.layer1.1.conv1.1.bias\n",
      "torch.Size([64])\n",
      "False\n",
      "model.0.core.layer1.1.conv2.0.weight\n",
      "torch.Size([64, 64, 3, 3, 3])\n",
      "False\n",
      "model.0.core.layer1.1.conv2.1.weight\n",
      "torch.Size([64])\n",
      "False\n",
      "model.0.core.layer1.1.conv2.1.bias\n",
      "torch.Size([64])\n",
      "False\n",
      "model.0.core.layer2.0.conv1.0.weight\n",
      "torch.Size([128, 64, 3, 3, 3])\n",
      "False\n",
      "model.0.core.layer2.0.conv1.1.weight\n",
      "torch.Size([128])\n",
      "False\n",
      "model.0.core.layer2.0.conv1.1.bias\n",
      "torch.Size([128])\n",
      "False\n",
      "model.1.mu\n",
      "torch.Size([54, 2])\n",
      "True\n",
      "model.1.sigma\n",
      "torch.Size([54])\n",
      "True\n",
      "model.1.poisson_linear.linear.weight\n",
      "torch.Size([54, 384])\n",
      "True\n",
      "model.1.poisson_linear.linear.bias\n",
      "torch.Size([54])\n",
      "True\n",
      "  epoch 1 loss: 0.11627613927111213 corr: 0.1717882162749436\n",
      " num. neurons : 54\n",
      "  epoch 2 loss: 0.1092704094780816 corr: 0.2531717619883521\n",
      " num. neurons : 54\n",
      "  epoch 3 loss: 0.10821722654648769 corr: 0.31252087233815445\n",
      " num. neurons : 54\n",
      "  epoch 4 loss: 0.10745361398767542 corr: 0.27178764790584475\n",
      " num. neurons : 54\n",
      "  epoch 5 loss: 0.1068849170943837 corr: 0.33185857923325596\n",
      " num. neurons : 54\n",
      "  epoch 6 loss: 0.10632838384604748 corr: 0.37307486656123434\n",
      " num. neurons : 54\n",
      "  epoch 7 loss: 0.10604619167469166 corr: 0.3789711931553505\n",
      " num. neurons : 54\n",
      "  epoch 8 loss: 0.10568418850133449 corr: 0.39078265110749344\n",
      " num. neurons : 54\n",
      "  epoch 9 loss: 0.1054506594457744 corr: 0.40958865419081886\n",
      " num. neurons : 54\n",
      "  epoch 10 loss: 0.10520266232667146 corr: 0.4079379987584308\n",
      " num. neurons : 54\n",
      "  epoch 11 loss: 0.10496927914796052 corr: 0.4161810350914062\n",
      " num. neurons : 54\n",
      "  epoch 12 loss: 0.10478344204985066 corr: 0.42308081352982174\n",
      " num. neurons : 54\n",
      "  epoch 13 loss: 0.10468369507495268 corr: 0.4259540982036371\n",
      " num. neurons : 54\n",
      "  epoch 14 loss: 0.10446020744465015 corr: 0.4366585598240022\n",
      " num. neurons : 54\n",
      "  epoch 15 loss: 0.1043161517602426 corr: 0.4397197455600901\n",
      " num. neurons : 54\n",
      "  epoch 16 loss: 0.10415676111056481 corr: 0.4392865417171946\n",
      " num. neurons : 54\n",
      "  epoch 17 loss: 0.10409376762531422 corr: 0.4443709895898287\n",
      " num. neurons : 54\n",
      "  epoch 18 loss: 0.10399095676563404 corr: 0.44271177925350547\n",
      " num. neurons : 54\n",
      "  epoch 19 loss: 0.10385949128939782 corr: 0.4435707838238142\n",
      " num. neurons : 54\n",
      "  epoch 20 loss: 0.10377665572696262 corr: 0.44894491969116845\n",
      " num. neurons : 54\n"
     ]
    },
    {
     "data": {
      "text/html": [
       "\n",
       "    <style>\n",
       "        .wandb-row {\n",
       "            display: flex;\n",
       "            flex-direction: row;\n",
       "            flex-wrap: wrap;\n",
       "            justify-content: flex-start;\n",
       "            width: 100%;\n",
       "        }\n",
       "        .wandb-col {\n",
       "            display: flex;\n",
       "            flex-direction: column;\n",
       "            flex-basis: 100%;\n",
       "            flex: 1;\n",
       "            padding: 10px;\n",
       "        }\n",
       "    </style>\n",
       "<div class=\"wandb-row\"><div class=\"wandb-col\"><h3>Run history:</h3><br/><table class=\"wandb\"><tr><td>corr_to_avg</td><td>▁▃▅▄▅▆▆▇▇▇▇▇▇███████</td></tr><tr><td>test_loss</td><td>█▆▅▅▄▃▄▃▂▂▂▂▂▂▂▂▁▁▁▂</td></tr><tr><td>train_loss</td><td>█▄▃▃▃▂▂▂▂▂▂▂▂▁▁▁▁▁▁▁</td></tr></table><br/></div><div class=\"wandb-col\"><h3>Run summary:</h3><br/><table class=\"wandb\"><tr><td>train_loss</td><td>1.65471</td></tr></table><br/></div></div>"
      ],
      "text/plain": [
       "<IPython.core.display.HTML object>"
      ]
     },
     "metadata": {},
     "output_type": "display_data"
    },
    {
     "data": {
      "text/html": [
       " View run <strong style=\"color:#cdcd00\">dulcet-rain-81</strong> at: <a href='https://wandb.ai/et22/video-cs230/runs/l7rpivw7' target=\"_blank\">https://wandb.ai/et22/video-cs230/runs/l7rpivw7</a><br/> View project at: <a href='https://wandb.ai/et22/video-cs230' target=\"_blank\">https://wandb.ai/et22/video-cs230</a><br/>Synced 5 W&B file(s), 0 media file(s), 0 artifact file(s) and 0 other file(s)"
      ],
      "text/plain": [
       "<IPython.core.display.HTML object>"
      ]
     },
     "metadata": {},
     "output_type": "display_data"
    },
    {
     "data": {
      "text/html": [
       "Find logs at: <code>./wandb/run-20241130_181216-l7rpivw7/logs</code>"
      ],
      "text/plain": [
       "<IPython.core.display.HTML object>"
      ]
     },
     "metadata": {},
     "output_type": "display_data"
    },
    {
     "data": {
      "text/html": [
       "Tracking run with wandb version 0.18.7"
      ],
      "text/plain": [
       "<IPython.core.display.HTML object>"
      ]
     },
     "metadata": {},
     "output_type": "display_data"
    },
    {
     "data": {
      "text/html": [
       "Run data is saved locally in <code>/src/models/cs230/wandb/run-20241130_181621-h8zfj5rt</code>"
      ],
      "text/plain": [
       "<IPython.core.display.HTML object>"
      ]
     },
     "metadata": {},
     "output_type": "display_data"
    },
    {
     "data": {
      "text/html": [
       "Syncing run <strong><a href='https://wandb.ai/et22/video-cs230/runs/h8zfj5rt' target=\"_blank\">fallen-morning-82</a></strong> to <a href='https://wandb.ai/et22/video-cs230' target=\"_blank\">Weights & Biases</a> (<a href='https://wandb.me/developer-guide' target=\"_blank\">docs</a>)<br/>"
      ],
      "text/plain": [
       "<IPython.core.display.HTML object>"
      ]
     },
     "metadata": {},
     "output_type": "display_data"
    },
    {
     "data": {
      "text/html": [
       " View project at <a href='https://wandb.ai/et22/video-cs230' target=\"_blank\">https://wandb.ai/et22/video-cs230</a>"
      ],
      "text/plain": [
       "<IPython.core.display.HTML object>"
      ]
     },
     "metadata": {},
     "output_type": "display_data"
    },
    {
     "data": {
      "text/html": [
       " View run at <a href='https://wandb.ai/et22/video-cs230/runs/h8zfj5rt' target=\"_blank\">https://wandb.ai/et22/video-cs230/runs/h8zfj5rt</a>"
      ],
      "text/plain": [
       "<IPython.core.display.HTML object>"
      ]
     },
     "metadata": {},
     "output_type": "display_data"
    },
    {
     "name": "stdout",
     "output_type": "stream",
     "text": [
      "readout input shape: 384\n",
      "model.0.stim\n",
      "torch.Size([1, 3, 5, 32, 32])\n",
      "True\n",
      "model.0.core.stem.0.weight\n",
      "torch.Size([64, 3, 3, 7, 7])\n",
      "False\n",
      "model.0.core.stem.1.weight\n",
      "torch.Size([64])\n",
      "False\n",
      "model.0.core.stem.1.bias\n",
      "torch.Size([64])\n",
      "False\n",
      "model.0.core.layer1.0.conv1.0.weight\n",
      "torch.Size([64, 64, 3, 3, 3])\n",
      "False\n",
      "model.0.core.layer1.0.conv1.1.weight\n",
      "torch.Size([64])\n",
      "False\n",
      "model.0.core.layer1.0.conv1.1.bias\n",
      "torch.Size([64])\n",
      "False\n",
      "model.0.core.layer1.0.conv2.0.weight\n",
      "torch.Size([64, 64, 3, 3, 3])\n",
      "False\n",
      "model.0.core.layer1.0.conv2.1.weight\n",
      "torch.Size([64])\n",
      "False\n",
      "model.0.core.layer1.0.conv2.1.bias\n",
      "torch.Size([64])\n",
      "False\n",
      "model.0.core.layer1.1.conv1.0.weight\n",
      "torch.Size([64, 64, 3, 3, 3])\n",
      "False\n",
      "model.0.core.layer1.1.conv1.1.weight\n",
      "torch.Size([64])\n",
      "False\n",
      "model.0.core.layer1.1.conv1.1.bias\n",
      "torch.Size([64])\n",
      "False\n",
      "model.0.core.layer1.1.conv2.0.weight\n",
      "torch.Size([64, 64, 3, 3, 3])\n",
      "False\n",
      "model.0.core.layer1.1.conv2.1.weight\n",
      "torch.Size([64])\n",
      "False\n",
      "model.0.core.layer1.1.conv2.1.bias\n",
      "torch.Size([64])\n",
      "False\n",
      "model.0.core.layer2.0.conv1.0.weight\n",
      "torch.Size([128, 64, 3, 3, 3])\n",
      "False\n",
      "model.0.core.layer2.0.conv1.1.weight\n",
      "torch.Size([128])\n",
      "False\n",
      "model.0.core.layer2.0.conv1.1.bias\n",
      "torch.Size([128])\n",
      "False\n",
      "model.1.mu\n",
      "torch.Size([95, 2])\n",
      "True\n",
      "model.1.sigma\n",
      "torch.Size([95])\n",
      "True\n",
      "model.1.poisson_linear.linear.weight\n",
      "torch.Size([95, 384])\n",
      "True\n",
      "model.1.poisson_linear.linear.bias\n",
      "torch.Size([95])\n",
      "True\n",
      "  epoch 1 loss: 0.1107194208349857 corr: 0.20166708008197815\n",
      " num. neurons : 95\n",
      "  epoch 2 loss: 0.10498589938847806 corr: 0.2655807944781295\n",
      " num. neurons : 95\n",
      "  epoch 3 loss: 0.10399192190919247 corr: 0.32198398535725586\n",
      " num. neurons : 95\n",
      "  epoch 4 loss: 0.10317453183428779 corr: 0.34868428588960054\n",
      " num. neurons : 95\n",
      "  epoch 5 loss: 0.10254030340004966 corr: 0.3759320285017014\n",
      " num. neurons : 95\n",
      "  epoch 6 loss: 0.10195204350336684 corr: 0.40074464807526833\n",
      " num. neurons : 95\n",
      "  epoch 7 loss: 0.10149118787955239 corr: 0.37954624195337555\n",
      " num. neurons : 95\n",
      "  epoch 8 loss: 0.10113787807095113 corr: 0.39832490449314994\n",
      " num. neurons : 95\n",
      "  epoch 9 loss: 0.10081533898857875 corr: 0.40834998366616626\n",
      " num. neurons : 95\n",
      "  epoch 10 loss: 0.10052699911656804 corr: 0.41189893045764486\n",
      " num. neurons : 95\n",
      "  epoch 11 loss: 0.10031125520536413 corr: 0.4136731052008031\n",
      " num. neurons : 95\n",
      "  epoch 12 loss: 0.10001852992941572 corr: 0.4240244680550979\n",
      " num. neurons : 95\n",
      "  epoch 13 loss: 0.0999077246451253 corr: 0.4217916682915466\n",
      " num. neurons : 95\n",
      "  epoch 14 loss: 0.09961318695108304 corr: 0.424429875791978\n",
      " num. neurons : 95\n",
      "  epoch 15 loss: 0.09950417024302857 corr: 0.42214764292130447\n",
      " num. neurons : 95\n",
      "  epoch 16 loss: 0.09940309000264912 corr: 0.42798281349615663\n",
      " num. neurons : 95\n",
      "  epoch 17 loss: 0.09935498312505751 corr: 0.42872116086124384\n",
      " num. neurons : 95\n",
      "  epoch 18 loss: 0.0991662461720212 corr: 0.4277068210815166\n",
      " num. neurons : 95\n",
      "  epoch 19 loss: 0.09903529707673957 corr: 0.42849431443456\n",
      " num. neurons : 95\n",
      "  epoch 20 loss: 0.09903822525633567 corr: 0.42679746647166056\n",
      " num. neurons : 95\n"
     ]
    },
    {
     "data": {
      "text/html": [
       "\n",
       "    <style>\n",
       "        .wandb-row {\n",
       "            display: flex;\n",
       "            flex-direction: row;\n",
       "            flex-wrap: wrap;\n",
       "            justify-content: flex-start;\n",
       "            width: 100%;\n",
       "        }\n",
       "        .wandb-col {\n",
       "            display: flex;\n",
       "            flex-direction: column;\n",
       "            flex-basis: 100%;\n",
       "            flex: 1;\n",
       "            padding: 10px;\n",
       "        }\n",
       "    </style>\n",
       "<div class=\"wandb-row\"><div class=\"wandb-col\"><h3>Run history:</h3><br/><table class=\"wandb\"><tr><td>corr_to_avg</td><td>▁▃▅▆▆▇▆▇▇▇██████████</td></tr><tr><td>test_loss</td><td>█▆▆▄▄▃▃▃▃▂▂▂▂▂▂▁▁▁▁▁</td></tr><tr><td>train_loss</td><td>█▅▄▃▃▃▂▂▂▂▂▂▂▁▁▁▁▁▁▁</td></tr></table><br/></div><div class=\"wandb-col\"><h3>Run summary:</h3><br/><table class=\"wandb\"><tr><td>train_loss</td><td>1.57636</td></tr></table><br/></div></div>"
      ],
      "text/plain": [
       "<IPython.core.display.HTML object>"
      ]
     },
     "metadata": {},
     "output_type": "display_data"
    },
    {
     "data": {
      "text/html": [
       " View run <strong style=\"color:#cdcd00\">fallen-morning-82</strong> at: <a href='https://wandb.ai/et22/video-cs230/runs/h8zfj5rt' target=\"_blank\">https://wandb.ai/et22/video-cs230/runs/h8zfj5rt</a><br/> View project at: <a href='https://wandb.ai/et22/video-cs230' target=\"_blank\">https://wandb.ai/et22/video-cs230</a><br/>Synced 5 W&B file(s), 0 media file(s), 0 artifact file(s) and 0 other file(s)"
      ],
      "text/plain": [
       "<IPython.core.display.HTML object>"
      ]
     },
     "metadata": {},
     "output_type": "display_data"
    },
    {
     "data": {
      "text/html": [
       "Find logs at: <code>./wandb/run-20241130_181621-h8zfj5rt/logs</code>"
      ],
      "text/plain": [
       "<IPython.core.display.HTML object>"
      ]
     },
     "metadata": {},
     "output_type": "display_data"
    },
    {
     "data": {
      "text/html": [
       "Tracking run with wandb version 0.18.7"
      ],
      "text/plain": [
       "<IPython.core.display.HTML object>"
      ]
     },
     "metadata": {},
     "output_type": "display_data"
    },
    {
     "data": {
      "text/html": [
       "Run data is saved locally in <code>/src/models/cs230/wandb/run-20241130_182030-smiisg3q</code>"
      ],
      "text/plain": [
       "<IPython.core.display.HTML object>"
      ]
     },
     "metadata": {},
     "output_type": "display_data"
    },
    {
     "data": {
      "text/html": [
       "Syncing run <strong><a href='https://wandb.ai/et22/video-cs230/runs/smiisg3q' target=\"_blank\">gentle-lion-83</a></strong> to <a href='https://wandb.ai/et22/video-cs230' target=\"_blank\">Weights & Biases</a> (<a href='https://wandb.me/developer-guide' target=\"_blank\">docs</a>)<br/>"
      ],
      "text/plain": [
       "<IPython.core.display.HTML object>"
      ]
     },
     "metadata": {},
     "output_type": "display_data"
    },
    {
     "data": {
      "text/html": [
       " View project at <a href='https://wandb.ai/et22/video-cs230' target=\"_blank\">https://wandb.ai/et22/video-cs230</a>"
      ],
      "text/plain": [
       "<IPython.core.display.HTML object>"
      ]
     },
     "metadata": {},
     "output_type": "display_data"
    },
    {
     "data": {
      "text/html": [
       " View run at <a href='https://wandb.ai/et22/video-cs230/runs/smiisg3q' target=\"_blank\">https://wandb.ai/et22/video-cs230/runs/smiisg3q</a>"
      ],
      "text/plain": [
       "<IPython.core.display.HTML object>"
      ]
     },
     "metadata": {},
     "output_type": "display_data"
    },
    {
     "name": "stdout",
     "output_type": "stream",
     "text": [
      "readout input shape: 384\n",
      "model.0.stim\n",
      "torch.Size([1, 3, 5, 32, 32])\n",
      "True\n",
      "model.0.core.stem.0.weight\n",
      "torch.Size([64, 3, 3, 7, 7])\n",
      "False\n",
      "model.0.core.stem.1.weight\n",
      "torch.Size([64])\n",
      "False\n",
      "model.0.core.stem.1.bias\n",
      "torch.Size([64])\n",
      "False\n",
      "model.0.core.layer1.0.conv1.0.weight\n",
      "torch.Size([64, 64, 3, 3, 3])\n",
      "False\n",
      "model.0.core.layer1.0.conv1.1.weight\n",
      "torch.Size([64])\n",
      "False\n",
      "model.0.core.layer1.0.conv1.1.bias\n",
      "torch.Size([64])\n",
      "False\n",
      "model.0.core.layer1.0.conv2.0.weight\n",
      "torch.Size([64, 64, 3, 3, 3])\n",
      "False\n",
      "model.0.core.layer1.0.conv2.1.weight\n",
      "torch.Size([64])\n",
      "False\n",
      "model.0.core.layer1.0.conv2.1.bias\n",
      "torch.Size([64])\n",
      "False\n",
      "model.0.core.layer1.1.conv1.0.weight\n",
      "torch.Size([64, 64, 3, 3, 3])\n",
      "False\n",
      "model.0.core.layer1.1.conv1.1.weight\n",
      "torch.Size([64])\n",
      "False\n",
      "model.0.core.layer1.1.conv1.1.bias\n",
      "torch.Size([64])\n",
      "False\n",
      "model.0.core.layer1.1.conv2.0.weight\n",
      "torch.Size([64, 64, 3, 3, 3])\n",
      "False\n",
      "model.0.core.layer1.1.conv2.1.weight\n",
      "torch.Size([64])\n",
      "False\n",
      "model.0.core.layer1.1.conv2.1.bias\n",
      "torch.Size([64])\n",
      "False\n",
      "model.0.core.layer2.0.conv1.0.weight\n",
      "torch.Size([128, 64, 3, 3, 3])\n",
      "False\n",
      "model.0.core.layer2.0.conv1.1.weight\n",
      "torch.Size([128])\n",
      "False\n",
      "model.0.core.layer2.0.conv1.1.bias\n",
      "torch.Size([128])\n",
      "False\n",
      "model.1.mu\n",
      "torch.Size([54, 2])\n",
      "True\n",
      "model.1.sigma\n",
      "torch.Size([54])\n",
      "True\n",
      "model.1.poisson_linear.linear.weight\n",
      "torch.Size([54, 384])\n",
      "True\n",
      "model.1.poisson_linear.linear.bias\n",
      "torch.Size([54])\n",
      "True\n",
      "  epoch 1 loss: 0.1274433976374798 corr: 0.1937250925418617\n",
      " num. neurons : 54\n",
      "  epoch 2 loss: 0.11764160869601774 corr: 0.24872686176866562\n",
      " num. neurons : 54\n",
      "  epoch 3 loss: 0.11642842665116344 corr: 0.319663099737093\n",
      " num. neurons : 54\n",
      "  epoch 4 loss: 0.1156143861845096 corr: 0.3637758867102076\n",
      " num. neurons : 54\n",
      "  epoch 5 loss: 0.11496799613060736 corr: 0.35118907803383653\n",
      " num. neurons : 54\n",
      "  epoch 6 loss: 0.11443229449355931 corr: 0.37912048960569417\n",
      " num. neurons : 54\n",
      "  epoch 7 loss: 0.11398076810134442 corr: 0.39860712841942425\n",
      " num. neurons : 54\n",
      "  epoch 8 loss: 0.1136401463845396 corr: 0.4077160326747098\n",
      " num. neurons : 54\n",
      "  epoch 9 loss: 0.11332177354259203 corr: 0.4130907407723364\n",
      " num. neurons : 54\n",
      "  epoch 10 loss: 0.1131191251546594 corr: 0.4227928464297222\n",
      " num. neurons : 54\n",
      "  epoch 11 loss: 0.11288933190182446 corr: 0.4267722755018609\n",
      " num. neurons : 54\n",
      "  epoch 12 loss: 0.11274158499784563 corr: 0.4311142767292886\n",
      " num. neurons : 54\n",
      "  epoch 13 loss: 0.11260104829903292 corr: 0.4341146787185881\n",
      " num. neurons : 54\n",
      "  epoch 14 loss: 0.11245517759272347 corr: 0.43762391028294884\n",
      " num. neurons : 54\n",
      "  epoch 15 loss: 0.11230636938758519 corr: 0.43623257111415537\n",
      " num. neurons : 54\n",
      "  epoch 16 loss: 0.11221240020581019 corr: 0.4408968571735168\n",
      " num. neurons : 54\n",
      "  epoch 17 loss: 0.11210663517492475 corr: 0.4424487557153048\n",
      " num. neurons : 54\n",
      "  epoch 18 loss: 0.11207229290372414 corr: 0.4399733163483611\n",
      " num. neurons : 54\n",
      "  epoch 19 loss: 0.11189220960730457 corr: 0.4417127145174899\n",
      " num. neurons : 54\n",
      "  epoch 20 loss: 0.11181417469864095 corr: 0.4415767414102256\n",
      " num. neurons : 54\n"
     ]
    },
    {
     "data": {
      "text/html": [
       "\n",
       "    <style>\n",
       "        .wandb-row {\n",
       "            display: flex;\n",
       "            flex-direction: row;\n",
       "            flex-wrap: wrap;\n",
       "            justify-content: flex-start;\n",
       "            width: 100%;\n",
       "        }\n",
       "        .wandb-col {\n",
       "            display: flex;\n",
       "            flex-direction: column;\n",
       "            flex-basis: 100%;\n",
       "            flex: 1;\n",
       "            padding: 10px;\n",
       "        }\n",
       "    </style>\n",
       "<div class=\"wandb-row\"><div class=\"wandb-col\"><h3>Run history:</h3><br/><table class=\"wandb\"><tr><td>corr_to_avg</td><td>▁▃▅▆▅▆▇▇▇▇██████████</td></tr><tr><td>test_loss</td><td>█▆▅▄▄▃▃▂▂▃▃▂▁▂▂▂▂▂▁▂</td></tr><tr><td>train_loss</td><td>█▄▃▃▂▂▂▂▂▂▁▁▁▁▁▁▁▁▁▁</td></tr></table><br/></div><div class=\"wandb-col\"><h3>Run summary:</h3><br/><table class=\"wandb\"><tr><td>train_loss</td><td>1.78744</td></tr></table><br/></div></div>"
      ],
      "text/plain": [
       "<IPython.core.display.HTML object>"
      ]
     },
     "metadata": {},
     "output_type": "display_data"
    },
    {
     "data": {
      "text/html": [
       " View run <strong style=\"color:#cdcd00\">gentle-lion-83</strong> at: <a href='https://wandb.ai/et22/video-cs230/runs/smiisg3q' target=\"_blank\">https://wandb.ai/et22/video-cs230/runs/smiisg3q</a><br/> View project at: <a href='https://wandb.ai/et22/video-cs230' target=\"_blank\">https://wandb.ai/et22/video-cs230</a><br/>Synced 5 W&B file(s), 0 media file(s), 2 artifact file(s) and 0 other file(s)"
      ],
      "text/plain": [
       "<IPython.core.display.HTML object>"
      ]
     },
     "metadata": {},
     "output_type": "display_data"
    },
    {
     "data": {
      "text/html": [
       "Find logs at: <code>./wandb/run-20241130_182030-smiisg3q/logs</code>"
      ],
      "text/plain": [
       "<IPython.core.display.HTML object>"
      ]
     },
     "metadata": {},
     "output_type": "display_data"
    },
    {
     "data": {
      "text/html": [
       "Tracking run with wandb version 0.18.7"
      ],
      "text/plain": [
       "<IPython.core.display.HTML object>"
      ]
     },
     "metadata": {},
     "output_type": "display_data"
    },
    {
     "data": {
      "text/html": [
       "Run data is saved locally in <code>/src/models/cs230/wandb/run-20241130_182530-75rgssuz</code>"
      ],
      "text/plain": [
       "<IPython.core.display.HTML object>"
      ]
     },
     "metadata": {},
     "output_type": "display_data"
    },
    {
     "data": {
      "text/html": [
       "Syncing run <strong><a href='https://wandb.ai/et22/video-cs230/runs/75rgssuz' target=\"_blank\">skilled-eon-84</a></strong> to <a href='https://wandb.ai/et22/video-cs230' target=\"_blank\">Weights & Biases</a> (<a href='https://wandb.me/developer-guide' target=\"_blank\">docs</a>)<br/>"
      ],
      "text/plain": [
       "<IPython.core.display.HTML object>"
      ]
     },
     "metadata": {},
     "output_type": "display_data"
    },
    {
     "data": {
      "text/html": [
       " View project at <a href='https://wandb.ai/et22/video-cs230' target=\"_blank\">https://wandb.ai/et22/video-cs230</a>"
      ],
      "text/plain": [
       "<IPython.core.display.HTML object>"
      ]
     },
     "metadata": {},
     "output_type": "display_data"
    },
    {
     "data": {
      "text/html": [
       " View run at <a href='https://wandb.ai/et22/video-cs230/runs/75rgssuz' target=\"_blank\">https://wandb.ai/et22/video-cs230/runs/75rgssuz</a>"
      ],
      "text/plain": [
       "<IPython.core.display.HTML object>"
      ]
     },
     "metadata": {},
     "output_type": "display_data"
    },
    {
     "data": {
      "text/html": [
       "\n",
       "    <style>\n",
       "        .wandb-row {\n",
       "            display: flex;\n",
       "            flex-direction: row;\n",
       "            flex-wrap: wrap;\n",
       "            justify-content: flex-start;\n",
       "            width: 100%;\n",
       "        }\n",
       "        .wandb-col {\n",
       "            display: flex;\n",
       "            flex-direction: column;\n",
       "            flex-basis: 100%;\n",
       "            flex: 1;\n",
       "            padding: 10px;\n",
       "        }\n",
       "    </style>\n",
       "<div class=\"wandb-row\"><div class=\"wandb-col\"><h3>Run history:</h3><br/><table class=\"wandb\"><tr><td>corr</td><td>▅▅▂▄▃▇▆▅▇▅▅▁█▆▅▄▅▄▆▅▅▃▄▁█▇▄▄▂▆▄▇▃▂▆▄█▆▄▅</td></tr></table><br/></div><div class=\"wandb-col\"><h3>Run summary:</h3><br/><table class=\"wandb\"><tr><td>corr</td><td>0.5348</td></tr></table><br/></div></div>"
      ],
      "text/plain": [
       "<IPython.core.display.HTML object>"
      ]
     },
     "metadata": {},
     "output_type": "display_data"
    },
    {
     "data": {
      "text/html": [
       " View run <strong style=\"color:#cdcd00\">skilled-eon-84</strong> at: <a href='https://wandb.ai/et22/video-cs230/runs/75rgssuz' target=\"_blank\">https://wandb.ai/et22/video-cs230/runs/75rgssuz</a><br/> View project at: <a href='https://wandb.ai/et22/video-cs230' target=\"_blank\">https://wandb.ai/et22/video-cs230</a><br/>Synced 5 W&B file(s), 0 media file(s), 2 artifact file(s) and 0 other file(s)"
      ],
      "text/plain": [
       "<IPython.core.display.HTML object>"
      ]
     },
     "metadata": {},
     "output_type": "display_data"
    },
    {
     "data": {
      "text/html": [
       "Find logs at: <code>./wandb/run-20241130_182530-75rgssuz/logs</code>"
      ],
      "text/plain": [
       "<IPython.core.display.HTML object>"
      ]
     },
     "metadata": {},
     "output_type": "display_data"
    },
    {
     "name": "stdout",
     "output_type": "stream",
     "text": [
      "0\n"
     ]
    },
    {
     "data": {
      "text/html": [
       "Tracking run with wandb version 0.18.7"
      ],
      "text/plain": [
       "<IPython.core.display.HTML object>"
      ]
     },
     "metadata": {},
     "output_type": "display_data"
    },
    {
     "data": {
      "text/html": [
       "Run data is saved locally in <code>/src/models/cs230/wandb/run-20241130_182534-74ow6jw0</code>"
      ],
      "text/plain": [
       "<IPython.core.display.HTML object>"
      ]
     },
     "metadata": {},
     "output_type": "display_data"
    },
    {
     "data": {
      "text/html": [
       "Syncing run <strong><a href='https://wandb.ai/et22/video-cs230/runs/74ow6jw0' target=\"_blank\">gentle-firefly-85</a></strong> to <a href='https://wandb.ai/et22/video-cs230' target=\"_blank\">Weights & Biases</a> (<a href='https://wandb.me/developer-guide' target=\"_blank\">docs</a>)<br/>"
      ],
      "text/plain": [
       "<IPython.core.display.HTML object>"
      ]
     },
     "metadata": {},
     "output_type": "display_data"
    },
    {
     "data": {
      "text/html": [
       " View project at <a href='https://wandb.ai/et22/video-cs230' target=\"_blank\">https://wandb.ai/et22/video-cs230</a>"
      ],
      "text/plain": [
       "<IPython.core.display.HTML object>"
      ]
     },
     "metadata": {},
     "output_type": "display_data"
    },
    {
     "data": {
      "text/html": [
       " View run at <a href='https://wandb.ai/et22/video-cs230/runs/74ow6jw0' target=\"_blank\">https://wandb.ai/et22/video-cs230/runs/74ow6jw0</a>"
      ],
      "text/plain": [
       "<IPython.core.display.HTML object>"
      ]
     },
     "metadata": {},
     "output_type": "display_data"
    },
    {
     "name": "stdout",
     "output_type": "stream",
     "text": [
      "readout input shape: 384\n",
      "model.0.stim\n",
      "torch.Size([1, 3, 5, 32, 32])\n",
      "True\n",
      "model.0.core.stem.0.weight\n",
      "torch.Size([64, 3, 3, 7, 7])\n",
      "True\n",
      "model.0.core.stem.1.weight\n",
      "torch.Size([64])\n",
      "True\n",
      "model.0.core.stem.1.bias\n",
      "torch.Size([64])\n",
      "True\n",
      "model.0.core.layer1.0.conv1.0.weight\n",
      "torch.Size([64, 64, 3, 3, 3])\n",
      "True\n",
      "model.0.core.layer1.0.conv1.1.weight\n",
      "torch.Size([64])\n",
      "True\n",
      "model.0.core.layer1.0.conv1.1.bias\n",
      "torch.Size([64])\n",
      "True\n",
      "model.0.core.layer1.0.conv2.0.weight\n",
      "torch.Size([64, 64, 3, 3, 3])\n",
      "True\n",
      "model.0.core.layer1.0.conv2.1.weight\n",
      "torch.Size([64])\n",
      "True\n",
      "model.0.core.layer1.0.conv2.1.bias\n",
      "torch.Size([64])\n",
      "True\n",
      "model.0.core.layer1.1.conv1.0.weight\n",
      "torch.Size([64, 64, 3, 3, 3])\n",
      "True\n",
      "model.0.core.layer1.1.conv1.1.weight\n",
      "torch.Size([64])\n",
      "True\n",
      "model.0.core.layer1.1.conv1.1.bias\n",
      "torch.Size([64])\n",
      "True\n",
      "model.0.core.layer1.1.conv2.0.weight\n",
      "torch.Size([64, 64, 3, 3, 3])\n",
      "True\n",
      "model.0.core.layer1.1.conv2.1.weight\n",
      "torch.Size([64])\n",
      "True\n",
      "model.0.core.layer1.1.conv2.1.bias\n",
      "torch.Size([64])\n",
      "True\n",
      "model.0.core.layer2.0.conv1.0.weight\n",
      "torch.Size([128, 64, 3, 3, 3])\n",
      "True\n",
      "model.0.core.layer2.0.conv1.1.weight\n",
      "torch.Size([128])\n",
      "True\n",
      "model.0.core.layer2.0.conv1.1.bias\n",
      "torch.Size([128])\n",
      "True\n",
      "model.1.mu\n",
      "torch.Size([54, 2])\n",
      "True\n",
      "model.1.sigma\n",
      "torch.Size([54])\n",
      "True\n",
      "model.1.poisson_linear.linear.weight\n",
      "torch.Size([54, 384])\n",
      "True\n",
      "model.1.poisson_linear.linear.bias\n",
      "torch.Size([54])\n",
      "True\n",
      "  epoch 1 loss: 0.11328886226371483 corr: 0.0738151159130225\n",
      " num. neurons : 54\n",
      "  epoch 2 loss: 0.10915953877531452 corr: 0.15342186768691987\n",
      " num. neurons : 54\n",
      "  epoch 3 loss: 0.1079912508269887 corr: 0.1544975575757238\n",
      " num. neurons : 54\n",
      "  epoch 4 loss: 0.10726551197193288 corr: 0.23688110944058693\n",
      " num. neurons : 54\n",
      "  epoch 5 loss: 0.10640001797381743 corr: 0.31859475940077714\n",
      " num. neurons : 54\n",
      "  epoch 6 loss: 0.10555962674411727 corr: 0.3256910079799009\n",
      " num. neurons : 54\n",
      "  epoch 7 loss: 0.10476905575505009 corr: 0.3389363629335786\n",
      " num. neurons : 54\n",
      "  epoch 8 loss: 0.10383819821440143 corr: 0.33882214711763436\n",
      " num. neurons : 54\n",
      "  epoch 9 loss: 0.1027527513033078 corr: 0.3763831851286892\n",
      " num. neurons : 54\n",
      "  epoch 10 loss: 0.10170004585642874 corr: 0.3760405332075731\n",
      " num. neurons : 54\n",
      "  epoch 11 loss: 0.100475536275793 corr: 0.34628676349797294\n",
      " num. neurons : 54\n",
      "  epoch 12 loss: 0.09856761208286992 corr: 0.3327651051239132\n",
      " num. neurons : 54\n",
      "  epoch 13 loss: 0.09689083823451289 corr: 0.3287472453698187\n",
      " num. neurons : 54\n",
      "  epoch 14 loss: 0.09471264556602195 corr: 0.3318501791310781\n",
      " num. neurons : 54\n",
      "  epoch 15 loss: 0.09288300531881827 corr: 0.3117845966254561\n",
      " num. neurons : 54\n",
      "  epoch 16 loss: 0.09082707964343789 corr: 0.3326669410449089\n",
      " num. neurons : 54\n",
      "  epoch 17 loss: 0.08880697250366211 corr: 0.2944433905360411\n",
      " num. neurons : 54\n",
      "  epoch 18 loss: 0.08692708521713445 corr: 0.3036533300310194\n",
      " num. neurons : 54\n",
      "  epoch 19 loss: 0.08512429478727741 corr: 0.2662580853153119\n",
      " num. neurons : 54\n",
      "  epoch 20 loss: 0.08329157099311735 corr: 0.2988786913570599\n",
      " num. neurons : 54\n"
     ]
    },
    {
     "data": {
      "text/html": [
       "\n",
       "    <style>\n",
       "        .wandb-row {\n",
       "            display: flex;\n",
       "            flex-direction: row;\n",
       "            flex-wrap: wrap;\n",
       "            justify-content: flex-start;\n",
       "            width: 100%;\n",
       "        }\n",
       "        .wandb-col {\n",
       "            display: flex;\n",
       "            flex-direction: column;\n",
       "            flex-basis: 100%;\n",
       "            flex: 1;\n",
       "            padding: 10px;\n",
       "        }\n",
       "    </style>\n",
       "<div class=\"wandb-row\"><div class=\"wandb-col\"><h3>Run history:</h3><br/><table class=\"wandb\"><tr><td>corr_to_avg</td><td>▁▃▃▅▇▇▇▇██▇▇▇▇▇▇▆▆▅▆</td></tr><tr><td>test_loss</td><td>▅▅▄▄▃▃▂▂▁▁▁▂▃▂▃▄▅▅█▆</td></tr><tr><td>train_loss</td><td>█▇▇▇▆▆▆▆▆▅▅▅▄▄▃▃▂▂▁▁</td></tr></table><br/></div><div class=\"wandb-col\"><h3>Run summary:</h3><br/><table class=\"wandb\"><tr><td>train_loss</td><td>1.32807</td></tr></table><br/></div></div>"
      ],
      "text/plain": [
       "<IPython.core.display.HTML object>"
      ]
     },
     "metadata": {},
     "output_type": "display_data"
    },
    {
     "data": {
      "text/html": [
       " View run <strong style=\"color:#cdcd00\">gentle-firefly-85</strong> at: <a href='https://wandb.ai/et22/video-cs230/runs/74ow6jw0' target=\"_blank\">https://wandb.ai/et22/video-cs230/runs/74ow6jw0</a><br/> View project at: <a href='https://wandb.ai/et22/video-cs230' target=\"_blank\">https://wandb.ai/et22/video-cs230</a><br/>Synced 5 W&B file(s), 0 media file(s), 0 artifact file(s) and 0 other file(s)"
      ],
      "text/plain": [
       "<IPython.core.display.HTML object>"
      ]
     },
     "metadata": {},
     "output_type": "display_data"
    },
    {
     "data": {
      "text/html": [
       "Find logs at: <code>./wandb/run-20241130_182534-74ow6jw0/logs</code>"
      ],
      "text/plain": [
       "<IPython.core.display.HTML object>"
      ]
     },
     "metadata": {},
     "output_type": "display_data"
    },
    {
     "data": {
      "text/html": [
       "Tracking run with wandb version 0.18.7"
      ],
      "text/plain": [
       "<IPython.core.display.HTML object>"
      ]
     },
     "metadata": {},
     "output_type": "display_data"
    },
    {
     "data": {
      "text/html": [
       "Run data is saved locally in <code>/src/models/cs230/wandb/run-20241130_182940-ohmxcndi</code>"
      ],
      "text/plain": [
       "<IPython.core.display.HTML object>"
      ]
     },
     "metadata": {},
     "output_type": "display_data"
    },
    {
     "data": {
      "text/html": [
       "Syncing run <strong><a href='https://wandb.ai/et22/video-cs230/runs/ohmxcndi' target=\"_blank\">wandering-music-86</a></strong> to <a href='https://wandb.ai/et22/video-cs230' target=\"_blank\">Weights & Biases</a> (<a href='https://wandb.me/developer-guide' target=\"_blank\">docs</a>)<br/>"
      ],
      "text/plain": [
       "<IPython.core.display.HTML object>"
      ]
     },
     "metadata": {},
     "output_type": "display_data"
    },
    {
     "data": {
      "text/html": [
       " View project at <a href='https://wandb.ai/et22/video-cs230' target=\"_blank\">https://wandb.ai/et22/video-cs230</a>"
      ],
      "text/plain": [
       "<IPython.core.display.HTML object>"
      ]
     },
     "metadata": {},
     "output_type": "display_data"
    },
    {
     "data": {
      "text/html": [
       " View run at <a href='https://wandb.ai/et22/video-cs230/runs/ohmxcndi' target=\"_blank\">https://wandb.ai/et22/video-cs230/runs/ohmxcndi</a>"
      ],
      "text/plain": [
       "<IPython.core.display.HTML object>"
      ]
     },
     "metadata": {},
     "output_type": "display_data"
    },
    {
     "name": "stdout",
     "output_type": "stream",
     "text": [
      "readout input shape: 384\n",
      "model.0.stim\n",
      "torch.Size([1, 3, 5, 32, 32])\n",
      "True\n",
      "model.0.core.stem.0.weight\n",
      "torch.Size([64, 3, 3, 7, 7])\n",
      "True\n",
      "model.0.core.stem.1.weight\n",
      "torch.Size([64])\n",
      "True\n",
      "model.0.core.stem.1.bias\n",
      "torch.Size([64])\n",
      "True\n",
      "model.0.core.layer1.0.conv1.0.weight\n",
      "torch.Size([64, 64, 3, 3, 3])\n",
      "True\n",
      "model.0.core.layer1.0.conv1.1.weight\n",
      "torch.Size([64])\n",
      "True\n",
      "model.0.core.layer1.0.conv1.1.bias\n",
      "torch.Size([64])\n",
      "True\n",
      "model.0.core.layer1.0.conv2.0.weight\n",
      "torch.Size([64, 64, 3, 3, 3])\n",
      "True\n",
      "model.0.core.layer1.0.conv2.1.weight\n",
      "torch.Size([64])\n",
      "True\n",
      "model.0.core.layer1.0.conv2.1.bias\n",
      "torch.Size([64])\n",
      "True\n",
      "model.0.core.layer1.1.conv1.0.weight\n",
      "torch.Size([64, 64, 3, 3, 3])\n",
      "True\n",
      "model.0.core.layer1.1.conv1.1.weight\n",
      "torch.Size([64])\n",
      "True\n",
      "model.0.core.layer1.1.conv1.1.bias\n",
      "torch.Size([64])\n",
      "True\n",
      "model.0.core.layer1.1.conv2.0.weight\n",
      "torch.Size([64, 64, 3, 3, 3])\n",
      "True\n",
      "model.0.core.layer1.1.conv2.1.weight\n",
      "torch.Size([64])\n",
      "True\n",
      "model.0.core.layer1.1.conv2.1.bias\n",
      "torch.Size([64])\n",
      "True\n",
      "model.0.core.layer2.0.conv1.0.weight\n",
      "torch.Size([128, 64, 3, 3, 3])\n",
      "True\n",
      "model.0.core.layer2.0.conv1.1.weight\n",
      "torch.Size([128])\n",
      "True\n",
      "model.0.core.layer2.0.conv1.1.bias\n",
      "torch.Size([128])\n",
      "True\n",
      "model.1.mu\n",
      "torch.Size([95, 2])\n",
      "True\n",
      "model.1.sigma\n",
      "torch.Size([95])\n",
      "True\n",
      "model.1.poisson_linear.linear.weight\n",
      "torch.Size([95, 384])\n",
      "True\n",
      "model.1.poisson_linear.linear.bias\n",
      "torch.Size([95])\n",
      "True\n",
      "  epoch 1 loss: 0.10814603248815886 corr: 0.12852598689018072\n",
      " num. neurons : 95\n",
      "  epoch 2 loss: 0.10434461981838286 corr: 0.19054122307552993\n",
      " num. neurons : 95\n",
      "  epoch 3 loss: 0.10325209002220194 corr: 0.18982753267240532\n",
      " num. neurons : 95\n",
      "  epoch 4 loss: 0.1026183560880691 corr: 0.25055015514701545\n",
      " num. neurons : 95\n",
      "  epoch 5 loss: 0.10166144096414456 corr: 0.312922759753977\n",
      " num. neurons : 95\n",
      "  epoch 6 loss: 0.10060772321611175 corr: 0.30211302840882576\n",
      " num. neurons : 95\n",
      "  epoch 7 loss: 0.09957655986566194 corr: 0.3392460828262493\n",
      " num. neurons : 95\n",
      "  epoch 8 loss: 0.09878942030262573 corr: 0.3630735977608412\n",
      " num. neurons : 95\n",
      "  epoch 9 loss: 0.09743132472662401 corr: 0.35848192652742417\n",
      " num. neurons : 95\n",
      "  epoch 10 loss: 0.09586406265877928 corr: 0.3636251183960145\n",
      " num. neurons : 95\n",
      "  epoch 11 loss: 0.09413570121944886 corr: 0.36496863412699904\n",
      " num. neurons : 95\n",
      "  epoch 12 loss: 0.09248673179386797 corr: 0.3555708640232512\n",
      " num. neurons : 95\n",
      "  epoch 13 loss: 0.0906684386168475 corr: 0.3664202271818535\n",
      " num. neurons : 95\n",
      "  epoch 14 loss: 0.08924341594985642 corr: 0.33457436996105333\n",
      " num. neurons : 95\n",
      "  epoch 15 loss: 0.08755219613070263 corr: 0.3641830666919043\n",
      " num. neurons : 95\n",
      "  epoch 16 loss: 0.08616713884613277 corr: 0.34854537397508395\n",
      " num. neurons : 95\n",
      "  epoch 17 loss: 0.08466143495749429 corr: 0.3371829914307693\n",
      " num. neurons : 95\n",
      "  epoch 18 loss: 0.08294285779224016 corr: 0.33921972964879876\n",
      " num. neurons : 95\n",
      "  epoch 19 loss: 0.08139440713752627 corr: 0.3323908242013626\n",
      " num. neurons : 95\n",
      "  epoch 20 loss: 0.07989523816483184 corr: 0.3331680245651047\n",
      " num. neurons : 95\n"
     ]
    },
    {
     "data": {
      "text/html": [
       "\n",
       "    <style>\n",
       "        .wandb-row {\n",
       "            display: flex;\n",
       "            flex-direction: row;\n",
       "            flex-wrap: wrap;\n",
       "            justify-content: flex-start;\n",
       "            width: 100%;\n",
       "        }\n",
       "        .wandb-col {\n",
       "            display: flex;\n",
       "            flex-direction: column;\n",
       "            flex-basis: 100%;\n",
       "            flex: 1;\n",
       "            padding: 10px;\n",
       "        }\n",
       "    </style>\n",
       "<div class=\"wandb-row\"><div class=\"wandb-col\"><h3>Run history:</h3><br/><table class=\"wandb\"><tr><td>corr_to_avg</td><td>▁▃▃▅▆▆▇██████▇█▇▇▇▇▇</td></tr><tr><td>test_loss</td><td>█▇▅▄▃▃▁▃▂▁▂▃▃▃▂▃▄▅▆▇</td></tr><tr><td>train_loss</td><td>█▇▇▇▆▆▆▆▅▅▅▄▄▃▃▃▂▂▁▁</td></tr></table><br/></div><div class=\"wandb-col\"><h3>Run summary:</h3><br/><table class=\"wandb\"><tr><td>train_loss</td><td>1.27167</td></tr></table><br/></div></div>"
      ],
      "text/plain": [
       "<IPython.core.display.HTML object>"
      ]
     },
     "metadata": {},
     "output_type": "display_data"
    },
    {
     "data": {
      "text/html": [
       " View run <strong style=\"color:#cdcd00\">wandering-music-86</strong> at: <a href='https://wandb.ai/et22/video-cs230/runs/ohmxcndi' target=\"_blank\">https://wandb.ai/et22/video-cs230/runs/ohmxcndi</a><br/> View project at: <a href='https://wandb.ai/et22/video-cs230' target=\"_blank\">https://wandb.ai/et22/video-cs230</a><br/>Synced 5 W&B file(s), 0 media file(s), 0 artifact file(s) and 0 other file(s)"
      ],
      "text/plain": [
       "<IPython.core.display.HTML object>"
      ]
     },
     "metadata": {},
     "output_type": "display_data"
    },
    {
     "data": {
      "text/html": [
       "Find logs at: <code>./wandb/run-20241130_182940-ohmxcndi/logs</code>"
      ],
      "text/plain": [
       "<IPython.core.display.HTML object>"
      ]
     },
     "metadata": {},
     "output_type": "display_data"
    },
    {
     "data": {
      "text/html": [
       "Tracking run with wandb version 0.18.7"
      ],
      "text/plain": [
       "<IPython.core.display.HTML object>"
      ]
     },
     "metadata": {},
     "output_type": "display_data"
    },
    {
     "data": {
      "text/html": [
       "Run data is saved locally in <code>/src/models/cs230/wandb/run-20241130_183342-0zviuvbf</code>"
      ],
      "text/plain": [
       "<IPython.core.display.HTML object>"
      ]
     },
     "metadata": {},
     "output_type": "display_data"
    },
    {
     "data": {
      "text/html": [
       "Syncing run <strong><a href='https://wandb.ai/et22/video-cs230/runs/0zviuvbf' target=\"_blank\">lilac-violet-87</a></strong> to <a href='https://wandb.ai/et22/video-cs230' target=\"_blank\">Weights & Biases</a> (<a href='https://wandb.me/developer-guide' target=\"_blank\">docs</a>)<br/>"
      ],
      "text/plain": [
       "<IPython.core.display.HTML object>"
      ]
     },
     "metadata": {},
     "output_type": "display_data"
    },
    {
     "data": {
      "text/html": [
       " View project at <a href='https://wandb.ai/et22/video-cs230' target=\"_blank\">https://wandb.ai/et22/video-cs230</a>"
      ],
      "text/plain": [
       "<IPython.core.display.HTML object>"
      ]
     },
     "metadata": {},
     "output_type": "display_data"
    },
    {
     "data": {
      "text/html": [
       " View run at <a href='https://wandb.ai/et22/video-cs230/runs/0zviuvbf' target=\"_blank\">https://wandb.ai/et22/video-cs230/runs/0zviuvbf</a>"
      ],
      "text/plain": [
       "<IPython.core.display.HTML object>"
      ]
     },
     "metadata": {},
     "output_type": "display_data"
    },
    {
     "name": "stdout",
     "output_type": "stream",
     "text": [
      "readout input shape: 384\n",
      "model.0.stim\n",
      "torch.Size([1, 3, 5, 32, 32])\n",
      "True\n",
      "model.0.core.stem.0.weight\n",
      "torch.Size([64, 3, 3, 7, 7])\n",
      "True\n",
      "model.0.core.stem.1.weight\n",
      "torch.Size([64])\n",
      "True\n",
      "model.0.core.stem.1.bias\n",
      "torch.Size([64])\n",
      "True\n",
      "model.0.core.layer1.0.conv1.0.weight\n",
      "torch.Size([64, 64, 3, 3, 3])\n",
      "True\n",
      "model.0.core.layer1.0.conv1.1.weight\n",
      "torch.Size([64])\n",
      "True\n",
      "model.0.core.layer1.0.conv1.1.bias\n",
      "torch.Size([64])\n",
      "True\n",
      "model.0.core.layer1.0.conv2.0.weight\n",
      "torch.Size([64, 64, 3, 3, 3])\n",
      "True\n",
      "model.0.core.layer1.0.conv2.1.weight\n",
      "torch.Size([64])\n",
      "True\n",
      "model.0.core.layer1.0.conv2.1.bias\n",
      "torch.Size([64])\n",
      "True\n",
      "model.0.core.layer1.1.conv1.0.weight\n",
      "torch.Size([64, 64, 3, 3, 3])\n",
      "True\n",
      "model.0.core.layer1.1.conv1.1.weight\n",
      "torch.Size([64])\n",
      "True\n",
      "model.0.core.layer1.1.conv1.1.bias\n",
      "torch.Size([64])\n",
      "True\n",
      "model.0.core.layer1.1.conv2.0.weight\n",
      "torch.Size([64, 64, 3, 3, 3])\n",
      "True\n",
      "model.0.core.layer1.1.conv2.1.weight\n",
      "torch.Size([64])\n",
      "True\n",
      "model.0.core.layer1.1.conv2.1.bias\n",
      "torch.Size([64])\n",
      "True\n",
      "model.0.core.layer2.0.conv1.0.weight\n",
      "torch.Size([128, 64, 3, 3, 3])\n",
      "True\n",
      "model.0.core.layer2.0.conv1.1.weight\n",
      "torch.Size([128])\n",
      "True\n",
      "model.0.core.layer2.0.conv1.1.bias\n",
      "torch.Size([128])\n",
      "True\n",
      "model.1.mu\n",
      "torch.Size([54, 2])\n",
      "True\n",
      "model.1.sigma\n",
      "torch.Size([54])\n",
      "True\n",
      "model.1.poisson_linear.linear.weight\n",
      "torch.Size([54, 384])\n",
      "True\n",
      "model.1.poisson_linear.linear.bias\n",
      "torch.Size([54])\n",
      "True\n",
      "  epoch 1 loss: 0.12259441709349192 corr: 0.15520997884849852\n",
      " num. neurons : 54\n",
      "  epoch 2 loss: 0.11725089887443008 corr: 0.2121684920533831\n",
      " num. neurons : 54\n",
      "  epoch 3 loss: 0.1158928565991697 corr: 0.24441992437988289\n",
      " num. neurons : 54\n",
      "  epoch 4 loss: 0.11499135559813153 corr: 0.2453022898042505\n",
      " num. neurons : 54\n",
      "  epoch 5 loss: 0.11428453510803994 corr: 0.30877777527552414\n",
      " num. neurons : 54\n",
      "  epoch 6 loss: 0.11328460288026636 corr: 0.34413314402733436\n",
      " num. neurons : 54\n",
      "  epoch 7 loss: 0.11250826708489853 corr: 0.3038467210908241\n",
      " num. neurons : 54\n",
      "  epoch 8 loss: 0.11172752985408482 corr: 0.3506411581327842\n",
      " num. neurons : 54\n",
      "  epoch 9 loss: 0.110636739045408 corr: 0.36153101712643987\n",
      " num. neurons : 54\n",
      "  epoch 10 loss: 0.10954203590843248 corr: 0.3697691427806517\n",
      " num. neurons : 54\n",
      "  epoch 11 loss: 0.10814830266805275 corr: 0.36121900401025253\n",
      " num. neurons : 54\n",
      "  epoch 12 loss: 0.10654791790294563 corr: 0.34515981332135987\n",
      " num. neurons : 54\n",
      "  epoch 13 loss: 0.10479153519514502 corr: 0.35645818121946066\n",
      " num. neurons : 54\n",
      "  epoch 14 loss: 0.10323198564092777 corr: 0.35076283337847786\n",
      " num. neurons : 54\n",
      "  epoch 15 loss: 0.10146849009455466 corr: 0.3634618510851797\n",
      " num. neurons : 54\n",
      "  epoch 16 loss: 0.09954784269764451 corr: 0.3499095255455687\n",
      " num. neurons : 54\n",
      "  epoch 17 loss: 0.09767839262309916 corr: 0.33812970207260623\n",
      " num. neurons : 54\n",
      "  epoch 18 loss: 0.09564531658641405 corr: 0.33361053590831197\n",
      " num. neurons : 54\n",
      "  epoch 19 loss: 0.09349592491495154 corr: 0.3205582214544594\n",
      " num. neurons : 54\n",
      "  epoch 20 loss: 0.09134553445580795 corr: 0.32715917671287126\n",
      " num. neurons : 54\n"
     ]
    },
    {
     "data": {
      "text/html": [
       "\n",
       "    <style>\n",
       "        .wandb-row {\n",
       "            display: flex;\n",
       "            flex-direction: row;\n",
       "            flex-wrap: wrap;\n",
       "            justify-content: flex-start;\n",
       "            width: 100%;\n",
       "        }\n",
       "        .wandb-col {\n",
       "            display: flex;\n",
       "            flex-direction: column;\n",
       "            flex-basis: 100%;\n",
       "            flex: 1;\n",
       "            padding: 10px;\n",
       "        }\n",
       "    </style>\n",
       "<div class=\"wandb-row\"><div class=\"wandb-col\"><h3>Run history:</h3><br/><table class=\"wandb\"><tr><td>corr_to_avg</td><td>▁▃▄▄▆▇▆▇███▇█▇█▇▇▇▆▇</td></tr><tr><td>test_loss</td><td>███▄▃▃▁▂▂▁▁▂▁▂▁▄▅▄█▇</td></tr><tr><td>train_loss</td><td>█▇▆▆▆▆▆▆▅▅▅▄▄▄▃▃▂▂▁▁</td></tr></table><br/></div><div class=\"wandb-col\"><h3>Run summary:</h3><br/><table class=\"wandb\"><tr><td>train_loss</td><td>1.46023</td></tr></table><br/></div></div>"
      ],
      "text/plain": [
       "<IPython.core.display.HTML object>"
      ]
     },
     "metadata": {},
     "output_type": "display_data"
    },
    {
     "data": {
      "text/html": [
       " View run <strong style=\"color:#cdcd00\">lilac-violet-87</strong> at: <a href='https://wandb.ai/et22/video-cs230/runs/0zviuvbf' target=\"_blank\">https://wandb.ai/et22/video-cs230/runs/0zviuvbf</a><br/> View project at: <a href='https://wandb.ai/et22/video-cs230' target=\"_blank\">https://wandb.ai/et22/video-cs230</a><br/>Synced 5 W&B file(s), 0 media file(s), 0 artifact file(s) and 0 other file(s)"
      ],
      "text/plain": [
       "<IPython.core.display.HTML object>"
      ]
     },
     "metadata": {},
     "output_type": "display_data"
    },
    {
     "data": {
      "text/html": [
       "Find logs at: <code>./wandb/run-20241130_183342-0zviuvbf/logs</code>"
      ],
      "text/plain": [
       "<IPython.core.display.HTML object>"
      ]
     },
     "metadata": {},
     "output_type": "display_data"
    },
    {
     "data": {
      "text/html": [
       "Tracking run with wandb version 0.18.7"
      ],
      "text/plain": [
       "<IPython.core.display.HTML object>"
      ]
     },
     "metadata": {},
     "output_type": "display_data"
    },
    {
     "data": {
      "text/html": [
       "Run data is saved locally in <code>/src/models/cs230/wandb/run-20241130_183831-tzufyfgm</code>"
      ],
      "text/plain": [
       "<IPython.core.display.HTML object>"
      ]
     },
     "metadata": {},
     "output_type": "display_data"
    },
    {
     "data": {
      "text/html": [
       "Syncing run <strong><a href='https://wandb.ai/et22/video-cs230/runs/tzufyfgm' target=\"_blank\">generous-snowball-88</a></strong> to <a href='https://wandb.ai/et22/video-cs230' target=\"_blank\">Weights & Biases</a> (<a href='https://wandb.me/developer-guide' target=\"_blank\">docs</a>)<br/>"
      ],
      "text/plain": [
       "<IPython.core.display.HTML object>"
      ]
     },
     "metadata": {},
     "output_type": "display_data"
    },
    {
     "data": {
      "text/html": [
       " View project at <a href='https://wandb.ai/et22/video-cs230' target=\"_blank\">https://wandb.ai/et22/video-cs230</a>"
      ],
      "text/plain": [
       "<IPython.core.display.HTML object>"
      ]
     },
     "metadata": {},
     "output_type": "display_data"
    },
    {
     "data": {
      "text/html": [
       " View run at <a href='https://wandb.ai/et22/video-cs230/runs/tzufyfgm' target=\"_blank\">https://wandb.ai/et22/video-cs230/runs/tzufyfgm</a>"
      ],
      "text/plain": [
       "<IPython.core.display.HTML object>"
      ]
     },
     "metadata": {},
     "output_type": "display_data"
    },
    {
     "data": {
      "text/html": [
       "\n",
       "    <style>\n",
       "        .wandb-row {\n",
       "            display: flex;\n",
       "            flex-direction: row;\n",
       "            flex-wrap: wrap;\n",
       "            justify-content: flex-start;\n",
       "            width: 100%;\n",
       "        }\n",
       "        .wandb-col {\n",
       "            display: flex;\n",
       "            flex-direction: column;\n",
       "            flex-basis: 100%;\n",
       "            flex: 1;\n",
       "            padding: 10px;\n",
       "        }\n",
       "    </style>\n",
       "<div class=\"wandb-row\"><div class=\"wandb-col\"><h3>Run history:</h3><br/><table class=\"wandb\"><tr><td>corr</td><td>▃▄▂▃▄▁▆▁▆▅▄▄▅▄▄▃▇▅▅▃▆█▁▅▃▂▂▅▃▂▄▂▄▆▄▃▆▇▄▅</td></tr></table><br/></div><div class=\"wandb-col\"><h3>Run summary:</h3><br/><table class=\"wandb\"><tr><td>corr</td><td>0.34092</td></tr></table><br/></div></div>"
      ],
      "text/plain": [
       "<IPython.core.display.HTML object>"
      ]
     },
     "metadata": {},
     "output_type": "display_data"
    },
    {
     "data": {
      "text/html": [
       " View run <strong style=\"color:#cdcd00\">generous-snowball-88</strong> at: <a href='https://wandb.ai/et22/video-cs230/runs/tzufyfgm' target=\"_blank\">https://wandb.ai/et22/video-cs230/runs/tzufyfgm</a><br/> View project at: <a href='https://wandb.ai/et22/video-cs230' target=\"_blank\">https://wandb.ai/et22/video-cs230</a><br/>Synced 5 W&B file(s), 0 media file(s), 0 artifact file(s) and 0 other file(s)"
      ],
      "text/plain": [
       "<IPython.core.display.HTML object>"
      ]
     },
     "metadata": {},
     "output_type": "display_data"
    },
    {
     "data": {
      "text/html": [
       "Find logs at: <code>./wandb/run-20241130_183831-tzufyfgm/logs</code>"
      ],
      "text/plain": [
       "<IPython.core.display.HTML object>"
      ]
     },
     "metadata": {},
     "output_type": "display_data"
    },
    {
     "name": "stdout",
     "output_type": "stream",
     "text": [
      "0\n"
     ]
    },
    {
     "data": {
      "text/html": [
       "Tracking run with wandb version 0.18.7"
      ],
      "text/plain": [
       "<IPython.core.display.HTML object>"
      ]
     },
     "metadata": {},
     "output_type": "display_data"
    },
    {
     "data": {
      "text/html": [
       "Run data is saved locally in <code>/src/models/cs230/wandb/run-20241130_183833-h53bqhxf</code>"
      ],
      "text/plain": [
       "<IPython.core.display.HTML object>"
      ]
     },
     "metadata": {},
     "output_type": "display_data"
    },
    {
     "data": {
      "text/html": [
       "Syncing run <strong><a href='https://wandb.ai/et22/video-cs230/runs/h53bqhxf' target=\"_blank\">stellar-plant-89</a></strong> to <a href='https://wandb.ai/et22/video-cs230' target=\"_blank\">Weights & Biases</a> (<a href='https://wandb.me/developer-guide' target=\"_blank\">docs</a>)<br/>"
      ],
      "text/plain": [
       "<IPython.core.display.HTML object>"
      ]
     },
     "metadata": {},
     "output_type": "display_data"
    },
    {
     "data": {
      "text/html": [
       " View project at <a href='https://wandb.ai/et22/video-cs230' target=\"_blank\">https://wandb.ai/et22/video-cs230</a>"
      ],
      "text/plain": [
       "<IPython.core.display.HTML object>"
      ]
     },
     "metadata": {},
     "output_type": "display_data"
    },
    {
     "data": {
      "text/html": [
       " View run at <a href='https://wandb.ai/et22/video-cs230/runs/h53bqhxf' target=\"_blank\">https://wandb.ai/et22/video-cs230/runs/h53bqhxf</a>"
      ],
      "text/plain": [
       "<IPython.core.display.HTML object>"
      ]
     },
     "metadata": {},
     "output_type": "display_data"
    },
    {
     "name": "stdout",
     "output_type": "stream",
     "text": [
      "readout input shape: 384\n",
      "model.0.stim\n",
      "torch.Size([1, 3, 5, 32, 32])\n",
      "True\n",
      "model.0.core.stem.0.weight\n",
      "torch.Size([64, 3, 3, 7, 7])\n",
      "True\n",
      "model.0.core.stem.1.weight\n",
      "torch.Size([64])\n",
      "True\n",
      "model.0.core.stem.1.bias\n",
      "torch.Size([64])\n",
      "True\n",
      "model.0.core.layer1.0.conv1.0.weight\n",
      "torch.Size([64, 64, 3, 3, 3])\n",
      "True\n",
      "model.0.core.layer1.0.conv1.1.weight\n",
      "torch.Size([64])\n",
      "True\n",
      "model.0.core.layer1.0.conv1.1.bias\n",
      "torch.Size([64])\n",
      "True\n",
      "model.0.core.layer1.0.conv2.0.weight\n",
      "torch.Size([64, 64, 3, 3, 3])\n",
      "True\n",
      "model.0.core.layer1.0.conv2.1.weight\n",
      "torch.Size([64])\n",
      "True\n",
      "model.0.core.layer1.0.conv2.1.bias\n",
      "torch.Size([64])\n",
      "True\n",
      "model.0.core.layer1.1.conv1.0.weight\n",
      "torch.Size([64, 64, 3, 3, 3])\n",
      "True\n",
      "model.0.core.layer1.1.conv1.1.weight\n",
      "torch.Size([64])\n",
      "True\n",
      "model.0.core.layer1.1.conv1.1.bias\n",
      "torch.Size([64])\n",
      "True\n",
      "model.0.core.layer1.1.conv2.0.weight\n",
      "torch.Size([64, 64, 3, 3, 3])\n",
      "True\n",
      "model.0.core.layer1.1.conv2.1.weight\n",
      "torch.Size([64])\n",
      "True\n",
      "model.0.core.layer1.1.conv2.1.bias\n",
      "torch.Size([64])\n",
      "True\n",
      "model.0.core.layer2.0.conv1.0.weight\n",
      "torch.Size([128, 64, 3, 3, 3])\n",
      "True\n",
      "model.0.core.layer2.0.conv1.1.weight\n",
      "torch.Size([128])\n",
      "True\n",
      "model.0.core.layer2.0.conv1.1.bias\n",
      "torch.Size([128])\n",
      "True\n",
      "model.1.mu\n",
      "torch.Size([54, 2])\n",
      "True\n",
      "model.1.sigma\n",
      "torch.Size([54])\n",
      "True\n",
      "model.1.poisson_linear.linear.weight\n",
      "torch.Size([54, 384])\n",
      "True\n",
      "model.1.poisson_linear.linear.bias\n",
      "torch.Size([54])\n",
      "True\n",
      "  epoch 1 loss: 0.11238078034954306 corr: -0.01886596082458652\n",
      " num. neurons : 54\n",
      "  epoch 2 loss: 0.1111860747984898 corr: 0.08308229539671665\n",
      " num. neurons : 54\n",
      "  epoch 3 loss: 0.11071205068517614 corr: 0.13051813034831752\n",
      " num. neurons : 54\n",
      "  epoch 4 loss: 0.1103557777993473 corr: 0.14009008617826357\n",
      " num. neurons : 54\n",
      "  epoch 5 loss: 0.10991058891202196 corr: 0.08745332368658196\n",
      " num. neurons : 54\n",
      "  epoch 6 loss: 0.10963871655640779 corr: 0.139573100540568\n",
      " num. neurons : 54\n",
      "  epoch 7 loss: 0.10924508618719783 corr: 0.12463334343277598\n",
      " num. neurons : 54\n",
      "  epoch 8 loss: 0.10886698993635767 corr: 0.16373035520393292\n",
      " num. neurons : 54\n",
      "  epoch 9 loss: 0.10831128926924717 corr: 0.17533240015146917\n",
      " num. neurons : 54\n",
      "  epoch 10 loss: 0.10796468340320352 corr: 0.2647802931750977\n",
      " num. neurons : 54\n",
      "  epoch 11 loss: 0.1075722720887926 corr: 0.21870682804573555\n",
      " num. neurons : 54\n",
      "  epoch 12 loss: 0.1072334091162976 corr: 0.2513841681982876\n",
      " num. neurons : 54\n",
      "  epoch 13 loss: 0.10674634168177476 corr: 0.28389320189273504\n",
      " num. neurons : 54\n",
      "  epoch 14 loss: 0.10643260661466622 corr: 0.28823092554770585\n",
      " num. neurons : 54\n",
      "  epoch 15 loss: 0.10611769882249243 corr: 0.2812820346283822\n",
      " num. neurons : 54\n",
      "  epoch 16 loss: 0.10574728730284137 corr: 0.30093506661430985\n",
      " num. neurons : 54\n",
      "  epoch 17 loss: 0.10544505142871244 corr: 0.3064379701661114\n",
      " num. neurons : 54\n",
      "  epoch 18 loss: 0.10507506753191535 corr: 0.32673322473333183\n",
      " num. neurons : 54\n",
      "  epoch 19 loss: 0.10466031480718542 corr: 0.33814364288197124\n",
      " num. neurons : 54\n",
      "  epoch 20 loss: 0.10432817064685586 corr: 0.31422378709904075\n",
      " num. neurons : 54\n"
     ]
    },
    {
     "data": {
      "text/html": [
       "\n",
       "    <style>\n",
       "        .wandb-row {\n",
       "            display: flex;\n",
       "            flex-direction: row;\n",
       "            flex-wrap: wrap;\n",
       "            justify-content: flex-start;\n",
       "            width: 100%;\n",
       "        }\n",
       "        .wandb-col {\n",
       "            display: flex;\n",
       "            flex-direction: column;\n",
       "            flex-basis: 100%;\n",
       "            flex: 1;\n",
       "            padding: 10px;\n",
       "        }\n",
       "    </style>\n",
       "<div class=\"wandb-row\"><div class=\"wandb-col\"><h3>Run history:</h3><br/><table class=\"wandb\"><tr><td>corr_to_avg</td><td>▁▃▄▄▃▄▄▅▅▇▆▆▇▇▇▇▇███</td></tr><tr><td>test_loss</td><td>█▆▆▅▆▅▄▃▄▃▃▃▂▂▂▁▂▁▁▂</td></tr><tr><td>train_loss</td><td>█▇▇▆▆▆▅▅▄▄▄▄▃▃▃▂▂▂▁▁</td></tr></table><br/></div><div class=\"wandb-col\"><h3>Run summary:</h3><br/><table class=\"wandb\"><tr><td>train_loss</td><td>1.6635</td></tr></table><br/></div></div>"
      ],
      "text/plain": [
       "<IPython.core.display.HTML object>"
      ]
     },
     "metadata": {},
     "output_type": "display_data"
    },
    {
     "data": {
      "text/html": [
       " View run <strong style=\"color:#cdcd00\">stellar-plant-89</strong> at: <a href='https://wandb.ai/et22/video-cs230/runs/h53bqhxf' target=\"_blank\">https://wandb.ai/et22/video-cs230/runs/h53bqhxf</a><br/> View project at: <a href='https://wandb.ai/et22/video-cs230' target=\"_blank\">https://wandb.ai/et22/video-cs230</a><br/>Synced 5 W&B file(s), 0 media file(s), 0 artifact file(s) and 0 other file(s)"
      ],
      "text/plain": [
       "<IPython.core.display.HTML object>"
      ]
     },
     "metadata": {},
     "output_type": "display_data"
    },
    {
     "data": {
      "text/html": [
       "Find logs at: <code>./wandb/run-20241130_183833-h53bqhxf/logs</code>"
      ],
      "text/plain": [
       "<IPython.core.display.HTML object>"
      ]
     },
     "metadata": {},
     "output_type": "display_data"
    },
    {
     "data": {
      "text/html": [
       "Tracking run with wandb version 0.18.7"
      ],
      "text/plain": [
       "<IPython.core.display.HTML object>"
      ]
     },
     "metadata": {},
     "output_type": "display_data"
    },
    {
     "data": {
      "text/html": [
       "Run data is saved locally in <code>/src/models/cs230/wandb/run-20241130_184237-17urpjbw</code>"
      ],
      "text/plain": [
       "<IPython.core.display.HTML object>"
      ]
     },
     "metadata": {},
     "output_type": "display_data"
    },
    {
     "data": {
      "text/html": [
       "Syncing run <strong><a href='https://wandb.ai/et22/video-cs230/runs/17urpjbw' target=\"_blank\">scarlet-night-90</a></strong> to <a href='https://wandb.ai/et22/video-cs230' target=\"_blank\">Weights & Biases</a> (<a href='https://wandb.me/developer-guide' target=\"_blank\">docs</a>)<br/>"
      ],
      "text/plain": [
       "<IPython.core.display.HTML object>"
      ]
     },
     "metadata": {},
     "output_type": "display_data"
    },
    {
     "data": {
      "text/html": [
       " View project at <a href='https://wandb.ai/et22/video-cs230' target=\"_blank\">https://wandb.ai/et22/video-cs230</a>"
      ],
      "text/plain": [
       "<IPython.core.display.HTML object>"
      ]
     },
     "metadata": {},
     "output_type": "display_data"
    },
    {
     "data": {
      "text/html": [
       " View run at <a href='https://wandb.ai/et22/video-cs230/runs/17urpjbw' target=\"_blank\">https://wandb.ai/et22/video-cs230/runs/17urpjbw</a>"
      ],
      "text/plain": [
       "<IPython.core.display.HTML object>"
      ]
     },
     "metadata": {},
     "output_type": "display_data"
    },
    {
     "name": "stdout",
     "output_type": "stream",
     "text": [
      "readout input shape: 384\n",
      "model.0.stim\n",
      "torch.Size([1, 3, 5, 32, 32])\n",
      "True\n",
      "model.0.core.stem.0.weight\n",
      "torch.Size([64, 3, 3, 7, 7])\n",
      "True\n",
      "model.0.core.stem.1.weight\n",
      "torch.Size([64])\n",
      "True\n",
      "model.0.core.stem.1.bias\n",
      "torch.Size([64])\n",
      "True\n",
      "model.0.core.layer1.0.conv1.0.weight\n",
      "torch.Size([64, 64, 3, 3, 3])\n",
      "True\n",
      "model.0.core.layer1.0.conv1.1.weight\n",
      "torch.Size([64])\n",
      "True\n",
      "model.0.core.layer1.0.conv1.1.bias\n",
      "torch.Size([64])\n",
      "True\n",
      "model.0.core.layer1.0.conv2.0.weight\n",
      "torch.Size([64, 64, 3, 3, 3])\n",
      "True\n",
      "model.0.core.layer1.0.conv2.1.weight\n",
      "torch.Size([64])\n",
      "True\n",
      "model.0.core.layer1.0.conv2.1.bias\n",
      "torch.Size([64])\n",
      "True\n",
      "model.0.core.layer1.1.conv1.0.weight\n",
      "torch.Size([64, 64, 3, 3, 3])\n",
      "True\n",
      "model.0.core.layer1.1.conv1.1.weight\n",
      "torch.Size([64])\n",
      "True\n",
      "model.0.core.layer1.1.conv1.1.bias\n",
      "torch.Size([64])\n",
      "True\n",
      "model.0.core.layer1.1.conv2.0.weight\n",
      "torch.Size([64, 64, 3, 3, 3])\n",
      "True\n",
      "model.0.core.layer1.1.conv2.1.weight\n",
      "torch.Size([64])\n",
      "True\n",
      "model.0.core.layer1.1.conv2.1.bias\n",
      "torch.Size([64])\n",
      "True\n",
      "model.0.core.layer2.0.conv1.0.weight\n",
      "torch.Size([128, 64, 3, 3, 3])\n",
      "True\n",
      "model.0.core.layer2.0.conv1.1.weight\n",
      "torch.Size([128])\n",
      "True\n",
      "model.0.core.layer2.0.conv1.1.bias\n",
      "torch.Size([128])\n",
      "True\n",
      "model.1.mu\n",
      "torch.Size([95, 2])\n",
      "True\n",
      "model.1.sigma\n",
      "torch.Size([95])\n",
      "True\n",
      "model.1.poisson_linear.linear.weight\n",
      "torch.Size([95, 384])\n",
      "True\n",
      "model.1.poisson_linear.linear.bias\n",
      "torch.Size([95])\n",
      "True\n",
      "  epoch 1 loss: 0.10865593468331541 corr: 0.06373943706385708\n",
      " num. neurons : 95\n",
      "  epoch 2 loss: 0.10683876182396375 corr: 0.035833115629551104\n",
      " num. neurons : 95\n",
      "  epoch 3 loss: 0.10624166365069244 corr: 0.10036057941260476\n",
      " num. neurons : 95\n",
      "  epoch 4 loss: 0.1054051004155144 corr: 0.12723925919429027\n",
      " num. neurons : 95\n",
      "  epoch 5 loss: 0.10494246426677205 corr: 0.11505966444856629\n",
      " num. neurons : 95\n",
      "  epoch 6 loss: 0.10444301841146658 corr: 0.1658651977656245\n",
      " num. neurons : 95\n",
      "  epoch 7 loss: 0.103841386041092 corr: 0.19769309828558979\n",
      " num. neurons : 95\n",
      "  epoch 8 loss: 0.10336349310051084 corr: 0.19376772493718333\n",
      " num. neurons : 95\n",
      "  epoch 9 loss: 0.10312230168836903 corr: 0.2498778905432935\n",
      " num. neurons : 95\n",
      "  epoch 10 loss: 0.10266261724901449 corr: 0.2458423173065844\n",
      " num. neurons : 95\n",
      "  epoch 11 loss: 0.1022173285484314 corr: 0.2480517078734011\n",
      " num. neurons : 95\n",
      "  epoch 12 loss: 0.10176137910463423 corr: 0.27628747478595034\n",
      " num. neurons : 95\n",
      "  epoch 13 loss: 0.1016082182604605 corr: 0.2782353327280342\n",
      " num. neurons : 95\n",
      "  epoch 14 loss: 0.10116335865090655 corr: 0.2887908347485796\n",
      " num. neurons : 95\n",
      "  epoch 15 loss: 0.10071955257685397 corr: 0.2911492546975657\n",
      " num. neurons : 95\n",
      "  epoch 16 loss: 0.10038138921348212 corr: 0.3231097008927846\n",
      " num. neurons : 95\n",
      "  epoch 17 loss: 0.0999811322277129 corr: 0.32733961715810456\n",
      " num. neurons : 95\n",
      "  epoch 18 loss: 0.09960002655758284 corr: 0.32990149360395793\n",
      " num. neurons : 95\n",
      "  epoch 19 loss: 0.09903895361885351 corr: 0.3418904291629014\n",
      " num. neurons : 95\n",
      "  epoch 20 loss: 0.09878730836339022 corr: 0.3280872959554474\n",
      " num. neurons : 95\n"
     ]
    },
    {
     "data": {
      "text/html": [
       "\n",
       "    <style>\n",
       "        .wandb-row {\n",
       "            display: flex;\n",
       "            flex-direction: row;\n",
       "            flex-wrap: wrap;\n",
       "            justify-content: flex-start;\n",
       "            width: 100%;\n",
       "        }\n",
       "        .wandb-col {\n",
       "            display: flex;\n",
       "            flex-direction: column;\n",
       "            flex-basis: 100%;\n",
       "            flex: 1;\n",
       "            padding: 10px;\n",
       "        }\n",
       "    </style>\n",
       "<div class=\"wandb-row\"><div class=\"wandb-col\"><h3>Run history:</h3><br/><table class=\"wandb\"><tr><td>corr_to_avg</td><td>▂▁▂▃▃▄▅▅▆▆▆▆▇▇▇█████</td></tr><tr><td>test_loss</td><td>█▇▇▆▅▅▄▃▃▂▃▂▂▃▃▁▂▁▁▁</td></tr><tr><td>train_loss</td><td>█▇▆▆▅▅▅▄▄▄▃▃▃▃▂▂▂▂▁▁</td></tr></table><br/></div><div class=\"wandb-col\"><h3>Run summary:</h3><br/><table class=\"wandb\"><tr><td>train_loss</td><td>1.57236</td></tr></table><br/></div></div>"
      ],
      "text/plain": [
       "<IPython.core.display.HTML object>"
      ]
     },
     "metadata": {},
     "output_type": "display_data"
    },
    {
     "data": {
      "text/html": [
       " View run <strong style=\"color:#cdcd00\">scarlet-night-90</strong> at: <a href='https://wandb.ai/et22/video-cs230/runs/17urpjbw' target=\"_blank\">https://wandb.ai/et22/video-cs230/runs/17urpjbw</a><br/> View project at: <a href='https://wandb.ai/et22/video-cs230' target=\"_blank\">https://wandb.ai/et22/video-cs230</a><br/>Synced 5 W&B file(s), 0 media file(s), 0 artifact file(s) and 0 other file(s)"
      ],
      "text/plain": [
       "<IPython.core.display.HTML object>"
      ]
     },
     "metadata": {},
     "output_type": "display_data"
    },
    {
     "data": {
      "text/html": [
       "Find logs at: <code>./wandb/run-20241130_184237-17urpjbw/logs</code>"
      ],
      "text/plain": [
       "<IPython.core.display.HTML object>"
      ]
     },
     "metadata": {},
     "output_type": "display_data"
    },
    {
     "data": {
      "text/html": [
       "Tracking run with wandb version 0.18.7"
      ],
      "text/plain": [
       "<IPython.core.display.HTML object>"
      ]
     },
     "metadata": {},
     "output_type": "display_data"
    },
    {
     "data": {
      "text/html": [
       "Run data is saved locally in <code>/src/models/cs230/wandb/run-20241130_184640-4t2hz85n</code>"
      ],
      "text/plain": [
       "<IPython.core.display.HTML object>"
      ]
     },
     "metadata": {},
     "output_type": "display_data"
    },
    {
     "data": {
      "text/html": [
       "Syncing run <strong><a href='https://wandb.ai/et22/video-cs230/runs/4t2hz85n' target=\"_blank\">fragrant-shape-91</a></strong> to <a href='https://wandb.ai/et22/video-cs230' target=\"_blank\">Weights & Biases</a> (<a href='https://wandb.me/developer-guide' target=\"_blank\">docs</a>)<br/>"
      ],
      "text/plain": [
       "<IPython.core.display.HTML object>"
      ]
     },
     "metadata": {},
     "output_type": "display_data"
    },
    {
     "data": {
      "text/html": [
       " View project at <a href='https://wandb.ai/et22/video-cs230' target=\"_blank\">https://wandb.ai/et22/video-cs230</a>"
      ],
      "text/plain": [
       "<IPython.core.display.HTML object>"
      ]
     },
     "metadata": {},
     "output_type": "display_data"
    },
    {
     "data": {
      "text/html": [
       " View run at <a href='https://wandb.ai/et22/video-cs230/runs/4t2hz85n' target=\"_blank\">https://wandb.ai/et22/video-cs230/runs/4t2hz85n</a>"
      ],
      "text/plain": [
       "<IPython.core.display.HTML object>"
      ]
     },
     "metadata": {},
     "output_type": "display_data"
    },
    {
     "name": "stdout",
     "output_type": "stream",
     "text": [
      "readout input shape: 384\n",
      "model.0.stim\n",
      "torch.Size([1, 3, 5, 32, 32])\n",
      "True\n",
      "model.0.core.stem.0.weight\n",
      "torch.Size([64, 3, 3, 7, 7])\n",
      "True\n",
      "model.0.core.stem.1.weight\n",
      "torch.Size([64])\n",
      "True\n",
      "model.0.core.stem.1.bias\n",
      "torch.Size([64])\n",
      "True\n",
      "model.0.core.layer1.0.conv1.0.weight\n",
      "torch.Size([64, 64, 3, 3, 3])\n",
      "True\n",
      "model.0.core.layer1.0.conv1.1.weight\n",
      "torch.Size([64])\n",
      "True\n",
      "model.0.core.layer1.0.conv1.1.bias\n",
      "torch.Size([64])\n",
      "True\n",
      "model.0.core.layer1.0.conv2.0.weight\n",
      "torch.Size([64, 64, 3, 3, 3])\n",
      "True\n",
      "model.0.core.layer1.0.conv2.1.weight\n",
      "torch.Size([64])\n",
      "True\n",
      "model.0.core.layer1.0.conv2.1.bias\n",
      "torch.Size([64])\n",
      "True\n",
      "model.0.core.layer1.1.conv1.0.weight\n",
      "torch.Size([64, 64, 3, 3, 3])\n",
      "True\n",
      "model.0.core.layer1.1.conv1.1.weight\n",
      "torch.Size([64])\n",
      "True\n",
      "model.0.core.layer1.1.conv1.1.bias\n",
      "torch.Size([64])\n",
      "True\n",
      "model.0.core.layer1.1.conv2.0.weight\n",
      "torch.Size([64, 64, 3, 3, 3])\n",
      "True\n",
      "model.0.core.layer1.1.conv2.1.weight\n",
      "torch.Size([64])\n",
      "True\n",
      "model.0.core.layer1.1.conv2.1.bias\n",
      "torch.Size([64])\n",
      "True\n",
      "model.0.core.layer2.0.conv1.0.weight\n",
      "torch.Size([128, 64, 3, 3, 3])\n",
      "True\n",
      "model.0.core.layer2.0.conv1.1.weight\n",
      "torch.Size([128])\n",
      "True\n",
      "model.0.core.layer2.0.conv1.1.bias\n",
      "torch.Size([128])\n",
      "True\n",
      "model.1.mu\n",
      "torch.Size([54, 2])\n",
      "True\n",
      "model.1.sigma\n",
      "torch.Size([54])\n",
      "True\n",
      "model.1.poisson_linear.linear.weight\n",
      "torch.Size([54, 384])\n",
      "True\n",
      "model.1.poisson_linear.linear.bias\n",
      "torch.Size([54])\n",
      "True\n",
      "  epoch 1 loss: 0.12150898631315053 corr: 0.002031947591271556\n",
      " num. neurons : 54\n",
      "  epoch 2 loss: 0.11951806699690189 corr: 0.1198358567068143\n",
      " num. neurons : 54\n",
      "  epoch 3 loss: 0.11918195518859213 corr: 0.030300847048148536\n",
      " num. neurons : 54\n",
      "  epoch 4 loss: 0.11885071334948874 corr: 0.06299873758216114\n",
      " num. neurons : 54\n",
      "  epoch 5 loss: 0.1180743643850379 corr: 0.1462044465166315\n",
      " num. neurons : 54\n",
      "  epoch 6 loss: 0.11736191910986575 corr: 0.1450535097892365\n",
      " num. neurons : 54\n",
      "  epoch 7 loss: 0.11694428115792262 corr: 0.09819939295629865\n",
      " num. neurons : 54\n",
      "  epoch 8 loss: 0.11628199977587046 corr: 0.2123831397375057\n",
      " num. neurons : 54\n",
      "  epoch 9 loss: 0.11606677253371123 corr: 0.20957116590114133\n",
      " num. neurons : 54\n",
      "  epoch 10 loss: 0.11560212084965676 corr: 0.2649995796515048\n",
      " num. neurons : 54\n",
      "  epoch 11 loss: 0.11524810987758552 corr: 0.2367218757798622\n",
      " num. neurons : 54\n",
      "  epoch 12 loss: 0.11510268448725568 corr: 0.28947650023598975\n",
      " num. neurons : 54\n",
      "  epoch 13 loss: 0.114570249417448 corr: 0.29395686083655026\n",
      " num. neurons : 54\n",
      "  epoch 14 loss: 0.11425319903702892 corr: 0.3203442081642099\n",
      " num. neurons : 54\n",
      "  epoch 15 loss: 0.11388454674193578 corr: 0.3217622802857476\n",
      " num. neurons : 54\n",
      "  epoch 16 loss: 0.11347721610962022 corr: 0.31300903086970605\n",
      " num. neurons : 54\n",
      "  epoch 17 loss: 0.1132934437246585 corr: 0.31836705378412755\n",
      " num. neurons : 54\n",
      "  epoch 18 loss: 0.11285874551656294 corr: 0.34016550580969807\n",
      " num. neurons : 54\n",
      "  epoch 19 loss: 0.11262396763359009 corr: 0.3366377663161122\n",
      " num. neurons : 54\n",
      "  epoch 20 loss: 0.11242746635147609 corr: 0.31765309256551516\n",
      " num. neurons : 54\n"
     ]
    },
    {
     "data": {
      "text/html": [
       "\n",
       "    <style>\n",
       "        .wandb-row {\n",
       "            display: flex;\n",
       "            flex-direction: row;\n",
       "            flex-wrap: wrap;\n",
       "            justify-content: flex-start;\n",
       "            width: 100%;\n",
       "        }\n",
       "        .wandb-col {\n",
       "            display: flex;\n",
       "            flex-direction: column;\n",
       "            flex-basis: 100%;\n",
       "            flex: 1;\n",
       "            padding: 10px;\n",
       "        }\n",
       "    </style>\n",
       "<div class=\"wandb-row\"><div class=\"wandb-col\"><h3>Run history:</h3><br/><table class=\"wandb\"><tr><td>corr_to_avg</td><td>▁▃▂▂▄▄▃▅▅▆▆▇▇██▇████</td></tr><tr><td>test_loss</td><td>▆▇▇▇█▅▅▄▄▃▃▄▂▂▃▃▁▁▃▂</td></tr><tr><td>train_loss</td><td>█▆▆▆▅▅▄▄▄▃▃▃▃▂▂▂▂▁▁▁</td></tr></table><br/></div><div class=\"wandb-col\"><h3>Run summary:</h3><br/><table class=\"wandb\"><tr><td>train_loss</td><td>1.79724</td></tr></table><br/></div></div>"
      ],
      "text/plain": [
       "<IPython.core.display.HTML object>"
      ]
     },
     "metadata": {},
     "output_type": "display_data"
    },
    {
     "data": {
      "text/html": [
       " View run <strong style=\"color:#cdcd00\">fragrant-shape-91</strong> at: <a href='https://wandb.ai/et22/video-cs230/runs/4t2hz85n' target=\"_blank\">https://wandb.ai/et22/video-cs230/runs/4t2hz85n</a><br/> View project at: <a href='https://wandb.ai/et22/video-cs230' target=\"_blank\">https://wandb.ai/et22/video-cs230</a><br/>Synced 5 W&B file(s), 0 media file(s), 0 artifact file(s) and 0 other file(s)"
      ],
      "text/plain": [
       "<IPython.core.display.HTML object>"
      ]
     },
     "metadata": {},
     "output_type": "display_data"
    },
    {
     "data": {
      "text/html": [
       "Find logs at: <code>./wandb/run-20241130_184640-4t2hz85n/logs</code>"
      ],
      "text/plain": [
       "<IPython.core.display.HTML object>"
      ]
     },
     "metadata": {},
     "output_type": "display_data"
    },
    {
     "data": {
      "text/html": [
       "Tracking run with wandb version 0.18.7"
      ],
      "text/plain": [
       "<IPython.core.display.HTML object>"
      ]
     },
     "metadata": {},
     "output_type": "display_data"
    },
    {
     "data": {
      "text/html": [
       "Run data is saved locally in <code>/src/models/cs230/wandb/run-20241130_185129-ctwxpm7w</code>"
      ],
      "text/plain": [
       "<IPython.core.display.HTML object>"
      ]
     },
     "metadata": {},
     "output_type": "display_data"
    },
    {
     "data": {
      "text/html": [
       "Syncing run <strong><a href='https://wandb.ai/et22/video-cs230/runs/ctwxpm7w' target=\"_blank\">pretty-smoke-92</a></strong> to <a href='https://wandb.ai/et22/video-cs230' target=\"_blank\">Weights & Biases</a> (<a href='https://wandb.me/developer-guide' target=\"_blank\">docs</a>)<br/>"
      ],
      "text/plain": [
       "<IPython.core.display.HTML object>"
      ]
     },
     "metadata": {},
     "output_type": "display_data"
    },
    {
     "data": {
      "text/html": [
       " View project at <a href='https://wandb.ai/et22/video-cs230' target=\"_blank\">https://wandb.ai/et22/video-cs230</a>"
      ],
      "text/plain": [
       "<IPython.core.display.HTML object>"
      ]
     },
     "metadata": {},
     "output_type": "display_data"
    },
    {
     "data": {
      "text/html": [
       " View run at <a href='https://wandb.ai/et22/video-cs230/runs/ctwxpm7w' target=\"_blank\">https://wandb.ai/et22/video-cs230/runs/ctwxpm7w</a>"
      ],
      "text/plain": [
       "<IPython.core.display.HTML object>"
      ]
     },
     "metadata": {},
     "output_type": "display_data"
    },
    {
     "data": {
      "text/html": [
       "\n",
       "    <style>\n",
       "        .wandb-row {\n",
       "            display: flex;\n",
       "            flex-direction: row;\n",
       "            flex-wrap: wrap;\n",
       "            justify-content: flex-start;\n",
       "            width: 100%;\n",
       "        }\n",
       "        .wandb-col {\n",
       "            display: flex;\n",
       "            flex-direction: column;\n",
       "            flex-basis: 100%;\n",
       "            flex: 1;\n",
       "            padding: 10px;\n",
       "        }\n",
       "    </style>\n",
       "<div class=\"wandb-row\"><div class=\"wandb-col\"><h3>Run history:</h3><br/><table class=\"wandb\"><tr><td>corr</td><td>▅▃▃▄▆▄▁▅▅▅▅▅▂▅▅▅▄▄▄▅▄▄▅▅▂▃█▅▄▇▅▅▄▆▅▅▄▄▅▄</td></tr></table><br/></div><div class=\"wandb-col\"><h3>Run summary:</h3><br/><table class=\"wandb\"><tr><td>corr</td><td>0.34331</td></tr></table><br/></div></div>"
      ],
      "text/plain": [
       "<IPython.core.display.HTML object>"
      ]
     },
     "metadata": {},
     "output_type": "display_data"
    },
    {
     "data": {
      "text/html": [
       " View run <strong style=\"color:#cdcd00\">pretty-smoke-92</strong> at: <a href='https://wandb.ai/et22/video-cs230/runs/ctwxpm7w' target=\"_blank\">https://wandb.ai/et22/video-cs230/runs/ctwxpm7w</a><br/> View project at: <a href='https://wandb.ai/et22/video-cs230' target=\"_blank\">https://wandb.ai/et22/video-cs230</a><br/>Synced 5 W&B file(s), 0 media file(s), 0 artifact file(s) and 0 other file(s)"
      ],
      "text/plain": [
       "<IPython.core.display.HTML object>"
      ]
     },
     "metadata": {},
     "output_type": "display_data"
    },
    {
     "data": {
      "text/html": [
       "Find logs at: <code>./wandb/run-20241130_185129-ctwxpm7w/logs</code>"
      ],
      "text/plain": [
       "<IPython.core.display.HTML object>"
      ]
     },
     "metadata": {},
     "output_type": "display_data"
    },
    {
     "name": "stdout",
     "output_type": "stream",
     "text": [
      "100\n"
     ]
    },
    {
     "data": {
      "text/html": [
       "Tracking run with wandb version 0.18.7"
      ],
      "text/plain": [
       "<IPython.core.display.HTML object>"
      ]
     },
     "metadata": {},
     "output_type": "display_data"
    },
    {
     "data": {
      "text/html": [
       "Run data is saved locally in <code>/src/models/cs230/wandb/run-20241130_185132-xjfelhz0</code>"
      ],
      "text/plain": [
       "<IPython.core.display.HTML object>"
      ]
     },
     "metadata": {},
     "output_type": "display_data"
    },
    {
     "data": {
      "text/html": [
       "Syncing run <strong><a href='https://wandb.ai/et22/video-cs230/runs/xjfelhz0' target=\"_blank\">electric-salad-93</a></strong> to <a href='https://wandb.ai/et22/video-cs230' target=\"_blank\">Weights & Biases</a> (<a href='https://wandb.me/developer-guide' target=\"_blank\">docs</a>)<br/>"
      ],
      "text/plain": [
       "<IPython.core.display.HTML object>"
      ]
     },
     "metadata": {},
     "output_type": "display_data"
    },
    {
     "data": {
      "text/html": [
       " View project at <a href='https://wandb.ai/et22/video-cs230' target=\"_blank\">https://wandb.ai/et22/video-cs230</a>"
      ],
      "text/plain": [
       "<IPython.core.display.HTML object>"
      ]
     },
     "metadata": {},
     "output_type": "display_data"
    },
    {
     "data": {
      "text/html": [
       " View run at <a href='https://wandb.ai/et22/video-cs230/runs/xjfelhz0' target=\"_blank\">https://wandb.ai/et22/video-cs230/runs/xjfelhz0</a>"
      ],
      "text/plain": [
       "<IPython.core.display.HTML object>"
      ]
     },
     "metadata": {},
     "output_type": "display_data"
    },
    {
     "name": "stdout",
     "output_type": "stream",
     "text": [
      "readout input shape: 15360\n",
      "model.1.linear.weight\n",
      "torch.Size([54, 15360])\n",
      "True\n",
      "model.1.linear.bias\n",
      "torch.Size([54])\n",
      "True\n",
      "  epoch 1 loss: 0.15095129648844402 corr: -0.04376878406043991\n",
      " num. neurons : 54\n",
      "  epoch 2 loss: 0.1471584129333496 corr: -0.01585685344952155\n",
      " num. neurons : 54\n",
      "  epoch 3 loss: 0.1442125361054032 corr: -0.05351647689135093\n",
      " num. neurons : 54\n",
      "  epoch 4 loss: 0.1426661091674993 corr: -0.020611609962141102\n",
      " num. neurons : 54\n",
      "  epoch 5 loss: 0.13935285532916034 corr: -0.01872228107421703\n",
      " num. neurons : 54\n",
      "  epoch 6 loss: 0.13714045642334738 corr: -0.0018577465969192941\n",
      " num. neurons : 54\n",
      "  epoch 7 loss: 0.13523867660098607 corr: -0.01448592535369925\n",
      " num. neurons : 54\n",
      "  epoch 8 loss: 0.13352622991726723 corr: 0.012582612287564044\n",
      " num. neurons : 54\n",
      "  epoch 9 loss: 0.1324846354825997 corr: -0.010809339018037743\n",
      " num. neurons : 54\n",
      "  epoch 10 loss: 0.13032600391058274 corr: 0.01701858310361484\n",
      " num. neurons : 54\n",
      "  epoch 11 loss: 0.12894863140435867 corr: 0.033893517565767174\n",
      " num. neurons : 54\n",
      "  epoch 12 loss: 0.12799421475257403 corr: -0.006640525477484831\n",
      " num. neurons : 54\n",
      "  epoch 13 loss: 0.1270474652890806 corr: -0.012272470794013047\n",
      " num. neurons : 54\n",
      "  epoch 14 loss: 0.12663465123117706 corr: 0.04183800518611322\n",
      " num. neurons : 54\n",
      "  epoch 15 loss: 0.1260305615413336 corr: -0.0003325590920252614\n",
      " num. neurons : 54\n",
      "  epoch 16 loss: 0.1243714804119534 corr: -0.0327320092428244\n",
      " num. neurons : 54\n",
      "  epoch 17 loss: 0.1251012244047942 corr: 0.014982748394090015\n",
      " num. neurons : 54\n",
      "  epoch 18 loss: 0.1241010641168665 corr: -0.03679450373143293\n",
      " num. neurons : 54\n",
      "  epoch 19 loss: 0.12301514749173764 corr: 0.03357769972770982\n",
      " num. neurons : 54\n",
      "  epoch 20 loss: 0.12252322161639179 corr: 0.053367106826365\n",
      " num. neurons : 54\n"
     ]
    },
    {
     "data": {
      "text/html": [
       "\n",
       "    <style>\n",
       "        .wandb-row {\n",
       "            display: flex;\n",
       "            flex-direction: row;\n",
       "            flex-wrap: wrap;\n",
       "            justify-content: flex-start;\n",
       "            width: 100%;\n",
       "        }\n",
       "        .wandb-col {\n",
       "            display: flex;\n",
       "            flex-direction: column;\n",
       "            flex-basis: 100%;\n",
       "            flex: 1;\n",
       "            padding: 10px;\n",
       "        }\n",
       "    </style>\n",
       "<div class=\"wandb-row\"><div class=\"wandb-col\"><h3>Run history:</h3><br/><table class=\"wandb\"><tr><td>corr_to_avg</td><td>▂▃▁▃▃▄▄▅▄▆▇▄▄▇▄▂▅▂▇█</td></tr><tr><td>test_loss</td><td>▆█▅▄▅▄▃▂▃▂▂▃▂▁▃▂▂▂▁▁</td></tr><tr><td>train_loss</td><td>█▇▆▆▅▅▄▄▃▃▃▂▂▂▂▁▂▁▁▁</td></tr></table><br/></div><div class=\"wandb-col\"><h3>Run summary:</h3><br/><table class=\"wandb\"><tr><td>train_loss</td><td>1.95362</td></tr></table><br/></div></div>"
      ],
      "text/plain": [
       "<IPython.core.display.HTML object>"
      ]
     },
     "metadata": {},
     "output_type": "display_data"
    },
    {
     "data": {
      "text/html": [
       " View run <strong style=\"color:#cdcd00\">electric-salad-93</strong> at: <a href='https://wandb.ai/et22/video-cs230/runs/xjfelhz0' target=\"_blank\">https://wandb.ai/et22/video-cs230/runs/xjfelhz0</a><br/> View project at: <a href='https://wandb.ai/et22/video-cs230' target=\"_blank\">https://wandb.ai/et22/video-cs230</a><br/>Synced 5 W&B file(s), 0 media file(s), 0 artifact file(s) and 0 other file(s)"
      ],
      "text/plain": [
       "<IPython.core.display.HTML object>"
      ]
     },
     "metadata": {},
     "output_type": "display_data"
    },
    {
     "data": {
      "text/html": [
       "Find logs at: <code>./wandb/run-20241130_185132-xjfelhz0/logs</code>"
      ],
      "text/plain": [
       "<IPython.core.display.HTML object>"
      ]
     },
     "metadata": {},
     "output_type": "display_data"
    },
    {
     "data": {
      "text/html": [
       "Tracking run with wandb version 0.18.7"
      ],
      "text/plain": [
       "<IPython.core.display.HTML object>"
      ]
     },
     "metadata": {},
     "output_type": "display_data"
    },
    {
     "data": {
      "text/html": [
       "Run data is saved locally in <code>/src/models/cs230/wandb/run-20241130_185537-4q15w7b1</code>"
      ],
      "text/plain": [
       "<IPython.core.display.HTML object>"
      ]
     },
     "metadata": {},
     "output_type": "display_data"
    },
    {
     "data": {
      "text/html": [
       "Syncing run <strong><a href='https://wandb.ai/et22/video-cs230/runs/4q15w7b1' target=\"_blank\">firm-vortex-94</a></strong> to <a href='https://wandb.ai/et22/video-cs230' target=\"_blank\">Weights & Biases</a> (<a href='https://wandb.me/developer-guide' target=\"_blank\">docs</a>)<br/>"
      ],
      "text/plain": [
       "<IPython.core.display.HTML object>"
      ]
     },
     "metadata": {},
     "output_type": "display_data"
    },
    {
     "data": {
      "text/html": [
       " View project at <a href='https://wandb.ai/et22/video-cs230' target=\"_blank\">https://wandb.ai/et22/video-cs230</a>"
      ],
      "text/plain": [
       "<IPython.core.display.HTML object>"
      ]
     },
     "metadata": {},
     "output_type": "display_data"
    },
    {
     "data": {
      "text/html": [
       " View run at <a href='https://wandb.ai/et22/video-cs230/runs/4q15w7b1' target=\"_blank\">https://wandb.ai/et22/video-cs230/runs/4q15w7b1</a>"
      ],
      "text/plain": [
       "<IPython.core.display.HTML object>"
      ]
     },
     "metadata": {},
     "output_type": "display_data"
    },
    {
     "name": "stdout",
     "output_type": "stream",
     "text": [
      "readout input shape: 15360\n",
      "model.1.linear.weight\n",
      "torch.Size([95, 15360])\n",
      "True\n",
      "model.1.linear.bias\n",
      "torch.Size([95])\n",
      "True\n",
      "  epoch 1 loss: 0.13565370618360828 corr: 0.0324399311345626\n",
      " num. neurons : 95\n",
      "  epoch 2 loss: 0.1324557623938116 corr: 0.028031179329707688\n",
      " num. neurons : 95\n",
      "  epoch 3 loss: 0.13006829347910057 corr: -0.007691426779435869\n",
      " num. neurons : 95\n",
      "  epoch 4 loss: 0.12744276436211552 corr: 0.04695674283970989\n",
      " num. neurons : 95\n",
      "  epoch 5 loss: 0.1253991852256016 corr: 0.0003027810009921688\n",
      " num. neurons : 95\n",
      "  epoch 6 loss: 0.12399224167718938 corr: 0.041051640443041326\n",
      " num. neurons : 95\n",
      "  epoch 7 loss: 0.12272318439333851 corr: 0.03753911142120452\n",
      " num. neurons : 95\n",
      "  epoch 8 loss: 0.12199876008857607 corr: 0.008150738098785835\n",
      " num. neurons : 95\n",
      "  epoch 9 loss: 0.12103514196985055 corr: 0.05884900033730749\n",
      " num. neurons : 95\n",
      "  epoch 10 loss: 0.11940210595804983 corr: 0.0022065438512842103\n",
      " num. neurons : 95\n",
      "  epoch 11 loss: 0.11887161631858786 corr: 0.017151867307564496\n",
      " num. neurons : 95\n",
      "  epoch 12 loss: 0.11786427891067185 corr: -0.009189219842312182\n",
      " num. neurons : 95\n",
      "  epoch 13 loss: 0.1169215832705273 corr: 0.0051801727924223355\n",
      " num. neurons : 95\n",
      "  epoch 14 loss: 0.11674631990063253 corr: -0.0040081887592332485\n",
      " num. neurons : 95\n",
      "  epoch 15 loss: 0.11598789180136476 corr: 0.03439844557848132\n",
      " num. neurons : 95\n",
      "  epoch 16 loss: 0.1154386352494125 corr: 0.023134136142609077\n",
      " num. neurons : 95\n",
      "  epoch 17 loss: 0.1151331655642125 corr: 0.04745792432771744\n",
      " num. neurons : 95\n",
      "  epoch 18 loss: 0.1149941561733865 corr: 0.03822692780707323\n",
      " num. neurons : 95\n",
      "  epoch 19 loss: 0.1152165336134546 corr: 0.04277377242820829\n",
      " num. neurons : 95\n",
      "  epoch 20 loss: 0.1147460871341965 corr: 0.034402132624662796\n",
      " num. neurons : 95\n"
     ]
    },
    {
     "data": {
      "text/html": [
       "\n",
       "    <style>\n",
       "        .wandb-row {\n",
       "            display: flex;\n",
       "            flex-direction: row;\n",
       "            flex-wrap: wrap;\n",
       "            justify-content: flex-start;\n",
       "            width: 100%;\n",
       "        }\n",
       "        .wandb-col {\n",
       "            display: flex;\n",
       "            flex-direction: column;\n",
       "            flex-basis: 100%;\n",
       "            flex: 1;\n",
       "            padding: 10px;\n",
       "        }\n",
       "    </style>\n",
       "<div class=\"wandb-row\"><div class=\"wandb-col\"><h3>Run history:</h3><br/><table class=\"wandb\"><tr><td>corr_to_avg</td><td>▅▅▁▇▂▆▆▃█▂▄▁▂▂▅▄▇▆▆▅</td></tr><tr><td>test_loss</td><td>▇▇█▅▆▄▆▃▄▃▂▃▂▂▁▂▂▂▁▁</td></tr><tr><td>train_loss</td><td>█▇▆▅▅▄▄▃▃▃▂▂▂▂▁▁▁▁▁▁</td></tr></table><br/></div><div class=\"wandb-col\"><h3>Run summary:</h3><br/><table class=\"wandb\"><tr><td>train_loss</td><td>1.82638</td></tr></table><br/></div></div>"
      ],
      "text/plain": [
       "<IPython.core.display.HTML object>"
      ]
     },
     "metadata": {},
     "output_type": "display_data"
    },
    {
     "data": {
      "text/html": [
       " View run <strong style=\"color:#cdcd00\">firm-vortex-94</strong> at: <a href='https://wandb.ai/et22/video-cs230/runs/4q15w7b1' target=\"_blank\">https://wandb.ai/et22/video-cs230/runs/4q15w7b1</a><br/> View project at: <a href='https://wandb.ai/et22/video-cs230' target=\"_blank\">https://wandb.ai/et22/video-cs230</a><br/>Synced 5 W&B file(s), 0 media file(s), 0 artifact file(s) and 0 other file(s)"
      ],
      "text/plain": [
       "<IPython.core.display.HTML object>"
      ]
     },
     "metadata": {},
     "output_type": "display_data"
    },
    {
     "data": {
      "text/html": [
       "Find logs at: <code>./wandb/run-20241130_185537-4q15w7b1/logs</code>"
      ],
      "text/plain": [
       "<IPython.core.display.HTML object>"
      ]
     },
     "metadata": {},
     "output_type": "display_data"
    },
    {
     "data": {
      "text/html": [
       "Tracking run with wandb version 0.18.7"
      ],
      "text/plain": [
       "<IPython.core.display.HTML object>"
      ]
     },
     "metadata": {},
     "output_type": "display_data"
    },
    {
     "data": {
      "text/html": [
       "Run data is saved locally in <code>/src/models/cs230/wandb/run-20241130_185940-po4ehe8m</code>"
      ],
      "text/plain": [
       "<IPython.core.display.HTML object>"
      ]
     },
     "metadata": {},
     "output_type": "display_data"
    },
    {
     "data": {
      "text/html": [
       "Syncing run <strong><a href='https://wandb.ai/et22/video-cs230/runs/po4ehe8m' target=\"_blank\">ruby-moon-95</a></strong> to <a href='https://wandb.ai/et22/video-cs230' target=\"_blank\">Weights & Biases</a> (<a href='https://wandb.me/developer-guide' target=\"_blank\">docs</a>)<br/>"
      ],
      "text/plain": [
       "<IPython.core.display.HTML object>"
      ]
     },
     "metadata": {},
     "output_type": "display_data"
    },
    {
     "data": {
      "text/html": [
       " View project at <a href='https://wandb.ai/et22/video-cs230' target=\"_blank\">https://wandb.ai/et22/video-cs230</a>"
      ],
      "text/plain": [
       "<IPython.core.display.HTML object>"
      ]
     },
     "metadata": {},
     "output_type": "display_data"
    },
    {
     "data": {
      "text/html": [
       " View run at <a href='https://wandb.ai/et22/video-cs230/runs/po4ehe8m' target=\"_blank\">https://wandb.ai/et22/video-cs230/runs/po4ehe8m</a>"
      ],
      "text/plain": [
       "<IPython.core.display.HTML object>"
      ]
     },
     "metadata": {},
     "output_type": "display_data"
    },
    {
     "name": "stdout",
     "output_type": "stream",
     "text": [
      "readout input shape: 15360\n",
      "model.1.linear.weight\n",
      "torch.Size([54, 15360])\n",
      "True\n",
      "model.1.linear.bias\n",
      "torch.Size([54])\n",
      "True\n",
      "  epoch 1 loss: 0.17384846832441248 corr: 0.037618810233018614\n",
      " num. neurons : 54\n",
      "  epoch 2 loss: 0.17024091872475056 corr: 0.05913861282537757\n",
      " num. neurons : 54\n",
      "  epoch 3 loss: 0.1660075079791823 corr: 0.013819172536978022\n",
      " num. neurons : 54\n",
      "  epoch 4 loss: 0.16322767247959058 corr: 0.03229347311244887\n",
      " num. neurons : 54\n",
      "  epoch 5 loss: 0.1585797097900851 corr: 0.02364683851780048\n",
      " num. neurons : 54\n",
      "  epoch 6 loss: 0.1574810328690902 corr: 0.02160693269783046\n",
      " num. neurons : 54\n",
      "  epoch 7 loss: 0.155250028899632 corr: -0.031193891053875163\n",
      " num. neurons : 54\n",
      "  epoch 8 loss: 0.15302252018462267 corr: 0.005225175930782751\n",
      " num. neurons : 54\n",
      "  epoch 9 loss: 0.14931785351635612 corr: -0.028252520483481747\n",
      " num. neurons : 54\n",
      "  epoch 10 loss: 0.14869031831027135 corr: 0.04469949589308829\n",
      " num. neurons : 54\n",
      "  epoch 11 loss: 0.14767485291109533 corr: 0.016137908852156962\n",
      " num. neurons : 54\n",
      "  epoch 12 loss: 0.14559015443923734 corr: 0.005326267226253869\n",
      " num. neurons : 54\n",
      "  epoch 13 loss: 0.14423802217341358 corr: 0.01510747551506356\n",
      " num. neurons : 54\n",
      "  epoch 14 loss: 0.14207440366127264 corr: -0.0022071631700943564\n",
      " num. neurons : 54\n",
      "  epoch 15 loss: 0.14088919338338018 corr: 0.03463827310918897\n",
      " num. neurons : 54\n",
      "  epoch 16 loss: 0.14125412157815223 corr: 0.004474076387929079\n",
      " num. neurons : 54\n",
      "  epoch 17 loss: 0.13864766641750523 corr: 0.01899697325058189\n",
      " num. neurons : 54\n",
      "  epoch 18 loss: 0.1383968802712719 corr: 0.03258528745194248\n",
      " num. neurons : 54\n",
      "  epoch 19 loss: 0.13769787835567104 corr: 0.018002254169959826\n",
      " num. neurons : 54\n",
      "  epoch 20 loss: 0.1362418648195986 corr: -0.010842362813968578\n",
      " num. neurons : 54\n"
     ]
    },
    {
     "data": {
      "text/html": [
       "\n",
       "    <style>\n",
       "        .wandb-row {\n",
       "            display: flex;\n",
       "            flex-direction: row;\n",
       "            flex-wrap: wrap;\n",
       "            justify-content: flex-start;\n",
       "            width: 100%;\n",
       "        }\n",
       "        .wandb-col {\n",
       "            display: flex;\n",
       "            flex-direction: column;\n",
       "            flex-basis: 100%;\n",
       "            flex: 1;\n",
       "            padding: 10px;\n",
       "        }\n",
       "    </style>\n",
       "<div class=\"wandb-row\"><div class=\"wandb-col\"><h3>Run history:</h3><br/><table class=\"wandb\"><tr><td>corr_to_avg</td><td>▆█▄▆▅▅▁▄▁▇▅▄▅▃▆▄▅▆▅▃</td></tr><tr><td>test_loss</td><td>▅▄▄▃▃█▃▂▂▂▂▂▂▁▃▁▁▁▁▂</td></tr><tr><td>train_loss</td><td>█▇▇▆▅▅▅▄▃▃▃▃▂▂▂▂▁▁▁▁</td></tr></table><br/></div><div class=\"wandb-col\"><h3>Run summary:</h3><br/><table class=\"wandb\"><tr><td>train_loss</td><td>2.17794</td></tr></table><br/></div></div>"
      ],
      "text/plain": [
       "<IPython.core.display.HTML object>"
      ]
     },
     "metadata": {},
     "output_type": "display_data"
    },
    {
     "data": {
      "text/html": [
       " View run <strong style=\"color:#cdcd00\">ruby-moon-95</strong> at: <a href='https://wandb.ai/et22/video-cs230/runs/po4ehe8m' target=\"_blank\">https://wandb.ai/et22/video-cs230/runs/po4ehe8m</a><br/> View project at: <a href='https://wandb.ai/et22/video-cs230' target=\"_blank\">https://wandb.ai/et22/video-cs230</a><br/>Synced 5 W&B file(s), 0 media file(s), 0 artifact file(s) and 0 other file(s)"
      ],
      "text/plain": [
       "<IPython.core.display.HTML object>"
      ]
     },
     "metadata": {},
     "output_type": "display_data"
    },
    {
     "data": {
      "text/html": [
       "Find logs at: <code>./wandb/run-20241130_185940-po4ehe8m/logs</code>"
      ],
      "text/plain": [
       "<IPython.core.display.HTML object>"
      ]
     },
     "metadata": {},
     "output_type": "display_data"
    },
    {
     "data": {
      "text/html": [
       "Tracking run with wandb version 0.18.7"
      ],
      "text/plain": [
       "<IPython.core.display.HTML object>"
      ]
     },
     "metadata": {},
     "output_type": "display_data"
    },
    {
     "data": {
      "text/html": [
       "Run data is saved locally in <code>/src/models/cs230/wandb/run-20241130_190429-a0b1ck6m</code>"
      ],
      "text/plain": [
       "<IPython.core.display.HTML object>"
      ]
     },
     "metadata": {},
     "output_type": "display_data"
    },
    {
     "data": {
      "text/html": [
       "Syncing run <strong><a href='https://wandb.ai/et22/video-cs230/runs/a0b1ck6m' target=\"_blank\">vague-smoke-96</a></strong> to <a href='https://wandb.ai/et22/video-cs230' target=\"_blank\">Weights & Biases</a> (<a href='https://wandb.me/developer-guide' target=\"_blank\">docs</a>)<br/>"
      ],
      "text/plain": [
       "<IPython.core.display.HTML object>"
      ]
     },
     "metadata": {},
     "output_type": "display_data"
    },
    {
     "data": {
      "text/html": [
       " View project at <a href='https://wandb.ai/et22/video-cs230' target=\"_blank\">https://wandb.ai/et22/video-cs230</a>"
      ],
      "text/plain": [
       "<IPython.core.display.HTML object>"
      ]
     },
     "metadata": {},
     "output_type": "display_data"
    },
    {
     "data": {
      "text/html": [
       " View run at <a href='https://wandb.ai/et22/video-cs230/runs/a0b1ck6m' target=\"_blank\">https://wandb.ai/et22/video-cs230/runs/a0b1ck6m</a>"
      ],
      "text/plain": [
       "<IPython.core.display.HTML object>"
      ]
     },
     "metadata": {},
     "output_type": "display_data"
    },
    {
     "data": {
      "text/html": [
       "\n",
       "    <style>\n",
       "        .wandb-row {\n",
       "            display: flex;\n",
       "            flex-direction: row;\n",
       "            flex-wrap: wrap;\n",
       "            justify-content: flex-start;\n",
       "            width: 100%;\n",
       "        }\n",
       "        .wandb-col {\n",
       "            display: flex;\n",
       "            flex-direction: column;\n",
       "            flex-basis: 100%;\n",
       "            flex: 1;\n",
       "            padding: 10px;\n",
       "        }\n",
       "    </style>\n",
       "<div class=\"wandb-row\"><div class=\"wandb-col\"><h3>Run history:</h3><br/><table class=\"wandb\"><tr><td>corr</td><td>▄▅▄▆▅▅▄▅▆▄▅▄▃▄▄▆▄▆▃▄▄▂▄▂▅▆▄▄▅█▆▅▂▃▁▅▃▅▄▄</td></tr></table><br/></div><div class=\"wandb-col\"><h3>Run summary:</h3><br/><table class=\"wandb\"><tr><td>corr</td><td>-0.02874</td></tr></table><br/></div></div>"
      ],
      "text/plain": [
       "<IPython.core.display.HTML object>"
      ]
     },
     "metadata": {},
     "output_type": "display_data"
    },
    {
     "data": {
      "text/html": [
       " View run <strong style=\"color:#cdcd00\">vague-smoke-96</strong> at: <a href='https://wandb.ai/et22/video-cs230/runs/a0b1ck6m' target=\"_blank\">https://wandb.ai/et22/video-cs230/runs/a0b1ck6m</a><br/> View project at: <a href='https://wandb.ai/et22/video-cs230' target=\"_blank\">https://wandb.ai/et22/video-cs230</a><br/>Synced 5 W&B file(s), 0 media file(s), 0 artifact file(s) and 0 other file(s)"
      ],
      "text/plain": [
       "<IPython.core.display.HTML object>"
      ]
     },
     "metadata": {},
     "output_type": "display_data"
    },
    {
     "data": {
      "text/html": [
       "Find logs at: <code>./wandb/run-20241130_190429-a0b1ck6m/logs</code>"
      ],
      "text/plain": [
       "<IPython.core.display.HTML object>"
      ]
     },
     "metadata": {},
     "output_type": "display_data"
    },
    {
     "name": "stdout",
     "output_type": "stream",
     "text": [
      "layer: layer3\n",
      "0\n"
     ]
    },
    {
     "data": {
      "text/html": [
       "Tracking run with wandb version 0.18.7"
      ],
      "text/plain": [
       "<IPython.core.display.HTML object>"
      ]
     },
     "metadata": {},
     "output_type": "display_data"
    },
    {
     "data": {
      "text/html": [
       "Run data is saved locally in <code>/src/models/cs230/wandb/run-20241130_190432-r4b4ambv</code>"
      ],
      "text/plain": [
       "<IPython.core.display.HTML object>"
      ]
     },
     "metadata": {},
     "output_type": "display_data"
    },
    {
     "data": {
      "text/html": [
       "Syncing run <strong><a href='https://wandb.ai/et22/video-cs230/runs/r4b4ambv' target=\"_blank\">neat-thunder-97</a></strong> to <a href='https://wandb.ai/et22/video-cs230' target=\"_blank\">Weights & Biases</a> (<a href='https://wandb.me/developer-guide' target=\"_blank\">docs</a>)<br/>"
      ],
      "text/plain": [
       "<IPython.core.display.HTML object>"
      ]
     },
     "metadata": {},
     "output_type": "display_data"
    },
    {
     "data": {
      "text/html": [
       " View project at <a href='https://wandb.ai/et22/video-cs230' target=\"_blank\">https://wandb.ai/et22/video-cs230</a>"
      ],
      "text/plain": [
       "<IPython.core.display.HTML object>"
      ]
     },
     "metadata": {},
     "output_type": "display_data"
    },
    {
     "data": {
      "text/html": [
       " View run at <a href='https://wandb.ai/et22/video-cs230/runs/r4b4ambv' target=\"_blank\">https://wandb.ai/et22/video-cs230/runs/r4b4ambv</a>"
      ],
      "text/plain": [
       "<IPython.core.display.HTML object>"
      ]
     },
     "metadata": {},
     "output_type": "display_data"
    },
    {
     "name": "stdout",
     "output_type": "stream",
     "text": [
      "readout input shape: 512\n",
      "model.0.stim\n",
      "torch.Size([1, 3, 5, 32, 32])\n",
      "True\n",
      "model.0.core.stem.0.weight\n",
      "torch.Size([64, 3, 3, 7, 7])\n",
      "False\n",
      "model.0.core.stem.1.weight\n",
      "torch.Size([64])\n",
      "False\n",
      "model.0.core.stem.1.bias\n",
      "torch.Size([64])\n",
      "False\n",
      "model.0.core.layer1.0.conv1.0.weight\n",
      "torch.Size([64, 64, 3, 3, 3])\n",
      "False\n",
      "model.0.core.layer1.0.conv1.1.weight\n",
      "torch.Size([64])\n",
      "False\n",
      "model.0.core.layer1.0.conv1.1.bias\n",
      "torch.Size([64])\n",
      "False\n",
      "model.0.core.layer1.0.conv2.0.weight\n",
      "torch.Size([64, 64, 3, 3, 3])\n",
      "False\n",
      "model.0.core.layer1.0.conv2.1.weight\n",
      "torch.Size([64])\n",
      "False\n",
      "model.0.core.layer1.0.conv2.1.bias\n",
      "torch.Size([64])\n",
      "False\n",
      "model.0.core.layer1.1.conv1.0.weight\n",
      "torch.Size([64, 64, 3, 3, 3])\n",
      "False\n",
      "model.0.core.layer1.1.conv1.1.weight\n",
      "torch.Size([64])\n",
      "False\n",
      "model.0.core.layer1.1.conv1.1.bias\n",
      "torch.Size([64])\n",
      "False\n",
      "model.0.core.layer1.1.conv2.0.weight\n",
      "torch.Size([64, 64, 3, 3, 3])\n",
      "False\n",
      "model.0.core.layer1.1.conv2.1.weight\n",
      "torch.Size([64])\n",
      "False\n",
      "model.0.core.layer1.1.conv2.1.bias\n",
      "torch.Size([64])\n",
      "False\n",
      "model.0.core.layer2.0.conv1.0.weight\n",
      "torch.Size([128, 64, 3, 3, 3])\n",
      "False\n",
      "model.0.core.layer2.0.conv1.1.weight\n",
      "torch.Size([128])\n",
      "False\n",
      "model.0.core.layer2.0.conv1.1.bias\n",
      "torch.Size([128])\n",
      "False\n",
      "model.0.core.layer2.0.conv2.0.weight\n",
      "torch.Size([128, 128, 3, 3, 3])\n",
      "False\n",
      "model.0.core.layer2.0.conv2.1.weight\n",
      "torch.Size([128])\n",
      "False\n",
      "model.0.core.layer2.0.conv2.1.bias\n",
      "torch.Size([128])\n",
      "False\n",
      "model.0.core.layer2.0.downsample.0.weight\n",
      "torch.Size([128, 64, 1, 1, 1])\n",
      "False\n",
      "model.0.core.layer2.0.downsample.1.weight\n",
      "torch.Size([128])\n",
      "False\n",
      "model.0.core.layer2.0.downsample.1.bias\n",
      "torch.Size([128])\n",
      "False\n",
      "model.0.core.layer2.1.conv1.0.weight\n",
      "torch.Size([128, 128, 3, 3, 3])\n",
      "False\n",
      "model.0.core.layer2.1.conv1.1.weight\n",
      "torch.Size([128])\n",
      "False\n",
      "model.0.core.layer2.1.conv1.1.bias\n",
      "torch.Size([128])\n",
      "False\n",
      "model.0.core.layer2.1.conv2.0.weight\n",
      "torch.Size([128, 128, 3, 3, 3])\n",
      "False\n",
      "model.0.core.layer2.1.conv2.1.weight\n",
      "torch.Size([128])\n",
      "False\n",
      "model.0.core.layer2.1.conv2.1.bias\n",
      "torch.Size([128])\n",
      "False\n",
      "model.0.core.layer3.0.conv1.0.weight\n",
      "torch.Size([256, 128, 3, 3, 3])\n",
      "False\n",
      "model.0.core.layer3.0.conv1.1.weight\n",
      "torch.Size([256])\n",
      "False\n",
      "model.0.core.layer3.0.conv1.1.bias\n",
      "torch.Size([256])\n",
      "False\n",
      "model.1.mu\n",
      "torch.Size([54, 2])\n",
      "True\n",
      "model.1.sigma\n",
      "torch.Size([54])\n",
      "True\n",
      "model.1.poisson_linear.linear.weight\n",
      "torch.Size([54, 512])\n",
      "True\n",
      "model.1.poisson_linear.linear.bias\n",
      "torch.Size([54])\n",
      "True\n",
      "  epoch 1 loss: 0.11509462068110336 corr: 0.2039615969270526\n",
      " num. neurons : 54\n",
      "  epoch 2 loss: 0.10838466579531446 corr: 0.28904835178421817\n",
      " num. neurons : 54\n",
      "  epoch 3 loss: 0.10726388660478003 corr: 0.3460161221932974\n",
      " num. neurons : 54\n",
      "  epoch 4 loss: 0.1064626125641811 corr: 0.37247634666399415\n",
      " num. neurons : 54\n",
      "  epoch 5 loss: 0.10577294961905774 corr: 0.38037221174580005\n",
      " num. neurons : 54\n",
      "  epoch 6 loss: 0.10522690625838292 corr: 0.3932513061244112\n",
      " num. neurons : 54\n",
      "  epoch 7 loss: 0.104776695922569 corr: 0.4183352186200955\n",
      " num. neurons : 54\n",
      "  epoch 8 loss: 0.10435771694889776 corr: 0.3984430216551886\n",
      " num. neurons : 54\n",
      "  epoch 9 loss: 0.10396300457142017 corr: 0.4213603741429439\n",
      " num. neurons : 54\n",
      "  epoch 10 loss: 0.10362295963146069 corr: 0.429168550189235\n",
      " num. neurons : 54\n",
      "  epoch 11 loss: 0.10353504410496464 corr: 0.4479580515997731\n",
      " num. neurons : 54\n",
      "  epoch 12 loss: 0.103155478430383 corr: 0.4478865330704068\n",
      " num. neurons : 54\n",
      "  epoch 13 loss: 0.10295741145993456 corr: 0.4507882857345558\n",
      " num. neurons : 54\n",
      "  epoch 14 loss: 0.10277782481393696 corr: 0.45578395465602917\n",
      " num. neurons : 54\n",
      "  epoch 15 loss: 0.10264609472251232 corr: 0.45886676082771943\n",
      " num. neurons : 54\n",
      "  epoch 16 loss: 0.10246451242470447 corr: 0.4582645909632652\n",
      " num. neurons : 54\n",
      "  epoch 17 loss: 0.10229706758334313 corr: 0.4633824858448423\n",
      " num. neurons : 54\n",
      "  epoch 18 loss: 0.10219528392509178 corr: 0.46453180900742724\n",
      " num. neurons : 54\n",
      "  epoch 19 loss: 0.1020153291725818 corr: 0.4688807900706016\n",
      " num. neurons : 54\n",
      "  epoch 20 loss: 0.10193984161188573 corr: 0.4693288275707573\n",
      " num. neurons : 54\n"
     ]
    },
    {
     "data": {
      "text/html": [
       "\n",
       "    <style>\n",
       "        .wandb-row {\n",
       "            display: flex;\n",
       "            flex-direction: row;\n",
       "            flex-wrap: wrap;\n",
       "            justify-content: flex-start;\n",
       "            width: 100%;\n",
       "        }\n",
       "        .wandb-col {\n",
       "            display: flex;\n",
       "            flex-direction: column;\n",
       "            flex-basis: 100%;\n",
       "            flex: 1;\n",
       "            padding: 10px;\n",
       "        }\n",
       "    </style>\n",
       "<div class=\"wandb-row\"><div class=\"wandb-col\"><h3>Run history:</h3><br/><table class=\"wandb\"><tr><td>corr_to_avg</td><td>▁▃▅▅▆▆▇▆▇▇▇▇████████</td></tr><tr><td>test_loss</td><td>█▇▅▅▄▄▃▃▃▂▂▂▂▁▂▂▂▂▁▁</td></tr><tr><td>train_loss</td><td>█▄▄▃▃▃▃▂▂▂▂▂▂▁▁▁▁▁▁▁</td></tr></table><br/></div><div class=\"wandb-col\"><h3>Run summary:</h3><br/><table class=\"wandb\"><tr><td>train_loss</td><td>1.62542</td></tr></table><br/></div></div>"
      ],
      "text/plain": [
       "<IPython.core.display.HTML object>"
      ]
     },
     "metadata": {},
     "output_type": "display_data"
    },
    {
     "data": {
      "text/html": [
       " View run <strong style=\"color:#cdcd00\">neat-thunder-97</strong> at: <a href='https://wandb.ai/et22/video-cs230/runs/r4b4ambv' target=\"_blank\">https://wandb.ai/et22/video-cs230/runs/r4b4ambv</a><br/> View project at: <a href='https://wandb.ai/et22/video-cs230' target=\"_blank\">https://wandb.ai/et22/video-cs230</a><br/>Synced 5 W&B file(s), 0 media file(s), 0 artifact file(s) and 0 other file(s)"
      ],
      "text/plain": [
       "<IPython.core.display.HTML object>"
      ]
     },
     "metadata": {},
     "output_type": "display_data"
    },
    {
     "data": {
      "text/html": [
       "Find logs at: <code>./wandb/run-20241130_190432-r4b4ambv/logs</code>"
      ],
      "text/plain": [
       "<IPython.core.display.HTML object>"
      ]
     },
     "metadata": {},
     "output_type": "display_data"
    },
    {
     "data": {
      "text/html": [
       "Tracking run with wandb version 0.18.7"
      ],
      "text/plain": [
       "<IPython.core.display.HTML object>"
      ]
     },
     "metadata": {},
     "output_type": "display_data"
    },
    {
     "data": {
      "text/html": [
       "Run data is saved locally in <code>/src/models/cs230/wandb/run-20241130_190836-3tqt0whp</code>"
      ],
      "text/plain": [
       "<IPython.core.display.HTML object>"
      ]
     },
     "metadata": {},
     "output_type": "display_data"
    },
    {
     "data": {
      "text/html": [
       "Syncing run <strong><a href='https://wandb.ai/et22/video-cs230/runs/3tqt0whp' target=\"_blank\">decent-firebrand-98</a></strong> to <a href='https://wandb.ai/et22/video-cs230' target=\"_blank\">Weights & Biases</a> (<a href='https://wandb.me/developer-guide' target=\"_blank\">docs</a>)<br/>"
      ],
      "text/plain": [
       "<IPython.core.display.HTML object>"
      ]
     },
     "metadata": {},
     "output_type": "display_data"
    },
    {
     "data": {
      "text/html": [
       " View project at <a href='https://wandb.ai/et22/video-cs230' target=\"_blank\">https://wandb.ai/et22/video-cs230</a>"
      ],
      "text/plain": [
       "<IPython.core.display.HTML object>"
      ]
     },
     "metadata": {},
     "output_type": "display_data"
    },
    {
     "data": {
      "text/html": [
       " View run at <a href='https://wandb.ai/et22/video-cs230/runs/3tqt0whp' target=\"_blank\">https://wandb.ai/et22/video-cs230/runs/3tqt0whp</a>"
      ],
      "text/plain": [
       "<IPython.core.display.HTML object>"
      ]
     },
     "metadata": {},
     "output_type": "display_data"
    },
    {
     "name": "stdout",
     "output_type": "stream",
     "text": [
      "readout input shape: 512\n",
      "model.0.stim\n",
      "torch.Size([1, 3, 5, 32, 32])\n",
      "True\n",
      "model.0.core.stem.0.weight\n",
      "torch.Size([64, 3, 3, 7, 7])\n",
      "False\n",
      "model.0.core.stem.1.weight\n",
      "torch.Size([64])\n",
      "False\n",
      "model.0.core.stem.1.bias\n",
      "torch.Size([64])\n",
      "False\n",
      "model.0.core.layer1.0.conv1.0.weight\n",
      "torch.Size([64, 64, 3, 3, 3])\n",
      "False\n",
      "model.0.core.layer1.0.conv1.1.weight\n",
      "torch.Size([64])\n",
      "False\n",
      "model.0.core.layer1.0.conv1.1.bias\n",
      "torch.Size([64])\n",
      "False\n",
      "model.0.core.layer1.0.conv2.0.weight\n",
      "torch.Size([64, 64, 3, 3, 3])\n",
      "False\n",
      "model.0.core.layer1.0.conv2.1.weight\n",
      "torch.Size([64])\n",
      "False\n",
      "model.0.core.layer1.0.conv2.1.bias\n",
      "torch.Size([64])\n",
      "False\n",
      "model.0.core.layer1.1.conv1.0.weight\n",
      "torch.Size([64, 64, 3, 3, 3])\n",
      "False\n",
      "model.0.core.layer1.1.conv1.1.weight\n",
      "torch.Size([64])\n",
      "False\n",
      "model.0.core.layer1.1.conv1.1.bias\n",
      "torch.Size([64])\n",
      "False\n",
      "model.0.core.layer1.1.conv2.0.weight\n",
      "torch.Size([64, 64, 3, 3, 3])\n",
      "False\n",
      "model.0.core.layer1.1.conv2.1.weight\n",
      "torch.Size([64])\n",
      "False\n",
      "model.0.core.layer1.1.conv2.1.bias\n",
      "torch.Size([64])\n",
      "False\n",
      "model.0.core.layer2.0.conv1.0.weight\n",
      "torch.Size([128, 64, 3, 3, 3])\n",
      "False\n",
      "model.0.core.layer2.0.conv1.1.weight\n",
      "torch.Size([128])\n",
      "False\n",
      "model.0.core.layer2.0.conv1.1.bias\n",
      "torch.Size([128])\n",
      "False\n",
      "model.0.core.layer2.0.conv2.0.weight\n",
      "torch.Size([128, 128, 3, 3, 3])\n",
      "False\n",
      "model.0.core.layer2.0.conv2.1.weight\n",
      "torch.Size([128])\n",
      "False\n",
      "model.0.core.layer2.0.conv2.1.bias\n",
      "torch.Size([128])\n",
      "False\n",
      "model.0.core.layer2.0.downsample.0.weight\n",
      "torch.Size([128, 64, 1, 1, 1])\n",
      "False\n",
      "model.0.core.layer2.0.downsample.1.weight\n",
      "torch.Size([128])\n",
      "False\n",
      "model.0.core.layer2.0.downsample.1.bias\n",
      "torch.Size([128])\n",
      "False\n",
      "model.0.core.layer2.1.conv1.0.weight\n",
      "torch.Size([128, 128, 3, 3, 3])\n",
      "False\n",
      "model.0.core.layer2.1.conv1.1.weight\n",
      "torch.Size([128])\n",
      "False\n",
      "model.0.core.layer2.1.conv1.1.bias\n",
      "torch.Size([128])\n",
      "False\n",
      "model.0.core.layer2.1.conv2.0.weight\n",
      "torch.Size([128, 128, 3, 3, 3])\n",
      "False\n",
      "model.0.core.layer2.1.conv2.1.weight\n",
      "torch.Size([128])\n",
      "False\n",
      "model.0.core.layer2.1.conv2.1.bias\n",
      "torch.Size([128])\n",
      "False\n",
      "model.0.core.layer3.0.conv1.0.weight\n",
      "torch.Size([256, 128, 3, 3, 3])\n",
      "False\n",
      "model.0.core.layer3.0.conv1.1.weight\n",
      "torch.Size([256])\n",
      "False\n",
      "model.0.core.layer3.0.conv1.1.bias\n",
      "torch.Size([256])\n",
      "False\n",
      "model.1.mu\n",
      "torch.Size([95, 2])\n",
      "True\n",
      "model.1.sigma\n",
      "torch.Size([95])\n",
      "True\n",
      "model.1.poisson_linear.linear.weight\n",
      "torch.Size([95, 512])\n",
      "True\n",
      "model.1.poisson_linear.linear.bias\n",
      "torch.Size([95])\n",
      "True\n",
      "  epoch 1 loss: 0.10918232352321684 corr: 0.23622826904920385\n",
      " num. neurons : 95\n",
      "  epoch 2 loss: 0.10416387282116875 corr: 0.294519849543573\n",
      " num. neurons : 95\n",
      "  epoch 3 loss: 0.10305726952577761 corr: 0.32737440129029827\n",
      " num. neurons : 95\n",
      "  epoch 4 loss: 0.10214548023583377 corr: 0.3658113661938774\n",
      " num. neurons : 95\n",
      "  epoch 5 loss: 0.10150293480039267 corr: 0.37073314871903235\n",
      " num. neurons : 95\n",
      "  epoch 6 loss: 0.10087156351948284 corr: 0.3671506137828574\n",
      " num. neurons : 95\n",
      "  epoch 7 loss: 0.10029541846969364 corr: 0.3818880900519991\n",
      " num. neurons : 95\n",
      "  epoch 8 loss: 0.09999251964828731 corr: 0.3921715731074252\n",
      " num. neurons : 95\n",
      "  epoch 9 loss: 0.09942855828719613 corr: 0.4025938262902369\n",
      " num. neurons : 95\n",
      "  epoch 10 loss: 0.09920478378915037 corr: 0.39965647736715554\n",
      " num. neurons : 95\n",
      "  epoch 11 loss: 0.0988415477787637 corr: 0.410538263332755\n",
      " num. neurons : 95\n",
      "  epoch 12 loss: 0.09840751786506613 corr: 0.4093444988833497\n",
      " num. neurons : 95\n",
      "  epoch 13 loss: 0.09830260682480498 corr: 0.4218019415681609\n",
      " num. neurons : 95\n",
      "  epoch 14 loss: 0.0981042081772969 corr: 0.4214970297806491\n",
      " num. neurons : 95\n",
      "  epoch 15 loss: 0.09775916974581973 corr: 0.4204669521641355\n",
      " num. neurons : 95\n",
      "  epoch 16 loss: 0.09754511985479225 corr: 0.4263065947086378\n",
      " num. neurons : 95\n",
      "  epoch 17 loss: 0.09739972271844355 corr: 0.42391487058955546\n",
      " num. neurons : 95\n",
      "  epoch 18 loss: 0.09720404497615955 corr: 0.42591457506416464\n",
      " num. neurons : 95\n",
      "  epoch 19 loss: 0.09716581006324729 corr: 0.42698896479324416\n",
      " num. neurons : 95\n",
      "  epoch 20 loss: 0.09687261281837344 corr: 0.43139904834800435\n",
      " num. neurons : 95\n"
     ]
    },
    {
     "data": {
      "text/html": [
       "\n",
       "    <style>\n",
       "        .wandb-row {\n",
       "            display: flex;\n",
       "            flex-direction: row;\n",
       "            flex-wrap: wrap;\n",
       "            justify-content: flex-start;\n",
       "            width: 100%;\n",
       "        }\n",
       "        .wandb-col {\n",
       "            display: flex;\n",
       "            flex-direction: column;\n",
       "            flex-basis: 100%;\n",
       "            flex: 1;\n",
       "            padding: 10px;\n",
       "        }\n",
       "    </style>\n",
       "<div class=\"wandb-row\"><div class=\"wandb-col\"><h3>Run history:</h3><br/><table class=\"wandb\"><tr><td>corr_to_avg</td><td>▁▃▄▆▆▆▆▇▇▇▇▇████████</td></tr><tr><td>test_loss</td><td>█▆▅▅▄▄▃▂▂▂▂▁▂▂▂▁▁▂▂▁</td></tr><tr><td>train_loss</td><td>█▅▅▄▄▃▃▃▂▂▂▂▂▂▂▁▁▁▁▁</td></tr></table><br/></div><div class=\"wandb-col\"><h3>Run summary:</h3><br/><table class=\"wandb\"><tr><td>train_loss</td><td>1.54189</td></tr></table><br/></div></div>"
      ],
      "text/plain": [
       "<IPython.core.display.HTML object>"
      ]
     },
     "metadata": {},
     "output_type": "display_data"
    },
    {
     "data": {
      "text/html": [
       " View run <strong style=\"color:#cdcd00\">decent-firebrand-98</strong> at: <a href='https://wandb.ai/et22/video-cs230/runs/3tqt0whp' target=\"_blank\">https://wandb.ai/et22/video-cs230/runs/3tqt0whp</a><br/> View project at: <a href='https://wandb.ai/et22/video-cs230' target=\"_blank\">https://wandb.ai/et22/video-cs230</a><br/>Synced 5 W&B file(s), 0 media file(s), 0 artifact file(s) and 0 other file(s)"
      ],
      "text/plain": [
       "<IPython.core.display.HTML object>"
      ]
     },
     "metadata": {},
     "output_type": "display_data"
    },
    {
     "data": {
      "text/html": [
       "Find logs at: <code>./wandb/run-20241130_190836-3tqt0whp/logs</code>"
      ],
      "text/plain": [
       "<IPython.core.display.HTML object>"
      ]
     },
     "metadata": {},
     "output_type": "display_data"
    },
    {
     "data": {
      "text/html": [
       "Tracking run with wandb version 0.18.7"
      ],
      "text/plain": [
       "<IPython.core.display.HTML object>"
      ]
     },
     "metadata": {},
     "output_type": "display_data"
    },
    {
     "data": {
      "text/html": [
       "Run data is saved locally in <code>/src/models/cs230/wandb/run-20241130_191238-4j6leivn</code>"
      ],
      "text/plain": [
       "<IPython.core.display.HTML object>"
      ]
     },
     "metadata": {},
     "output_type": "display_data"
    },
    {
     "data": {
      "text/html": [
       "Syncing run <strong><a href='https://wandb.ai/et22/video-cs230/runs/4j6leivn' target=\"_blank\">copper-water-99</a></strong> to <a href='https://wandb.ai/et22/video-cs230' target=\"_blank\">Weights & Biases</a> (<a href='https://wandb.me/developer-guide' target=\"_blank\">docs</a>)<br/>"
      ],
      "text/plain": [
       "<IPython.core.display.HTML object>"
      ]
     },
     "metadata": {},
     "output_type": "display_data"
    },
    {
     "data": {
      "text/html": [
       " View project at <a href='https://wandb.ai/et22/video-cs230' target=\"_blank\">https://wandb.ai/et22/video-cs230</a>"
      ],
      "text/plain": [
       "<IPython.core.display.HTML object>"
      ]
     },
     "metadata": {},
     "output_type": "display_data"
    },
    {
     "data": {
      "text/html": [
       " View run at <a href='https://wandb.ai/et22/video-cs230/runs/4j6leivn' target=\"_blank\">https://wandb.ai/et22/video-cs230/runs/4j6leivn</a>"
      ],
      "text/plain": [
       "<IPython.core.display.HTML object>"
      ]
     },
     "metadata": {},
     "output_type": "display_data"
    },
    {
     "name": "stdout",
     "output_type": "stream",
     "text": [
      "readout input shape: 512\n",
      "model.0.stim\n",
      "torch.Size([1, 3, 5, 32, 32])\n",
      "True\n",
      "model.0.core.stem.0.weight\n",
      "torch.Size([64, 3, 3, 7, 7])\n",
      "False\n",
      "model.0.core.stem.1.weight\n",
      "torch.Size([64])\n",
      "False\n",
      "model.0.core.stem.1.bias\n",
      "torch.Size([64])\n",
      "False\n",
      "model.0.core.layer1.0.conv1.0.weight\n",
      "torch.Size([64, 64, 3, 3, 3])\n",
      "False\n",
      "model.0.core.layer1.0.conv1.1.weight\n",
      "torch.Size([64])\n",
      "False\n",
      "model.0.core.layer1.0.conv1.1.bias\n",
      "torch.Size([64])\n",
      "False\n",
      "model.0.core.layer1.0.conv2.0.weight\n",
      "torch.Size([64, 64, 3, 3, 3])\n",
      "False\n",
      "model.0.core.layer1.0.conv2.1.weight\n",
      "torch.Size([64])\n",
      "False\n",
      "model.0.core.layer1.0.conv2.1.bias\n",
      "torch.Size([64])\n",
      "False\n",
      "model.0.core.layer1.1.conv1.0.weight\n",
      "torch.Size([64, 64, 3, 3, 3])\n",
      "False\n",
      "model.0.core.layer1.1.conv1.1.weight\n",
      "torch.Size([64])\n",
      "False\n",
      "model.0.core.layer1.1.conv1.1.bias\n",
      "torch.Size([64])\n",
      "False\n",
      "model.0.core.layer1.1.conv2.0.weight\n",
      "torch.Size([64, 64, 3, 3, 3])\n",
      "False\n",
      "model.0.core.layer1.1.conv2.1.weight\n",
      "torch.Size([64])\n",
      "False\n",
      "model.0.core.layer1.1.conv2.1.bias\n",
      "torch.Size([64])\n",
      "False\n",
      "model.0.core.layer2.0.conv1.0.weight\n",
      "torch.Size([128, 64, 3, 3, 3])\n",
      "False\n",
      "model.0.core.layer2.0.conv1.1.weight\n",
      "torch.Size([128])\n",
      "False\n",
      "model.0.core.layer2.0.conv1.1.bias\n",
      "torch.Size([128])\n",
      "False\n",
      "model.0.core.layer2.0.conv2.0.weight\n",
      "torch.Size([128, 128, 3, 3, 3])\n",
      "False\n",
      "model.0.core.layer2.0.conv2.1.weight\n",
      "torch.Size([128])\n",
      "False\n",
      "model.0.core.layer2.0.conv2.1.bias\n",
      "torch.Size([128])\n",
      "False\n",
      "model.0.core.layer2.0.downsample.0.weight\n",
      "torch.Size([128, 64, 1, 1, 1])\n",
      "False\n",
      "model.0.core.layer2.0.downsample.1.weight\n",
      "torch.Size([128])\n",
      "False\n",
      "model.0.core.layer2.0.downsample.1.bias\n",
      "torch.Size([128])\n",
      "False\n",
      "model.0.core.layer2.1.conv1.0.weight\n",
      "torch.Size([128, 128, 3, 3, 3])\n",
      "False\n",
      "model.0.core.layer2.1.conv1.1.weight\n",
      "torch.Size([128])\n",
      "False\n",
      "model.0.core.layer2.1.conv1.1.bias\n",
      "torch.Size([128])\n",
      "False\n",
      "model.0.core.layer2.1.conv2.0.weight\n",
      "torch.Size([128, 128, 3, 3, 3])\n",
      "False\n",
      "model.0.core.layer2.1.conv2.1.weight\n",
      "torch.Size([128])\n",
      "False\n",
      "model.0.core.layer2.1.conv2.1.bias\n",
      "torch.Size([128])\n",
      "False\n",
      "model.0.core.layer3.0.conv1.0.weight\n",
      "torch.Size([256, 128, 3, 3, 3])\n",
      "False\n",
      "model.0.core.layer3.0.conv1.1.weight\n",
      "torch.Size([256])\n",
      "False\n",
      "model.0.core.layer3.0.conv1.1.bias\n",
      "torch.Size([256])\n",
      "False\n",
      "model.1.mu\n",
      "torch.Size([54, 2])\n",
      "True\n",
      "model.1.sigma\n",
      "torch.Size([54])\n",
      "True\n",
      "model.1.poisson_linear.linear.weight\n",
      "torch.Size([54, 512])\n",
      "True\n",
      "model.1.poisson_linear.linear.bias\n",
      "torch.Size([54])\n",
      "True\n",
      "  epoch 1 loss: 0.12607945735833237 corr: 0.21970571964006455\n",
      " num. neurons : 54\n",
      "  epoch 2 loss: 0.11682438855691621 corr: 0.2928431456315598\n",
      " num. neurons : 54\n",
      "  epoch 3 loss: 0.11566244757270644 corr: 0.3133868684608571\n",
      " num. neurons : 54\n",
      "  epoch 4 loss: 0.11499537772167649 corr: 0.37183976518831713\n",
      " num. neurons : 54\n",
      "  epoch 5 loss: 0.11426668899082566 corr: 0.37152160415031016\n",
      " num. neurons : 54\n",
      "  epoch 6 loss: 0.11379645171161236 corr: 0.39904543411616417\n",
      " num. neurons : 54\n",
      "  epoch 7 loss: 0.11320135698132316 corr: 0.41400113212549233\n",
      " num. neurons : 54\n",
      "  epoch 8 loss: 0.11279937881437571 corr: 0.41847836338356703\n",
      " num. neurons : 54\n",
      "  epoch 9 loss: 0.11254643600602646 corr: 0.42258348841055055\n",
      " num. neurons : 54\n",
      "  epoch 10 loss: 0.11212565847065138 corr: 0.43880704316031066\n",
      " num. neurons : 54\n",
      "  epoch 11 loss: 0.11191346096378993 corr: 0.43774211313931394\n",
      " num. neurons : 54\n",
      "  epoch 12 loss: 0.11160855967065562 corr: 0.4376926504701342\n",
      " num. neurons : 54\n",
      "  epoch 13 loss: 0.11142864085555394 corr: 0.4423098161453397\n",
      " num. neurons : 54\n",
      "  epoch 14 loss: 0.11119124650320546 corr: 0.44574580345370274\n",
      " num. neurons : 54\n",
      "  epoch 15 loss: 0.11102908410746753 corr: 0.4471332126401466\n",
      " num. neurons : 54\n",
      "  epoch 16 loss: 0.11083765567248123 corr: 0.45524800368906293\n",
      " num. neurons : 54\n",
      "  epoch 17 loss: 0.11069585886695477 corr: 0.4506261709884048\n",
      " num. neurons : 54\n",
      "  epoch 18 loss: 0.11052320769326075 corr: 0.45706716392361313\n",
      " num. neurons : 54\n",
      "  epoch 19 loss: 0.11041034812301054 corr: 0.45869624913209384\n",
      " num. neurons : 54\n",
      "  epoch 20 loss: 0.11028716684762842 corr: 0.456868622167957\n",
      " num. neurons : 54\n"
     ]
    },
    {
     "data": {
      "text/html": [
       "\n",
       "    <style>\n",
       "        .wandb-row {\n",
       "            display: flex;\n",
       "            flex-direction: row;\n",
       "            flex-wrap: wrap;\n",
       "            justify-content: flex-start;\n",
       "            width: 100%;\n",
       "        }\n",
       "        .wandb-col {\n",
       "            display: flex;\n",
       "            flex-direction: column;\n",
       "            flex-basis: 100%;\n",
       "            flex: 1;\n",
       "            padding: 10px;\n",
       "        }\n",
       "    </style>\n",
       "<div class=\"wandb-row\"><div class=\"wandb-col\"><h3>Run history:</h3><br/><table class=\"wandb\"><tr><td>corr_to_avg</td><td>▁▃▄▅▅▆▇▇▇▇▇▇████████</td></tr><tr><td>test_loss</td><td>█▇▅▄▄▃▃▃▂▂▁▂▂▁▁▂▁▁▁▁</td></tr><tr><td>train_loss</td><td>█▄▃▃▃▃▂▂▂▂▂▂▂▁▁▁▁▁▁▁</td></tr></table><br/></div><div class=\"wandb-col\"><h3>Run summary:</h3><br/><table class=\"wandb\"><tr><td>train_loss</td><td>1.76303</td></tr></table><br/></div></div>"
      ],
      "text/plain": [
       "<IPython.core.display.HTML object>"
      ]
     },
     "metadata": {},
     "output_type": "display_data"
    },
    {
     "data": {
      "text/html": [
       " View run <strong style=\"color:#cdcd00\">copper-water-99</strong> at: <a href='https://wandb.ai/et22/video-cs230/runs/4j6leivn' target=\"_blank\">https://wandb.ai/et22/video-cs230/runs/4j6leivn</a><br/> View project at: <a href='https://wandb.ai/et22/video-cs230' target=\"_blank\">https://wandb.ai/et22/video-cs230</a><br/>Synced 5 W&B file(s), 0 media file(s), 0 artifact file(s) and 0 other file(s)"
      ],
      "text/plain": [
       "<IPython.core.display.HTML object>"
      ]
     },
     "metadata": {},
     "output_type": "display_data"
    },
    {
     "data": {
      "text/html": [
       "Find logs at: <code>./wandb/run-20241130_191238-4j6leivn/logs</code>"
      ],
      "text/plain": [
       "<IPython.core.display.HTML object>"
      ]
     },
     "metadata": {},
     "output_type": "display_data"
    },
    {
     "data": {
      "text/html": [
       "Tracking run with wandb version 0.18.7"
      ],
      "text/plain": [
       "<IPython.core.display.HTML object>"
      ]
     },
     "metadata": {},
     "output_type": "display_data"
    },
    {
     "data": {
      "text/html": [
       "Run data is saved locally in <code>/src/models/cs230/wandb/run-20241130_191732-u8gvyser</code>"
      ],
      "text/plain": [
       "<IPython.core.display.HTML object>"
      ]
     },
     "metadata": {},
     "output_type": "display_data"
    },
    {
     "data": {
      "text/html": [
       "Syncing run <strong><a href='https://wandb.ai/et22/video-cs230/runs/u8gvyser' target=\"_blank\">honest-hill-100</a></strong> to <a href='https://wandb.ai/et22/video-cs230' target=\"_blank\">Weights & Biases</a> (<a href='https://wandb.me/developer-guide' target=\"_blank\">docs</a>)<br/>"
      ],
      "text/plain": [
       "<IPython.core.display.HTML object>"
      ]
     },
     "metadata": {},
     "output_type": "display_data"
    },
    {
     "data": {
      "text/html": [
       " View project at <a href='https://wandb.ai/et22/video-cs230' target=\"_blank\">https://wandb.ai/et22/video-cs230</a>"
      ],
      "text/plain": [
       "<IPython.core.display.HTML object>"
      ]
     },
     "metadata": {},
     "output_type": "display_data"
    },
    {
     "data": {
      "text/html": [
       " View run at <a href='https://wandb.ai/et22/video-cs230/runs/u8gvyser' target=\"_blank\">https://wandb.ai/et22/video-cs230/runs/u8gvyser</a>"
      ],
      "text/plain": [
       "<IPython.core.display.HTML object>"
      ]
     },
     "metadata": {},
     "output_type": "display_data"
    },
    {
     "data": {
      "text/html": [
       "\n",
       "    <style>\n",
       "        .wandb-row {\n",
       "            display: flex;\n",
       "            flex-direction: row;\n",
       "            flex-wrap: wrap;\n",
       "            justify-content: flex-start;\n",
       "            width: 100%;\n",
       "        }\n",
       "        .wandb-col {\n",
       "            display: flex;\n",
       "            flex-direction: column;\n",
       "            flex-basis: 100%;\n",
       "            flex: 1;\n",
       "            padding: 10px;\n",
       "        }\n",
       "    </style>\n",
       "<div class=\"wandb-row\"><div class=\"wandb-col\"><h3>Run history:</h3><br/><table class=\"wandb\"><tr><td>corr</td><td>▂▅▆▂▁▆▆▅▇▄▅▅▃▃█▅▄▅▆▄▄▄▅▆▄▆▆▆▃▅▂▆▁▂▃▆▁▄█▇</td></tr></table><br/></div><div class=\"wandb-col\"><h3>Run summary:</h3><br/><table class=\"wandb\"><tr><td>corr</td><td>0.58738</td></tr></table><br/></div></div>"
      ],
      "text/plain": [
       "<IPython.core.display.HTML object>"
      ]
     },
     "metadata": {},
     "output_type": "display_data"
    },
    {
     "data": {
      "text/html": [
       " View run <strong style=\"color:#cdcd00\">honest-hill-100</strong> at: <a href='https://wandb.ai/et22/video-cs230/runs/u8gvyser' target=\"_blank\">https://wandb.ai/et22/video-cs230/runs/u8gvyser</a><br/> View project at: <a href='https://wandb.ai/et22/video-cs230' target=\"_blank\">https://wandb.ai/et22/video-cs230</a><br/>Synced 5 W&B file(s), 0 media file(s), 0 artifact file(s) and 0 other file(s)"
      ],
      "text/plain": [
       "<IPython.core.display.HTML object>"
      ]
     },
     "metadata": {},
     "output_type": "display_data"
    },
    {
     "data": {
      "text/html": [
       "Find logs at: <code>./wandb/run-20241130_191732-u8gvyser/logs</code>"
      ],
      "text/plain": [
       "<IPython.core.display.HTML object>"
      ]
     },
     "metadata": {},
     "output_type": "display_data"
    },
    {
     "name": "stdout",
     "output_type": "stream",
     "text": [
      "0\n"
     ]
    },
    {
     "data": {
      "text/html": [
       "Tracking run with wandb version 0.18.7"
      ],
      "text/plain": [
       "<IPython.core.display.HTML object>"
      ]
     },
     "metadata": {},
     "output_type": "display_data"
    },
    {
     "data": {
      "text/html": [
       "Run data is saved locally in <code>/src/models/cs230/wandb/run-20241130_191734-2vfohn8z</code>"
      ],
      "text/plain": [
       "<IPython.core.display.HTML object>"
      ]
     },
     "metadata": {},
     "output_type": "display_data"
    },
    {
     "data": {
      "text/html": [
       "Syncing run <strong><a href='https://wandb.ai/et22/video-cs230/runs/2vfohn8z' target=\"_blank\">ancient-surf-101</a></strong> to <a href='https://wandb.ai/et22/video-cs230' target=\"_blank\">Weights & Biases</a> (<a href='https://wandb.me/developer-guide' target=\"_blank\">docs</a>)<br/>"
      ],
      "text/plain": [
       "<IPython.core.display.HTML object>"
      ]
     },
     "metadata": {},
     "output_type": "display_data"
    },
    {
     "data": {
      "text/html": [
       " View project at <a href='https://wandb.ai/et22/video-cs230' target=\"_blank\">https://wandb.ai/et22/video-cs230</a>"
      ],
      "text/plain": [
       "<IPython.core.display.HTML object>"
      ]
     },
     "metadata": {},
     "output_type": "display_data"
    },
    {
     "data": {
      "text/html": [
       " View run at <a href='https://wandb.ai/et22/video-cs230/runs/2vfohn8z' target=\"_blank\">https://wandb.ai/et22/video-cs230/runs/2vfohn8z</a>"
      ],
      "text/plain": [
       "<IPython.core.display.HTML object>"
      ]
     },
     "metadata": {},
     "output_type": "display_data"
    },
    {
     "name": "stdout",
     "output_type": "stream",
     "text": [
      "readout input shape: 512\n",
      "model.0.stim\n",
      "torch.Size([1, 3, 5, 32, 32])\n",
      "True\n",
      "model.0.core.stem.0.weight\n",
      "torch.Size([64, 3, 3, 7, 7])\n",
      "True\n",
      "model.0.core.stem.1.weight\n",
      "torch.Size([64])\n",
      "True\n",
      "model.0.core.stem.1.bias\n",
      "torch.Size([64])\n",
      "True\n",
      "model.0.core.layer1.0.conv1.0.weight\n",
      "torch.Size([64, 64, 3, 3, 3])\n",
      "True\n",
      "model.0.core.layer1.0.conv1.1.weight\n",
      "torch.Size([64])\n",
      "True\n",
      "model.0.core.layer1.0.conv1.1.bias\n",
      "torch.Size([64])\n",
      "True\n",
      "model.0.core.layer1.0.conv2.0.weight\n",
      "torch.Size([64, 64, 3, 3, 3])\n",
      "True\n",
      "model.0.core.layer1.0.conv2.1.weight\n",
      "torch.Size([64])\n",
      "True\n",
      "model.0.core.layer1.0.conv2.1.bias\n",
      "torch.Size([64])\n",
      "True\n",
      "model.0.core.layer1.1.conv1.0.weight\n",
      "torch.Size([64, 64, 3, 3, 3])\n",
      "True\n",
      "model.0.core.layer1.1.conv1.1.weight\n",
      "torch.Size([64])\n",
      "True\n",
      "model.0.core.layer1.1.conv1.1.bias\n",
      "torch.Size([64])\n",
      "True\n",
      "model.0.core.layer1.1.conv2.0.weight\n",
      "torch.Size([64, 64, 3, 3, 3])\n",
      "True\n",
      "model.0.core.layer1.1.conv2.1.weight\n",
      "torch.Size([64])\n",
      "True\n",
      "model.0.core.layer1.1.conv2.1.bias\n",
      "torch.Size([64])\n",
      "True\n",
      "model.0.core.layer2.0.conv1.0.weight\n",
      "torch.Size([128, 64, 3, 3, 3])\n",
      "True\n",
      "model.0.core.layer2.0.conv1.1.weight\n",
      "torch.Size([128])\n",
      "True\n",
      "model.0.core.layer2.0.conv1.1.bias\n",
      "torch.Size([128])\n",
      "True\n",
      "model.0.core.layer2.0.conv2.0.weight\n",
      "torch.Size([128, 128, 3, 3, 3])\n",
      "True\n",
      "model.0.core.layer2.0.conv2.1.weight\n",
      "torch.Size([128])\n",
      "True\n",
      "model.0.core.layer2.0.conv2.1.bias\n",
      "torch.Size([128])\n",
      "True\n",
      "model.0.core.layer2.0.downsample.0.weight\n",
      "torch.Size([128, 64, 1, 1, 1])\n",
      "True\n",
      "model.0.core.layer2.0.downsample.1.weight\n",
      "torch.Size([128])\n",
      "True\n",
      "model.0.core.layer2.0.downsample.1.bias\n",
      "torch.Size([128])\n",
      "True\n",
      "model.0.core.layer2.1.conv1.0.weight\n",
      "torch.Size([128, 128, 3, 3, 3])\n",
      "True\n",
      "model.0.core.layer2.1.conv1.1.weight\n",
      "torch.Size([128])\n",
      "True\n",
      "model.0.core.layer2.1.conv1.1.bias\n",
      "torch.Size([128])\n",
      "True\n",
      "model.0.core.layer2.1.conv2.0.weight\n",
      "torch.Size([128, 128, 3, 3, 3])\n",
      "True\n",
      "model.0.core.layer2.1.conv2.1.weight\n",
      "torch.Size([128])\n",
      "True\n",
      "model.0.core.layer2.1.conv2.1.bias\n",
      "torch.Size([128])\n",
      "True\n",
      "model.0.core.layer3.0.conv1.0.weight\n",
      "torch.Size([256, 128, 3, 3, 3])\n",
      "True\n",
      "model.0.core.layer3.0.conv1.1.weight\n",
      "torch.Size([256])\n",
      "True\n",
      "model.0.core.layer3.0.conv1.1.bias\n",
      "torch.Size([256])\n",
      "True\n",
      "model.1.mu\n",
      "torch.Size([54, 2])\n",
      "True\n",
      "model.1.sigma\n",
      "torch.Size([54])\n",
      "True\n",
      "model.1.poisson_linear.linear.weight\n",
      "torch.Size([54, 512])\n",
      "True\n",
      "model.1.poisson_linear.linear.bias\n",
      "torch.Size([54])\n",
      "True\n",
      "  epoch 1 loss: 0.11175044106848446 corr: 0.02110097565899032\n",
      " num. neurons : 54\n",
      "  epoch 2 loss: 0.10775293803509371 corr: 0.07760838562111119\n",
      " num. neurons : 54\n",
      "  epoch 3 loss: 0.10638302402731813 corr: 0.17924784764834772\n",
      " num. neurons : 54\n",
      "  epoch 4 loss: 0.10482899848325752 corr: 0.2020275855913235\n",
      " num. neurons : 54\n",
      "  epoch 5 loss: 0.10259578451698209 corr: 0.263176654804053\n",
      " num. neurons : 54\n",
      "  epoch 6 loss: 0.09983564959632026 corr: 0.26279782182118805\n",
      " num. neurons : 54\n",
      "  epoch 7 loss: 0.09672743991569237 corr: 0.2620491348890019\n",
      " num. neurons : 54\n",
      "  epoch 8 loss: 0.09315928665208228 corr: 0.28719933349628834\n",
      " num. neurons : 54\n",
      "  epoch 9 loss: 0.08957120765874416 corr: 0.2857916761111983\n",
      " num. neurons : 54\n",
      "  epoch 10 loss: 0.08582014837382752 corr: 0.3376835932269233\n",
      " num. neurons : 54\n",
      "  epoch 11 loss: 0.082008219530553 corr: 0.3257624432906161\n",
      " num. neurons : 54\n",
      "  epoch 12 loss: 0.07847045139030175 corr: 0.3003663841503683\n",
      " num. neurons : 54\n",
      "  epoch 13 loss: 0.07500012515503683 corr: 0.30223269773119127\n",
      " num. neurons : 54\n",
      "  epoch 14 loss: 0.07184951688036506 corr: 0.3012463338366241\n",
      " num. neurons : 54\n",
      "  epoch 15 loss: 0.06916656541235652 corr: 0.2928640589641925\n",
      " num. neurons : 54\n",
      "  epoch 16 loss: 0.06694937164400831 corr: 0.2810289597598501\n",
      " num. neurons : 54\n",
      "  epoch 17 loss: 0.06512950891329919 corr: 0.2951722119475261\n",
      " num. neurons : 54\n",
      "  epoch 18 loss: 0.063777770790053 corr: 0.2611222010113765\n",
      " num. neurons : 54\n",
      "  epoch 19 loss: 0.06258555521199732 corr: 0.2742555680534493\n",
      " num. neurons : 54\n",
      "  epoch 20 loss: 0.061646013495362834 corr: 0.2508144793694895\n",
      " num. neurons : 54\n"
     ]
    },
    {
     "data": {
      "text/html": [
       "\n",
       "    <style>\n",
       "        .wandb-row {\n",
       "            display: flex;\n",
       "            flex-direction: row;\n",
       "            flex-wrap: wrap;\n",
       "            justify-content: flex-start;\n",
       "            width: 100%;\n",
       "        }\n",
       "        .wandb-col {\n",
       "            display: flex;\n",
       "            flex-direction: column;\n",
       "            flex-basis: 100%;\n",
       "            flex: 1;\n",
       "            padding: 10px;\n",
       "        }\n",
       "    </style>\n",
       "<div class=\"wandb-row\"><div class=\"wandb-col\"><h3>Run history:</h3><br/><table class=\"wandb\"><tr><td>corr_to_avg</td><td>▁▂▄▅▆▆▆▇▇██▇▇▇▇▇▇▆▇▆</td></tr><tr><td>test_loss</td><td>▃▃▂▂▂▂▁▂▁▁▁▃▄▄▄▅▆▇▇█</td></tr><tr><td>train_loss</td><td>█▇▇▇▇▆▆▅▅▄▄▃▃▂▂▂▁▁▁▁</td></tr></table><br/></div><div class=\"wandb-col\"><h3>Run summary:</h3><br/><table class=\"wandb\"><tr><td>train_loss</td><td>0.98294</td></tr></table><br/></div></div>"
      ],
      "text/plain": [
       "<IPython.core.display.HTML object>"
      ]
     },
     "metadata": {},
     "output_type": "display_data"
    },
    {
     "data": {
      "text/html": [
       " View run <strong style=\"color:#cdcd00\">ancient-surf-101</strong> at: <a href='https://wandb.ai/et22/video-cs230/runs/2vfohn8z' target=\"_blank\">https://wandb.ai/et22/video-cs230/runs/2vfohn8z</a><br/> View project at: <a href='https://wandb.ai/et22/video-cs230' target=\"_blank\">https://wandb.ai/et22/video-cs230</a><br/>Synced 5 W&B file(s), 0 media file(s), 0 artifact file(s) and 0 other file(s)"
      ],
      "text/plain": [
       "<IPython.core.display.HTML object>"
      ]
     },
     "metadata": {},
     "output_type": "display_data"
    },
    {
     "data": {
      "text/html": [
       "Find logs at: <code>./wandb/run-20241130_191734-2vfohn8z/logs</code>"
      ],
      "text/plain": [
       "<IPython.core.display.HTML object>"
      ]
     },
     "metadata": {},
     "output_type": "display_data"
    },
    {
     "data": {
      "text/html": [
       "Tracking run with wandb version 0.18.7"
      ],
      "text/plain": [
       "<IPython.core.display.HTML object>"
      ]
     },
     "metadata": {},
     "output_type": "display_data"
    },
    {
     "data": {
      "text/html": [
       "Run data is saved locally in <code>/src/models/cs230/wandb/run-20241130_192147-62wozh2d</code>"
      ],
      "text/plain": [
       "<IPython.core.display.HTML object>"
      ]
     },
     "metadata": {},
     "output_type": "display_data"
    },
    {
     "data": {
      "text/html": [
       "Syncing run <strong><a href='https://wandb.ai/et22/video-cs230/runs/62wozh2d' target=\"_blank\">swept-totem-102</a></strong> to <a href='https://wandb.ai/et22/video-cs230' target=\"_blank\">Weights & Biases</a> (<a href='https://wandb.me/developer-guide' target=\"_blank\">docs</a>)<br/>"
      ],
      "text/plain": [
       "<IPython.core.display.HTML object>"
      ]
     },
     "metadata": {},
     "output_type": "display_data"
    },
    {
     "data": {
      "text/html": [
       " View project at <a href='https://wandb.ai/et22/video-cs230' target=\"_blank\">https://wandb.ai/et22/video-cs230</a>"
      ],
      "text/plain": [
       "<IPython.core.display.HTML object>"
      ]
     },
     "metadata": {},
     "output_type": "display_data"
    },
    {
     "data": {
      "text/html": [
       " View run at <a href='https://wandb.ai/et22/video-cs230/runs/62wozh2d' target=\"_blank\">https://wandb.ai/et22/video-cs230/runs/62wozh2d</a>"
      ],
      "text/plain": [
       "<IPython.core.display.HTML object>"
      ]
     },
     "metadata": {},
     "output_type": "display_data"
    },
    {
     "name": "stdout",
     "output_type": "stream",
     "text": [
      "readout input shape: 512\n",
      "model.0.stim\n",
      "torch.Size([1, 3, 5, 32, 32])\n",
      "True\n",
      "model.0.core.stem.0.weight\n",
      "torch.Size([64, 3, 3, 7, 7])\n",
      "True\n",
      "model.0.core.stem.1.weight\n",
      "torch.Size([64])\n",
      "True\n",
      "model.0.core.stem.1.bias\n",
      "torch.Size([64])\n",
      "True\n",
      "model.0.core.layer1.0.conv1.0.weight\n",
      "torch.Size([64, 64, 3, 3, 3])\n",
      "True\n",
      "model.0.core.layer1.0.conv1.1.weight\n",
      "torch.Size([64])\n",
      "True\n",
      "model.0.core.layer1.0.conv1.1.bias\n",
      "torch.Size([64])\n",
      "True\n",
      "model.0.core.layer1.0.conv2.0.weight\n",
      "torch.Size([64, 64, 3, 3, 3])\n",
      "True\n",
      "model.0.core.layer1.0.conv2.1.weight\n",
      "torch.Size([64])\n",
      "True\n",
      "model.0.core.layer1.0.conv2.1.bias\n",
      "torch.Size([64])\n",
      "True\n",
      "model.0.core.layer1.1.conv1.0.weight\n",
      "torch.Size([64, 64, 3, 3, 3])\n",
      "True\n",
      "model.0.core.layer1.1.conv1.1.weight\n",
      "torch.Size([64])\n",
      "True\n",
      "model.0.core.layer1.1.conv1.1.bias\n",
      "torch.Size([64])\n",
      "True\n",
      "model.0.core.layer1.1.conv2.0.weight\n",
      "torch.Size([64, 64, 3, 3, 3])\n",
      "True\n",
      "model.0.core.layer1.1.conv2.1.weight\n",
      "torch.Size([64])\n",
      "True\n",
      "model.0.core.layer1.1.conv2.1.bias\n",
      "torch.Size([64])\n",
      "True\n",
      "model.0.core.layer2.0.conv1.0.weight\n",
      "torch.Size([128, 64, 3, 3, 3])\n",
      "True\n",
      "model.0.core.layer2.0.conv1.1.weight\n",
      "torch.Size([128])\n",
      "True\n",
      "model.0.core.layer2.0.conv1.1.bias\n",
      "torch.Size([128])\n",
      "True\n",
      "model.0.core.layer2.0.conv2.0.weight\n",
      "torch.Size([128, 128, 3, 3, 3])\n",
      "True\n",
      "model.0.core.layer2.0.conv2.1.weight\n",
      "torch.Size([128])\n",
      "True\n",
      "model.0.core.layer2.0.conv2.1.bias\n",
      "torch.Size([128])\n",
      "True\n",
      "model.0.core.layer2.0.downsample.0.weight\n",
      "torch.Size([128, 64, 1, 1, 1])\n",
      "True\n",
      "model.0.core.layer2.0.downsample.1.weight\n",
      "torch.Size([128])\n",
      "True\n",
      "model.0.core.layer2.0.downsample.1.bias\n",
      "torch.Size([128])\n",
      "True\n",
      "model.0.core.layer2.1.conv1.0.weight\n",
      "torch.Size([128, 128, 3, 3, 3])\n",
      "True\n",
      "model.0.core.layer2.1.conv1.1.weight\n",
      "torch.Size([128])\n",
      "True\n",
      "model.0.core.layer2.1.conv1.1.bias\n",
      "torch.Size([128])\n",
      "True\n",
      "model.0.core.layer2.1.conv2.0.weight\n",
      "torch.Size([128, 128, 3, 3, 3])\n",
      "True\n",
      "model.0.core.layer2.1.conv2.1.weight\n",
      "torch.Size([128])\n",
      "True\n",
      "model.0.core.layer2.1.conv2.1.bias\n",
      "torch.Size([128])\n",
      "True\n",
      "model.0.core.layer3.0.conv1.0.weight\n",
      "torch.Size([256, 128, 3, 3, 3])\n",
      "True\n",
      "model.0.core.layer3.0.conv1.1.weight\n",
      "torch.Size([256])\n",
      "True\n",
      "model.0.core.layer3.0.conv1.1.bias\n",
      "torch.Size([256])\n",
      "True\n",
      "model.1.mu\n",
      "torch.Size([95, 2])\n",
      "True\n",
      "model.1.sigma\n",
      "torch.Size([95])\n",
      "True\n",
      "model.1.poisson_linear.linear.weight\n",
      "torch.Size([95, 512])\n",
      "True\n",
      "model.1.poisson_linear.linear.bias\n",
      "torch.Size([95])\n",
      "True\n",
      "  epoch 1 loss: 0.10686935567106876 corr: 0.04281184527649543\n",
      " num. neurons : 95\n",
      "  epoch 2 loss: 0.10326558101863761 corr: 0.06942778999848057\n",
      " num. neurons : 95\n",
      "  epoch 3 loss: 0.10194191807851742 corr: 0.18420894002594732\n",
      " num. neurons : 95\n",
      "  epoch 4 loss: 0.10035914170180316 corr: 0.16711088700465418\n",
      " num. neurons : 95\n",
      "  epoch 5 loss: 0.09843176590834612 corr: 0.2175380309282793\n",
      " num. neurons : 95\n",
      "  epoch 6 loss: 0.09576630442554414 corr: 0.283277841998847\n",
      " num. neurons : 95\n",
      "  epoch 7 loss: 0.0932137686544688 corr: 0.3143141598169893\n",
      " num. neurons : 95\n",
      "  epoch 8 loss: 0.09053397621783911 corr: 0.3493465354177813\n",
      " num. neurons : 95\n",
      "  epoch 9 loss: 0.08783044577893162 corr: 0.3226740394233135\n",
      " num. neurons : 95\n",
      "  epoch 10 loss: 0.08482916305202465 corr: 0.3576302321629668\n",
      " num. neurons : 95\n",
      "  epoch 11 loss: 0.0817652880833411 corr: 0.3521881787551205\n",
      " num. neurons : 95\n",
      "  epoch 12 loss: 0.07853096286663834 corr: 0.3394202050777957\n",
      " num. neurons : 95\n",
      "  epoch 13 loss: 0.0755323584167121 corr: 0.3536681924203859\n",
      " num. neurons : 95\n",
      "  epoch 14 loss: 0.07257437431375394 corr: 0.3053636534131819\n",
      " num. neurons : 95\n",
      "  epoch 15 loss: 0.06975544784705677 corr: 0.27711884896315353\n",
      " num. neurons : 95\n",
      "  epoch 16 loss: 0.06681969715038519 corr: 0.28940616663685115\n",
      " num. neurons : 95\n",
      "  epoch 17 loss: 0.06427399310141958 corr: 0.2524973903895772\n",
      " num. neurons : 95\n",
      "  epoch 18 loss: 0.0622779444562203 corr: 0.2775998469651045\n",
      " num. neurons : 95\n",
      "  epoch 19 loss: 0.0604438550809291 corr: 0.2521452801097937\n",
      " num. neurons : 95\n",
      "  epoch 20 loss: 0.05904948318191848 corr: 0.23372402165702222\n",
      " num. neurons : 95\n"
     ]
    },
    {
     "data": {
      "text/html": [
       "\n",
       "    <style>\n",
       "        .wandb-row {\n",
       "            display: flex;\n",
       "            flex-direction: row;\n",
       "            flex-wrap: wrap;\n",
       "            justify-content: flex-start;\n",
       "            width: 100%;\n",
       "        }\n",
       "        .wandb-col {\n",
       "            display: flex;\n",
       "            flex-direction: column;\n",
       "            flex-basis: 100%;\n",
       "            flex: 1;\n",
       "            padding: 10px;\n",
       "        }\n",
       "    </style>\n",
       "<div class=\"wandb-row\"><div class=\"wandb-col\"><h3>Run history:</h3><br/><table class=\"wandb\"><tr><td>corr_to_avg</td><td>▁▂▄▄▅▆▇█▇████▇▆▆▆▆▆▅</td></tr><tr><td>test_loss</td><td>▃▂▂▂▂▁▁▁▁▁▁▁▂▃▄▄▆▇▇█</td></tr><tr><td>train_loss</td><td>█▇▇▇▇▆▆▆▅▅▄▄▃▃▃▂▂▁▁▁</td></tr></table><br/></div><div class=\"wandb-col\"><h3>Run summary:</h3><br/><table class=\"wandb\"><tr><td>train_loss</td><td>0.93987</td></tr></table><br/></div></div>"
      ],
      "text/plain": [
       "<IPython.core.display.HTML object>"
      ]
     },
     "metadata": {},
     "output_type": "display_data"
    },
    {
     "data": {
      "text/html": [
       " View run <strong style=\"color:#cdcd00\">swept-totem-102</strong> at: <a href='https://wandb.ai/et22/video-cs230/runs/62wozh2d' target=\"_blank\">https://wandb.ai/et22/video-cs230/runs/62wozh2d</a><br/> View project at: <a href='https://wandb.ai/et22/video-cs230' target=\"_blank\">https://wandb.ai/et22/video-cs230</a><br/>Synced 5 W&B file(s), 0 media file(s), 0 artifact file(s) and 0 other file(s)"
      ],
      "text/plain": [
       "<IPython.core.display.HTML object>"
      ]
     },
     "metadata": {},
     "output_type": "display_data"
    },
    {
     "data": {
      "text/html": [
       "Find logs at: <code>./wandb/run-20241130_192147-62wozh2d/logs</code>"
      ],
      "text/plain": [
       "<IPython.core.display.HTML object>"
      ]
     },
     "metadata": {},
     "output_type": "display_data"
    },
    {
     "data": {
      "text/html": [
       "Tracking run with wandb version 0.18.7"
      ],
      "text/plain": [
       "<IPython.core.display.HTML object>"
      ]
     },
     "metadata": {},
     "output_type": "display_data"
    },
    {
     "data": {
      "text/html": [
       "Run data is saved locally in <code>/src/models/cs230/wandb/run-20241130_192555-ji70f1zj</code>"
      ],
      "text/plain": [
       "<IPython.core.display.HTML object>"
      ]
     },
     "metadata": {},
     "output_type": "display_data"
    },
    {
     "data": {
      "text/html": [
       "Syncing run <strong><a href='https://wandb.ai/et22/video-cs230/runs/ji70f1zj' target=\"_blank\">electric-flower-103</a></strong> to <a href='https://wandb.ai/et22/video-cs230' target=\"_blank\">Weights & Biases</a> (<a href='https://wandb.me/developer-guide' target=\"_blank\">docs</a>)<br/>"
      ],
      "text/plain": [
       "<IPython.core.display.HTML object>"
      ]
     },
     "metadata": {},
     "output_type": "display_data"
    },
    {
     "data": {
      "text/html": [
       " View project at <a href='https://wandb.ai/et22/video-cs230' target=\"_blank\">https://wandb.ai/et22/video-cs230</a>"
      ],
      "text/plain": [
       "<IPython.core.display.HTML object>"
      ]
     },
     "metadata": {},
     "output_type": "display_data"
    },
    {
     "data": {
      "text/html": [
       " View run at <a href='https://wandb.ai/et22/video-cs230/runs/ji70f1zj' target=\"_blank\">https://wandb.ai/et22/video-cs230/runs/ji70f1zj</a>"
      ],
      "text/plain": [
       "<IPython.core.display.HTML object>"
      ]
     },
     "metadata": {},
     "output_type": "display_data"
    },
    {
     "name": "stdout",
     "output_type": "stream",
     "text": [
      "readout input shape: 512\n",
      "model.0.stim\n",
      "torch.Size([1, 3, 5, 32, 32])\n",
      "True\n",
      "model.0.core.stem.0.weight\n",
      "torch.Size([64, 3, 3, 7, 7])\n",
      "True\n",
      "model.0.core.stem.1.weight\n",
      "torch.Size([64])\n",
      "True\n",
      "model.0.core.stem.1.bias\n",
      "torch.Size([64])\n",
      "True\n",
      "model.0.core.layer1.0.conv1.0.weight\n",
      "torch.Size([64, 64, 3, 3, 3])\n",
      "True\n",
      "model.0.core.layer1.0.conv1.1.weight\n",
      "torch.Size([64])\n",
      "True\n",
      "model.0.core.layer1.0.conv1.1.bias\n",
      "torch.Size([64])\n",
      "True\n",
      "model.0.core.layer1.0.conv2.0.weight\n",
      "torch.Size([64, 64, 3, 3, 3])\n",
      "True\n",
      "model.0.core.layer1.0.conv2.1.weight\n",
      "torch.Size([64])\n",
      "True\n",
      "model.0.core.layer1.0.conv2.1.bias\n",
      "torch.Size([64])\n",
      "True\n",
      "model.0.core.layer1.1.conv1.0.weight\n",
      "torch.Size([64, 64, 3, 3, 3])\n",
      "True\n",
      "model.0.core.layer1.1.conv1.1.weight\n",
      "torch.Size([64])\n",
      "True\n",
      "model.0.core.layer1.1.conv1.1.bias\n",
      "torch.Size([64])\n",
      "True\n",
      "model.0.core.layer1.1.conv2.0.weight\n",
      "torch.Size([64, 64, 3, 3, 3])\n",
      "True\n",
      "model.0.core.layer1.1.conv2.1.weight\n",
      "torch.Size([64])\n",
      "True\n",
      "model.0.core.layer1.1.conv2.1.bias\n",
      "torch.Size([64])\n",
      "True\n",
      "model.0.core.layer2.0.conv1.0.weight\n",
      "torch.Size([128, 64, 3, 3, 3])\n",
      "True\n",
      "model.0.core.layer2.0.conv1.1.weight\n",
      "torch.Size([128])\n",
      "True\n",
      "model.0.core.layer2.0.conv1.1.bias\n",
      "torch.Size([128])\n",
      "True\n",
      "model.0.core.layer2.0.conv2.0.weight\n",
      "torch.Size([128, 128, 3, 3, 3])\n",
      "True\n",
      "model.0.core.layer2.0.conv2.1.weight\n",
      "torch.Size([128])\n",
      "True\n",
      "model.0.core.layer2.0.conv2.1.bias\n",
      "torch.Size([128])\n",
      "True\n",
      "model.0.core.layer2.0.downsample.0.weight\n",
      "torch.Size([128, 64, 1, 1, 1])\n",
      "True\n",
      "model.0.core.layer2.0.downsample.1.weight\n",
      "torch.Size([128])\n",
      "True\n",
      "model.0.core.layer2.0.downsample.1.bias\n",
      "torch.Size([128])\n",
      "True\n",
      "model.0.core.layer2.1.conv1.0.weight\n",
      "torch.Size([128, 128, 3, 3, 3])\n",
      "True\n",
      "model.0.core.layer2.1.conv1.1.weight\n",
      "torch.Size([128])\n",
      "True\n",
      "model.0.core.layer2.1.conv1.1.bias\n",
      "torch.Size([128])\n",
      "True\n",
      "model.0.core.layer2.1.conv2.0.weight\n",
      "torch.Size([128, 128, 3, 3, 3])\n",
      "True\n",
      "model.0.core.layer2.1.conv2.1.weight\n",
      "torch.Size([128])\n",
      "True\n",
      "model.0.core.layer2.1.conv2.1.bias\n",
      "torch.Size([128])\n",
      "True\n",
      "model.0.core.layer3.0.conv1.0.weight\n",
      "torch.Size([256, 128, 3, 3, 3])\n",
      "True\n",
      "model.0.core.layer3.0.conv1.1.weight\n",
      "torch.Size([256])\n",
      "True\n",
      "model.0.core.layer3.0.conv1.1.bias\n",
      "torch.Size([256])\n",
      "True\n",
      "model.1.mu\n",
      "torch.Size([54, 2])\n",
      "True\n",
      "model.1.sigma\n",
      "torch.Size([54])\n",
      "True\n",
      "model.1.poisson_linear.linear.weight\n",
      "torch.Size([54, 512])\n",
      "True\n",
      "model.1.poisson_linear.linear.bias\n",
      "torch.Size([54])\n",
      "True\n",
      "  epoch 1 loss: 0.12119187891959297 corr: 0.10543245039462698\n",
      " num. neurons : 54\n",
      "  epoch 2 loss: 0.11618350825694777 corr: 0.16308010742577247\n",
      " num. neurons : 54\n",
      "  epoch 3 loss: 0.11497917297992859 corr: 0.07342631604956502\n",
      " num. neurons : 54\n",
      "  epoch 4 loss: 0.1138193962208021 corr: 0.10433145934152054\n",
      " num. neurons : 54\n",
      "  epoch 5 loss: 0.1122385958918662 corr: 0.1995558032983097\n",
      " num. neurons : 54\n",
      "  epoch 6 loss: 0.11020274250086368 corr: 0.23736763732262492\n",
      " num. neurons : 54\n",
      "  epoch 7 loss: 0.10788147102548892 corr: 0.3066863369733084\n",
      " num. neurons : 54\n",
      "  epoch 8 loss: 0.10518144196710866 corr: 0.3289159348905756\n",
      " num. neurons : 54\n",
      "  epoch 9 loss: 0.10171968173219127 corr: 0.34367814666974106\n",
      " num. neurons : 54\n",
      "  epoch 10 loss: 0.09827469520687317 corr: 0.3319218907851615\n",
      " num. neurons : 54\n",
      "  epoch 11 loss: 0.09419330814398805 corr: 0.32238633441343\n",
      " num. neurons : 54\n",
      "  epoch 12 loss: 0.08988799790735254 corr: 0.31982534830746373\n",
      " num. neurons : 54\n",
      "  epoch 13 loss: 0.08545414113109896 corr: 0.2934286549661936\n",
      " num. neurons : 54\n",
      "  epoch 14 loss: 0.08156141879395669 corr: 0.28254593053101107\n",
      " num. neurons : 54\n",
      "  epoch 15 loss: 0.07779001459783437 corr: 0.26384672332793485\n",
      " num. neurons : 54\n",
      "  epoch 16 loss: 0.07451811218642511 corr: 0.2597327537529391\n",
      " num. neurons : 54\n",
      "  epoch 17 loss: 0.07232721172398768 corr: 0.2661702836165263\n",
      " num. neurons : 54\n",
      "  epoch 18 loss: 0.0703780681238623 corr: 0.24900027494317506\n",
      " num. neurons : 54\n",
      "  epoch 19 loss: 0.06875185183222143 corr: 0.27823111892586333\n",
      " num. neurons : 54\n",
      "  epoch 20 loss: 0.06783606557583745 corr: 0.26678802895884923\n",
      " num. neurons : 54\n"
     ]
    },
    {
     "data": {
      "text/html": [
       "\n",
       "    <style>\n",
       "        .wandb-row {\n",
       "            display: flex;\n",
       "            flex-direction: row;\n",
       "            flex-wrap: wrap;\n",
       "            justify-content: flex-start;\n",
       "            width: 100%;\n",
       "        }\n",
       "        .wandb-col {\n",
       "            display: flex;\n",
       "            flex-direction: column;\n",
       "            flex-basis: 100%;\n",
       "            flex: 1;\n",
       "            padding: 10px;\n",
       "        }\n",
       "    </style>\n",
       "<div class=\"wandb-row\"><div class=\"wandb-col\"><h3>Run history:</h3><br/><table class=\"wandb\"><tr><td>corr_to_avg</td><td>▂▃▁▂▄▅▇███▇▇▇▆▆▆▆▆▆▆</td></tr><tr><td>test_loss</td><td>▃▃▃▂▂▁▂▁▂▁▁▂▃▃▅▆▇███</td></tr><tr><td>train_loss</td><td>█▇▇▇▇▇▆▆▅▅▄▄▃▃▂▂▂▁▁▁</td></tr></table><br/></div><div class=\"wandb-col\"><h3>Run summary:</h3><br/><table class=\"wandb\"><tr><td>train_loss</td><td>1.08441</td></tr></table><br/></div></div>"
      ],
      "text/plain": [
       "<IPython.core.display.HTML object>"
      ]
     },
     "metadata": {},
     "output_type": "display_data"
    },
    {
     "data": {
      "text/html": [
       " View run <strong style=\"color:#cdcd00\">electric-flower-103</strong> at: <a href='https://wandb.ai/et22/video-cs230/runs/ji70f1zj' target=\"_blank\">https://wandb.ai/et22/video-cs230/runs/ji70f1zj</a><br/> View project at: <a href='https://wandb.ai/et22/video-cs230' target=\"_blank\">https://wandb.ai/et22/video-cs230</a><br/>Synced 5 W&B file(s), 0 media file(s), 0 artifact file(s) and 0 other file(s)"
      ],
      "text/plain": [
       "<IPython.core.display.HTML object>"
      ]
     },
     "metadata": {},
     "output_type": "display_data"
    },
    {
     "data": {
      "text/html": [
       "Find logs at: <code>./wandb/run-20241130_192555-ji70f1zj/logs</code>"
      ],
      "text/plain": [
       "<IPython.core.display.HTML object>"
      ]
     },
     "metadata": {},
     "output_type": "display_data"
    },
    {
     "data": {
      "text/html": [
       "Tracking run with wandb version 0.18.7"
      ],
      "text/plain": [
       "<IPython.core.display.HTML object>"
      ]
     },
     "metadata": {},
     "output_type": "display_data"
    },
    {
     "data": {
      "text/html": [
       "Run data is saved locally in <code>/src/models/cs230/wandb/run-20241130_193049-bocmlz7c</code>"
      ],
      "text/plain": [
       "<IPython.core.display.HTML object>"
      ]
     },
     "metadata": {},
     "output_type": "display_data"
    },
    {
     "data": {
      "text/html": [
       "Syncing run <strong><a href='https://wandb.ai/et22/video-cs230/runs/bocmlz7c' target=\"_blank\">blooming-fire-104</a></strong> to <a href='https://wandb.ai/et22/video-cs230' target=\"_blank\">Weights & Biases</a> (<a href='https://wandb.me/developer-guide' target=\"_blank\">docs</a>)<br/>"
      ],
      "text/plain": [
       "<IPython.core.display.HTML object>"
      ]
     },
     "metadata": {},
     "output_type": "display_data"
    },
    {
     "data": {
      "text/html": [
       " View project at <a href='https://wandb.ai/et22/video-cs230' target=\"_blank\">https://wandb.ai/et22/video-cs230</a>"
      ],
      "text/plain": [
       "<IPython.core.display.HTML object>"
      ]
     },
     "metadata": {},
     "output_type": "display_data"
    },
    {
     "data": {
      "text/html": [
       " View run at <a href='https://wandb.ai/et22/video-cs230/runs/bocmlz7c' target=\"_blank\">https://wandb.ai/et22/video-cs230/runs/bocmlz7c</a>"
      ],
      "text/plain": [
       "<IPython.core.display.HTML object>"
      ]
     },
     "metadata": {},
     "output_type": "display_data"
    },
    {
     "data": {
      "text/html": [
       "\n",
       "    <style>\n",
       "        .wandb-row {\n",
       "            display: flex;\n",
       "            flex-direction: row;\n",
       "            flex-wrap: wrap;\n",
       "            justify-content: flex-start;\n",
       "            width: 100%;\n",
       "        }\n",
       "        .wandb-col {\n",
       "            display: flex;\n",
       "            flex-direction: column;\n",
       "            flex-basis: 100%;\n",
       "            flex: 1;\n",
       "            padding: 10px;\n",
       "        }\n",
       "    </style>\n",
       "<div class=\"wandb-row\"><div class=\"wandb-col\"><h3>Run history:</h3><br/><table class=\"wandb\"><tr><td>corr</td><td>▃▇▆▆▇▃▇▅▅▄▇▅▅▆▁▄▅▅▃▅▅▇▄▄▆█▇█▆▄█▃▆▅▅▅▃▄▄▅</td></tr></table><br/></div><div class=\"wandb-col\"><h3>Run summary:</h3><br/><table class=\"wandb\"><tr><td>corr</td><td>0.41376</td></tr></table><br/></div></div>"
      ],
      "text/plain": [
       "<IPython.core.display.HTML object>"
      ]
     },
     "metadata": {},
     "output_type": "display_data"
    },
    {
     "data": {
      "text/html": [
       " View run <strong style=\"color:#cdcd00\">blooming-fire-104</strong> at: <a href='https://wandb.ai/et22/video-cs230/runs/bocmlz7c' target=\"_blank\">https://wandb.ai/et22/video-cs230/runs/bocmlz7c</a><br/> View project at: <a href='https://wandb.ai/et22/video-cs230' target=\"_blank\">https://wandb.ai/et22/video-cs230</a><br/>Synced 5 W&B file(s), 0 media file(s), 0 artifact file(s) and 0 other file(s)"
      ],
      "text/plain": [
       "<IPython.core.display.HTML object>"
      ]
     },
     "metadata": {},
     "output_type": "display_data"
    },
    {
     "data": {
      "text/html": [
       "Find logs at: <code>./wandb/run-20241130_193049-bocmlz7c/logs</code>"
      ],
      "text/plain": [
       "<IPython.core.display.HTML object>"
      ]
     },
     "metadata": {},
     "output_type": "display_data"
    },
    {
     "name": "stdout",
     "output_type": "stream",
     "text": [
      "0\n"
     ]
    },
    {
     "data": {
      "text/html": [
       "Tracking run with wandb version 0.18.7"
      ],
      "text/plain": [
       "<IPython.core.display.HTML object>"
      ]
     },
     "metadata": {},
     "output_type": "display_data"
    },
    {
     "data": {
      "text/html": [
       "Run data is saved locally in <code>/src/models/cs230/wandb/run-20241130_193052-r6j6uq3c</code>"
      ],
      "text/plain": [
       "<IPython.core.display.HTML object>"
      ]
     },
     "metadata": {},
     "output_type": "display_data"
    },
    {
     "data": {
      "text/html": [
       "Syncing run <strong><a href='https://wandb.ai/et22/video-cs230/runs/r6j6uq3c' target=\"_blank\">celestial-sponge-105</a></strong> to <a href='https://wandb.ai/et22/video-cs230' target=\"_blank\">Weights & Biases</a> (<a href='https://wandb.me/developer-guide' target=\"_blank\">docs</a>)<br/>"
      ],
      "text/plain": [
       "<IPython.core.display.HTML object>"
      ]
     },
     "metadata": {},
     "output_type": "display_data"
    },
    {
     "data": {
      "text/html": [
       " View project at <a href='https://wandb.ai/et22/video-cs230' target=\"_blank\">https://wandb.ai/et22/video-cs230</a>"
      ],
      "text/plain": [
       "<IPython.core.display.HTML object>"
      ]
     },
     "metadata": {},
     "output_type": "display_data"
    },
    {
     "data": {
      "text/html": [
       " View run at <a href='https://wandb.ai/et22/video-cs230/runs/r6j6uq3c' target=\"_blank\">https://wandb.ai/et22/video-cs230/runs/r6j6uq3c</a>"
      ],
      "text/plain": [
       "<IPython.core.display.HTML object>"
      ]
     },
     "metadata": {},
     "output_type": "display_data"
    },
    {
     "name": "stdout",
     "output_type": "stream",
     "text": [
      "readout input shape: 512\n",
      "model.0.stim\n",
      "torch.Size([1, 3, 5, 32, 32])\n",
      "True\n",
      "model.0.core.stem.0.weight\n",
      "torch.Size([64, 3, 3, 7, 7])\n",
      "True\n",
      "model.0.core.stem.1.weight\n",
      "torch.Size([64])\n",
      "True\n",
      "model.0.core.stem.1.bias\n",
      "torch.Size([64])\n",
      "True\n",
      "model.0.core.layer1.0.conv1.0.weight\n",
      "torch.Size([64, 64, 3, 3, 3])\n",
      "True\n",
      "model.0.core.layer1.0.conv1.1.weight\n",
      "torch.Size([64])\n",
      "True\n",
      "model.0.core.layer1.0.conv1.1.bias\n",
      "torch.Size([64])\n",
      "True\n",
      "model.0.core.layer1.0.conv2.0.weight\n",
      "torch.Size([64, 64, 3, 3, 3])\n",
      "True\n",
      "model.0.core.layer1.0.conv2.1.weight\n",
      "torch.Size([64])\n",
      "True\n",
      "model.0.core.layer1.0.conv2.1.bias\n",
      "torch.Size([64])\n",
      "True\n",
      "model.0.core.layer1.1.conv1.0.weight\n",
      "torch.Size([64, 64, 3, 3, 3])\n",
      "True\n",
      "model.0.core.layer1.1.conv1.1.weight\n",
      "torch.Size([64])\n",
      "True\n",
      "model.0.core.layer1.1.conv1.1.bias\n",
      "torch.Size([64])\n",
      "True\n",
      "model.0.core.layer1.1.conv2.0.weight\n",
      "torch.Size([64, 64, 3, 3, 3])\n",
      "True\n",
      "model.0.core.layer1.1.conv2.1.weight\n",
      "torch.Size([64])\n",
      "True\n",
      "model.0.core.layer1.1.conv2.1.bias\n",
      "torch.Size([64])\n",
      "True\n",
      "model.0.core.layer2.0.conv1.0.weight\n",
      "torch.Size([128, 64, 3, 3, 3])\n",
      "True\n",
      "model.0.core.layer2.0.conv1.1.weight\n",
      "torch.Size([128])\n",
      "True\n",
      "model.0.core.layer2.0.conv1.1.bias\n",
      "torch.Size([128])\n",
      "True\n",
      "model.0.core.layer2.0.conv2.0.weight\n",
      "torch.Size([128, 128, 3, 3, 3])\n",
      "True\n",
      "model.0.core.layer2.0.conv2.1.weight\n",
      "torch.Size([128])\n",
      "True\n",
      "model.0.core.layer2.0.conv2.1.bias\n",
      "torch.Size([128])\n",
      "True\n",
      "model.0.core.layer2.0.downsample.0.weight\n",
      "torch.Size([128, 64, 1, 1, 1])\n",
      "True\n",
      "model.0.core.layer2.0.downsample.1.weight\n",
      "torch.Size([128])\n",
      "True\n",
      "model.0.core.layer2.0.downsample.1.bias\n",
      "torch.Size([128])\n",
      "True\n",
      "model.0.core.layer2.1.conv1.0.weight\n",
      "torch.Size([128, 128, 3, 3, 3])\n",
      "True\n",
      "model.0.core.layer2.1.conv1.1.weight\n",
      "torch.Size([128])\n",
      "True\n",
      "model.0.core.layer2.1.conv1.1.bias\n",
      "torch.Size([128])\n",
      "True\n",
      "model.0.core.layer2.1.conv2.0.weight\n",
      "torch.Size([128, 128, 3, 3, 3])\n",
      "True\n",
      "model.0.core.layer2.1.conv2.1.weight\n",
      "torch.Size([128])\n",
      "True\n",
      "model.0.core.layer2.1.conv2.1.bias\n",
      "torch.Size([128])\n",
      "True\n",
      "model.0.core.layer3.0.conv1.0.weight\n",
      "torch.Size([256, 128, 3, 3, 3])\n",
      "True\n",
      "model.0.core.layer3.0.conv1.1.weight\n",
      "torch.Size([256])\n",
      "True\n",
      "model.0.core.layer3.0.conv1.1.bias\n",
      "torch.Size([256])\n",
      "True\n",
      "model.1.mu\n",
      "torch.Size([54, 2])\n",
      "True\n",
      "model.1.sigma\n",
      "torch.Size([54])\n",
      "True\n",
      "model.1.poisson_linear.linear.weight\n",
      "torch.Size([54, 512])\n",
      "True\n",
      "model.1.poisson_linear.linear.bias\n",
      "torch.Size([54])\n",
      "True\n",
      "  epoch 1 loss: 0.11274829487741729 corr: -0.005239849947908398\n",
      " num. neurons : 54\n",
      "  epoch 2 loss: 0.11139422875863535 corr: -0.003249223206666923\n",
      " num. neurons : 54\n",
      "  epoch 3 loss: 0.11093248355535813 corr: 0.08015190388786797\n",
      " num. neurons : 54\n",
      "  epoch 4 loss: 0.11054583384666913 corr: 0.007777664972660303\n",
      " num. neurons : 54\n",
      "  epoch 5 loss: 0.11004768018369321 corr: -0.010394450662570696\n",
      " num. neurons : 54\n",
      "  epoch 6 loss: 0.10954176826241575 corr: 0.09976701045259313\n",
      " num. neurons : 54\n",
      "  epoch 7 loss: 0.10918874787695614 corr: 0.026929079320243826\n",
      " num. neurons : 54\n",
      "  epoch 8 loss: 0.10884071291228871 corr: 0.14513589379389064\n",
      " num. neurons : 54\n",
      "  epoch 9 loss: 0.10817995989764179 corr: 0.039699649351751486\n",
      " num. neurons : 54\n",
      "  epoch 10 loss: 0.10785273787416058 corr: 0.14971958526695475\n",
      " num. neurons : 54\n",
      "  epoch 11 loss: 0.1071288040537893 corr: 0.1338685627377263\n",
      " num. neurons : 54\n",
      "  epoch 12 loss: 0.10660247985227608 corr: 0.21417694312249821\n",
      " num. neurons : 54\n",
      "  epoch 13 loss: 0.10609677620875983 corr: 0.2281898467494997\n",
      " num. neurons : 54\n",
      "  epoch 14 loss: 0.10545763392507294 corr: 0.1959465542462511\n",
      " num. neurons : 54\n",
      "  epoch 15 loss: 0.104645144968857 corr: 0.21715750247098245\n",
      " num. neurons : 54\n",
      "  epoch 16 loss: 0.10384955782949189 corr: 0.23368213059391524\n",
      " num. neurons : 54\n",
      "  epoch 17 loss: 0.10283870514528251 corr: 0.23276184117404025\n",
      " num. neurons : 54\n",
      "  epoch 18 loss: 0.10145359439614378 corr: 0.23134696265335034\n",
      " num. neurons : 54\n",
      "  epoch 19 loss: 0.0998486747270749 corr: 0.25414500556124775\n",
      " num. neurons : 54\n",
      "  epoch 20 loss: 0.09798051822332689 corr: 0.21890970226234763\n",
      " num. neurons : 54\n"
     ]
    },
    {
     "data": {
      "text/html": [
       "\n",
       "    <style>\n",
       "        .wandb-row {\n",
       "            display: flex;\n",
       "            flex-direction: row;\n",
       "            flex-wrap: wrap;\n",
       "            justify-content: flex-start;\n",
       "            width: 100%;\n",
       "        }\n",
       "        .wandb-col {\n",
       "            display: flex;\n",
       "            flex-direction: column;\n",
       "            flex-basis: 100%;\n",
       "            flex: 1;\n",
       "            padding: 10px;\n",
       "        }\n",
       "    </style>\n",
       "<div class=\"wandb-row\"><div class=\"wandb-col\"><h3>Run history:</h3><br/><table class=\"wandb\"><tr><td>corr_to_avg</td><td>▁▁▃▁▁▄▂▅▂▅▅▇▇▆▇▇▇▇█▇</td></tr><tr><td>test_loss</td><td>▇▆█▆▅▅▅▄▄▄▄▃▂▃▃▃▃▁▁▂</td></tr><tr><td>train_loss</td><td>█▇▇▇▇▆▆▆▆▆▅▅▅▅▄▄▃▃▂▁</td></tr></table><br/></div><div class=\"wandb-col\"><h3>Run summary:</h3><br/><table class=\"wandb\"><tr><td>train_loss</td><td>1.56229</td></tr></table><br/></div></div>"
      ],
      "text/plain": [
       "<IPython.core.display.HTML object>"
      ]
     },
     "metadata": {},
     "output_type": "display_data"
    },
    {
     "data": {
      "text/html": [
       " View run <strong style=\"color:#cdcd00\">celestial-sponge-105</strong> at: <a href='https://wandb.ai/et22/video-cs230/runs/r6j6uq3c' target=\"_blank\">https://wandb.ai/et22/video-cs230/runs/r6j6uq3c</a><br/> View project at: <a href='https://wandb.ai/et22/video-cs230' target=\"_blank\">https://wandb.ai/et22/video-cs230</a><br/>Synced 5 W&B file(s), 0 media file(s), 0 artifact file(s) and 0 other file(s)"
      ],
      "text/plain": [
       "<IPython.core.display.HTML object>"
      ]
     },
     "metadata": {},
     "output_type": "display_data"
    },
    {
     "data": {
      "text/html": [
       "Find logs at: <code>./wandb/run-20241130_193052-r6j6uq3c/logs</code>"
      ],
      "text/plain": [
       "<IPython.core.display.HTML object>"
      ]
     },
     "metadata": {},
     "output_type": "display_data"
    },
    {
     "data": {
      "text/html": [
       "Tracking run with wandb version 0.18.7"
      ],
      "text/plain": [
       "<IPython.core.display.HTML object>"
      ]
     },
     "metadata": {},
     "output_type": "display_data"
    },
    {
     "data": {
      "text/html": [
       "Run data is saved locally in <code>/src/models/cs230/wandb/run-20241130_193501-vla0sike</code>"
      ],
      "text/plain": [
       "<IPython.core.display.HTML object>"
      ]
     },
     "metadata": {},
     "output_type": "display_data"
    },
    {
     "data": {
      "text/html": [
       "Syncing run <strong><a href='https://wandb.ai/et22/video-cs230/runs/vla0sike' target=\"_blank\">wandering-dream-106</a></strong> to <a href='https://wandb.ai/et22/video-cs230' target=\"_blank\">Weights & Biases</a> (<a href='https://wandb.me/developer-guide' target=\"_blank\">docs</a>)<br/>"
      ],
      "text/plain": [
       "<IPython.core.display.HTML object>"
      ]
     },
     "metadata": {},
     "output_type": "display_data"
    },
    {
     "data": {
      "text/html": [
       " View project at <a href='https://wandb.ai/et22/video-cs230' target=\"_blank\">https://wandb.ai/et22/video-cs230</a>"
      ],
      "text/plain": [
       "<IPython.core.display.HTML object>"
      ]
     },
     "metadata": {},
     "output_type": "display_data"
    },
    {
     "data": {
      "text/html": [
       " View run at <a href='https://wandb.ai/et22/video-cs230/runs/vla0sike' target=\"_blank\">https://wandb.ai/et22/video-cs230/runs/vla0sike</a>"
      ],
      "text/plain": [
       "<IPython.core.display.HTML object>"
      ]
     },
     "metadata": {},
     "output_type": "display_data"
    },
    {
     "name": "stdout",
     "output_type": "stream",
     "text": [
      "readout input shape: 512\n",
      "model.0.stim\n",
      "torch.Size([1, 3, 5, 32, 32])\n",
      "True\n",
      "model.0.core.stem.0.weight\n",
      "torch.Size([64, 3, 3, 7, 7])\n",
      "True\n",
      "model.0.core.stem.1.weight\n",
      "torch.Size([64])\n",
      "True\n",
      "model.0.core.stem.1.bias\n",
      "torch.Size([64])\n",
      "True\n",
      "model.0.core.layer1.0.conv1.0.weight\n",
      "torch.Size([64, 64, 3, 3, 3])\n",
      "True\n",
      "model.0.core.layer1.0.conv1.1.weight\n",
      "torch.Size([64])\n",
      "True\n",
      "model.0.core.layer1.0.conv1.1.bias\n",
      "torch.Size([64])\n",
      "True\n",
      "model.0.core.layer1.0.conv2.0.weight\n",
      "torch.Size([64, 64, 3, 3, 3])\n",
      "True\n",
      "model.0.core.layer1.0.conv2.1.weight\n",
      "torch.Size([64])\n",
      "True\n",
      "model.0.core.layer1.0.conv2.1.bias\n",
      "torch.Size([64])\n",
      "True\n",
      "model.0.core.layer1.1.conv1.0.weight\n",
      "torch.Size([64, 64, 3, 3, 3])\n",
      "True\n",
      "model.0.core.layer1.1.conv1.1.weight\n",
      "torch.Size([64])\n",
      "True\n",
      "model.0.core.layer1.1.conv1.1.bias\n",
      "torch.Size([64])\n",
      "True\n",
      "model.0.core.layer1.1.conv2.0.weight\n",
      "torch.Size([64, 64, 3, 3, 3])\n",
      "True\n",
      "model.0.core.layer1.1.conv2.1.weight\n",
      "torch.Size([64])\n",
      "True\n",
      "model.0.core.layer1.1.conv2.1.bias\n",
      "torch.Size([64])\n",
      "True\n",
      "model.0.core.layer2.0.conv1.0.weight\n",
      "torch.Size([128, 64, 3, 3, 3])\n",
      "True\n",
      "model.0.core.layer2.0.conv1.1.weight\n",
      "torch.Size([128])\n",
      "True\n",
      "model.0.core.layer2.0.conv1.1.bias\n",
      "torch.Size([128])\n",
      "True\n",
      "model.0.core.layer2.0.conv2.0.weight\n",
      "torch.Size([128, 128, 3, 3, 3])\n",
      "True\n",
      "model.0.core.layer2.0.conv2.1.weight\n",
      "torch.Size([128])\n",
      "True\n",
      "model.0.core.layer2.0.conv2.1.bias\n",
      "torch.Size([128])\n",
      "True\n",
      "model.0.core.layer2.0.downsample.0.weight\n",
      "torch.Size([128, 64, 1, 1, 1])\n",
      "True\n",
      "model.0.core.layer2.0.downsample.1.weight\n",
      "torch.Size([128])\n",
      "True\n",
      "model.0.core.layer2.0.downsample.1.bias\n",
      "torch.Size([128])\n",
      "True\n",
      "model.0.core.layer2.1.conv1.0.weight\n",
      "torch.Size([128, 128, 3, 3, 3])\n",
      "True\n",
      "model.0.core.layer2.1.conv1.1.weight\n",
      "torch.Size([128])\n",
      "True\n",
      "model.0.core.layer2.1.conv1.1.bias\n",
      "torch.Size([128])\n",
      "True\n",
      "model.0.core.layer2.1.conv2.0.weight\n",
      "torch.Size([128, 128, 3, 3, 3])\n",
      "True\n",
      "model.0.core.layer2.1.conv2.1.weight\n",
      "torch.Size([128])\n",
      "True\n",
      "model.0.core.layer2.1.conv2.1.bias\n",
      "torch.Size([128])\n",
      "True\n",
      "model.0.core.layer3.0.conv1.0.weight\n",
      "torch.Size([256, 128, 3, 3, 3])\n",
      "True\n",
      "model.0.core.layer3.0.conv1.1.weight\n",
      "torch.Size([256])\n",
      "True\n",
      "model.0.core.layer3.0.conv1.1.bias\n",
      "torch.Size([256])\n",
      "True\n",
      "model.1.mu\n",
      "torch.Size([95, 2])\n",
      "True\n",
      "model.1.sigma\n",
      "torch.Size([95])\n",
      "True\n",
      "model.1.poisson_linear.linear.weight\n",
      "torch.Size([95, 512])\n",
      "True\n",
      "model.1.poisson_linear.linear.bias\n",
      "torch.Size([95])\n",
      "True\n",
      "  epoch 1 loss: 0.10891570938819366 corr: 0.01091240672673619\n",
      " num. neurons : 95\n",
      "  epoch 2 loss: 0.1074386935583584 corr: 0.002214615548169175\n",
      " num. neurons : 95\n",
      "  epoch 3 loss: 0.10648852087440291 corr: 0.002562175996005855\n",
      " num. neurons : 95\n",
      "  epoch 4 loss: 0.10574433510216119 corr: 0.0020187951551141306\n",
      " num. neurons : 95\n",
      "  epoch 5 loss: 0.1051865899125943 corr: 0.0866323992865776\n",
      " num. neurons : 95\n",
      "  epoch 6 loss: 0.1044685641508452 corr: 0.05449296478750392\n",
      " num. neurons : 95\n",
      "  epoch 7 loss: 0.1040636360333228 corr: 0.07321347287539731\n",
      " num. neurons : 95\n",
      "  epoch 8 loss: 0.1035785038433774 corr: 0.13287537771543353\n",
      " num. neurons : 95\n",
      "  epoch 9 loss: 0.10296121417539907 corr: 0.1722749472009707\n",
      " num. neurons : 95\n",
      "  epoch 10 loss: 0.10265229784381327 corr: 0.12560018257708697\n",
      " num. neurons : 95\n",
      "  epoch 11 loss: 0.10223084894150339 corr: 0.17662242828714336\n",
      " num. neurons : 95\n",
      "  epoch 12 loss: 0.10171077382502132 corr: 0.19195841618224613\n",
      " num. neurons : 95\n",
      "  epoch 13 loss: 0.10119579038070758 corr: 0.21956276686592263\n",
      " num. neurons : 95\n",
      "  epoch 14 loss: 0.1005678006491736 corr: 0.19976785039176098\n",
      " num. neurons : 95\n",
      "  epoch 15 loss: 0.09961539769047842 corr: 0.24826129254667165\n",
      " num. neurons : 95\n",
      "  epoch 16 loss: 0.09932648555146462 corr: 0.2149253277538051\n",
      " num. neurons : 95\n",
      "  epoch 17 loss: 0.09830461958940116 corr: 0.2373362312747726\n",
      " num. neurons : 95\n",
      "  epoch 18 loss: 0.09723116945845918 corr: 0.26267338324950873\n",
      " num. neurons : 95\n",
      "  epoch 19 loss: 0.09613477996506616 corr: 0.262639456028139\n",
      " num. neurons : 95\n",
      "  epoch 20 loss: 0.09468097399666671 corr: 0.27409302272871455\n",
      " num. neurons : 95\n"
     ]
    },
    {
     "data": {
      "text/html": [
       "\n",
       "    <style>\n",
       "        .wandb-row {\n",
       "            display: flex;\n",
       "            flex-direction: row;\n",
       "            flex-wrap: wrap;\n",
       "            justify-content: flex-start;\n",
       "            width: 100%;\n",
       "        }\n",
       "        .wandb-col {\n",
       "            display: flex;\n",
       "            flex-direction: column;\n",
       "            flex-basis: 100%;\n",
       "            flex: 1;\n",
       "            padding: 10px;\n",
       "        }\n",
       "    </style>\n",
       "<div class=\"wandb-row\"><div class=\"wandb-col\"><h3>Run history:</h3><br/><table class=\"wandb\"><tr><td>corr_to_avg</td><td>▁▁▁▁▃▂▃▄▅▄▅▆▇▆▇▆▇███</td></tr><tr><td>test_loss</td><td>█▇█▆▅▄▄▄▅▄▄▄▄▂▂▄▁▂▁▁</td></tr><tr><td>train_loss</td><td>█▇▇▆▆▆▆▅▅▅▅▄▄▄▃▃▃▂▂▁</td></tr></table><br/></div><div class=\"wandb-col\"><h3>Run summary:</h3><br/><table class=\"wandb\"><tr><td>train_loss</td><td>1.50701</td></tr></table><br/></div></div>"
      ],
      "text/plain": [
       "<IPython.core.display.HTML object>"
      ]
     },
     "metadata": {},
     "output_type": "display_data"
    },
    {
     "data": {
      "text/html": [
       " View run <strong style=\"color:#cdcd00\">wandering-dream-106</strong> at: <a href='https://wandb.ai/et22/video-cs230/runs/vla0sike' target=\"_blank\">https://wandb.ai/et22/video-cs230/runs/vla0sike</a><br/> View project at: <a href='https://wandb.ai/et22/video-cs230' target=\"_blank\">https://wandb.ai/et22/video-cs230</a><br/>Synced 5 W&B file(s), 0 media file(s), 0 artifact file(s) and 0 other file(s)"
      ],
      "text/plain": [
       "<IPython.core.display.HTML object>"
      ]
     },
     "metadata": {},
     "output_type": "display_data"
    },
    {
     "data": {
      "text/html": [
       "Find logs at: <code>./wandb/run-20241130_193501-vla0sike/logs</code>"
      ],
      "text/plain": [
       "<IPython.core.display.HTML object>"
      ]
     },
     "metadata": {},
     "output_type": "display_data"
    },
    {
     "data": {
      "text/html": [
       "Tracking run with wandb version 0.18.7"
      ],
      "text/plain": [
       "<IPython.core.display.HTML object>"
      ]
     },
     "metadata": {},
     "output_type": "display_data"
    },
    {
     "data": {
      "text/html": [
       "Run data is saved locally in <code>/src/models/cs230/wandb/run-20241130_193906-w4utgszu</code>"
      ],
      "text/plain": [
       "<IPython.core.display.HTML object>"
      ]
     },
     "metadata": {},
     "output_type": "display_data"
    },
    {
     "data": {
      "text/html": [
       "Syncing run <strong><a href='https://wandb.ai/et22/video-cs230/runs/w4utgszu' target=\"_blank\">pleasant-aardvark-107</a></strong> to <a href='https://wandb.ai/et22/video-cs230' target=\"_blank\">Weights & Biases</a> (<a href='https://wandb.me/developer-guide' target=\"_blank\">docs</a>)<br/>"
      ],
      "text/plain": [
       "<IPython.core.display.HTML object>"
      ]
     },
     "metadata": {},
     "output_type": "display_data"
    },
    {
     "data": {
      "text/html": [
       " View project at <a href='https://wandb.ai/et22/video-cs230' target=\"_blank\">https://wandb.ai/et22/video-cs230</a>"
      ],
      "text/plain": [
       "<IPython.core.display.HTML object>"
      ]
     },
     "metadata": {},
     "output_type": "display_data"
    },
    {
     "data": {
      "text/html": [
       " View run at <a href='https://wandb.ai/et22/video-cs230/runs/w4utgszu' target=\"_blank\">https://wandb.ai/et22/video-cs230/runs/w4utgszu</a>"
      ],
      "text/plain": [
       "<IPython.core.display.HTML object>"
      ]
     },
     "metadata": {},
     "output_type": "display_data"
    },
    {
     "name": "stdout",
     "output_type": "stream",
     "text": [
      "readout input shape: 512\n",
      "model.0.stim\n",
      "torch.Size([1, 3, 5, 32, 32])\n",
      "True\n",
      "model.0.core.stem.0.weight\n",
      "torch.Size([64, 3, 3, 7, 7])\n",
      "True\n",
      "model.0.core.stem.1.weight\n",
      "torch.Size([64])\n",
      "True\n",
      "model.0.core.stem.1.bias\n",
      "torch.Size([64])\n",
      "True\n",
      "model.0.core.layer1.0.conv1.0.weight\n",
      "torch.Size([64, 64, 3, 3, 3])\n",
      "True\n",
      "model.0.core.layer1.0.conv1.1.weight\n",
      "torch.Size([64])\n",
      "True\n",
      "model.0.core.layer1.0.conv1.1.bias\n",
      "torch.Size([64])\n",
      "True\n",
      "model.0.core.layer1.0.conv2.0.weight\n",
      "torch.Size([64, 64, 3, 3, 3])\n",
      "True\n",
      "model.0.core.layer1.0.conv2.1.weight\n",
      "torch.Size([64])\n",
      "True\n",
      "model.0.core.layer1.0.conv2.1.bias\n",
      "torch.Size([64])\n",
      "True\n",
      "model.0.core.layer1.1.conv1.0.weight\n",
      "torch.Size([64, 64, 3, 3, 3])\n",
      "True\n",
      "model.0.core.layer1.1.conv1.1.weight\n",
      "torch.Size([64])\n",
      "True\n",
      "model.0.core.layer1.1.conv1.1.bias\n",
      "torch.Size([64])\n",
      "True\n",
      "model.0.core.layer1.1.conv2.0.weight\n",
      "torch.Size([64, 64, 3, 3, 3])\n",
      "True\n",
      "model.0.core.layer1.1.conv2.1.weight\n",
      "torch.Size([64])\n",
      "True\n",
      "model.0.core.layer1.1.conv2.1.bias\n",
      "torch.Size([64])\n",
      "True\n",
      "model.0.core.layer2.0.conv1.0.weight\n",
      "torch.Size([128, 64, 3, 3, 3])\n",
      "True\n",
      "model.0.core.layer2.0.conv1.1.weight\n",
      "torch.Size([128])\n",
      "True\n",
      "model.0.core.layer2.0.conv1.1.bias\n",
      "torch.Size([128])\n",
      "True\n",
      "model.0.core.layer2.0.conv2.0.weight\n",
      "torch.Size([128, 128, 3, 3, 3])\n",
      "True\n",
      "model.0.core.layer2.0.conv2.1.weight\n",
      "torch.Size([128])\n",
      "True\n",
      "model.0.core.layer2.0.conv2.1.bias\n",
      "torch.Size([128])\n",
      "True\n",
      "model.0.core.layer2.0.downsample.0.weight\n",
      "torch.Size([128, 64, 1, 1, 1])\n",
      "True\n",
      "model.0.core.layer2.0.downsample.1.weight\n",
      "torch.Size([128])\n",
      "True\n",
      "model.0.core.layer2.0.downsample.1.bias\n",
      "torch.Size([128])\n",
      "True\n",
      "model.0.core.layer2.1.conv1.0.weight\n",
      "torch.Size([128, 128, 3, 3, 3])\n",
      "True\n",
      "model.0.core.layer2.1.conv1.1.weight\n",
      "torch.Size([128])\n",
      "True\n",
      "model.0.core.layer2.1.conv1.1.bias\n",
      "torch.Size([128])\n",
      "True\n",
      "model.0.core.layer2.1.conv2.0.weight\n",
      "torch.Size([128, 128, 3, 3, 3])\n",
      "True\n",
      "model.0.core.layer2.1.conv2.1.weight\n",
      "torch.Size([128])\n",
      "True\n",
      "model.0.core.layer2.1.conv2.1.bias\n",
      "torch.Size([128])\n",
      "True\n",
      "model.0.core.layer3.0.conv1.0.weight\n",
      "torch.Size([256, 128, 3, 3, 3])\n",
      "True\n",
      "model.0.core.layer3.0.conv1.1.weight\n",
      "torch.Size([256])\n",
      "True\n",
      "model.0.core.layer3.0.conv1.1.bias\n",
      "torch.Size([256])\n",
      "True\n",
      "model.1.mu\n",
      "torch.Size([54, 2])\n",
      "True\n",
      "model.1.sigma\n",
      "torch.Size([54])\n",
      "True\n",
      "model.1.poisson_linear.linear.weight\n",
      "torch.Size([54, 512])\n",
      "True\n",
      "model.1.poisson_linear.linear.bias\n",
      "torch.Size([54])\n",
      "True\n",
      "  epoch 1 loss: 0.1212401218190062 corr: 0.049798752396394044\n",
      " num. neurons : 54\n",
      "  epoch 2 loss: 0.11956133346379914 corr: 0.05658896096701946\n",
      " num. neurons : 54\n",
      "  epoch 3 loss: 0.11921385202983258 corr: -0.004791374431590619\n",
      " num. neurons : 54\n",
      "  epoch 4 loss: 0.11827765858691672 corr: 0.0678710060834932\n",
      " num. neurons : 54\n",
      "  epoch 5 loss: 0.1175570060641975 corr: 0.06410069650952979\n",
      " num. neurons : 54\n",
      "  epoch 6 loss: 0.11703493114901309 corr: 0.033333646376294886\n",
      " num. neurons : 54\n",
      "  epoch 7 loss: 0.11670307628645131 corr: 0.07880857874462842\n",
      " num. neurons : 54\n",
      "  epoch 8 loss: 0.11634172923605106 corr: 0.1159953691132733\n",
      " num. neurons : 54\n",
      "  epoch 9 loss: 0.11596533912626536 corr: 0.15900745924513662\n",
      " num. neurons : 54\n",
      "  epoch 10 loss: 0.11564686770130282 corr: 0.1719377288992595\n",
      " num. neurons : 54\n",
      "  epoch 11 loss: 0.11525946358398939 corr: 0.23071666457666254\n",
      " num. neurons : 54\n",
      "  epoch 12 loss: 0.11477339844208644 corr: 0.20410189184213756\n",
      " num. neurons : 54\n",
      "  epoch 13 loss: 0.11439748665031968 corr: 0.2531299567273746\n",
      " num. neurons : 54\n",
      "  epoch 14 loss: 0.11371284866079145 corr: 0.24447932360102265\n",
      " num. neurons : 54\n",
      "  epoch 15 loss: 0.11320361386597844 corr: 0.244751346048044\n",
      " num. neurons : 54\n",
      "  epoch 16 loss: 0.11277128228489657 corr: 0.2649308853238033\n",
      " num. neurons : 54\n",
      "  epoch 17 loss: 0.11201039742027222 corr: 0.26085974935839235\n",
      " num. neurons : 54\n",
      "  epoch 18 loss: 0.11097414533755583 corr: 0.2770560775149624\n",
      " num. neurons : 54\n",
      "  epoch 19 loss: 0.10990725874160387 corr: 0.2928284035964395\n",
      " num. neurons : 54\n",
      "  epoch 20 loss: 0.1084453924736727 corr: 0.28834090080434727\n",
      " num. neurons : 54\n"
     ]
    },
    {
     "data": {
      "text/html": [
       "\n",
       "    <style>\n",
       "        .wandb-row {\n",
       "            display: flex;\n",
       "            flex-direction: row;\n",
       "            flex-wrap: wrap;\n",
       "            justify-content: flex-start;\n",
       "            width: 100%;\n",
       "        }\n",
       "        .wandb-col {\n",
       "            display: flex;\n",
       "            flex-direction: column;\n",
       "            flex-basis: 100%;\n",
       "            flex: 1;\n",
       "            padding: 10px;\n",
       "        }\n",
       "    </style>\n",
       "<div class=\"wandb-row\"><div class=\"wandb-col\"><h3>Run history:</h3><br/><table class=\"wandb\"><tr><td>corr_to_avg</td><td>▂▂▁▃▃▂▃▄▅▅▇▆▇▇▇▇▇███</td></tr><tr><td>test_loss</td><td>█▇▇▆▅▆▅▄▅▄▃▇▃▄▃▂▁▁▁▁</td></tr><tr><td>train_loss</td><td>█▇▇▆▆▆▆▅▅▅▅▄▄▄▄▃▃▂▂▁</td></tr></table><br/></div><div class=\"wandb-col\"><h3>Run summary:</h3><br/><table class=\"wandb\"><tr><td>train_loss</td><td>1.73359</td></tr></table><br/></div></div>"
      ],
      "text/plain": [
       "<IPython.core.display.HTML object>"
      ]
     },
     "metadata": {},
     "output_type": "display_data"
    },
    {
     "data": {
      "text/html": [
       " View run <strong style=\"color:#cdcd00\">pleasant-aardvark-107</strong> at: <a href='https://wandb.ai/et22/video-cs230/runs/w4utgszu' target=\"_blank\">https://wandb.ai/et22/video-cs230/runs/w4utgszu</a><br/> View project at: <a href='https://wandb.ai/et22/video-cs230' target=\"_blank\">https://wandb.ai/et22/video-cs230</a><br/>Synced 5 W&B file(s), 0 media file(s), 0 artifact file(s) and 0 other file(s)"
      ],
      "text/plain": [
       "<IPython.core.display.HTML object>"
      ]
     },
     "metadata": {},
     "output_type": "display_data"
    },
    {
     "data": {
      "text/html": [
       "Find logs at: <code>./wandb/run-20241130_193906-w4utgszu/logs</code>"
      ],
      "text/plain": [
       "<IPython.core.display.HTML object>"
      ]
     },
     "metadata": {},
     "output_type": "display_data"
    },
    {
     "data": {
      "text/html": [
       "Tracking run with wandb version 0.18.7"
      ],
      "text/plain": [
       "<IPython.core.display.HTML object>"
      ]
     },
     "metadata": {},
     "output_type": "display_data"
    },
    {
     "data": {
      "text/html": [
       "Run data is saved locally in <code>/src/models/cs230/wandb/run-20241130_194357-2jqfo4s4</code>"
      ],
      "text/plain": [
       "<IPython.core.display.HTML object>"
      ]
     },
     "metadata": {},
     "output_type": "display_data"
    },
    {
     "data": {
      "text/html": [
       "Syncing run <strong><a href='https://wandb.ai/et22/video-cs230/runs/2jqfo4s4' target=\"_blank\">grateful-deluge-108</a></strong> to <a href='https://wandb.ai/et22/video-cs230' target=\"_blank\">Weights & Biases</a> (<a href='https://wandb.me/developer-guide' target=\"_blank\">docs</a>)<br/>"
      ],
      "text/plain": [
       "<IPython.core.display.HTML object>"
      ]
     },
     "metadata": {},
     "output_type": "display_data"
    },
    {
     "data": {
      "text/html": [
       " View project at <a href='https://wandb.ai/et22/video-cs230' target=\"_blank\">https://wandb.ai/et22/video-cs230</a>"
      ],
      "text/plain": [
       "<IPython.core.display.HTML object>"
      ]
     },
     "metadata": {},
     "output_type": "display_data"
    },
    {
     "data": {
      "text/html": [
       " View run at <a href='https://wandb.ai/et22/video-cs230/runs/2jqfo4s4' target=\"_blank\">https://wandb.ai/et22/video-cs230/runs/2jqfo4s4</a>"
      ],
      "text/plain": [
       "<IPython.core.display.HTML object>"
      ]
     },
     "metadata": {},
     "output_type": "display_data"
    },
    {
     "data": {
      "text/html": [
       "\n",
       "    <style>\n",
       "        .wandb-row {\n",
       "            display: flex;\n",
       "            flex-direction: row;\n",
       "            flex-wrap: wrap;\n",
       "            justify-content: flex-start;\n",
       "            width: 100%;\n",
       "        }\n",
       "        .wandb-col {\n",
       "            display: flex;\n",
       "            flex-direction: column;\n",
       "            flex-basis: 100%;\n",
       "            flex: 1;\n",
       "            padding: 10px;\n",
       "        }\n",
       "    </style>\n",
       "<div class=\"wandb-row\"><div class=\"wandb-col\"><h3>Run history:</h3><br/><table class=\"wandb\"><tr><td>corr</td><td>▂▅▃▂▄▄▄▂▁▆▁▃▂▅▆▃█▆▂▂▇▆▃▃▃▂▅▁▄▅▃▆▂▆▅▃▄▁▆▃</td></tr></table><br/></div><div class=\"wandb-col\"><h3>Run summary:</h3><br/><table class=\"wandb\"><tr><td>corr</td><td>0.35175</td></tr></table><br/></div></div>"
      ],
      "text/plain": [
       "<IPython.core.display.HTML object>"
      ]
     },
     "metadata": {},
     "output_type": "display_data"
    },
    {
     "data": {
      "text/html": [
       " View run <strong style=\"color:#cdcd00\">grateful-deluge-108</strong> at: <a href='https://wandb.ai/et22/video-cs230/runs/2jqfo4s4' target=\"_blank\">https://wandb.ai/et22/video-cs230/runs/2jqfo4s4</a><br/> View project at: <a href='https://wandb.ai/et22/video-cs230' target=\"_blank\">https://wandb.ai/et22/video-cs230</a><br/>Synced 5 W&B file(s), 0 media file(s), 0 artifact file(s) and 0 other file(s)"
      ],
      "text/plain": [
       "<IPython.core.display.HTML object>"
      ]
     },
     "metadata": {},
     "output_type": "display_data"
    },
    {
     "data": {
      "text/html": [
       "Find logs at: <code>./wandb/run-20241130_194357-2jqfo4s4/logs</code>"
      ],
      "text/plain": [
       "<IPython.core.display.HTML object>"
      ]
     },
     "metadata": {},
     "output_type": "display_data"
    },
    {
     "name": "stdout",
     "output_type": "stream",
     "text": [
      "100\n"
     ]
    },
    {
     "data": {
      "text/html": [
       "Tracking run with wandb version 0.18.7"
      ],
      "text/plain": [
       "<IPython.core.display.HTML object>"
      ]
     },
     "metadata": {},
     "output_type": "display_data"
    },
    {
     "data": {
      "text/html": [
       "Run data is saved locally in <code>/src/models/cs230/wandb/run-20241130_194359-aia9mp68</code>"
      ],
      "text/plain": [
       "<IPython.core.display.HTML object>"
      ]
     },
     "metadata": {},
     "output_type": "display_data"
    },
    {
     "data": {
      "text/html": [
       "Syncing run <strong><a href='https://wandb.ai/et22/video-cs230/runs/aia9mp68' target=\"_blank\">stilted-oath-109</a></strong> to <a href='https://wandb.ai/et22/video-cs230' target=\"_blank\">Weights & Biases</a> (<a href='https://wandb.me/developer-guide' target=\"_blank\">docs</a>)<br/>"
      ],
      "text/plain": [
       "<IPython.core.display.HTML object>"
      ]
     },
     "metadata": {},
     "output_type": "display_data"
    },
    {
     "data": {
      "text/html": [
       " View project at <a href='https://wandb.ai/et22/video-cs230' target=\"_blank\">https://wandb.ai/et22/video-cs230</a>"
      ],
      "text/plain": [
       "<IPython.core.display.HTML object>"
      ]
     },
     "metadata": {},
     "output_type": "display_data"
    },
    {
     "data": {
      "text/html": [
       " View run at <a href='https://wandb.ai/et22/video-cs230/runs/aia9mp68' target=\"_blank\">https://wandb.ai/et22/video-cs230/runs/aia9mp68</a>"
      ],
      "text/plain": [
       "<IPython.core.display.HTML object>"
      ]
     },
     "metadata": {},
     "output_type": "display_data"
    },
    {
     "name": "stdout",
     "output_type": "stream",
     "text": [
      "readout input shape: 15360\n",
      "model.1.linear.weight\n",
      "torch.Size([54, 15360])\n",
      "True\n",
      "model.1.linear.bias\n",
      "torch.Size([54])\n",
      "True\n",
      "  epoch 1 loss: 0.1500046951976823 corr: -0.034138652008373335\n",
      " num. neurons : 54\n",
      "  epoch 2 loss: 0.1467015728538419 corr: -0.015194406691384874\n",
      " num. neurons : 54\n",
      "  epoch 3 loss: 0.14345594041141463 corr: 0.05671906499720175\n",
      " num. neurons : 54\n",
      "  epoch 4 loss: 0.14153017732832168 corr: 0.014475090005036327\n",
      " num. neurons : 54\n",
      "  epoch 5 loss: 0.13898173608897646 corr: -0.023752447634120547\n",
      " num. neurons : 54\n",
      "  epoch 6 loss: 0.13687474951332 corr: 0.025623046425159897\n",
      " num. neurons : 54\n",
      "  epoch 7 loss: 0.13580946910528488 corr: 0.03688330270790436\n",
      " num. neurons : 54\n",
      "  epoch 8 loss: 0.13373428921640654 corr: -0.012540351824497975\n",
      " num. neurons : 54\n",
      "  epoch 9 loss: 0.13200486919026316 corr: 0.020551060340449907\n",
      " num. neurons : 54\n",
      "  epoch 10 loss: 0.1303183192971312 corr: -0.02153832318894552\n",
      " num. neurons : 54\n",
      "  epoch 11 loss: 0.1294022735548608 corr: -0.023810434995751768\n",
      " num. neurons : 54\n",
      "  epoch 12 loss: 0.1297808603004173 corr: -0.020719892939400526\n",
      " num. neurons : 54\n",
      "  epoch 13 loss: 0.12588162004211803 corr: 0.020347122646717272\n",
      " num. neurons : 54\n",
      "  epoch 14 loss: 0.1270151126531907 corr: -0.02148612772520153\n",
      " num. neurons : 54\n",
      "  epoch 15 loss: 0.12597318661065748 corr: 0.0019083639206972773\n",
      " num. neurons : 54\n",
      "  epoch 16 loss: 0.12543204760845797 corr: 0.026582885374351696\n",
      " num. neurons : 54\n",
      "  epoch 17 loss: 0.12402042547861734 corr: 0.028637667576204482\n",
      " num. neurons : 54\n",
      "  epoch 18 loss: 0.12461382112385314 corr: 0.014324833568158656\n",
      " num. neurons : 54\n",
      "  epoch 19 loss: 0.12231597164530814 corr: 0.0019730876584709398\n",
      " num. neurons : 54\n",
      "  epoch 20 loss: 0.12262806209517114 corr: 0.031317268929033776\n",
      " num. neurons : 54\n"
     ]
    },
    {
     "data": {
      "text/html": [
       "\n",
       "    <style>\n",
       "        .wandb-row {\n",
       "            display: flex;\n",
       "            flex-direction: row;\n",
       "            flex-wrap: wrap;\n",
       "            justify-content: flex-start;\n",
       "            width: 100%;\n",
       "        }\n",
       "        .wandb-col {\n",
       "            display: flex;\n",
       "            flex-direction: column;\n",
       "            flex-basis: 100%;\n",
       "            flex: 1;\n",
       "            padding: 10px;\n",
       "        }\n",
       "    </style>\n",
       "<div class=\"wandb-row\"><div class=\"wandb-col\"><h3>Run history:</h3><br/><table class=\"wandb\"><tr><td>corr_to_avg</td><td>▁▂█▅▂▆▆▃▅▂▂▂▅▂▄▆▆▅▄▆</td></tr><tr><td>test_loss</td><td>▇▆▆█▅▄▄▄▄▃▃▂▃▂▃▁▂▂▃▁</td></tr><tr><td>train_loss</td><td>█▇▆▆▅▅▄▄▃▃▃▃▂▂▂▂▁▂▁▁</td></tr></table><br/></div><div class=\"wandb-col\"><h3>Run summary:</h3><br/><table class=\"wandb\"><tr><td>train_loss</td><td>1.95529</td></tr></table><br/></div></div>"
      ],
      "text/plain": [
       "<IPython.core.display.HTML object>"
      ]
     },
     "metadata": {},
     "output_type": "display_data"
    },
    {
     "data": {
      "text/html": [
       " View run <strong style=\"color:#cdcd00\">stilted-oath-109</strong> at: <a href='https://wandb.ai/et22/video-cs230/runs/aia9mp68' target=\"_blank\">https://wandb.ai/et22/video-cs230/runs/aia9mp68</a><br/> View project at: <a href='https://wandb.ai/et22/video-cs230' target=\"_blank\">https://wandb.ai/et22/video-cs230</a><br/>Synced 5 W&B file(s), 0 media file(s), 0 artifact file(s) and 0 other file(s)"
      ],
      "text/plain": [
       "<IPython.core.display.HTML object>"
      ]
     },
     "metadata": {},
     "output_type": "display_data"
    },
    {
     "data": {
      "text/html": [
       "Find logs at: <code>./wandb/run-20241130_194359-aia9mp68/logs</code>"
      ],
      "text/plain": [
       "<IPython.core.display.HTML object>"
      ]
     },
     "metadata": {},
     "output_type": "display_data"
    },
    {
     "data": {
      "text/html": [
       "Tracking run with wandb version 0.18.7"
      ],
      "text/plain": [
       "<IPython.core.display.HTML object>"
      ]
     },
     "metadata": {},
     "output_type": "display_data"
    },
    {
     "data": {
      "text/html": [
       "Run data is saved locally in <code>/src/models/cs230/wandb/run-20241130_194806-82wihaw0</code>"
      ],
      "text/plain": [
       "<IPython.core.display.HTML object>"
      ]
     },
     "metadata": {},
     "output_type": "display_data"
    },
    {
     "data": {
      "text/html": [
       "Syncing run <strong><a href='https://wandb.ai/et22/video-cs230/runs/82wihaw0' target=\"_blank\">still-plant-110</a></strong> to <a href='https://wandb.ai/et22/video-cs230' target=\"_blank\">Weights & Biases</a> (<a href='https://wandb.me/developer-guide' target=\"_blank\">docs</a>)<br/>"
      ],
      "text/plain": [
       "<IPython.core.display.HTML object>"
      ]
     },
     "metadata": {},
     "output_type": "display_data"
    },
    {
     "data": {
      "text/html": [
       " View project at <a href='https://wandb.ai/et22/video-cs230' target=\"_blank\">https://wandb.ai/et22/video-cs230</a>"
      ],
      "text/plain": [
       "<IPython.core.display.HTML object>"
      ]
     },
     "metadata": {},
     "output_type": "display_data"
    },
    {
     "data": {
      "text/html": [
       " View run at <a href='https://wandb.ai/et22/video-cs230/runs/82wihaw0' target=\"_blank\">https://wandb.ai/et22/video-cs230/runs/82wihaw0</a>"
      ],
      "text/plain": [
       "<IPython.core.display.HTML object>"
      ]
     },
     "metadata": {},
     "output_type": "display_data"
    },
    {
     "name": "stdout",
     "output_type": "stream",
     "text": [
      "readout input shape: 15360\n",
      "model.1.linear.weight\n",
      "torch.Size([95, 15360])\n",
      "True\n",
      "model.1.linear.bias\n",
      "torch.Size([95])\n",
      "True\n",
      "  epoch 1 loss: 0.1356720928122236 corr: -0.00871890425344479\n",
      " num. neurons : 95\n",
      "  epoch 2 loss: 0.13222199410044086 corr: 0.051097064910031485\n",
      " num. neurons : 95\n",
      "  epoch 3 loss: 0.13011004375537652 corr: 0.006658844540434523\n",
      " num. neurons : 95\n",
      "  epoch 4 loss: 0.12733195489613797 corr: 0.0035515747816946145\n",
      " num. neurons : 95\n",
      "  epoch 5 loss: 0.12572843279514012 corr: 0.033560702125966374\n",
      " num. neurons : 95\n",
      "  epoch 6 loss: 0.12428738016108568 corr: 0.018923160000162895\n",
      " num. neurons : 95\n",
      "  epoch 7 loss: 0.12296373912801294 corr: 0.054402094365688325\n",
      " num. neurons : 95\n",
      "  epoch 8 loss: 0.12114642590128315 corr: 0.000865825247332276\n",
      " num. neurons : 95\n",
      "  epoch 9 loss: 0.12010606109159778 corr: 0.02355149186447344\n",
      " num. neurons : 95\n",
      "  epoch 10 loss: 0.11949041295426054 corr: 0.025246680704302055\n",
      " num. neurons : 95\n",
      "  epoch 11 loss: 0.11876468508655488 corr: 0.013826542144249694\n",
      " num. neurons : 95\n",
      "  epoch 12 loss: 0.11844178313360164 corr: -0.00701540793113473\n",
      " num. neurons : 95\n",
      "  epoch 13 loss: 0.11729583116101969 corr: 0.01246242689393129\n",
      " num. neurons : 95\n",
      "  epoch 14 loss: 0.11657866894886756 corr: -0.00540100645273659\n",
      " num. neurons : 95\n",
      "  epoch 15 loss: 0.11615879591846966 corr: -0.050673512937174606\n",
      " num. neurons : 95\n",
      "  epoch 16 loss: 0.1158416937158994 corr: 0.030995734937903002\n",
      " num. neurons : 95\n",
      "  epoch 17 loss: 0.11549539559798715 corr: -0.004116341419855545\n",
      " num. neurons : 95\n",
      "  epoch 18 loss: 0.11511605559843373 corr: -0.0029912284840021342\n",
      " num. neurons : 95\n",
      "  epoch 19 loss: 0.11457664167693772 corr: 0.026379137329594855\n",
      " num. neurons : 95\n",
      "  epoch 20 loss: 0.11446547152484275 corr: 0.014827288178156922\n",
      " num. neurons : 95\n"
     ]
    },
    {
     "data": {
      "text/html": [
       "\n",
       "    <style>\n",
       "        .wandb-row {\n",
       "            display: flex;\n",
       "            flex-direction: row;\n",
       "            flex-wrap: wrap;\n",
       "            justify-content: flex-start;\n",
       "            width: 100%;\n",
       "        }\n",
       "        .wandb-col {\n",
       "            display: flex;\n",
       "            flex-direction: column;\n",
       "            flex-basis: 100%;\n",
       "            flex: 1;\n",
       "            padding: 10px;\n",
       "        }\n",
       "    </style>\n",
       "<div class=\"wandb-row\"><div class=\"wandb-col\"><h3>Run history:</h3><br/><table class=\"wandb\"><tr><td>corr_to_avg</td><td>▄█▅▅▇▆█▄▆▆▅▄▅▄▁▆▄▄▆▅</td></tr><tr><td>test_loss</td><td>█▇▆▆▆▄▃▄▃▄▂▃▂▂▂▁▂▂▁▁</td></tr><tr><td>train_loss</td><td>█▇▆▅▅▄▄▃▃▃▂▂▂▂▂▁▁▁▁▁</td></tr></table><br/></div><div class=\"wandb-col\"><h3>Run summary:</h3><br/><table class=\"wandb\"><tr><td>train_loss</td><td>1.82191</td></tr></table><br/></div></div>"
      ],
      "text/plain": [
       "<IPython.core.display.HTML object>"
      ]
     },
     "metadata": {},
     "output_type": "display_data"
    },
    {
     "data": {
      "text/html": [
       " View run <strong style=\"color:#cdcd00\">still-plant-110</strong> at: <a href='https://wandb.ai/et22/video-cs230/runs/82wihaw0' target=\"_blank\">https://wandb.ai/et22/video-cs230/runs/82wihaw0</a><br/> View project at: <a href='https://wandb.ai/et22/video-cs230' target=\"_blank\">https://wandb.ai/et22/video-cs230</a><br/>Synced 5 W&B file(s), 0 media file(s), 0 artifact file(s) and 0 other file(s)"
      ],
      "text/plain": [
       "<IPython.core.display.HTML object>"
      ]
     },
     "metadata": {},
     "output_type": "display_data"
    },
    {
     "data": {
      "text/html": [
       "Find logs at: <code>./wandb/run-20241130_194806-82wihaw0/logs</code>"
      ],
      "text/plain": [
       "<IPython.core.display.HTML object>"
      ]
     },
     "metadata": {},
     "output_type": "display_data"
    },
    {
     "data": {
      "text/html": [
       "Tracking run with wandb version 0.18.7"
      ],
      "text/plain": [
       "<IPython.core.display.HTML object>"
      ]
     },
     "metadata": {},
     "output_type": "display_data"
    },
    {
     "data": {
      "text/html": [
       "Run data is saved locally in <code>/src/models/cs230/wandb/run-20241130_195209-kln5xhfm</code>"
      ],
      "text/plain": [
       "<IPython.core.display.HTML object>"
      ]
     },
     "metadata": {},
     "output_type": "display_data"
    },
    {
     "data": {
      "text/html": [
       "Syncing run <strong><a href='https://wandb.ai/et22/video-cs230/runs/kln5xhfm' target=\"_blank\">still-frost-111</a></strong> to <a href='https://wandb.ai/et22/video-cs230' target=\"_blank\">Weights & Biases</a> (<a href='https://wandb.me/developer-guide' target=\"_blank\">docs</a>)<br/>"
      ],
      "text/plain": [
       "<IPython.core.display.HTML object>"
      ]
     },
     "metadata": {},
     "output_type": "display_data"
    },
    {
     "data": {
      "text/html": [
       " View project at <a href='https://wandb.ai/et22/video-cs230' target=\"_blank\">https://wandb.ai/et22/video-cs230</a>"
      ],
      "text/plain": [
       "<IPython.core.display.HTML object>"
      ]
     },
     "metadata": {},
     "output_type": "display_data"
    },
    {
     "data": {
      "text/html": [
       " View run at <a href='https://wandb.ai/et22/video-cs230/runs/kln5xhfm' target=\"_blank\">https://wandb.ai/et22/video-cs230/runs/kln5xhfm</a>"
      ],
      "text/plain": [
       "<IPython.core.display.HTML object>"
      ]
     },
     "metadata": {},
     "output_type": "display_data"
    },
    {
     "name": "stdout",
     "output_type": "stream",
     "text": [
      "readout input shape: 15360\n",
      "model.1.linear.weight\n",
      "torch.Size([54, 15360])\n",
      "True\n",
      "model.1.linear.bias\n",
      "torch.Size([54])\n",
      "True\n",
      "  epoch 1 loss: 0.17357887667475702 corr: 0.031306166722312644\n",
      " num. neurons : 54\n",
      "  epoch 2 loss: 0.1695348153414722 corr: 0.018359569424531787\n",
      " num. neurons : 54\n",
      "  epoch 3 loss: 0.16852589254370812 corr: 0.034733457076344024\n",
      " num. neurons : 54\n",
      "  epoch 4 loss: 0.16272584473864632 corr: 0.038152976118665104\n",
      " num. neurons : 54\n",
      "  epoch 5 loss: 0.1600164913348424 corr: -0.0016681243109702179\n",
      " num. neurons : 54\n",
      "  epoch 6 loss: 0.15894620219690142 corr: 0.04949945792580136\n",
      " num. neurons : 54\n",
      "  epoch 7 loss: 0.1536534147761835 corr: -0.031127063375139083\n",
      " num. neurons : 54\n",
      "  epoch 8 loss: 0.15215785474827995 corr: 0.008791475715468653\n",
      " num. neurons : 54\n",
      "  epoch 9 loss: 0.14964813739722455 corr: 0.022655608332574215\n",
      " num. neurons : 54\n",
      "  epoch 10 loss: 0.1476116798150402 corr: 0.044790653566095184\n",
      " num. neurons : 54\n",
      "  epoch 11 loss: 0.14635187847591016 corr: 0.020289221062268683\n",
      " num. neurons : 54\n",
      "  epoch 12 loss: 0.14498526593066996 corr: 0.04895352136188761\n",
      " num. neurons : 54\n",
      "  epoch 13 loss: 0.14283858978758898 corr: -0.04785467085802422\n",
      " num. neurons : 54\n",
      "  epoch 14 loss: 0.14171810317272196 corr: 0.04358303873310187\n",
      " num. neurons : 54\n",
      "  epoch 15 loss: 0.14109391978914587 corr: -0.004549648356501673\n",
      " num. neurons : 54\n",
      "  epoch 16 loss: 0.14056948676189704 corr: -0.023262203181994758\n",
      " num. neurons : 54\n",
      "  epoch 17 loss: 0.13863902168138534 corr: -0.029971034277087503\n",
      " num. neurons : 54\n",
      "  epoch 18 loss: 0.1382875345720056 corr: -0.03464466450665848\n",
      " num. neurons : 54\n",
      "  epoch 19 loss: 0.13738211383836504 corr: 0.002927036288254556\n",
      " num. neurons : 54\n",
      "  epoch 20 loss: 0.13625323555590096 corr: -0.040840362831399905\n",
      " num. neurons : 54\n"
     ]
    },
    {
     "data": {
      "text/html": [
       "\n",
       "    <style>\n",
       "        .wandb-row {\n",
       "            display: flex;\n",
       "            flex-direction: row;\n",
       "            flex-wrap: wrap;\n",
       "            justify-content: flex-start;\n",
       "            width: 100%;\n",
       "        }\n",
       "        .wandb-col {\n",
       "            display: flex;\n",
       "            flex-direction: column;\n",
       "            flex-basis: 100%;\n",
       "            flex: 1;\n",
       "            padding: 10px;\n",
       "        }\n",
       "    </style>\n",
       "<div class=\"wandb-row\"><div class=\"wandb-col\"><h3>Run history:</h3><br/><table class=\"wandb\"><tr><td>corr_to_avg</td><td>▇▆▇▇▄█▂▅▆█▆█▁█▄▃▂▂▅▂</td></tr><tr><td>test_loss</td><td>█▆▅▆▅▅▄▅▄▄▃▂▂▂▂▃▂▂▁▂</td></tr><tr><td>train_loss</td><td>█▇▇▆▅▅▄▄▄▃▃▃▂▂▂▂▁▁▁▁</td></tr></table><br/></div><div class=\"wandb-col\"><h3>Run summary:</h3><br/><table class=\"wandb\"><tr><td>train_loss</td><td>2.17812</td></tr></table><br/></div></div>"
      ],
      "text/plain": [
       "<IPython.core.display.HTML object>"
      ]
     },
     "metadata": {},
     "output_type": "display_data"
    },
    {
     "data": {
      "text/html": [
       " View run <strong style=\"color:#cdcd00\">still-frost-111</strong> at: <a href='https://wandb.ai/et22/video-cs230/runs/kln5xhfm' target=\"_blank\">https://wandb.ai/et22/video-cs230/runs/kln5xhfm</a><br/> View project at: <a href='https://wandb.ai/et22/video-cs230' target=\"_blank\">https://wandb.ai/et22/video-cs230</a><br/>Synced 5 W&B file(s), 0 media file(s), 0 artifact file(s) and 0 other file(s)"
      ],
      "text/plain": [
       "<IPython.core.display.HTML object>"
      ]
     },
     "metadata": {},
     "output_type": "display_data"
    },
    {
     "data": {
      "text/html": [
       "Find logs at: <code>./wandb/run-20241130_195209-kln5xhfm/logs</code>"
      ],
      "text/plain": [
       "<IPython.core.display.HTML object>"
      ]
     },
     "metadata": {},
     "output_type": "display_data"
    },
    {
     "data": {
      "text/html": [
       "Tracking run with wandb version 0.18.7"
      ],
      "text/plain": [
       "<IPython.core.display.HTML object>"
      ]
     },
     "metadata": {},
     "output_type": "display_data"
    },
    {
     "data": {
      "text/html": [
       "Run data is saved locally in <code>/src/models/cs230/wandb/run-20241130_195702-rr4k0vmc</code>"
      ],
      "text/plain": [
       "<IPython.core.display.HTML object>"
      ]
     },
     "metadata": {},
     "output_type": "display_data"
    },
    {
     "data": {
      "text/html": [
       "Syncing run <strong><a href='https://wandb.ai/et22/video-cs230/runs/rr4k0vmc' target=\"_blank\">major-dust-112</a></strong> to <a href='https://wandb.ai/et22/video-cs230' target=\"_blank\">Weights & Biases</a> (<a href='https://wandb.me/developer-guide' target=\"_blank\">docs</a>)<br/>"
      ],
      "text/plain": [
       "<IPython.core.display.HTML object>"
      ]
     },
     "metadata": {},
     "output_type": "display_data"
    },
    {
     "data": {
      "text/html": [
       " View project at <a href='https://wandb.ai/et22/video-cs230' target=\"_blank\">https://wandb.ai/et22/video-cs230</a>"
      ],
      "text/plain": [
       "<IPython.core.display.HTML object>"
      ]
     },
     "metadata": {},
     "output_type": "display_data"
    },
    {
     "data": {
      "text/html": [
       " View run at <a href='https://wandb.ai/et22/video-cs230/runs/rr4k0vmc' target=\"_blank\">https://wandb.ai/et22/video-cs230/runs/rr4k0vmc</a>"
      ],
      "text/plain": [
       "<IPython.core.display.HTML object>"
      ]
     },
     "metadata": {},
     "output_type": "display_data"
    },
    {
     "data": {
      "text/html": [
       "\n",
       "    <style>\n",
       "        .wandb-row {\n",
       "            display: flex;\n",
       "            flex-direction: row;\n",
       "            flex-wrap: wrap;\n",
       "            justify-content: flex-start;\n",
       "            width: 100%;\n",
       "        }\n",
       "        .wandb-col {\n",
       "            display: flex;\n",
       "            flex-direction: column;\n",
       "            flex-basis: 100%;\n",
       "            flex: 1;\n",
       "            padding: 10px;\n",
       "        }\n",
       "    </style>\n",
       "<div class=\"wandb-row\"><div class=\"wandb-col\"><h3>Run history:</h3><br/><table class=\"wandb\"><tr><td>corr</td><td>▄▄▃▄▄▆█▆▃▃▆▆▇▄▅▇█▅█▅▅▃▅▄▄█▃▄▄▆▅▄▅▁▅▂▇▅▇▆</td></tr></table><br/></div><div class=\"wandb-col\"><h3>Run summary:</h3><br/><table class=\"wandb\"><tr><td>corr</td><td>0.14791</td></tr></table><br/></div></div>"
      ],
      "text/plain": [
       "<IPython.core.display.HTML object>"
      ]
     },
     "metadata": {},
     "output_type": "display_data"
    },
    {
     "data": {
      "text/html": [
       " View run <strong style=\"color:#cdcd00\">major-dust-112</strong> at: <a href='https://wandb.ai/et22/video-cs230/runs/rr4k0vmc' target=\"_blank\">https://wandb.ai/et22/video-cs230/runs/rr4k0vmc</a><br/> View project at: <a href='https://wandb.ai/et22/video-cs230' target=\"_blank\">https://wandb.ai/et22/video-cs230</a><br/>Synced 5 W&B file(s), 0 media file(s), 0 artifact file(s) and 0 other file(s)"
      ],
      "text/plain": [
       "<IPython.core.display.HTML object>"
      ]
     },
     "metadata": {},
     "output_type": "display_data"
    },
    {
     "data": {
      "text/html": [
       "Find logs at: <code>./wandb/run-20241130_195702-rr4k0vmc/logs</code>"
      ],
      "text/plain": [
       "<IPython.core.display.HTML object>"
      ]
     },
     "metadata": {},
     "output_type": "display_data"
    },
    {
     "name": "stdout",
     "output_type": "stream",
     "text": [
      "layer: layer4\n",
      "0\n"
     ]
    },
    {
     "data": {
      "text/html": [
       "Tracking run with wandb version 0.18.7"
      ],
      "text/plain": [
       "<IPython.core.display.HTML object>"
      ]
     },
     "metadata": {},
     "output_type": "display_data"
    },
    {
     "data": {
      "text/html": [
       "Run data is saved locally in <code>/src/models/cs230/wandb/run-20241130_195705-zknu1j0p</code>"
      ],
      "text/plain": [
       "<IPython.core.display.HTML object>"
      ]
     },
     "metadata": {},
     "output_type": "display_data"
    },
    {
     "data": {
      "text/html": [
       "Syncing run <strong><a href='https://wandb.ai/et22/video-cs230/runs/zknu1j0p' target=\"_blank\">pretty-breeze-113</a></strong> to <a href='https://wandb.ai/et22/video-cs230' target=\"_blank\">Weights & Biases</a> (<a href='https://wandb.me/developer-guide' target=\"_blank\">docs</a>)<br/>"
      ],
      "text/plain": [
       "<IPython.core.display.HTML object>"
      ]
     },
     "metadata": {},
     "output_type": "display_data"
    },
    {
     "data": {
      "text/html": [
       " View project at <a href='https://wandb.ai/et22/video-cs230' target=\"_blank\">https://wandb.ai/et22/video-cs230</a>"
      ],
      "text/plain": [
       "<IPython.core.display.HTML object>"
      ]
     },
     "metadata": {},
     "output_type": "display_data"
    },
    {
     "data": {
      "text/html": [
       " View run at <a href='https://wandb.ai/et22/video-cs230/runs/zknu1j0p' target=\"_blank\">https://wandb.ai/et22/video-cs230/runs/zknu1j0p</a>"
      ],
      "text/plain": [
       "<IPython.core.display.HTML object>"
      ]
     },
     "metadata": {},
     "output_type": "display_data"
    },
    {
     "name": "stdout",
     "output_type": "stream",
     "text": [
      "readout input shape: 512\n",
      "model.0.stim\n",
      "torch.Size([1, 3, 5, 32, 32])\n",
      "True\n",
      "model.0.core.stem.0.weight\n",
      "torch.Size([64, 3, 3, 7, 7])\n",
      "False\n",
      "model.0.core.stem.1.weight\n",
      "torch.Size([64])\n",
      "False\n",
      "model.0.core.stem.1.bias\n",
      "torch.Size([64])\n",
      "False\n",
      "model.0.core.layer1.0.conv1.0.weight\n",
      "torch.Size([64, 64, 3, 3, 3])\n",
      "False\n",
      "model.0.core.layer1.0.conv1.1.weight\n",
      "torch.Size([64])\n",
      "False\n",
      "model.0.core.layer1.0.conv1.1.bias\n",
      "torch.Size([64])\n",
      "False\n",
      "model.0.core.layer1.0.conv2.0.weight\n",
      "torch.Size([64, 64, 3, 3, 3])\n",
      "False\n",
      "model.0.core.layer1.0.conv2.1.weight\n",
      "torch.Size([64])\n",
      "False\n",
      "model.0.core.layer1.0.conv2.1.bias\n",
      "torch.Size([64])\n",
      "False\n",
      "model.0.core.layer1.1.conv1.0.weight\n",
      "torch.Size([64, 64, 3, 3, 3])\n",
      "False\n",
      "model.0.core.layer1.1.conv1.1.weight\n",
      "torch.Size([64])\n",
      "False\n",
      "model.0.core.layer1.1.conv1.1.bias\n",
      "torch.Size([64])\n",
      "False\n",
      "model.0.core.layer1.1.conv2.0.weight\n",
      "torch.Size([64, 64, 3, 3, 3])\n",
      "False\n",
      "model.0.core.layer1.1.conv2.1.weight\n",
      "torch.Size([64])\n",
      "False\n",
      "model.0.core.layer1.1.conv2.1.bias\n",
      "torch.Size([64])\n",
      "False\n",
      "model.0.core.layer2.0.conv1.0.weight\n",
      "torch.Size([128, 64, 3, 3, 3])\n",
      "False\n",
      "model.0.core.layer2.0.conv1.1.weight\n",
      "torch.Size([128])\n",
      "False\n",
      "model.0.core.layer2.0.conv1.1.bias\n",
      "torch.Size([128])\n",
      "False\n",
      "model.0.core.layer2.0.conv2.0.weight\n",
      "torch.Size([128, 128, 3, 3, 3])\n",
      "False\n",
      "model.0.core.layer2.0.conv2.1.weight\n",
      "torch.Size([128])\n",
      "False\n",
      "model.0.core.layer2.0.conv2.1.bias\n",
      "torch.Size([128])\n",
      "False\n",
      "model.0.core.layer2.0.downsample.0.weight\n",
      "torch.Size([128, 64, 1, 1, 1])\n",
      "False\n",
      "model.0.core.layer2.0.downsample.1.weight\n",
      "torch.Size([128])\n",
      "False\n",
      "model.0.core.layer2.0.downsample.1.bias\n",
      "torch.Size([128])\n",
      "False\n",
      "model.0.core.layer2.1.conv1.0.weight\n",
      "torch.Size([128, 128, 3, 3, 3])\n",
      "False\n",
      "model.0.core.layer2.1.conv1.1.weight\n",
      "torch.Size([128])\n",
      "False\n",
      "model.0.core.layer2.1.conv1.1.bias\n",
      "torch.Size([128])\n",
      "False\n",
      "model.0.core.layer2.1.conv2.0.weight\n",
      "torch.Size([128, 128, 3, 3, 3])\n",
      "False\n",
      "model.0.core.layer2.1.conv2.1.weight\n",
      "torch.Size([128])\n",
      "False\n",
      "model.0.core.layer2.1.conv2.1.bias\n",
      "torch.Size([128])\n",
      "False\n",
      "model.0.core.layer3.0.conv1.0.weight\n",
      "torch.Size([256, 128, 3, 3, 3])\n",
      "False\n",
      "model.0.core.layer3.0.conv1.1.weight\n",
      "torch.Size([256])\n",
      "False\n",
      "model.0.core.layer3.0.conv1.1.bias\n",
      "torch.Size([256])\n",
      "False\n",
      "model.0.core.layer3.0.conv2.0.weight\n",
      "torch.Size([256, 256, 3, 3, 3])\n",
      "False\n",
      "model.0.core.layer3.0.conv2.1.weight\n",
      "torch.Size([256])\n",
      "False\n",
      "model.0.core.layer3.0.conv2.1.bias\n",
      "torch.Size([256])\n",
      "False\n",
      "model.0.core.layer3.0.downsample.0.weight\n",
      "torch.Size([256, 128, 1, 1, 1])\n",
      "False\n",
      "model.0.core.layer3.0.downsample.1.weight\n",
      "torch.Size([256])\n",
      "False\n",
      "model.0.core.layer3.0.downsample.1.bias\n",
      "torch.Size([256])\n",
      "False\n",
      "model.0.core.layer3.1.conv1.0.weight\n",
      "torch.Size([256, 256, 3, 3, 3])\n",
      "False\n",
      "model.0.core.layer3.1.conv1.1.weight\n",
      "torch.Size([256])\n",
      "False\n",
      "model.0.core.layer3.1.conv1.1.bias\n",
      "torch.Size([256])\n",
      "False\n",
      "model.0.core.layer3.1.conv2.0.weight\n",
      "torch.Size([256, 256, 3, 3, 3])\n",
      "False\n",
      "model.0.core.layer3.1.conv2.1.weight\n",
      "torch.Size([256])\n",
      "False\n",
      "model.0.core.layer3.1.conv2.1.bias\n",
      "torch.Size([256])\n",
      "False\n",
      "model.0.core.layer4.0.conv1.0.weight\n",
      "torch.Size([512, 256, 3, 3, 3])\n",
      "False\n",
      "model.0.core.layer4.0.conv1.1.weight\n",
      "torch.Size([512])\n",
      "False\n",
      "model.0.core.layer4.0.conv1.1.bias\n",
      "torch.Size([512])\n",
      "False\n",
      "model.1.mu\n",
      "torch.Size([54, 2])\n",
      "True\n",
      "model.1.sigma\n",
      "torch.Size([54])\n",
      "True\n",
      "model.1.poisson_linear.linear.weight\n",
      "torch.Size([54, 512])\n",
      "True\n",
      "model.1.poisson_linear.linear.bias\n",
      "torch.Size([54])\n",
      "True\n",
      "  epoch 1 loss: 0.11500756934837059 corr: 0.18222795174729362\n",
      " num. neurons : 54\n",
      "  epoch 2 loss: 0.10834210407586745 corr: 0.3003631382497442\n",
      " num. neurons : 54\n",
      "  epoch 3 loss: 0.10720997045069565 corr: 0.33824172899074195\n",
      " num. neurons : 54\n",
      "  epoch 4 loss: 0.10636654341662372 corr: 0.3641749234689835\n",
      " num. neurons : 54\n",
      "  epoch 5 loss: 0.10581546736352238 corr: 0.38125093452929243\n",
      " num. neurons : 54\n",
      "  epoch 6 loss: 0.10536271866456962 corr: 0.3905548215216212\n",
      " num. neurons : 54\n",
      "  epoch 7 loss: 0.10501397144647293 corr: 0.3983073047418543\n",
      " num. neurons : 54\n",
      "  epoch 8 loss: 0.1046917133566774 corr: 0.40558304213270735\n",
      " num. neurons : 54\n",
      "  epoch 9 loss: 0.10445349504918228 corr: 0.4083350382479434\n",
      " num. neurons : 54\n",
      "  epoch 10 loss: 0.10412386611655906 corr: 0.41235160142727784\n",
      " num. neurons : 54\n",
      "  epoch 11 loss: 0.10393559809084292 corr: 0.41491939445211823\n",
      " num. neurons : 54\n",
      "  epoch 12 loss: 0.10374444608335141 corr: 0.4209647465371361\n",
      " num. neurons : 54\n",
      "  epoch 13 loss: 0.10351585335201688 corr: 0.42366748797254145\n",
      " num. neurons : 54\n",
      "  epoch 14 loss: 0.10345900547357254 corr: 0.4226556856768506\n",
      " num. neurons : 54\n",
      "  epoch 15 loss: 0.1032783912729334 corr: 0.426605742212991\n",
      " num. neurons : 54\n",
      "  epoch 16 loss: 0.10306642803145044 corr: 0.42905728028553447\n",
      " num. neurons : 54\n",
      "  epoch 17 loss: 0.10296994898054335 corr: 0.4283225701117595\n",
      " num. neurons : 54\n",
      "  epoch 18 loss: 0.1028129592353915 corr: 0.4307330594259189\n",
      " num. neurons : 54\n",
      "  epoch 19 loss: 0.1026982503467136 corr: 0.43314136350698046\n",
      " num. neurons : 54\n",
      "  epoch 20 loss: 0.10260415501064725 corr: 0.43322323022334613\n",
      " num. neurons : 54\n"
     ]
    },
    {
     "data": {
      "text/html": [
       "\n",
       "    <style>\n",
       "        .wandb-row {\n",
       "            display: flex;\n",
       "            flex-direction: row;\n",
       "            flex-wrap: wrap;\n",
       "            justify-content: flex-start;\n",
       "            width: 100%;\n",
       "        }\n",
       "        .wandb-col {\n",
       "            display: flex;\n",
       "            flex-direction: column;\n",
       "            flex-basis: 100%;\n",
       "            flex: 1;\n",
       "            padding: 10px;\n",
       "        }\n",
       "    </style>\n",
       "<div class=\"wandb-row\"><div class=\"wandb-col\"><h3>Run history:</h3><br/><table class=\"wandb\"><tr><td>corr_to_avg</td><td>▁▄▅▆▇▇▇▇▇▇▇█████████</td></tr><tr><td>test_loss</td><td>█▆▅▄▃▃▃▃▂▂▂▂▂▂▂▁▂▂▂▁</td></tr><tr><td>train_loss</td><td>█▄▄▃▃▃▂▂▂▂▂▂▂▁▁▁▁▁▁▁</td></tr></table><br/></div><div class=\"wandb-col\"><h3>Run summary:</h3><br/><table class=\"wandb\"><tr><td>train_loss</td><td>1.63601</td></tr></table><br/></div></div>"
      ],
      "text/plain": [
       "<IPython.core.display.HTML object>"
      ]
     },
     "metadata": {},
     "output_type": "display_data"
    },
    {
     "data": {
      "text/html": [
       " View run <strong style=\"color:#cdcd00\">pretty-breeze-113</strong> at: <a href='https://wandb.ai/et22/video-cs230/runs/zknu1j0p' target=\"_blank\">https://wandb.ai/et22/video-cs230/runs/zknu1j0p</a><br/> View project at: <a href='https://wandb.ai/et22/video-cs230' target=\"_blank\">https://wandb.ai/et22/video-cs230</a><br/>Synced 5 W&B file(s), 0 media file(s), 0 artifact file(s) and 0 other file(s)"
      ],
      "text/plain": [
       "<IPython.core.display.HTML object>"
      ]
     },
     "metadata": {},
     "output_type": "display_data"
    },
    {
     "data": {
      "text/html": [
       "Find logs at: <code>./wandb/run-20241130_195705-zknu1j0p/logs</code>"
      ],
      "text/plain": [
       "<IPython.core.display.HTML object>"
      ]
     },
     "metadata": {},
     "output_type": "display_data"
    },
    {
     "data": {
      "text/html": [
       "Tracking run with wandb version 0.18.7"
      ],
      "text/plain": [
       "<IPython.core.display.HTML object>"
      ]
     },
     "metadata": {},
     "output_type": "display_data"
    },
    {
     "data": {
      "text/html": [
       "Run data is saved locally in <code>/src/models/cs230/wandb/run-20241130_200113-qe7m6wo8</code>"
      ],
      "text/plain": [
       "<IPython.core.display.HTML object>"
      ]
     },
     "metadata": {},
     "output_type": "display_data"
    },
    {
     "data": {
      "text/html": [
       "Syncing run <strong><a href='https://wandb.ai/et22/video-cs230/runs/qe7m6wo8' target=\"_blank\">young-wildflower-114</a></strong> to <a href='https://wandb.ai/et22/video-cs230' target=\"_blank\">Weights & Biases</a> (<a href='https://wandb.me/developer-guide' target=\"_blank\">docs</a>)<br/>"
      ],
      "text/plain": [
       "<IPython.core.display.HTML object>"
      ]
     },
     "metadata": {},
     "output_type": "display_data"
    },
    {
     "data": {
      "text/html": [
       " View project at <a href='https://wandb.ai/et22/video-cs230' target=\"_blank\">https://wandb.ai/et22/video-cs230</a>"
      ],
      "text/plain": [
       "<IPython.core.display.HTML object>"
      ]
     },
     "metadata": {},
     "output_type": "display_data"
    },
    {
     "data": {
      "text/html": [
       " View run at <a href='https://wandb.ai/et22/video-cs230/runs/qe7m6wo8' target=\"_blank\">https://wandb.ai/et22/video-cs230/runs/qe7m6wo8</a>"
      ],
      "text/plain": [
       "<IPython.core.display.HTML object>"
      ]
     },
     "metadata": {},
     "output_type": "display_data"
    },
    {
     "name": "stdout",
     "output_type": "stream",
     "text": [
      "readout input shape: 512\n",
      "model.0.stim\n",
      "torch.Size([1, 3, 5, 32, 32])\n",
      "True\n",
      "model.0.core.stem.0.weight\n",
      "torch.Size([64, 3, 3, 7, 7])\n",
      "False\n",
      "model.0.core.stem.1.weight\n",
      "torch.Size([64])\n",
      "False\n",
      "model.0.core.stem.1.bias\n",
      "torch.Size([64])\n",
      "False\n",
      "model.0.core.layer1.0.conv1.0.weight\n",
      "torch.Size([64, 64, 3, 3, 3])\n",
      "False\n",
      "model.0.core.layer1.0.conv1.1.weight\n",
      "torch.Size([64])\n",
      "False\n",
      "model.0.core.layer1.0.conv1.1.bias\n",
      "torch.Size([64])\n",
      "False\n",
      "model.0.core.layer1.0.conv2.0.weight\n",
      "torch.Size([64, 64, 3, 3, 3])\n",
      "False\n",
      "model.0.core.layer1.0.conv2.1.weight\n",
      "torch.Size([64])\n",
      "False\n",
      "model.0.core.layer1.0.conv2.1.bias\n",
      "torch.Size([64])\n",
      "False\n",
      "model.0.core.layer1.1.conv1.0.weight\n",
      "torch.Size([64, 64, 3, 3, 3])\n",
      "False\n",
      "model.0.core.layer1.1.conv1.1.weight\n",
      "torch.Size([64])\n",
      "False\n",
      "model.0.core.layer1.1.conv1.1.bias\n",
      "torch.Size([64])\n",
      "False\n",
      "model.0.core.layer1.1.conv2.0.weight\n",
      "torch.Size([64, 64, 3, 3, 3])\n",
      "False\n",
      "model.0.core.layer1.1.conv2.1.weight\n",
      "torch.Size([64])\n",
      "False\n",
      "model.0.core.layer1.1.conv2.1.bias\n",
      "torch.Size([64])\n",
      "False\n",
      "model.0.core.layer2.0.conv1.0.weight\n",
      "torch.Size([128, 64, 3, 3, 3])\n",
      "False\n",
      "model.0.core.layer2.0.conv1.1.weight\n",
      "torch.Size([128])\n",
      "False\n",
      "model.0.core.layer2.0.conv1.1.bias\n",
      "torch.Size([128])\n",
      "False\n",
      "model.0.core.layer2.0.conv2.0.weight\n",
      "torch.Size([128, 128, 3, 3, 3])\n",
      "False\n",
      "model.0.core.layer2.0.conv2.1.weight\n",
      "torch.Size([128])\n",
      "False\n",
      "model.0.core.layer2.0.conv2.1.bias\n",
      "torch.Size([128])\n",
      "False\n",
      "model.0.core.layer2.0.downsample.0.weight\n",
      "torch.Size([128, 64, 1, 1, 1])\n",
      "False\n",
      "model.0.core.layer2.0.downsample.1.weight\n",
      "torch.Size([128])\n",
      "False\n",
      "model.0.core.layer2.0.downsample.1.bias\n",
      "torch.Size([128])\n",
      "False\n",
      "model.0.core.layer2.1.conv1.0.weight\n",
      "torch.Size([128, 128, 3, 3, 3])\n",
      "False\n",
      "model.0.core.layer2.1.conv1.1.weight\n",
      "torch.Size([128])\n",
      "False\n",
      "model.0.core.layer2.1.conv1.1.bias\n",
      "torch.Size([128])\n",
      "False\n",
      "model.0.core.layer2.1.conv2.0.weight\n",
      "torch.Size([128, 128, 3, 3, 3])\n",
      "False\n",
      "model.0.core.layer2.1.conv2.1.weight\n",
      "torch.Size([128])\n",
      "False\n",
      "model.0.core.layer2.1.conv2.1.bias\n",
      "torch.Size([128])\n",
      "False\n",
      "model.0.core.layer3.0.conv1.0.weight\n",
      "torch.Size([256, 128, 3, 3, 3])\n",
      "False\n",
      "model.0.core.layer3.0.conv1.1.weight\n",
      "torch.Size([256])\n",
      "False\n",
      "model.0.core.layer3.0.conv1.1.bias\n",
      "torch.Size([256])\n",
      "False\n",
      "model.0.core.layer3.0.conv2.0.weight\n",
      "torch.Size([256, 256, 3, 3, 3])\n",
      "False\n",
      "model.0.core.layer3.0.conv2.1.weight\n",
      "torch.Size([256])\n",
      "False\n",
      "model.0.core.layer3.0.conv2.1.bias\n",
      "torch.Size([256])\n",
      "False\n",
      "model.0.core.layer3.0.downsample.0.weight\n",
      "torch.Size([256, 128, 1, 1, 1])\n",
      "False\n",
      "model.0.core.layer3.0.downsample.1.weight\n",
      "torch.Size([256])\n",
      "False\n",
      "model.0.core.layer3.0.downsample.1.bias\n",
      "torch.Size([256])\n",
      "False\n",
      "model.0.core.layer3.1.conv1.0.weight\n",
      "torch.Size([256, 256, 3, 3, 3])\n",
      "False\n",
      "model.0.core.layer3.1.conv1.1.weight\n",
      "torch.Size([256])\n",
      "False\n",
      "model.0.core.layer3.1.conv1.1.bias\n",
      "torch.Size([256])\n",
      "False\n",
      "model.0.core.layer3.1.conv2.0.weight\n",
      "torch.Size([256, 256, 3, 3, 3])\n",
      "False\n",
      "model.0.core.layer3.1.conv2.1.weight\n",
      "torch.Size([256])\n",
      "False\n",
      "model.0.core.layer3.1.conv2.1.bias\n",
      "torch.Size([256])\n",
      "False\n",
      "model.0.core.layer4.0.conv1.0.weight\n",
      "torch.Size([512, 256, 3, 3, 3])\n",
      "False\n",
      "model.0.core.layer4.0.conv1.1.weight\n",
      "torch.Size([512])\n",
      "False\n",
      "model.0.core.layer4.0.conv1.1.bias\n",
      "torch.Size([512])\n",
      "False\n",
      "model.1.mu\n",
      "torch.Size([95, 2])\n",
      "True\n",
      "model.1.sigma\n",
      "torch.Size([95])\n",
      "True\n",
      "model.1.poisson_linear.linear.weight\n",
      "torch.Size([95, 512])\n",
      "True\n",
      "model.1.poisson_linear.linear.bias\n",
      "torch.Size([95])\n",
      "True\n",
      "  epoch 1 loss: 0.10920883685506451 corr: 0.23372246569150484\n",
      " num. neurons : 95\n",
      "  epoch 2 loss: 0.1037331003793247 corr: 0.2913831927102461\n",
      " num. neurons : 95\n",
      "  epoch 3 loss: 0.10250063254571086 corr: 0.31930390671018577\n",
      " num. neurons : 95\n",
      "  epoch 4 loss: 0.101608407497406 corr: 0.3187376894113555\n",
      " num. neurons : 95\n",
      "  epoch 5 loss: 0.10096126089545444 corr: 0.3319009065319757\n",
      " num. neurons : 95\n",
      "  epoch 6 loss: 0.10045917127769032 corr: 0.35073138286929534\n",
      " num. neurons : 95\n",
      "  epoch 7 loss: 0.10003871168765723 corr: 0.3520574539023608\n",
      " num. neurons : 95\n",
      "  epoch 8 loss: 0.09976731108121223 corr: 0.35598207776541146\n",
      " num. neurons : 95\n",
      "  epoch 9 loss: 0.0993758121710173 corr: 0.3620584343244906\n",
      " num. neurons : 95\n",
      "  epoch 10 loss: 0.09911672082871043 corr: 0.36664425170398995\n",
      " num. neurons : 95\n",
      "  epoch 11 loss: 0.09883961065901511 corr: 0.365052085749601\n",
      " num. neurons : 95\n",
      "  epoch 12 loss: 0.09871207681625925 corr: 0.36251695737520373\n",
      " num. neurons : 95\n",
      "  epoch 13 loss: 0.09847829323164456 corr: 0.3644572407131381\n",
      " num. neurons : 95\n",
      "  epoch 14 loss: 0.09831597143442843 corr: 0.3716878461345679\n",
      " num. neurons : 95\n",
      "  epoch 15 loss: 0.09800764534485902 corr: 0.37240686913409804\n",
      " num. neurons : 95\n",
      "  epoch 16 loss: 0.09800343482282149 corr: 0.374524450887195\n",
      " num. neurons : 95\n",
      "  epoch 17 loss: 0.09777539338116871 corr: 0.37455225872013226\n",
      " num. neurons : 95\n",
      "  epoch 18 loss: 0.09767402953502395 corr: 0.37334422947572893\n",
      " num. neurons : 95\n",
      "  epoch 19 loss: 0.09744509183923611 corr: 0.373268071273162\n",
      " num. neurons : 95\n",
      "  epoch 20 loss: 0.09740796301377382 corr: 0.37352842494770816\n",
      " num. neurons : 95\n"
     ]
    },
    {
     "data": {
      "text/html": [
       "\n",
       "    <style>\n",
       "        .wandb-row {\n",
       "            display: flex;\n",
       "            flex-direction: row;\n",
       "            flex-wrap: wrap;\n",
       "            justify-content: flex-start;\n",
       "            width: 100%;\n",
       "        }\n",
       "        .wandb-col {\n",
       "            display: flex;\n",
       "            flex-direction: column;\n",
       "            flex-basis: 100%;\n",
       "            flex: 1;\n",
       "            padding: 10px;\n",
       "        }\n",
       "    </style>\n",
       "<div class=\"wandb-row\"><div class=\"wandb-col\"><h3>Run history:</h3><br/><table class=\"wandb\"><tr><td>corr_to_avg</td><td>▁▄▅▅▆▇▇▇▇██▇▇███████</td></tr><tr><td>test_loss</td><td>█▆▄▄▂▄▃▂▃▂▂▂▁▁▁▁▂▁▂▂</td></tr><tr><td>train_loss</td><td>█▅▄▃▃▃▃▂▂▂▂▂▂▂▁▁▁▁▁▁</td></tr></table><br/></div><div class=\"wandb-col\"><h3>Run summary:</h3><br/><table class=\"wandb\"><tr><td>train_loss</td><td>1.55041</td></tr></table><br/></div></div>"
      ],
      "text/plain": [
       "<IPython.core.display.HTML object>"
      ]
     },
     "metadata": {},
     "output_type": "display_data"
    },
    {
     "data": {
      "text/html": [
       " View run <strong style=\"color:#cdcd00\">young-wildflower-114</strong> at: <a href='https://wandb.ai/et22/video-cs230/runs/qe7m6wo8' target=\"_blank\">https://wandb.ai/et22/video-cs230/runs/qe7m6wo8</a><br/> View project at: <a href='https://wandb.ai/et22/video-cs230' target=\"_blank\">https://wandb.ai/et22/video-cs230</a><br/>Synced 5 W&B file(s), 0 media file(s), 0 artifact file(s) and 0 other file(s)"
      ],
      "text/plain": [
       "<IPython.core.display.HTML object>"
      ]
     },
     "metadata": {},
     "output_type": "display_data"
    },
    {
     "data": {
      "text/html": [
       "Find logs at: <code>./wandb/run-20241130_200113-qe7m6wo8/logs</code>"
      ],
      "text/plain": [
       "<IPython.core.display.HTML object>"
      ]
     },
     "metadata": {},
     "output_type": "display_data"
    },
    {
     "data": {
      "text/html": [
       "Tracking run with wandb version 0.18.7"
      ],
      "text/plain": [
       "<IPython.core.display.HTML object>"
      ]
     },
     "metadata": {},
     "output_type": "display_data"
    },
    {
     "data": {
      "text/html": [
       "Run data is saved locally in <code>/src/models/cs230/wandb/run-20241130_200517-08einbfw</code>"
      ],
      "text/plain": [
       "<IPython.core.display.HTML object>"
      ]
     },
     "metadata": {},
     "output_type": "display_data"
    },
    {
     "data": {
      "text/html": [
       "Syncing run <strong><a href='https://wandb.ai/et22/video-cs230/runs/08einbfw' target=\"_blank\">splendid-bee-115</a></strong> to <a href='https://wandb.ai/et22/video-cs230' target=\"_blank\">Weights & Biases</a> (<a href='https://wandb.me/developer-guide' target=\"_blank\">docs</a>)<br/>"
      ],
      "text/plain": [
       "<IPython.core.display.HTML object>"
      ]
     },
     "metadata": {},
     "output_type": "display_data"
    },
    {
     "data": {
      "text/html": [
       " View project at <a href='https://wandb.ai/et22/video-cs230' target=\"_blank\">https://wandb.ai/et22/video-cs230</a>"
      ],
      "text/plain": [
       "<IPython.core.display.HTML object>"
      ]
     },
     "metadata": {},
     "output_type": "display_data"
    },
    {
     "data": {
      "text/html": [
       " View run at <a href='https://wandb.ai/et22/video-cs230/runs/08einbfw' target=\"_blank\">https://wandb.ai/et22/video-cs230/runs/08einbfw</a>"
      ],
      "text/plain": [
       "<IPython.core.display.HTML object>"
      ]
     },
     "metadata": {},
     "output_type": "display_data"
    },
    {
     "name": "stdout",
     "output_type": "stream",
     "text": [
      "readout input shape: 512\n",
      "model.0.stim\n",
      "torch.Size([1, 3, 5, 32, 32])\n",
      "True\n",
      "model.0.core.stem.0.weight\n",
      "torch.Size([64, 3, 3, 7, 7])\n",
      "False\n",
      "model.0.core.stem.1.weight\n",
      "torch.Size([64])\n",
      "False\n",
      "model.0.core.stem.1.bias\n",
      "torch.Size([64])\n",
      "False\n",
      "model.0.core.layer1.0.conv1.0.weight\n",
      "torch.Size([64, 64, 3, 3, 3])\n",
      "False\n",
      "model.0.core.layer1.0.conv1.1.weight\n",
      "torch.Size([64])\n",
      "False\n",
      "model.0.core.layer1.0.conv1.1.bias\n",
      "torch.Size([64])\n",
      "False\n",
      "model.0.core.layer1.0.conv2.0.weight\n",
      "torch.Size([64, 64, 3, 3, 3])\n",
      "False\n",
      "model.0.core.layer1.0.conv2.1.weight\n",
      "torch.Size([64])\n",
      "False\n",
      "model.0.core.layer1.0.conv2.1.bias\n",
      "torch.Size([64])\n",
      "False\n",
      "model.0.core.layer1.1.conv1.0.weight\n",
      "torch.Size([64, 64, 3, 3, 3])\n",
      "False\n",
      "model.0.core.layer1.1.conv1.1.weight\n",
      "torch.Size([64])\n",
      "False\n",
      "model.0.core.layer1.1.conv1.1.bias\n",
      "torch.Size([64])\n",
      "False\n",
      "model.0.core.layer1.1.conv2.0.weight\n",
      "torch.Size([64, 64, 3, 3, 3])\n",
      "False\n",
      "model.0.core.layer1.1.conv2.1.weight\n",
      "torch.Size([64])\n",
      "False\n",
      "model.0.core.layer1.1.conv2.1.bias\n",
      "torch.Size([64])\n",
      "False\n",
      "model.0.core.layer2.0.conv1.0.weight\n",
      "torch.Size([128, 64, 3, 3, 3])\n",
      "False\n",
      "model.0.core.layer2.0.conv1.1.weight\n",
      "torch.Size([128])\n",
      "False\n",
      "model.0.core.layer2.0.conv1.1.bias\n",
      "torch.Size([128])\n",
      "False\n",
      "model.0.core.layer2.0.conv2.0.weight\n",
      "torch.Size([128, 128, 3, 3, 3])\n",
      "False\n",
      "model.0.core.layer2.0.conv2.1.weight\n",
      "torch.Size([128])\n",
      "False\n",
      "model.0.core.layer2.0.conv2.1.bias\n",
      "torch.Size([128])\n",
      "False\n",
      "model.0.core.layer2.0.downsample.0.weight\n",
      "torch.Size([128, 64, 1, 1, 1])\n",
      "False\n",
      "model.0.core.layer2.0.downsample.1.weight\n",
      "torch.Size([128])\n",
      "False\n",
      "model.0.core.layer2.0.downsample.1.bias\n",
      "torch.Size([128])\n",
      "False\n",
      "model.0.core.layer2.1.conv1.0.weight\n",
      "torch.Size([128, 128, 3, 3, 3])\n",
      "False\n",
      "model.0.core.layer2.1.conv1.1.weight\n",
      "torch.Size([128])\n",
      "False\n",
      "model.0.core.layer2.1.conv1.1.bias\n",
      "torch.Size([128])\n",
      "False\n",
      "model.0.core.layer2.1.conv2.0.weight\n",
      "torch.Size([128, 128, 3, 3, 3])\n",
      "False\n",
      "model.0.core.layer2.1.conv2.1.weight\n",
      "torch.Size([128])\n",
      "False\n",
      "model.0.core.layer2.1.conv2.1.bias\n",
      "torch.Size([128])\n",
      "False\n",
      "model.0.core.layer3.0.conv1.0.weight\n",
      "torch.Size([256, 128, 3, 3, 3])\n",
      "False\n",
      "model.0.core.layer3.0.conv1.1.weight\n",
      "torch.Size([256])\n",
      "False\n",
      "model.0.core.layer3.0.conv1.1.bias\n",
      "torch.Size([256])\n",
      "False\n",
      "model.0.core.layer3.0.conv2.0.weight\n",
      "torch.Size([256, 256, 3, 3, 3])\n",
      "False\n",
      "model.0.core.layer3.0.conv2.1.weight\n",
      "torch.Size([256])\n",
      "False\n",
      "model.0.core.layer3.0.conv2.1.bias\n",
      "torch.Size([256])\n",
      "False\n",
      "model.0.core.layer3.0.downsample.0.weight\n",
      "torch.Size([256, 128, 1, 1, 1])\n",
      "False\n",
      "model.0.core.layer3.0.downsample.1.weight\n",
      "torch.Size([256])\n",
      "False\n",
      "model.0.core.layer3.0.downsample.1.bias\n",
      "torch.Size([256])\n",
      "False\n",
      "model.0.core.layer3.1.conv1.0.weight\n",
      "torch.Size([256, 256, 3, 3, 3])\n",
      "False\n",
      "model.0.core.layer3.1.conv1.1.weight\n",
      "torch.Size([256])\n",
      "False\n",
      "model.0.core.layer3.1.conv1.1.bias\n",
      "torch.Size([256])\n",
      "False\n",
      "model.0.core.layer3.1.conv2.0.weight\n",
      "torch.Size([256, 256, 3, 3, 3])\n",
      "False\n",
      "model.0.core.layer3.1.conv2.1.weight\n",
      "torch.Size([256])\n",
      "False\n",
      "model.0.core.layer3.1.conv2.1.bias\n",
      "torch.Size([256])\n",
      "False\n",
      "model.0.core.layer4.0.conv1.0.weight\n",
      "torch.Size([512, 256, 3, 3, 3])\n",
      "False\n",
      "model.0.core.layer4.0.conv1.1.weight\n",
      "torch.Size([512])\n",
      "False\n",
      "model.0.core.layer4.0.conv1.1.bias\n",
      "torch.Size([512])\n",
      "False\n",
      "model.1.mu\n",
      "torch.Size([54, 2])\n",
      "True\n",
      "model.1.sigma\n",
      "torch.Size([54])\n",
      "True\n",
      "model.1.poisson_linear.linear.weight\n",
      "torch.Size([54, 512])\n",
      "True\n",
      "model.1.poisson_linear.linear.bias\n",
      "torch.Size([54])\n",
      "True\n",
      "  epoch 1 loss: 0.12545210657229758 corr: 0.2341564672319244\n",
      " num. neurons : 54\n",
      "  epoch 2 loss: 0.116922669264735 corr: 0.2636350861712603\n",
      " num. neurons : 54\n",
      "  epoch 3 loss: 0.1156655279217088 corr: 0.3166799090013368\n",
      " num. neurons : 54\n",
      "  epoch 4 loss: 0.11494031884338121 corr: 0.33509599627990283\n",
      " num. neurons : 54\n",
      "  epoch 5 loss: 0.11425543640605516 corr: 0.3415298278677372\n",
      " num. neurons : 54\n",
      "  epoch 6 loss: 0.11384068867117299 corr: 0.34859626973342256\n",
      " num. neurons : 54\n",
      "  epoch 7 loss: 0.11349646158734569 corr: 0.35383331795811196\n",
      " num. neurons : 54\n",
      "  epoch 8 loss: 0.11310772607045144 corr: 0.35736471422090893\n",
      " num. neurons : 54\n",
      "  epoch 9 loss: 0.11280374476205171 corr: 0.35757212287028106\n",
      " num. neurons : 54\n",
      "  epoch 10 loss: 0.11259302912079981 corr: 0.3567135970190379\n",
      " num. neurons : 54\n",
      "  epoch 11 loss: 0.11232281439898811 corr: 0.36551589384982347\n",
      " num. neurons : 54\n",
      "  epoch 12 loss: 0.11216623712241808 corr: 0.3602301148816133\n",
      " num. neurons : 54\n",
      "  epoch 13 loss: 0.11199356616865562 corr: 0.3629442018814068\n",
      " num. neurons : 54\n",
      "  epoch 14 loss: 0.11180737379280571 corr: 0.36436961215487584\n",
      " num. neurons : 54\n",
      "  epoch 15 loss: 0.11171097615808116 corr: 0.360605173118189\n",
      " num. neurons : 54\n",
      "  epoch 16 loss: 0.11148898614225075 corr: 0.3680088869854448\n",
      " num. neurons : 54\n",
      "  epoch 17 loss: 0.11138128821788473 corr: 0.36595313556326475\n",
      " num. neurons : 54\n",
      "  epoch 18 loss: 0.11128119308544454 corr: 0.3663343750921354\n",
      " num. neurons : 54\n",
      "  epoch 19 loss: 0.11111803295978319 corr: 0.36829400683194113\n",
      " num. neurons : 54\n",
      "  epoch 20 loss: 0.11102058523613051 corr: 0.3630965397793687\n",
      " num. neurons : 54\n"
     ]
    },
    {
     "data": {
      "text/html": [
       "\n",
       "    <style>\n",
       "        .wandb-row {\n",
       "            display: flex;\n",
       "            flex-direction: row;\n",
       "            flex-wrap: wrap;\n",
       "            justify-content: flex-start;\n",
       "            width: 100%;\n",
       "        }\n",
       "        .wandb-col {\n",
       "            display: flex;\n",
       "            flex-direction: column;\n",
       "            flex-basis: 100%;\n",
       "            flex: 1;\n",
       "            padding: 10px;\n",
       "        }\n",
       "    </style>\n",
       "<div class=\"wandb-row\"><div class=\"wandb-col\"><h3>Run history:</h3><br/><table class=\"wandb\"><tr><td>corr_to_avg</td><td>▁▃▅▆▇▇▇▇▇▇██████████</td></tr><tr><td>test_loss</td><td>█▆▄▃▃▄▂▂▃▂▂▂▂▂▁▁▂▃▃▁</td></tr><tr><td>train_loss</td><td>█▄▃▃▃▂▂▂▂▂▂▂▁▁▁▁▁▁▁▁</td></tr></table><br/></div><div class=\"wandb-col\"><h3>Run summary:</h3><br/><table class=\"wandb\"><tr><td>train_loss</td><td>1.77475</td></tr></table><br/></div></div>"
      ],
      "text/plain": [
       "<IPython.core.display.HTML object>"
      ]
     },
     "metadata": {},
     "output_type": "display_data"
    },
    {
     "data": {
      "text/html": [
       " View run <strong style=\"color:#cdcd00\">splendid-bee-115</strong> at: <a href='https://wandb.ai/et22/video-cs230/runs/08einbfw' target=\"_blank\">https://wandb.ai/et22/video-cs230/runs/08einbfw</a><br/> View project at: <a href='https://wandb.ai/et22/video-cs230' target=\"_blank\">https://wandb.ai/et22/video-cs230</a><br/>Synced 5 W&B file(s), 0 media file(s), 0 artifact file(s) and 0 other file(s)"
      ],
      "text/plain": [
       "<IPython.core.display.HTML object>"
      ]
     },
     "metadata": {},
     "output_type": "display_data"
    },
    {
     "data": {
      "text/html": [
       "Find logs at: <code>./wandb/run-20241130_200517-08einbfw/logs</code>"
      ],
      "text/plain": [
       "<IPython.core.display.HTML object>"
      ]
     },
     "metadata": {},
     "output_type": "display_data"
    },
    {
     "data": {
      "text/html": [
       "Tracking run with wandb version 0.18.7"
      ],
      "text/plain": [
       "<IPython.core.display.HTML object>"
      ]
     },
     "metadata": {},
     "output_type": "display_data"
    },
    {
     "data": {
      "text/html": [
       "Run data is saved locally in <code>/src/models/cs230/wandb/run-20241130_201007-v1hjxq32</code>"
      ],
      "text/plain": [
       "<IPython.core.display.HTML object>"
      ]
     },
     "metadata": {},
     "output_type": "display_data"
    },
    {
     "data": {
      "text/html": [
       "Syncing run <strong><a href='https://wandb.ai/et22/video-cs230/runs/v1hjxq32' target=\"_blank\">azure-pyramid-116</a></strong> to <a href='https://wandb.ai/et22/video-cs230' target=\"_blank\">Weights & Biases</a> (<a href='https://wandb.me/developer-guide' target=\"_blank\">docs</a>)<br/>"
      ],
      "text/plain": [
       "<IPython.core.display.HTML object>"
      ]
     },
     "metadata": {},
     "output_type": "display_data"
    },
    {
     "data": {
      "text/html": [
       " View project at <a href='https://wandb.ai/et22/video-cs230' target=\"_blank\">https://wandb.ai/et22/video-cs230</a>"
      ],
      "text/plain": [
       "<IPython.core.display.HTML object>"
      ]
     },
     "metadata": {},
     "output_type": "display_data"
    },
    {
     "data": {
      "text/html": [
       " View run at <a href='https://wandb.ai/et22/video-cs230/runs/v1hjxq32' target=\"_blank\">https://wandb.ai/et22/video-cs230/runs/v1hjxq32</a>"
      ],
      "text/plain": [
       "<IPython.core.display.HTML object>"
      ]
     },
     "metadata": {},
     "output_type": "display_data"
    },
    {
     "data": {
      "text/html": [
       "\n",
       "    <style>\n",
       "        .wandb-row {\n",
       "            display: flex;\n",
       "            flex-direction: row;\n",
       "            flex-wrap: wrap;\n",
       "            justify-content: flex-start;\n",
       "            width: 100%;\n",
       "        }\n",
       "        .wandb-col {\n",
       "            display: flex;\n",
       "            flex-direction: column;\n",
       "            flex-basis: 100%;\n",
       "            flex: 1;\n",
       "            padding: 10px;\n",
       "        }\n",
       "    </style>\n",
       "<div class=\"wandb-row\"><div class=\"wandb-col\"><h3>Run history:</h3><br/><table class=\"wandb\"><tr><td>corr</td><td>▅▃▃▅▆▆▆▆▅▄▅▄▆▃▅▅▆▅▄▅▅▂█▂▅▆▄▁▄▃▅▆▅▄▅▅▅▇▇▆</td></tr></table><br/></div><div class=\"wandb-col\"><h3>Run summary:</h3><br/><table class=\"wandb\"><tr><td>corr</td><td>0.51483</td></tr></table><br/></div></div>"
      ],
      "text/plain": [
       "<IPython.core.display.HTML object>"
      ]
     },
     "metadata": {},
     "output_type": "display_data"
    },
    {
     "data": {
      "text/html": [
       " View run <strong style=\"color:#cdcd00\">azure-pyramid-116</strong> at: <a href='https://wandb.ai/et22/video-cs230/runs/v1hjxq32' target=\"_blank\">https://wandb.ai/et22/video-cs230/runs/v1hjxq32</a><br/> View project at: <a href='https://wandb.ai/et22/video-cs230' target=\"_blank\">https://wandb.ai/et22/video-cs230</a><br/>Synced 5 W&B file(s), 0 media file(s), 0 artifact file(s) and 0 other file(s)"
      ],
      "text/plain": [
       "<IPython.core.display.HTML object>"
      ]
     },
     "metadata": {},
     "output_type": "display_data"
    },
    {
     "data": {
      "text/html": [
       "Find logs at: <code>./wandb/run-20241130_201007-v1hjxq32/logs</code>"
      ],
      "text/plain": [
       "<IPython.core.display.HTML object>"
      ]
     },
     "metadata": {},
     "output_type": "display_data"
    },
    {
     "name": "stdout",
     "output_type": "stream",
     "text": [
      "0\n"
     ]
    },
    {
     "data": {
      "text/html": [
       "Tracking run with wandb version 0.18.7"
      ],
      "text/plain": [
       "<IPython.core.display.HTML object>"
      ]
     },
     "metadata": {},
     "output_type": "display_data"
    },
    {
     "data": {
      "text/html": [
       "Run data is saved locally in <code>/src/models/cs230/wandb/run-20241130_201009-y592qggr</code>"
      ],
      "text/plain": [
       "<IPython.core.display.HTML object>"
      ]
     },
     "metadata": {},
     "output_type": "display_data"
    },
    {
     "data": {
      "text/html": [
       "Syncing run <strong><a href='https://wandb.ai/et22/video-cs230/runs/y592qggr' target=\"_blank\">restful-field-117</a></strong> to <a href='https://wandb.ai/et22/video-cs230' target=\"_blank\">Weights & Biases</a> (<a href='https://wandb.me/developer-guide' target=\"_blank\">docs</a>)<br/>"
      ],
      "text/plain": [
       "<IPython.core.display.HTML object>"
      ]
     },
     "metadata": {},
     "output_type": "display_data"
    },
    {
     "data": {
      "text/html": [
       " View project at <a href='https://wandb.ai/et22/video-cs230' target=\"_blank\">https://wandb.ai/et22/video-cs230</a>"
      ],
      "text/plain": [
       "<IPython.core.display.HTML object>"
      ]
     },
     "metadata": {},
     "output_type": "display_data"
    },
    {
     "data": {
      "text/html": [
       " View run at <a href='https://wandb.ai/et22/video-cs230/runs/y592qggr' target=\"_blank\">https://wandb.ai/et22/video-cs230/runs/y592qggr</a>"
      ],
      "text/plain": [
       "<IPython.core.display.HTML object>"
      ]
     },
     "metadata": {},
     "output_type": "display_data"
    },
    {
     "name": "stdout",
     "output_type": "stream",
     "text": [
      "readout input shape: 512\n",
      "model.0.stim\n",
      "torch.Size([1, 3, 5, 32, 32])\n",
      "True\n",
      "model.0.core.stem.0.weight\n",
      "torch.Size([64, 3, 3, 7, 7])\n",
      "True\n",
      "model.0.core.stem.1.weight\n",
      "torch.Size([64])\n",
      "True\n",
      "model.0.core.stem.1.bias\n",
      "torch.Size([64])\n",
      "True\n",
      "model.0.core.layer1.0.conv1.0.weight\n",
      "torch.Size([64, 64, 3, 3, 3])\n",
      "True\n",
      "model.0.core.layer1.0.conv1.1.weight\n",
      "torch.Size([64])\n",
      "True\n",
      "model.0.core.layer1.0.conv1.1.bias\n",
      "torch.Size([64])\n",
      "True\n",
      "model.0.core.layer1.0.conv2.0.weight\n",
      "torch.Size([64, 64, 3, 3, 3])\n",
      "True\n",
      "model.0.core.layer1.0.conv2.1.weight\n",
      "torch.Size([64])\n",
      "True\n",
      "model.0.core.layer1.0.conv2.1.bias\n",
      "torch.Size([64])\n",
      "True\n",
      "model.0.core.layer1.1.conv1.0.weight\n",
      "torch.Size([64, 64, 3, 3, 3])\n",
      "True\n",
      "model.0.core.layer1.1.conv1.1.weight\n",
      "torch.Size([64])\n",
      "True\n",
      "model.0.core.layer1.1.conv1.1.bias\n",
      "torch.Size([64])\n",
      "True\n",
      "model.0.core.layer1.1.conv2.0.weight\n",
      "torch.Size([64, 64, 3, 3, 3])\n",
      "True\n",
      "model.0.core.layer1.1.conv2.1.weight\n",
      "torch.Size([64])\n",
      "True\n",
      "model.0.core.layer1.1.conv2.1.bias\n",
      "torch.Size([64])\n",
      "True\n",
      "model.0.core.layer2.0.conv1.0.weight\n",
      "torch.Size([128, 64, 3, 3, 3])\n",
      "True\n",
      "model.0.core.layer2.0.conv1.1.weight\n",
      "torch.Size([128])\n",
      "True\n",
      "model.0.core.layer2.0.conv1.1.bias\n",
      "torch.Size([128])\n",
      "True\n",
      "model.0.core.layer2.0.conv2.0.weight\n",
      "torch.Size([128, 128, 3, 3, 3])\n",
      "True\n",
      "model.0.core.layer2.0.conv2.1.weight\n",
      "torch.Size([128])\n",
      "True\n",
      "model.0.core.layer2.0.conv2.1.bias\n",
      "torch.Size([128])\n",
      "True\n",
      "model.0.core.layer2.0.downsample.0.weight\n",
      "torch.Size([128, 64, 1, 1, 1])\n",
      "True\n",
      "model.0.core.layer2.0.downsample.1.weight\n",
      "torch.Size([128])\n",
      "True\n",
      "model.0.core.layer2.0.downsample.1.bias\n",
      "torch.Size([128])\n",
      "True\n",
      "model.0.core.layer2.1.conv1.0.weight\n",
      "torch.Size([128, 128, 3, 3, 3])\n",
      "True\n",
      "model.0.core.layer2.1.conv1.1.weight\n",
      "torch.Size([128])\n",
      "True\n",
      "model.0.core.layer2.1.conv1.1.bias\n",
      "torch.Size([128])\n",
      "True\n",
      "model.0.core.layer2.1.conv2.0.weight\n",
      "torch.Size([128, 128, 3, 3, 3])\n",
      "True\n",
      "model.0.core.layer2.1.conv2.1.weight\n",
      "torch.Size([128])\n",
      "True\n",
      "model.0.core.layer2.1.conv2.1.bias\n",
      "torch.Size([128])\n",
      "True\n",
      "model.0.core.layer3.0.conv1.0.weight\n",
      "torch.Size([256, 128, 3, 3, 3])\n",
      "True\n",
      "model.0.core.layer3.0.conv1.1.weight\n",
      "torch.Size([256])\n",
      "True\n",
      "model.0.core.layer3.0.conv1.1.bias\n",
      "torch.Size([256])\n",
      "True\n",
      "model.0.core.layer3.0.conv2.0.weight\n",
      "torch.Size([256, 256, 3, 3, 3])\n",
      "True\n",
      "model.0.core.layer3.0.conv2.1.weight\n",
      "torch.Size([256])\n",
      "True\n",
      "model.0.core.layer3.0.conv2.1.bias\n",
      "torch.Size([256])\n",
      "True\n",
      "model.0.core.layer3.0.downsample.0.weight\n",
      "torch.Size([256, 128, 1, 1, 1])\n",
      "True\n",
      "model.0.core.layer3.0.downsample.1.weight\n",
      "torch.Size([256])\n",
      "True\n",
      "model.0.core.layer3.0.downsample.1.bias\n",
      "torch.Size([256])\n",
      "True\n",
      "model.0.core.layer3.1.conv1.0.weight\n",
      "torch.Size([256, 256, 3, 3, 3])\n",
      "True\n",
      "model.0.core.layer3.1.conv1.1.weight\n",
      "torch.Size([256])\n",
      "True\n",
      "model.0.core.layer3.1.conv1.1.bias\n",
      "torch.Size([256])\n",
      "True\n",
      "model.0.core.layer3.1.conv2.0.weight\n",
      "torch.Size([256, 256, 3, 3, 3])\n",
      "True\n",
      "model.0.core.layer3.1.conv2.1.weight\n",
      "torch.Size([256])\n",
      "True\n",
      "model.0.core.layer3.1.conv2.1.bias\n",
      "torch.Size([256])\n",
      "True\n",
      "model.0.core.layer4.0.conv1.0.weight\n",
      "torch.Size([512, 256, 3, 3, 3])\n",
      "True\n",
      "model.0.core.layer4.0.conv1.1.weight\n",
      "torch.Size([512])\n",
      "True\n",
      "model.0.core.layer4.0.conv1.1.bias\n",
      "torch.Size([512])\n",
      "True\n",
      "model.1.mu\n",
      "torch.Size([54, 2])\n",
      "True\n",
      "model.1.sigma\n",
      "torch.Size([54])\n",
      "True\n",
      "model.1.poisson_linear.linear.weight\n",
      "torch.Size([54, 512])\n",
      "True\n",
      "model.1.poisson_linear.linear.bias\n",
      "torch.Size([54])\n",
      "True\n",
      "  epoch 1 loss: 0.11196452223224404 corr: -0.005716224727943547\n",
      " num. neurons : 54\n",
      "  epoch 2 loss: 0.10550481943436611 corr: -0.005108957570108409\n",
      " num. neurons : 54\n",
      "  epoch 3 loss: 0.10298828796104148 corr: -0.013144742482043136\n",
      " num. neurons : 54\n",
      "  epoch 4 loss: 0.09925054979913028 corr: 0.0318267104804038\n",
      " num. neurons : 54\n",
      "  epoch 5 loss: 0.09481050656165606 corr: 0.010420338114734286\n",
      " num. neurons : 54\n"
     ]
    },
    {
     "name": "stderr",
     "output_type": "stream",
     "text": [
      "/src/models/cs230/fix_models/metrics.py:33: ConstantInputWarning: An input array is constant; the correlation coefficient is not defined.\n",
      "  return pearsonr(pred, avg, axis=0).statistic\n"
     ]
    },
    {
     "name": "stdout",
     "output_type": "stream",
     "text": [
      "  epoch 6 loss: 0.0895608749507386 corr: -0.010644853994121494\n",
      " num. neurons : 54\n",
      "  epoch 7 loss: 0.08440246599691885 corr: 0.0008983314501377844\n",
      " num. neurons : 54\n",
      "  epoch 8 loss: 0.07936011891306183 corr: -0.011547445227205792\n",
      " num. neurons : 54\n",
      "  epoch 9 loss: 0.07542194054450518 corr: 0.02556702493865053\n",
      " num. neurons : 54\n",
      "  epoch 10 loss: 0.07164517249590086 corr: -0.05226258769513504\n",
      " num. neurons : 54\n",
      "  epoch 11 loss: 0.06880115691526437 corr: 0.020837026659881585\n",
      " num. neurons : 54\n",
      "  epoch 12 loss: 0.06694665296578113 corr: -0.04646924055621995\n",
      " num. neurons : 54\n",
      "  epoch 13 loss: 0.06577398011713852 corr: 0.031074572455984176\n",
      " num. neurons : 54\n",
      "  epoch 14 loss: 0.06447304955235234 corr: -0.014251785820937325\n",
      " num. neurons : 54\n",
      "  epoch 15 loss: 0.06368020257832091 corr: -0.01843536130635414\n",
      " num. neurons : 54\n",
      "  epoch 16 loss: 0.06318839700133712 corr: 0.007186064089907325\n",
      " num. neurons : 54\n",
      "  epoch 17 loss: 0.06313854364701259 corr: -0.033630985613485244\n",
      " num. neurons : 54\n",
      "  epoch 18 loss: 0.06276490494056984 corr: -0.016733430043412725\n",
      " num. neurons : 54\n",
      "  epoch 19 loss: 0.0625559558397458 corr: -0.013464141741627597\n",
      " num. neurons : 54\n",
      "  epoch 20 loss: 0.062434003824069176 corr: 0.01271457902257795\n",
      " num. neurons : 54\n"
     ]
    },
    {
     "data": {
      "text/html": [
       "\n",
       "    <style>\n",
       "        .wandb-row {\n",
       "            display: flex;\n",
       "            flex-direction: row;\n",
       "            flex-wrap: wrap;\n",
       "            justify-content: flex-start;\n",
       "            width: 100%;\n",
       "        }\n",
       "        .wandb-col {\n",
       "            display: flex;\n",
       "            flex-direction: column;\n",
       "            flex-basis: 100%;\n",
       "            flex: 1;\n",
       "            padding: 10px;\n",
       "        }\n",
       "    </style>\n",
       "<div class=\"wandb-row\"><div class=\"wandb-col\"><h3>Run history:</h3><br/><table class=\"wandb\"><tr><td>corr_to_avg</td><td>▅▅▄█▆▄▅▄▇▁▇▁█▄▄▆▃▄▄▆</td></tr><tr><td>test_loss</td><td>▁▁▁▁▁▂▂▃▃▄▅▅▅▆▇▆▆▆▇█</td></tr><tr><td>train_loss</td><td>█▇▇▆▆▅▄▃▃▂▂▂▁▁▁▁▁▁▁▁</td></tr></table><br/></div><div class=\"wandb-col\"><h3>Run summary:</h3><br/><table class=\"wandb\"><tr><td>train_loss</td><td>0.9955</td></tr></table><br/></div></div>"
      ],
      "text/plain": [
       "<IPython.core.display.HTML object>"
      ]
     },
     "metadata": {},
     "output_type": "display_data"
    },
    {
     "data": {
      "text/html": [
       " View run <strong style=\"color:#cdcd00\">restful-field-117</strong> at: <a href='https://wandb.ai/et22/video-cs230/runs/y592qggr' target=\"_blank\">https://wandb.ai/et22/video-cs230/runs/y592qggr</a><br/> View project at: <a href='https://wandb.ai/et22/video-cs230' target=\"_blank\">https://wandb.ai/et22/video-cs230</a><br/>Synced 5 W&B file(s), 0 media file(s), 0 artifact file(s) and 0 other file(s)"
      ],
      "text/plain": [
       "<IPython.core.display.HTML object>"
      ]
     },
     "metadata": {},
     "output_type": "display_data"
    },
    {
     "data": {
      "text/html": [
       "Find logs at: <code>./wandb/run-20241130_201009-y592qggr/logs</code>"
      ],
      "text/plain": [
       "<IPython.core.display.HTML object>"
      ]
     },
     "metadata": {},
     "output_type": "display_data"
    },
    {
     "data": {
      "text/html": [
       "Tracking run with wandb version 0.18.7"
      ],
      "text/plain": [
       "<IPython.core.display.HTML object>"
      ]
     },
     "metadata": {},
     "output_type": "display_data"
    },
    {
     "data": {
      "text/html": [
       "Run data is saved locally in <code>/src/models/cs230/wandb/run-20241130_201415-nqm2uc99</code>"
      ],
      "text/plain": [
       "<IPython.core.display.HTML object>"
      ]
     },
     "metadata": {},
     "output_type": "display_data"
    },
    {
     "data": {
      "text/html": [
       "Syncing run <strong><a href='https://wandb.ai/et22/video-cs230/runs/nqm2uc99' target=\"_blank\">denim-shape-118</a></strong> to <a href='https://wandb.ai/et22/video-cs230' target=\"_blank\">Weights & Biases</a> (<a href='https://wandb.me/developer-guide' target=\"_blank\">docs</a>)<br/>"
      ],
      "text/plain": [
       "<IPython.core.display.HTML object>"
      ]
     },
     "metadata": {},
     "output_type": "display_data"
    },
    {
     "data": {
      "text/html": [
       " View project at <a href='https://wandb.ai/et22/video-cs230' target=\"_blank\">https://wandb.ai/et22/video-cs230</a>"
      ],
      "text/plain": [
       "<IPython.core.display.HTML object>"
      ]
     },
     "metadata": {},
     "output_type": "display_data"
    },
    {
     "data": {
      "text/html": [
       " View run at <a href='https://wandb.ai/et22/video-cs230/runs/nqm2uc99' target=\"_blank\">https://wandb.ai/et22/video-cs230/runs/nqm2uc99</a>"
      ],
      "text/plain": [
       "<IPython.core.display.HTML object>"
      ]
     },
     "metadata": {},
     "output_type": "display_data"
    },
    {
     "name": "stdout",
     "output_type": "stream",
     "text": [
      "readout input shape: 512\n",
      "model.0.stim\n",
      "torch.Size([1, 3, 5, 32, 32])\n",
      "True\n",
      "model.0.core.stem.0.weight\n",
      "torch.Size([64, 3, 3, 7, 7])\n",
      "True\n",
      "model.0.core.stem.1.weight\n",
      "torch.Size([64])\n",
      "True\n",
      "model.0.core.stem.1.bias\n",
      "torch.Size([64])\n",
      "True\n",
      "model.0.core.layer1.0.conv1.0.weight\n",
      "torch.Size([64, 64, 3, 3, 3])\n",
      "True\n",
      "model.0.core.layer1.0.conv1.1.weight\n",
      "torch.Size([64])\n",
      "True\n",
      "model.0.core.layer1.0.conv1.1.bias\n",
      "torch.Size([64])\n",
      "True\n",
      "model.0.core.layer1.0.conv2.0.weight\n",
      "torch.Size([64, 64, 3, 3, 3])\n",
      "True\n",
      "model.0.core.layer1.0.conv2.1.weight\n",
      "torch.Size([64])\n",
      "True\n",
      "model.0.core.layer1.0.conv2.1.bias\n",
      "torch.Size([64])\n",
      "True\n",
      "model.0.core.layer1.1.conv1.0.weight\n",
      "torch.Size([64, 64, 3, 3, 3])\n",
      "True\n",
      "model.0.core.layer1.1.conv1.1.weight\n",
      "torch.Size([64])\n",
      "True\n",
      "model.0.core.layer1.1.conv1.1.bias\n",
      "torch.Size([64])\n",
      "True\n",
      "model.0.core.layer1.1.conv2.0.weight\n",
      "torch.Size([64, 64, 3, 3, 3])\n",
      "True\n",
      "model.0.core.layer1.1.conv2.1.weight\n",
      "torch.Size([64])\n",
      "True\n",
      "model.0.core.layer1.1.conv2.1.bias\n",
      "torch.Size([64])\n",
      "True\n",
      "model.0.core.layer2.0.conv1.0.weight\n",
      "torch.Size([128, 64, 3, 3, 3])\n",
      "True\n",
      "model.0.core.layer2.0.conv1.1.weight\n",
      "torch.Size([128])\n",
      "True\n",
      "model.0.core.layer2.0.conv1.1.bias\n",
      "torch.Size([128])\n",
      "True\n",
      "model.0.core.layer2.0.conv2.0.weight\n",
      "torch.Size([128, 128, 3, 3, 3])\n",
      "True\n",
      "model.0.core.layer2.0.conv2.1.weight\n",
      "torch.Size([128])\n",
      "True\n",
      "model.0.core.layer2.0.conv2.1.bias\n",
      "torch.Size([128])\n",
      "True\n",
      "model.0.core.layer2.0.downsample.0.weight\n",
      "torch.Size([128, 64, 1, 1, 1])\n",
      "True\n",
      "model.0.core.layer2.0.downsample.1.weight\n",
      "torch.Size([128])\n",
      "True\n",
      "model.0.core.layer2.0.downsample.1.bias\n",
      "torch.Size([128])\n",
      "True\n",
      "model.0.core.layer2.1.conv1.0.weight\n",
      "torch.Size([128, 128, 3, 3, 3])\n",
      "True\n",
      "model.0.core.layer2.1.conv1.1.weight\n",
      "torch.Size([128])\n",
      "True\n",
      "model.0.core.layer2.1.conv1.1.bias\n",
      "torch.Size([128])\n",
      "True\n",
      "model.0.core.layer2.1.conv2.0.weight\n",
      "torch.Size([128, 128, 3, 3, 3])\n",
      "True\n",
      "model.0.core.layer2.1.conv2.1.weight\n",
      "torch.Size([128])\n",
      "True\n",
      "model.0.core.layer2.1.conv2.1.bias\n",
      "torch.Size([128])\n",
      "True\n",
      "model.0.core.layer3.0.conv1.0.weight\n",
      "torch.Size([256, 128, 3, 3, 3])\n",
      "True\n",
      "model.0.core.layer3.0.conv1.1.weight\n",
      "torch.Size([256])\n",
      "True\n",
      "model.0.core.layer3.0.conv1.1.bias\n",
      "torch.Size([256])\n",
      "True\n",
      "model.0.core.layer3.0.conv2.0.weight\n",
      "torch.Size([256, 256, 3, 3, 3])\n",
      "True\n",
      "model.0.core.layer3.0.conv2.1.weight\n",
      "torch.Size([256])\n",
      "True\n",
      "model.0.core.layer3.0.conv2.1.bias\n",
      "torch.Size([256])\n",
      "True\n",
      "model.0.core.layer3.0.downsample.0.weight\n",
      "torch.Size([256, 128, 1, 1, 1])\n",
      "True\n",
      "model.0.core.layer3.0.downsample.1.weight\n",
      "torch.Size([256])\n",
      "True\n",
      "model.0.core.layer3.0.downsample.1.bias\n",
      "torch.Size([256])\n",
      "True\n",
      "model.0.core.layer3.1.conv1.0.weight\n",
      "torch.Size([256, 256, 3, 3, 3])\n",
      "True\n",
      "model.0.core.layer3.1.conv1.1.weight\n",
      "torch.Size([256])\n",
      "True\n",
      "model.0.core.layer3.1.conv1.1.bias\n",
      "torch.Size([256])\n",
      "True\n",
      "model.0.core.layer3.1.conv2.0.weight\n",
      "torch.Size([256, 256, 3, 3, 3])\n",
      "True\n",
      "model.0.core.layer3.1.conv2.1.weight\n",
      "torch.Size([256])\n",
      "True\n",
      "model.0.core.layer3.1.conv2.1.bias\n",
      "torch.Size([256])\n",
      "True\n",
      "model.0.core.layer4.0.conv1.0.weight\n",
      "torch.Size([512, 256, 3, 3, 3])\n",
      "True\n",
      "model.0.core.layer4.0.conv1.1.weight\n",
      "torch.Size([512])\n",
      "True\n",
      "model.0.core.layer4.0.conv1.1.bias\n",
      "torch.Size([512])\n",
      "True\n",
      "model.1.mu\n",
      "torch.Size([95, 2])\n",
      "True\n",
      "model.1.sigma\n",
      "torch.Size([95])\n",
      "True\n",
      "model.1.poisson_linear.linear.weight\n",
      "torch.Size([95, 512])\n",
      "True\n",
      "model.1.poisson_linear.linear.bias\n",
      "torch.Size([95])\n",
      "True\n",
      "  epoch 1 loss: 0.10643750516531979 corr: 0.013609747316237647\n",
      " num. neurons : 95\n",
      "  epoch 2 loss: 0.1005790652404905 corr: -0.005509571553012941\n",
      " num. neurons : 95\n"
     ]
    },
    {
     "name": "stderr",
     "output_type": "stream",
     "text": [
      "/src/models/cs230/fix_models/metrics.py:33: ConstantInputWarning: An input array is constant; the correlation coefficient is not defined.\n",
      "  return pearsonr(pred, avg, axis=0).statistic\n"
     ]
    },
    {
     "name": "stdout",
     "output_type": "stream",
     "text": [
      "  epoch 3 loss: 0.09783259299413072 corr: 0.0571565876950959\n",
      " num. neurons : 95\n",
      "  epoch 4 loss: 0.09429870575510395 corr: -0.009612136723438684\n",
      " num. neurons : 95\n",
      "  epoch 5 loss: 0.09038013263522643 corr: -0.019106387471859814\n",
      " num. neurons : 95\n",
      "  epoch 6 loss: 0.08581235745814458 corr: 0.015302924693616644\n",
      " num. neurons : 95\n",
      "  epoch 7 loss: 0.08139744535166556 corr: 0.017152775237711387\n",
      " num. neurons : 95\n",
      "  epoch 8 loss: 0.0771651716756571 corr: 0.0016408419088392993\n",
      " num. neurons : 95\n",
      "  epoch 9 loss: 0.07304532309477242 corr: -0.012590957977489629\n",
      " num. neurons : 95\n",
      "  epoch 10 loss: 0.06947488722376799 corr: -0.0002237118084066802\n",
      " num. neurons : 95\n",
      "  epoch 11 loss: 0.06641681475165002 corr: 0.012271729249938497\n",
      " num. neurons : 95\n",
      "  epoch 12 loss: 0.06374733051704487 corr: -0.052477326790497755\n",
      " num. neurons : 95\n",
      "  epoch 13 loss: 0.061803755335782834 corr: -0.0115277164354361\n",
      " num. neurons : 95\n",
      "  epoch 14 loss: 0.060299044098529514 corr: -0.009490332355161364\n",
      " num. neurons : 95\n",
      "  epoch 15 loss: 0.05924069226100183 corr: 0.030567952376907955\n",
      " num. neurons : 95\n",
      "  epoch 16 loss: 0.05846086905888862 corr: 0.007004109982509868\n",
      " num. neurons : 95\n",
      "  epoch 17 loss: 0.05767396423205031 corr: 0.008781070932304597\n",
      " num. neurons : 95\n",
      "  epoch 18 loss: 0.057030101471546434 corr: 0.04407429448372264\n",
      " num. neurons : 95\n",
      "  epoch 19 loss: 0.05673229004700146 corr: 0.004982578487479983\n",
      " num. neurons : 95\n",
      "  epoch 20 loss: 0.05657107773875691 corr: 0.0035326999874217358\n",
      " num. neurons : 95\n"
     ]
    },
    {
     "data": {
      "text/html": [
       "\n",
       "    <style>\n",
       "        .wandb-row {\n",
       "            display: flex;\n",
       "            flex-direction: row;\n",
       "            flex-wrap: wrap;\n",
       "            justify-content: flex-start;\n",
       "            width: 100%;\n",
       "        }\n",
       "        .wandb-col {\n",
       "            display: flex;\n",
       "            flex-direction: column;\n",
       "            flex-basis: 100%;\n",
       "            flex: 1;\n",
       "            padding: 10px;\n",
       "        }\n",
       "    </style>\n",
       "<div class=\"wandb-row\"><div class=\"wandb-col\"><h3>Run history:</h3><br/><table class=\"wandb\"><tr><td>corr_to_avg</td><td>▅▄█▄▃▅▅▄▄▄▅▁▄▄▆▅▅▇▅▅</td></tr><tr><td>test_loss</td><td>▁▁▁▁▁▁▂▂▂▃▄▅▅▆▇▆▇▇▇█</td></tr><tr><td>train_loss</td><td>█▇▇▆▆▅▄▄▃▃▂▂▂▂▁▁▁▁▁▁</td></tr></table><br/></div><div class=\"wandb-col\"><h3>Run summary:</h3><br/><table class=\"wandb\"><tr><td>train_loss</td><td>0.90042</td></tr></table><br/></div></div>"
      ],
      "text/plain": [
       "<IPython.core.display.HTML object>"
      ]
     },
     "metadata": {},
     "output_type": "display_data"
    },
    {
     "data": {
      "text/html": [
       " View run <strong style=\"color:#cdcd00\">denim-shape-118</strong> at: <a href='https://wandb.ai/et22/video-cs230/runs/nqm2uc99' target=\"_blank\">https://wandb.ai/et22/video-cs230/runs/nqm2uc99</a><br/> View project at: <a href='https://wandb.ai/et22/video-cs230' target=\"_blank\">https://wandb.ai/et22/video-cs230</a><br/>Synced 5 W&B file(s), 0 media file(s), 0 artifact file(s) and 0 other file(s)"
      ],
      "text/plain": [
       "<IPython.core.display.HTML object>"
      ]
     },
     "metadata": {},
     "output_type": "display_data"
    },
    {
     "data": {
      "text/html": [
       "Find logs at: <code>./wandb/run-20241130_201415-nqm2uc99/logs</code>"
      ],
      "text/plain": [
       "<IPython.core.display.HTML object>"
      ]
     },
     "metadata": {},
     "output_type": "display_data"
    },
    {
     "data": {
      "text/html": [
       "Tracking run with wandb version 0.18.7"
      ],
      "text/plain": [
       "<IPython.core.display.HTML object>"
      ]
     },
     "metadata": {},
     "output_type": "display_data"
    },
    {
     "data": {
      "text/html": [
       "Run data is saved locally in <code>/src/models/cs230/wandb/run-20241130_201818-qbi2qrmx</code>"
      ],
      "text/plain": [
       "<IPython.core.display.HTML object>"
      ]
     },
     "metadata": {},
     "output_type": "display_data"
    },
    {
     "data": {
      "text/html": [
       "Syncing run <strong><a href='https://wandb.ai/et22/video-cs230/runs/qbi2qrmx' target=\"_blank\">revived-meadow-119</a></strong> to <a href='https://wandb.ai/et22/video-cs230' target=\"_blank\">Weights & Biases</a> (<a href='https://wandb.me/developer-guide' target=\"_blank\">docs</a>)<br/>"
      ],
      "text/plain": [
       "<IPython.core.display.HTML object>"
      ]
     },
     "metadata": {},
     "output_type": "display_data"
    },
    {
     "data": {
      "text/html": [
       " View project at <a href='https://wandb.ai/et22/video-cs230' target=\"_blank\">https://wandb.ai/et22/video-cs230</a>"
      ],
      "text/plain": [
       "<IPython.core.display.HTML object>"
      ]
     },
     "metadata": {},
     "output_type": "display_data"
    },
    {
     "data": {
      "text/html": [
       " View run at <a href='https://wandb.ai/et22/video-cs230/runs/qbi2qrmx' target=\"_blank\">https://wandb.ai/et22/video-cs230/runs/qbi2qrmx</a>"
      ],
      "text/plain": [
       "<IPython.core.display.HTML object>"
      ]
     },
     "metadata": {},
     "output_type": "display_data"
    },
    {
     "name": "stdout",
     "output_type": "stream",
     "text": [
      "readout input shape: 512\n",
      "model.0.stim\n",
      "torch.Size([1, 3, 5, 32, 32])\n",
      "True\n",
      "model.0.core.stem.0.weight\n",
      "torch.Size([64, 3, 3, 7, 7])\n",
      "True\n",
      "model.0.core.stem.1.weight\n",
      "torch.Size([64])\n",
      "True\n",
      "model.0.core.stem.1.bias\n",
      "torch.Size([64])\n",
      "True\n",
      "model.0.core.layer1.0.conv1.0.weight\n",
      "torch.Size([64, 64, 3, 3, 3])\n",
      "True\n",
      "model.0.core.layer1.0.conv1.1.weight\n",
      "torch.Size([64])\n",
      "True\n",
      "model.0.core.layer1.0.conv1.1.bias\n",
      "torch.Size([64])\n",
      "True\n",
      "model.0.core.layer1.0.conv2.0.weight\n",
      "torch.Size([64, 64, 3, 3, 3])\n",
      "True\n",
      "model.0.core.layer1.0.conv2.1.weight\n",
      "torch.Size([64])\n",
      "True\n",
      "model.0.core.layer1.0.conv2.1.bias\n",
      "torch.Size([64])\n",
      "True\n",
      "model.0.core.layer1.1.conv1.0.weight\n",
      "torch.Size([64, 64, 3, 3, 3])\n",
      "True\n",
      "model.0.core.layer1.1.conv1.1.weight\n",
      "torch.Size([64])\n",
      "True\n",
      "model.0.core.layer1.1.conv1.1.bias\n",
      "torch.Size([64])\n",
      "True\n",
      "model.0.core.layer1.1.conv2.0.weight\n",
      "torch.Size([64, 64, 3, 3, 3])\n",
      "True\n",
      "model.0.core.layer1.1.conv2.1.weight\n",
      "torch.Size([64])\n",
      "True\n",
      "model.0.core.layer1.1.conv2.1.bias\n",
      "torch.Size([64])\n",
      "True\n",
      "model.0.core.layer2.0.conv1.0.weight\n",
      "torch.Size([128, 64, 3, 3, 3])\n",
      "True\n",
      "model.0.core.layer2.0.conv1.1.weight\n",
      "torch.Size([128])\n",
      "True\n",
      "model.0.core.layer2.0.conv1.1.bias\n",
      "torch.Size([128])\n",
      "True\n",
      "model.0.core.layer2.0.conv2.0.weight\n",
      "torch.Size([128, 128, 3, 3, 3])\n",
      "True\n",
      "model.0.core.layer2.0.conv2.1.weight\n",
      "torch.Size([128])\n",
      "True\n",
      "model.0.core.layer2.0.conv2.1.bias\n",
      "torch.Size([128])\n",
      "True\n",
      "model.0.core.layer2.0.downsample.0.weight\n",
      "torch.Size([128, 64, 1, 1, 1])\n",
      "True\n",
      "model.0.core.layer2.0.downsample.1.weight\n",
      "torch.Size([128])\n",
      "True\n",
      "model.0.core.layer2.0.downsample.1.bias\n",
      "torch.Size([128])\n",
      "True\n",
      "model.0.core.layer2.1.conv1.0.weight\n",
      "torch.Size([128, 128, 3, 3, 3])\n",
      "True\n",
      "model.0.core.layer2.1.conv1.1.weight\n",
      "torch.Size([128])\n",
      "True\n",
      "model.0.core.layer2.1.conv1.1.bias\n",
      "torch.Size([128])\n",
      "True\n",
      "model.0.core.layer2.1.conv2.0.weight\n",
      "torch.Size([128, 128, 3, 3, 3])\n",
      "True\n",
      "model.0.core.layer2.1.conv2.1.weight\n",
      "torch.Size([128])\n",
      "True\n",
      "model.0.core.layer2.1.conv2.1.bias\n",
      "torch.Size([128])\n",
      "True\n",
      "model.0.core.layer3.0.conv1.0.weight\n",
      "torch.Size([256, 128, 3, 3, 3])\n",
      "True\n",
      "model.0.core.layer3.0.conv1.1.weight\n",
      "torch.Size([256])\n",
      "True\n",
      "model.0.core.layer3.0.conv1.1.bias\n",
      "torch.Size([256])\n",
      "True\n",
      "model.0.core.layer3.0.conv2.0.weight\n",
      "torch.Size([256, 256, 3, 3, 3])\n",
      "True\n",
      "model.0.core.layer3.0.conv2.1.weight\n",
      "torch.Size([256])\n",
      "True\n",
      "model.0.core.layer3.0.conv2.1.bias\n",
      "torch.Size([256])\n",
      "True\n",
      "model.0.core.layer3.0.downsample.0.weight\n",
      "torch.Size([256, 128, 1, 1, 1])\n",
      "True\n",
      "model.0.core.layer3.0.downsample.1.weight\n",
      "torch.Size([256])\n",
      "True\n",
      "model.0.core.layer3.0.downsample.1.bias\n",
      "torch.Size([256])\n",
      "True\n",
      "model.0.core.layer3.1.conv1.0.weight\n",
      "torch.Size([256, 256, 3, 3, 3])\n",
      "True\n",
      "model.0.core.layer3.1.conv1.1.weight\n",
      "torch.Size([256])\n",
      "True\n",
      "model.0.core.layer3.1.conv1.1.bias\n",
      "torch.Size([256])\n",
      "True\n",
      "model.0.core.layer3.1.conv2.0.weight\n",
      "torch.Size([256, 256, 3, 3, 3])\n",
      "True\n",
      "model.0.core.layer3.1.conv2.1.weight\n",
      "torch.Size([256])\n",
      "True\n",
      "model.0.core.layer3.1.conv2.1.bias\n",
      "torch.Size([256])\n",
      "True\n",
      "model.0.core.layer4.0.conv1.0.weight\n",
      "torch.Size([512, 256, 3, 3, 3])\n",
      "True\n",
      "model.0.core.layer4.0.conv1.1.weight\n",
      "torch.Size([512])\n",
      "True\n",
      "model.0.core.layer4.0.conv1.1.bias\n",
      "torch.Size([512])\n",
      "True\n",
      "model.1.mu\n",
      "torch.Size([54, 2])\n",
      "True\n",
      "model.1.sigma\n",
      "torch.Size([54])\n",
      "True\n",
      "model.1.poisson_linear.linear.weight\n",
      "torch.Size([54, 512])\n",
      "True\n",
      "model.1.poisson_linear.linear.bias\n",
      "torch.Size([54])\n",
      "True\n"
     ]
    },
    {
     "name": "stderr",
     "output_type": "stream",
     "text": [
      "/src/models/cs230/fix_models/metrics.py:33: ConstantInputWarning: An input array is constant; the correlation coefficient is not defined.\n",
      "  return pearsonr(pred, avg, axis=0).statistic\n"
     ]
    },
    {
     "name": "stdout",
     "output_type": "stream",
     "text": [
      "  epoch 1 loss: 0.12162270176802045 corr: -0.0008541779102918\n",
      " num. neurons : 54\n",
      "  epoch 2 loss: 0.11334553596290108 corr: -0.04779066109847837\n",
      " num. neurons : 54\n",
      "  epoch 3 loss: 0.1106378796783928 corr: 0.024949134435992535\n",
      " num. neurons : 54\n",
      "  epoch 4 loss: 0.10707813749931085 corr: 0.00878770621258881\n",
      " num. neurons : 54\n",
      "  epoch 5 loss: 0.10205316770997001 corr: 0.005478017692818689\n",
      " num. neurons : 54\n",
      "  epoch 6 loss: 0.09671314786574221 corr: 0.029528884576374807\n",
      " num. neurons : 54\n",
      "  epoch 7 loss: 0.09090571908053827 corr: 0.026629333705906033\n",
      " num. neurons : 54\n",
      "  epoch 8 loss: 0.0852006359129959 corr: 0.015940397026633798\n",
      " num. neurons : 54\n",
      "  epoch 9 loss: 0.0802400352263091 corr: -0.009235411798752955\n",
      " num. neurons : 54\n",
      "  epoch 10 loss: 0.07674710477678355 corr: -0.016111960805095346\n",
      " num. neurons : 54\n",
      "  epoch 11 loss: 0.07388133762574556 corr: -0.007990536428526646\n",
      " num. neurons : 54\n",
      "  epoch 12 loss: 0.0719981153347689 corr: -0.016147644505241376\n",
      " num. neurons : 54\n",
      "  epoch 13 loss: 0.07077659826524087 corr: -0.014125959679478996\n",
      " num. neurons : 54\n",
      "  epoch 14 loss: 0.06975435951481694 corr: -0.01209105531295527\n",
      " num. neurons : 54\n",
      "  epoch 15 loss: 0.06905545173964886 corr: -0.050997503102883375\n",
      " num. neurons : 54\n",
      "  epoch 16 loss: 0.06879587885332827 corr: -0.0059181279283571486\n",
      " num. neurons : 54\n",
      "  epoch 17 loss: 0.0686873355161435 corr: 0.0425484078172558\n",
      " num. neurons : 54\n",
      "  epoch 18 loss: 0.06826440285240112 corr: -0.0067765198791559095\n",
      " num. neurons : 54\n",
      "  epoch 19 loss: 0.06814790200425548 corr: -0.010551469312276372\n",
      " num. neurons : 54\n",
      "  epoch 20 loss: 0.06786784706860384 corr: 0.0076099152937575305\n",
      " num. neurons : 54\n"
     ]
    },
    {
     "data": {
      "text/html": [
       "\n",
       "    <style>\n",
       "        .wandb-row {\n",
       "            display: flex;\n",
       "            flex-direction: row;\n",
       "            flex-wrap: wrap;\n",
       "            justify-content: flex-start;\n",
       "            width: 100%;\n",
       "        }\n",
       "        .wandb-col {\n",
       "            display: flex;\n",
       "            flex-direction: column;\n",
       "            flex-basis: 100%;\n",
       "            flex: 1;\n",
       "            padding: 10px;\n",
       "        }\n",
       "    </style>\n",
       "<div class=\"wandb-row\"><div class=\"wandb-col\"><h3>Run history:</h3><br/><table class=\"wandb\"><tr><td>corr_to_avg</td><td>▅▁▇▅▅▇▇▆▄▄▄▄▄▄▁▄█▄▄▅</td></tr><tr><td>test_loss</td><td>▂▁▁▁▂▂▂▂▃▄▄▅▅▅▆▇▇█▆▇</td></tr><tr><td>train_loss</td><td>█▇▇▆▅▅▄▃▃▂▂▂▁▁▁▁▁▁▁▁</td></tr></table><br/></div><div class=\"wandb-col\"><h3>Run summary:</h3><br/><table class=\"wandb\"><tr><td>train_loss</td><td>1.08492</td></tr></table><br/></div></div>"
      ],
      "text/plain": [
       "<IPython.core.display.HTML object>"
      ]
     },
     "metadata": {},
     "output_type": "display_data"
    },
    {
     "data": {
      "text/html": [
       " View run <strong style=\"color:#cdcd00\">revived-meadow-119</strong> at: <a href='https://wandb.ai/et22/video-cs230/runs/qbi2qrmx' target=\"_blank\">https://wandb.ai/et22/video-cs230/runs/qbi2qrmx</a><br/> View project at: <a href='https://wandb.ai/et22/video-cs230' target=\"_blank\">https://wandb.ai/et22/video-cs230</a><br/>Synced 5 W&B file(s), 0 media file(s), 0 artifact file(s) and 0 other file(s)"
      ],
      "text/plain": [
       "<IPython.core.display.HTML object>"
      ]
     },
     "metadata": {},
     "output_type": "display_data"
    },
    {
     "data": {
      "text/html": [
       "Find logs at: <code>./wandb/run-20241130_201818-qbi2qrmx/logs</code>"
      ],
      "text/plain": [
       "<IPython.core.display.HTML object>"
      ]
     },
     "metadata": {},
     "output_type": "display_data"
    },
    {
     "data": {
      "text/html": [
       "Tracking run with wandb version 0.18.7"
      ],
      "text/plain": [
       "<IPython.core.display.HTML object>"
      ]
     },
     "metadata": {},
     "output_type": "display_data"
    },
    {
     "data": {
      "text/html": [
       "Run data is saved locally in <code>/src/models/cs230/wandb/run-20241130_202308-qtsy6seh</code>"
      ],
      "text/plain": [
       "<IPython.core.display.HTML object>"
      ]
     },
     "metadata": {},
     "output_type": "display_data"
    },
    {
     "data": {
      "text/html": [
       "Syncing run <strong><a href='https://wandb.ai/et22/video-cs230/runs/qtsy6seh' target=\"_blank\">treasured-energy-120</a></strong> to <a href='https://wandb.ai/et22/video-cs230' target=\"_blank\">Weights & Biases</a> (<a href='https://wandb.me/developer-guide' target=\"_blank\">docs</a>)<br/>"
      ],
      "text/plain": [
       "<IPython.core.display.HTML object>"
      ]
     },
     "metadata": {},
     "output_type": "display_data"
    },
    {
     "data": {
      "text/html": [
       " View project at <a href='https://wandb.ai/et22/video-cs230' target=\"_blank\">https://wandb.ai/et22/video-cs230</a>"
      ],
      "text/plain": [
       "<IPython.core.display.HTML object>"
      ]
     },
     "metadata": {},
     "output_type": "display_data"
    },
    {
     "data": {
      "text/html": [
       " View run at <a href='https://wandb.ai/et22/video-cs230/runs/qtsy6seh' target=\"_blank\">https://wandb.ai/et22/video-cs230/runs/qtsy6seh</a>"
      ],
      "text/plain": [
       "<IPython.core.display.HTML object>"
      ]
     },
     "metadata": {},
     "output_type": "display_data"
    },
    {
     "data": {
      "text/html": [
       "\n",
       "    <style>\n",
       "        .wandb-row {\n",
       "            display: flex;\n",
       "            flex-direction: row;\n",
       "            flex-wrap: wrap;\n",
       "            justify-content: flex-start;\n",
       "            width: 100%;\n",
       "        }\n",
       "        .wandb-col {\n",
       "            display: flex;\n",
       "            flex-direction: column;\n",
       "            flex-basis: 100%;\n",
       "            flex: 1;\n",
       "            padding: 10px;\n",
       "        }\n",
       "    </style>\n",
       "<div class=\"wandb-row\"><div class=\"wandb-col\"><h3>Run history:</h3><br/><table class=\"wandb\"><tr><td>corr</td><td>▄▃▄▄▅▄▄▄▄▂▃▄ ▄▄▄▄▄▄▄▄█▁▅▃▃ ▄▃▃▃▄▃▅▄▅▂▃▃▄</td></tr></table><br/></div><div class=\"wandb-col\"><h3>Run summary:</h3><br/><table class=\"wandb\"><tr><td>corr</td><td>-0.1203</td></tr></table><br/></div></div>"
      ],
      "text/plain": [
       "<IPython.core.display.HTML object>"
      ]
     },
     "metadata": {},
     "output_type": "display_data"
    },
    {
     "data": {
      "text/html": [
       " View run <strong style=\"color:#cdcd00\">treasured-energy-120</strong> at: <a href='https://wandb.ai/et22/video-cs230/runs/qtsy6seh' target=\"_blank\">https://wandb.ai/et22/video-cs230/runs/qtsy6seh</a><br/> View project at: <a href='https://wandb.ai/et22/video-cs230' target=\"_blank\">https://wandb.ai/et22/video-cs230</a><br/>Synced 5 W&B file(s), 0 media file(s), 2 artifact file(s) and 0 other file(s)"
      ],
      "text/plain": [
       "<IPython.core.display.HTML object>"
      ]
     },
     "metadata": {},
     "output_type": "display_data"
    },
    {
     "data": {
      "text/html": [
       "Find logs at: <code>./wandb/run-20241130_202308-qtsy6seh/logs</code>"
      ],
      "text/plain": [
       "<IPython.core.display.HTML object>"
      ]
     },
     "metadata": {},
     "output_type": "display_data"
    },
    {
     "name": "stdout",
     "output_type": "stream",
     "text": [
      "0\n"
     ]
    },
    {
     "data": {
      "text/html": [
       "Tracking run with wandb version 0.18.7"
      ],
      "text/plain": [
       "<IPython.core.display.HTML object>"
      ]
     },
     "metadata": {},
     "output_type": "display_data"
    },
    {
     "data": {
      "text/html": [
       "Run data is saved locally in <code>/src/models/cs230/wandb/run-20241130_202311-kawqedpa</code>"
      ],
      "text/plain": [
       "<IPython.core.display.HTML object>"
      ]
     },
     "metadata": {},
     "output_type": "display_data"
    },
    {
     "data": {
      "text/html": [
       "Syncing run <strong><a href='https://wandb.ai/et22/video-cs230/runs/kawqedpa' target=\"_blank\">leafy-thunder-121</a></strong> to <a href='https://wandb.ai/et22/video-cs230' target=\"_blank\">Weights & Biases</a> (<a href='https://wandb.me/developer-guide' target=\"_blank\">docs</a>)<br/>"
      ],
      "text/plain": [
       "<IPython.core.display.HTML object>"
      ]
     },
     "metadata": {},
     "output_type": "display_data"
    },
    {
     "data": {
      "text/html": [
       " View project at <a href='https://wandb.ai/et22/video-cs230' target=\"_blank\">https://wandb.ai/et22/video-cs230</a>"
      ],
      "text/plain": [
       "<IPython.core.display.HTML object>"
      ]
     },
     "metadata": {},
     "output_type": "display_data"
    },
    {
     "data": {
      "text/html": [
       " View run at <a href='https://wandb.ai/et22/video-cs230/runs/kawqedpa' target=\"_blank\">https://wandb.ai/et22/video-cs230/runs/kawqedpa</a>"
      ],
      "text/plain": [
       "<IPython.core.display.HTML object>"
      ]
     },
     "metadata": {},
     "output_type": "display_data"
    },
    {
     "name": "stdout",
     "output_type": "stream",
     "text": [
      "readout input shape: 512\n",
      "model.0.stim\n",
      "torch.Size([1, 3, 5, 32, 32])\n",
      "True\n",
      "model.0.core.stem.0.weight\n",
      "torch.Size([64, 3, 3, 7, 7])\n",
      "True\n",
      "model.0.core.stem.1.weight\n",
      "torch.Size([64])\n",
      "True\n",
      "model.0.core.stem.1.bias\n",
      "torch.Size([64])\n",
      "True\n",
      "model.0.core.layer1.0.conv1.0.weight\n",
      "torch.Size([64, 64, 3, 3, 3])\n",
      "True\n",
      "model.0.core.layer1.0.conv1.1.weight\n",
      "torch.Size([64])\n",
      "True\n",
      "model.0.core.layer1.0.conv1.1.bias\n",
      "torch.Size([64])\n",
      "True\n",
      "model.0.core.layer1.0.conv2.0.weight\n",
      "torch.Size([64, 64, 3, 3, 3])\n",
      "True\n",
      "model.0.core.layer1.0.conv2.1.weight\n",
      "torch.Size([64])\n",
      "True\n",
      "model.0.core.layer1.0.conv2.1.bias\n",
      "torch.Size([64])\n",
      "True\n",
      "model.0.core.layer1.1.conv1.0.weight\n",
      "torch.Size([64, 64, 3, 3, 3])\n",
      "True\n",
      "model.0.core.layer1.1.conv1.1.weight\n",
      "torch.Size([64])\n",
      "True\n",
      "model.0.core.layer1.1.conv1.1.bias\n",
      "torch.Size([64])\n",
      "True\n",
      "model.0.core.layer1.1.conv2.0.weight\n",
      "torch.Size([64, 64, 3, 3, 3])\n",
      "True\n",
      "model.0.core.layer1.1.conv2.1.weight\n",
      "torch.Size([64])\n",
      "True\n",
      "model.0.core.layer1.1.conv2.1.bias\n",
      "torch.Size([64])\n",
      "True\n",
      "model.0.core.layer2.0.conv1.0.weight\n",
      "torch.Size([128, 64, 3, 3, 3])\n",
      "True\n",
      "model.0.core.layer2.0.conv1.1.weight\n",
      "torch.Size([128])\n",
      "True\n",
      "model.0.core.layer2.0.conv1.1.bias\n",
      "torch.Size([128])\n",
      "True\n",
      "model.0.core.layer2.0.conv2.0.weight\n",
      "torch.Size([128, 128, 3, 3, 3])\n",
      "True\n",
      "model.0.core.layer2.0.conv2.1.weight\n",
      "torch.Size([128])\n",
      "True\n",
      "model.0.core.layer2.0.conv2.1.bias\n",
      "torch.Size([128])\n",
      "True\n",
      "model.0.core.layer2.0.downsample.0.weight\n",
      "torch.Size([128, 64, 1, 1, 1])\n",
      "True\n",
      "model.0.core.layer2.0.downsample.1.weight\n",
      "torch.Size([128])\n",
      "True\n",
      "model.0.core.layer2.0.downsample.1.bias\n",
      "torch.Size([128])\n",
      "True\n",
      "model.0.core.layer2.1.conv1.0.weight\n",
      "torch.Size([128, 128, 3, 3, 3])\n",
      "True\n",
      "model.0.core.layer2.1.conv1.1.weight\n",
      "torch.Size([128])\n",
      "True\n",
      "model.0.core.layer2.1.conv1.1.bias\n",
      "torch.Size([128])\n",
      "True\n",
      "model.0.core.layer2.1.conv2.0.weight\n",
      "torch.Size([128, 128, 3, 3, 3])\n",
      "True\n",
      "model.0.core.layer2.1.conv2.1.weight\n",
      "torch.Size([128])\n",
      "True\n",
      "model.0.core.layer2.1.conv2.1.bias\n",
      "torch.Size([128])\n",
      "True\n",
      "model.0.core.layer3.0.conv1.0.weight\n",
      "torch.Size([256, 128, 3, 3, 3])\n",
      "True\n",
      "model.0.core.layer3.0.conv1.1.weight\n",
      "torch.Size([256])\n",
      "True\n",
      "model.0.core.layer3.0.conv1.1.bias\n",
      "torch.Size([256])\n",
      "True\n",
      "model.0.core.layer3.0.conv2.0.weight\n",
      "torch.Size([256, 256, 3, 3, 3])\n",
      "True\n",
      "model.0.core.layer3.0.conv2.1.weight\n",
      "torch.Size([256])\n",
      "True\n",
      "model.0.core.layer3.0.conv2.1.bias\n",
      "torch.Size([256])\n",
      "True\n",
      "model.0.core.layer3.0.downsample.0.weight\n",
      "torch.Size([256, 128, 1, 1, 1])\n",
      "True\n",
      "model.0.core.layer3.0.downsample.1.weight\n",
      "torch.Size([256])\n",
      "True\n",
      "model.0.core.layer3.0.downsample.1.bias\n",
      "torch.Size([256])\n",
      "True\n",
      "model.0.core.layer3.1.conv1.0.weight\n",
      "torch.Size([256, 256, 3, 3, 3])\n",
      "True\n",
      "model.0.core.layer3.1.conv1.1.weight\n",
      "torch.Size([256])\n",
      "True\n",
      "model.0.core.layer3.1.conv1.1.bias\n",
      "torch.Size([256])\n",
      "True\n",
      "model.0.core.layer3.1.conv2.0.weight\n",
      "torch.Size([256, 256, 3, 3, 3])\n",
      "True\n",
      "model.0.core.layer3.1.conv2.1.weight\n",
      "torch.Size([256])\n",
      "True\n",
      "model.0.core.layer3.1.conv2.1.bias\n",
      "torch.Size([256])\n",
      "True\n",
      "model.0.core.layer4.0.conv1.0.weight\n",
      "torch.Size([512, 256, 3, 3, 3])\n",
      "True\n",
      "model.0.core.layer4.0.conv1.1.weight\n",
      "torch.Size([512])\n",
      "True\n",
      "model.0.core.layer4.0.conv1.1.bias\n",
      "torch.Size([512])\n",
      "True\n",
      "model.1.mu\n",
      "torch.Size([54, 2])\n",
      "True\n",
      "model.1.sigma\n",
      "torch.Size([54])\n",
      "True\n",
      "model.1.poisson_linear.linear.weight\n",
      "torch.Size([54, 512])\n",
      "True\n",
      "model.1.poisson_linear.linear.bias\n",
      "torch.Size([54])\n",
      "True\n",
      "  epoch 1 loss: 0.13538478751241426 corr: -0.025609041721889294\n",
      " num. neurons : 54\n",
      "  epoch 2 loss: 0.11004566857844224 corr: 0.04241514671221719\n",
      " num. neurons : 54\n",
      "  epoch 3 loss: 0.10939141832751992 corr: 0.05916635685826589\n",
      " num. neurons : 54\n",
      "  epoch 4 loss: 0.10892445116867254 corr: 0.02363390594114226\n",
      " num. neurons : 54\n",
      "  epoch 5 loss: 0.10868226275031949 corr: 0.03992993123402049\n",
      " num. neurons : 54\n",
      "  epoch 6 loss: 0.10809234048113411 corr: 0.009801193996712197\n",
      " num. neurons : 54\n"
     ]
    },
    {
     "name": "stderr",
     "output_type": "stream",
     "text": [
      "/src/models/cs230/fix_models/metrics.py:33: ConstantInputWarning: An input array is constant; the correlation coefficient is not defined.\n",
      "  return pearsonr(pred, avg, axis=0).statistic\n"
     ]
    },
    {
     "name": "stdout",
     "output_type": "stream",
     "text": [
      "  epoch 7 loss: 0.10741927217554163 corr: 0.03094047970684141\n",
      " num. neurons : 54\n",
      "  epoch 8 loss: 0.10660050286187066 corr: -0.02708719081486849\n",
      " num. neurons : 54\n",
      "  epoch 9 loss: 0.10549159314897326 corr: -0.014648200766754257\n",
      " num. neurons : 54\n",
      "  epoch 10 loss: 0.10440043655442603 corr: 0.03185780822478451\n",
      " num. neurons : 54\n",
      "  epoch 11 loss: 0.10239568545494551 corr: 0.020513681288178404\n",
      " num. neurons : 54\n",
      "  epoch 12 loss: 0.1004190104684712 corr: -0.0006438589165938195\n",
      " num. neurons : 54\n",
      "  epoch 13 loss: 0.09780482922071292 corr: -0.022887788569414844\n",
      " num. neurons : 54\n",
      "  epoch 14 loss: 0.09506120252020565 corr: -0.02996855050061921\n",
      " num. neurons : 54\n",
      "  epoch 15 loss: 0.09135977491920377 corr: 0.015423672220983838\n",
      " num. neurons : 54\n",
      "  epoch 16 loss: 0.08806018729268769 corr: -0.03552319802434823\n",
      " num. neurons : 54\n",
      "  epoch 17 loss: 0.0847677774782534 corr: -0.00018892632050413892\n",
      " num. neurons : 54\n",
      "  epoch 18 loss: 0.08164231783078041 corr: -0.038410106988290255\n",
      " num. neurons : 54\n",
      "  epoch 19 loss: 0.07828786261287736 corr: 0.03052101375528983\n",
      " num. neurons : 54\n",
      "  epoch 20 loss: 0.0756190385936219 corr: -0.011491650721478001\n",
      " num. neurons : 54\n"
     ]
    },
    {
     "data": {
      "text/html": [
       "\n",
       "    <style>\n",
       "        .wandb-row {\n",
       "            display: flex;\n",
       "            flex-direction: row;\n",
       "            flex-wrap: wrap;\n",
       "            justify-content: flex-start;\n",
       "            width: 100%;\n",
       "        }\n",
       "        .wandb-col {\n",
       "            display: flex;\n",
       "            flex-direction: column;\n",
       "            flex-basis: 100%;\n",
       "            flex: 1;\n",
       "            padding: 10px;\n",
       "        }\n",
       "    </style>\n",
       "<div class=\"wandb-row\"><div class=\"wandb-col\"><h3>Run history:</h3><br/><table class=\"wandb\"><tr><td>corr_to_avg</td><td>▂▇█▅▇▄▆▂▃▆▅▄▂▂▅▁▄▁▆▃</td></tr><tr><td>test_loss</td><td>▃▁▁▂▁▂▁▁▁▁▂▂▂▁▂▃▃▄▆█</td></tr><tr><td>train_loss</td><td>█▅▅▅▅▅▅▅▄▄▄▄▄▃▃▂▂▂▁▁</td></tr></table><br/></div><div class=\"wandb-col\"><h3>Run summary:</h3><br/><table class=\"wandb\"><tr><td>train_loss</td><td>1.20574</td></tr></table><br/></div></div>"
      ],
      "text/plain": [
       "<IPython.core.display.HTML object>"
      ]
     },
     "metadata": {},
     "output_type": "display_data"
    },
    {
     "data": {
      "text/html": [
       " View run <strong style=\"color:#cdcd00\">leafy-thunder-121</strong> at: <a href='https://wandb.ai/et22/video-cs230/runs/kawqedpa' target=\"_blank\">https://wandb.ai/et22/video-cs230/runs/kawqedpa</a><br/> View project at: <a href='https://wandb.ai/et22/video-cs230' target=\"_blank\">https://wandb.ai/et22/video-cs230</a><br/>Synced 5 W&B file(s), 0 media file(s), 2 artifact file(s) and 0 other file(s)"
      ],
      "text/plain": [
       "<IPython.core.display.HTML object>"
      ]
     },
     "metadata": {},
     "output_type": "display_data"
    },
    {
     "data": {
      "text/html": [
       "Find logs at: <code>./wandb/run-20241130_202311-kawqedpa/logs</code>"
      ],
      "text/plain": [
       "<IPython.core.display.HTML object>"
      ]
     },
     "metadata": {},
     "output_type": "display_data"
    },
    {
     "data": {
      "text/html": [
       "Tracking run with wandb version 0.18.7"
      ],
      "text/plain": [
       "<IPython.core.display.HTML object>"
      ]
     },
     "metadata": {},
     "output_type": "display_data"
    },
    {
     "data": {
      "text/html": [
       "Run data is saved locally in <code>/src/models/cs230/wandb/run-20241130_202721-rlqg8qlr</code>"
      ],
      "text/plain": [
       "<IPython.core.display.HTML object>"
      ]
     },
     "metadata": {},
     "output_type": "display_data"
    },
    {
     "data": {
      "text/html": [
       "Syncing run <strong><a href='https://wandb.ai/et22/video-cs230/runs/rlqg8qlr' target=\"_blank\">fragrant-frost-122</a></strong> to <a href='https://wandb.ai/et22/video-cs230' target=\"_blank\">Weights & Biases</a> (<a href='https://wandb.me/developer-guide' target=\"_blank\">docs</a>)<br/>"
      ],
      "text/plain": [
       "<IPython.core.display.HTML object>"
      ]
     },
     "metadata": {},
     "output_type": "display_data"
    },
    {
     "data": {
      "text/html": [
       " View project at <a href='https://wandb.ai/et22/video-cs230' target=\"_blank\">https://wandb.ai/et22/video-cs230</a>"
      ],
      "text/plain": [
       "<IPython.core.display.HTML object>"
      ]
     },
     "metadata": {},
     "output_type": "display_data"
    },
    {
     "data": {
      "text/html": [
       " View run at <a href='https://wandb.ai/et22/video-cs230/runs/rlqg8qlr' target=\"_blank\">https://wandb.ai/et22/video-cs230/runs/rlqg8qlr</a>"
      ],
      "text/plain": [
       "<IPython.core.display.HTML object>"
      ]
     },
     "metadata": {},
     "output_type": "display_data"
    },
    {
     "name": "stdout",
     "output_type": "stream",
     "text": [
      "readout input shape: 512\n",
      "model.0.stim\n",
      "torch.Size([1, 3, 5, 32, 32])\n",
      "True\n",
      "model.0.core.stem.0.weight\n",
      "torch.Size([64, 3, 3, 7, 7])\n",
      "True\n",
      "model.0.core.stem.1.weight\n",
      "torch.Size([64])\n",
      "True\n",
      "model.0.core.stem.1.bias\n",
      "torch.Size([64])\n",
      "True\n",
      "model.0.core.layer1.0.conv1.0.weight\n",
      "torch.Size([64, 64, 3, 3, 3])\n",
      "True\n",
      "model.0.core.layer1.0.conv1.1.weight\n",
      "torch.Size([64])\n",
      "True\n",
      "model.0.core.layer1.0.conv1.1.bias\n",
      "torch.Size([64])\n",
      "True\n",
      "model.0.core.layer1.0.conv2.0.weight\n",
      "torch.Size([64, 64, 3, 3, 3])\n",
      "True\n",
      "model.0.core.layer1.0.conv2.1.weight\n",
      "torch.Size([64])\n",
      "True\n",
      "model.0.core.layer1.0.conv2.1.bias\n",
      "torch.Size([64])\n",
      "True\n",
      "model.0.core.layer1.1.conv1.0.weight\n",
      "torch.Size([64, 64, 3, 3, 3])\n",
      "True\n",
      "model.0.core.layer1.1.conv1.1.weight\n",
      "torch.Size([64])\n",
      "True\n",
      "model.0.core.layer1.1.conv1.1.bias\n",
      "torch.Size([64])\n",
      "True\n",
      "model.0.core.layer1.1.conv2.0.weight\n",
      "torch.Size([64, 64, 3, 3, 3])\n",
      "True\n",
      "model.0.core.layer1.1.conv2.1.weight\n",
      "torch.Size([64])\n",
      "True\n",
      "model.0.core.layer1.1.conv2.1.bias\n",
      "torch.Size([64])\n",
      "True\n",
      "model.0.core.layer2.0.conv1.0.weight\n",
      "torch.Size([128, 64, 3, 3, 3])\n",
      "True\n",
      "model.0.core.layer2.0.conv1.1.weight\n",
      "torch.Size([128])\n",
      "True\n",
      "model.0.core.layer2.0.conv1.1.bias\n",
      "torch.Size([128])\n",
      "True\n",
      "model.0.core.layer2.0.conv2.0.weight\n",
      "torch.Size([128, 128, 3, 3, 3])\n",
      "True\n",
      "model.0.core.layer2.0.conv2.1.weight\n",
      "torch.Size([128])\n",
      "True\n",
      "model.0.core.layer2.0.conv2.1.bias\n",
      "torch.Size([128])\n",
      "True\n",
      "model.0.core.layer2.0.downsample.0.weight\n",
      "torch.Size([128, 64, 1, 1, 1])\n",
      "True\n",
      "model.0.core.layer2.0.downsample.1.weight\n",
      "torch.Size([128])\n",
      "True\n",
      "model.0.core.layer2.0.downsample.1.bias\n",
      "torch.Size([128])\n",
      "True\n",
      "model.0.core.layer2.1.conv1.0.weight\n",
      "torch.Size([128, 128, 3, 3, 3])\n",
      "True\n",
      "model.0.core.layer2.1.conv1.1.weight\n",
      "torch.Size([128])\n",
      "True\n",
      "model.0.core.layer2.1.conv1.1.bias\n",
      "torch.Size([128])\n",
      "True\n",
      "model.0.core.layer2.1.conv2.0.weight\n",
      "torch.Size([128, 128, 3, 3, 3])\n",
      "True\n",
      "model.0.core.layer2.1.conv2.1.weight\n",
      "torch.Size([128])\n",
      "True\n",
      "model.0.core.layer2.1.conv2.1.bias\n",
      "torch.Size([128])\n",
      "True\n",
      "model.0.core.layer3.0.conv1.0.weight\n",
      "torch.Size([256, 128, 3, 3, 3])\n",
      "True\n",
      "model.0.core.layer3.0.conv1.1.weight\n",
      "torch.Size([256])\n",
      "True\n",
      "model.0.core.layer3.0.conv1.1.bias\n",
      "torch.Size([256])\n",
      "True\n",
      "model.0.core.layer3.0.conv2.0.weight\n",
      "torch.Size([256, 256, 3, 3, 3])\n",
      "True\n",
      "model.0.core.layer3.0.conv2.1.weight\n",
      "torch.Size([256])\n",
      "True\n",
      "model.0.core.layer3.0.conv2.1.bias\n",
      "torch.Size([256])\n",
      "True\n",
      "model.0.core.layer3.0.downsample.0.weight\n",
      "torch.Size([256, 128, 1, 1, 1])\n",
      "True\n",
      "model.0.core.layer3.0.downsample.1.weight\n",
      "torch.Size([256])\n",
      "True\n",
      "model.0.core.layer3.0.downsample.1.bias\n",
      "torch.Size([256])\n",
      "True\n",
      "model.0.core.layer3.1.conv1.0.weight\n",
      "torch.Size([256, 256, 3, 3, 3])\n",
      "True\n",
      "model.0.core.layer3.1.conv1.1.weight\n",
      "torch.Size([256])\n",
      "True\n",
      "model.0.core.layer3.1.conv1.1.bias\n",
      "torch.Size([256])\n",
      "True\n",
      "model.0.core.layer3.1.conv2.0.weight\n",
      "torch.Size([256, 256, 3, 3, 3])\n",
      "True\n",
      "model.0.core.layer3.1.conv2.1.weight\n",
      "torch.Size([256])\n",
      "True\n",
      "model.0.core.layer3.1.conv2.1.bias\n",
      "torch.Size([256])\n",
      "True\n",
      "model.0.core.layer4.0.conv1.0.weight\n",
      "torch.Size([512, 256, 3, 3, 3])\n",
      "True\n",
      "model.0.core.layer4.0.conv1.1.weight\n",
      "torch.Size([512])\n",
      "True\n",
      "model.0.core.layer4.0.conv1.1.bias\n",
      "torch.Size([512])\n",
      "True\n",
      "model.1.mu\n",
      "torch.Size([95, 2])\n",
      "True\n",
      "model.1.sigma\n",
      "torch.Size([95])\n",
      "True\n",
      "model.1.poisson_linear.linear.weight\n",
      "torch.Size([95, 512])\n",
      "True\n",
      "model.1.poisson_linear.linear.bias\n",
      "torch.Size([95])\n",
      "True\n",
      "  epoch 1 loss: 0.12469533319872711 corr: 0.0017690103126736991\n",
      " num. neurons : 95\n",
      "  epoch 2 loss: 0.10598268558841725 corr: 0.006300664172321231\n",
      " num. neurons : 95\n"
     ]
    },
    {
     "name": "stderr",
     "output_type": "stream",
     "text": [
      "/src/models/cs230/fix_models/metrics.py:33: ConstantInputWarning: An input array is constant; the correlation coefficient is not defined.\n",
      "  return pearsonr(pred, avg, axis=0).statistic\n"
     ]
    },
    {
     "name": "stdout",
     "output_type": "stream",
     "text": [
      "  epoch 3 loss: 0.10499563772640927 corr: -0.0039136614206282515\n",
      " num. neurons : 95\n",
      "  epoch 4 loss: 0.10447430373486424 corr: -0.017961336662141426\n",
      " num. neurons : 95\n",
      "  epoch 5 loss: 0.10370527256221672 corr: 0.0028239910522236573\n",
      " num. neurons : 95\n",
      "  epoch 6 loss: 0.10310225118517252 corr: 0.0006697366240751614\n",
      " num. neurons : 95\n",
      "  epoch 7 loss: 0.10259285747068715 corr: -0.0025499812889001774\n",
      " num. neurons : 95\n",
      "  epoch 8 loss: 0.10171740404598376 corr: -0.00872647185369193\n",
      " num. neurons : 95\n",
      "  epoch 9 loss: 0.10063786962269489 corr: 0.0013663745595091548\n",
      " num. neurons : 95\n",
      "  epoch 10 loss: 0.09927076575643728 corr: 0.019990014226103588\n",
      " num. neurons : 95\n",
      "  epoch 11 loss: 0.09769157258627927 corr: -0.0054011524467143\n",
      " num. neurons : 95\n",
      "  epoch 12 loss: 0.09526856045448343 corr: -0.003251896944362709\n",
      " num. neurons : 95\n",
      "  epoch 13 loss: 0.09259408094496004 corr: -0.004265935846955718\n",
      " num. neurons : 95\n",
      "  epoch 14 loss: 0.0893483720524773 corr: 0.004253396552748678\n",
      " num. neurons : 95\n",
      "  epoch 15 loss: 0.08627343708307955 corr: -0.01132707552010583\n",
      " num. neurons : 95\n",
      "  epoch 16 loss: 0.08298034736623315 corr: 0.006225661546590642\n",
      " num. neurons : 95\n",
      "  epoch 17 loss: 0.07996738281549584 corr: -0.006554353185164502\n",
      " num. neurons : 95\n",
      "  epoch 18 loss: 0.0768515043857834 corr: -0.00028111249930731536\n",
      " num. neurons : 95\n",
      "  epoch 19 loss: 0.07392202122673314 corr: -0.0030738495716697576\n",
      " num. neurons : 95\n",
      "  epoch 20 loss: 0.07096853886599316 corr: -0.03196360185419661\n",
      " num. neurons : 95\n"
     ]
    },
    {
     "data": {
      "text/html": [
       "\n",
       "    <style>\n",
       "        .wandb-row {\n",
       "            display: flex;\n",
       "            flex-direction: row;\n",
       "            flex-wrap: wrap;\n",
       "            justify-content: flex-start;\n",
       "            width: 100%;\n",
       "        }\n",
       "        .wandb-col {\n",
       "            display: flex;\n",
       "            flex-direction: column;\n",
       "            flex-basis: 100%;\n",
       "            flex: 1;\n",
       "            padding: 10px;\n",
       "        }\n",
       "    </style>\n",
       "<div class=\"wandb-row\"><div class=\"wandb-col\"><h3>Run history:</h3><br/><table class=\"wandb\"><tr><td>corr_to_avg</td><td>▆▆▅▃▆▅▅▄▅█▅▅▅▆▄▆▄▅▅▁</td></tr><tr><td>test_loss</td><td>▂▁▁▁▁▁▁▁▁▁▂▁▂▂▂▄▄▅▇█</td></tr><tr><td>train_loss</td><td>█▆▅▅▅▅▅▅▅▅▄▄▄▃▃▃▂▂▁▁</td></tr></table><br/></div><div class=\"wandb-col\"><h3>Run summary:</h3><br/><table class=\"wandb\"><tr><td>train_loss</td><td>1.12958</td></tr></table><br/></div></div>"
      ],
      "text/plain": [
       "<IPython.core.display.HTML object>"
      ]
     },
     "metadata": {},
     "output_type": "display_data"
    },
    {
     "data": {
      "text/html": [
       " View run <strong style=\"color:#cdcd00\">fragrant-frost-122</strong> at: <a href='https://wandb.ai/et22/video-cs230/runs/rlqg8qlr' target=\"_blank\">https://wandb.ai/et22/video-cs230/runs/rlqg8qlr</a><br/> View project at: <a href='https://wandb.ai/et22/video-cs230' target=\"_blank\">https://wandb.ai/et22/video-cs230</a><br/>Synced 5 W&B file(s), 0 media file(s), 0 artifact file(s) and 0 other file(s)"
      ],
      "text/plain": [
       "<IPython.core.display.HTML object>"
      ]
     },
     "metadata": {},
     "output_type": "display_data"
    },
    {
     "data": {
      "text/html": [
       "Find logs at: <code>./wandb/run-20241130_202721-rlqg8qlr/logs</code>"
      ],
      "text/plain": [
       "<IPython.core.display.HTML object>"
      ]
     },
     "metadata": {},
     "output_type": "display_data"
    },
    {
     "data": {
      "text/html": [
       "Tracking run with wandb version 0.18.7"
      ],
      "text/plain": [
       "<IPython.core.display.HTML object>"
      ]
     },
     "metadata": {},
     "output_type": "display_data"
    },
    {
     "data": {
      "text/html": [
       "Run data is saved locally in <code>/src/models/cs230/wandb/run-20241130_203125-s2q46c73</code>"
      ],
      "text/plain": [
       "<IPython.core.display.HTML object>"
      ]
     },
     "metadata": {},
     "output_type": "display_data"
    },
    {
     "data": {
      "text/html": [
       "Syncing run <strong><a href='https://wandb.ai/et22/video-cs230/runs/s2q46c73' target=\"_blank\">warm-disco-123</a></strong> to <a href='https://wandb.ai/et22/video-cs230' target=\"_blank\">Weights & Biases</a> (<a href='https://wandb.me/developer-guide' target=\"_blank\">docs</a>)<br/>"
      ],
      "text/plain": [
       "<IPython.core.display.HTML object>"
      ]
     },
     "metadata": {},
     "output_type": "display_data"
    },
    {
     "data": {
      "text/html": [
       " View project at <a href='https://wandb.ai/et22/video-cs230' target=\"_blank\">https://wandb.ai/et22/video-cs230</a>"
      ],
      "text/plain": [
       "<IPython.core.display.HTML object>"
      ]
     },
     "metadata": {},
     "output_type": "display_data"
    },
    {
     "data": {
      "text/html": [
       " View run at <a href='https://wandb.ai/et22/video-cs230/runs/s2q46c73' target=\"_blank\">https://wandb.ai/et22/video-cs230/runs/s2q46c73</a>"
      ],
      "text/plain": [
       "<IPython.core.display.HTML object>"
      ]
     },
     "metadata": {},
     "output_type": "display_data"
    },
    {
     "name": "stdout",
     "output_type": "stream",
     "text": [
      "readout input shape: 512\n",
      "model.0.stim\n",
      "torch.Size([1, 3, 5, 32, 32])\n",
      "True\n",
      "model.0.core.stem.0.weight\n",
      "torch.Size([64, 3, 3, 7, 7])\n",
      "True\n",
      "model.0.core.stem.1.weight\n",
      "torch.Size([64])\n",
      "True\n",
      "model.0.core.stem.1.bias\n",
      "torch.Size([64])\n",
      "True\n",
      "model.0.core.layer1.0.conv1.0.weight\n",
      "torch.Size([64, 64, 3, 3, 3])\n",
      "True\n",
      "model.0.core.layer1.0.conv1.1.weight\n",
      "torch.Size([64])\n",
      "True\n",
      "model.0.core.layer1.0.conv1.1.bias\n",
      "torch.Size([64])\n",
      "True\n",
      "model.0.core.layer1.0.conv2.0.weight\n",
      "torch.Size([64, 64, 3, 3, 3])\n",
      "True\n",
      "model.0.core.layer1.0.conv2.1.weight\n",
      "torch.Size([64])\n",
      "True\n",
      "model.0.core.layer1.0.conv2.1.bias\n",
      "torch.Size([64])\n",
      "True\n",
      "model.0.core.layer1.1.conv1.0.weight\n",
      "torch.Size([64, 64, 3, 3, 3])\n",
      "True\n",
      "model.0.core.layer1.1.conv1.1.weight\n",
      "torch.Size([64])\n",
      "True\n",
      "model.0.core.layer1.1.conv1.1.bias\n",
      "torch.Size([64])\n",
      "True\n",
      "model.0.core.layer1.1.conv2.0.weight\n",
      "torch.Size([64, 64, 3, 3, 3])\n",
      "True\n",
      "model.0.core.layer1.1.conv2.1.weight\n",
      "torch.Size([64])\n",
      "True\n",
      "model.0.core.layer1.1.conv2.1.bias\n",
      "torch.Size([64])\n",
      "True\n",
      "model.0.core.layer2.0.conv1.0.weight\n",
      "torch.Size([128, 64, 3, 3, 3])\n",
      "True\n",
      "model.0.core.layer2.0.conv1.1.weight\n",
      "torch.Size([128])\n",
      "True\n",
      "model.0.core.layer2.0.conv1.1.bias\n",
      "torch.Size([128])\n",
      "True\n",
      "model.0.core.layer2.0.conv2.0.weight\n",
      "torch.Size([128, 128, 3, 3, 3])\n",
      "True\n",
      "model.0.core.layer2.0.conv2.1.weight\n",
      "torch.Size([128])\n",
      "True\n",
      "model.0.core.layer2.0.conv2.1.bias\n",
      "torch.Size([128])\n",
      "True\n",
      "model.0.core.layer2.0.downsample.0.weight\n",
      "torch.Size([128, 64, 1, 1, 1])\n",
      "True\n",
      "model.0.core.layer2.0.downsample.1.weight\n",
      "torch.Size([128])\n",
      "True\n",
      "model.0.core.layer2.0.downsample.1.bias\n",
      "torch.Size([128])\n",
      "True\n",
      "model.0.core.layer2.1.conv1.0.weight\n",
      "torch.Size([128, 128, 3, 3, 3])\n",
      "True\n",
      "model.0.core.layer2.1.conv1.1.weight\n",
      "torch.Size([128])\n",
      "True\n",
      "model.0.core.layer2.1.conv1.1.bias\n",
      "torch.Size([128])\n",
      "True\n",
      "model.0.core.layer2.1.conv2.0.weight\n",
      "torch.Size([128, 128, 3, 3, 3])\n",
      "True\n",
      "model.0.core.layer2.1.conv2.1.weight\n",
      "torch.Size([128])\n",
      "True\n",
      "model.0.core.layer2.1.conv2.1.bias\n",
      "torch.Size([128])\n",
      "True\n",
      "model.0.core.layer3.0.conv1.0.weight\n",
      "torch.Size([256, 128, 3, 3, 3])\n",
      "True\n",
      "model.0.core.layer3.0.conv1.1.weight\n",
      "torch.Size([256])\n",
      "True\n",
      "model.0.core.layer3.0.conv1.1.bias\n",
      "torch.Size([256])\n",
      "True\n",
      "model.0.core.layer3.0.conv2.0.weight\n",
      "torch.Size([256, 256, 3, 3, 3])\n",
      "True\n",
      "model.0.core.layer3.0.conv2.1.weight\n",
      "torch.Size([256])\n",
      "True\n",
      "model.0.core.layer3.0.conv2.1.bias\n",
      "torch.Size([256])\n",
      "True\n",
      "model.0.core.layer3.0.downsample.0.weight\n",
      "torch.Size([256, 128, 1, 1, 1])\n",
      "True\n",
      "model.0.core.layer3.0.downsample.1.weight\n",
      "torch.Size([256])\n",
      "True\n",
      "model.0.core.layer3.0.downsample.1.bias\n",
      "torch.Size([256])\n",
      "True\n",
      "model.0.core.layer3.1.conv1.0.weight\n",
      "torch.Size([256, 256, 3, 3, 3])\n",
      "True\n",
      "model.0.core.layer3.1.conv1.1.weight\n",
      "torch.Size([256])\n",
      "True\n",
      "model.0.core.layer3.1.conv1.1.bias\n",
      "torch.Size([256])\n",
      "True\n",
      "model.0.core.layer3.1.conv2.0.weight\n",
      "torch.Size([256, 256, 3, 3, 3])\n",
      "True\n",
      "model.0.core.layer3.1.conv2.1.weight\n",
      "torch.Size([256])\n",
      "True\n",
      "model.0.core.layer3.1.conv2.1.bias\n",
      "torch.Size([256])\n",
      "True\n",
      "model.0.core.layer4.0.conv1.0.weight\n",
      "torch.Size([512, 256, 3, 3, 3])\n",
      "True\n",
      "model.0.core.layer4.0.conv1.1.weight\n",
      "torch.Size([512])\n",
      "True\n",
      "model.0.core.layer4.0.conv1.1.bias\n",
      "torch.Size([512])\n",
      "True\n",
      "model.1.mu\n",
      "torch.Size([54, 2])\n",
      "True\n",
      "model.1.sigma\n",
      "torch.Size([54])\n",
      "True\n",
      "model.1.poisson_linear.linear.weight\n",
      "torch.Size([54, 512])\n",
      "True\n",
      "model.1.poisson_linear.linear.bias\n",
      "torch.Size([54])\n",
      "True\n",
      "  epoch 1 loss: 0.15187813871818617 corr: -0.052019161934103365\n",
      " num. neurons : 54\n",
      "  epoch 2 loss: 0.11845177168748816 corr: 0.02105689621651365\n",
      " num. neurons : 54\n",
      "  epoch 3 loss: 0.11798043973486087 corr: 0.031105127020770548\n",
      " num. neurons : 54\n"
     ]
    },
    {
     "name": "stderr",
     "output_type": "stream",
     "text": [
      "/src/models/cs230/fix_models/metrics.py:33: ConstantInputWarning: An input array is constant; the correlation coefficient is not defined.\n",
      "  return pearsonr(pred, avg, axis=0).statistic\n"
     ]
    },
    {
     "name": "stdout",
     "output_type": "stream",
     "text": [
      "  epoch 4 loss: 0.11747955085962561 corr: 0.001005722887469293\n",
      " num. neurons : 54\n",
      "  epoch 5 loss: 0.11712187380524156 corr: 0.020409460434081844\n",
      " num. neurons : 54\n",
      "  epoch 6 loss: 0.11663937526354244 corr: -0.016212074575959377\n",
      " num. neurons : 54\n",
      "  epoch 7 loss: 0.11613883116442013 corr: 0.003147070193053982\n",
      " num. neurons : 54\n",
      "  epoch 8 loss: 0.11513951899419343 corr: 0.008514657878610736\n",
      " num. neurons : 54\n",
      "  epoch 9 loss: 0.11424807367223284 corr: 0.0026674289003730434\n",
      " num. neurons : 54\n",
      "  epoch 10 loss: 0.11303223787204503 corr: -0.01715585812744317\n",
      " num. neurons : 54\n",
      "  epoch 11 loss: 0.11149459125303862 corr: -0.027166665252279846\n",
      " num. neurons : 54\n",
      "  epoch 12 loss: 0.10994801292825612 corr: 0.04852765797838665\n",
      " num. neurons : 54\n",
      "  epoch 13 loss: 0.10780296641953137 corr: 0.03656120775359657\n",
      " num. neurons : 54\n",
      "  epoch 14 loss: 0.10534149265543169 corr: 0.002161111869659526\n",
      " num. neurons : 54\n",
      "  epoch 15 loss: 0.10225943304737162 corr: -0.012742634174778632\n",
      " num. neurons : 54\n",
      "  epoch 16 loss: 0.0992685399334729 corr: -0.00999560389222088\n",
      " num. neurons : 54\n",
      "  epoch 17 loss: 0.09588764580140202 corr: 0.01126712178060363\n",
      " num. neurons : 54\n",
      "  epoch 18 loss: 0.09235124293956062 corr: -0.018402136574962993\n",
      " num. neurons : 54\n",
      "  epoch 19 loss: 0.08882609255671395 corr: -0.011995906034383885\n",
      " num. neurons : 54\n",
      "  epoch 20 loss: 0.08523186520337 corr: 0.004856744244227805\n",
      " num. neurons : 54\n"
     ]
    },
    {
     "data": {
      "text/html": [
       "\n",
       "    <style>\n",
       "        .wandb-row {\n",
       "            display: flex;\n",
       "            flex-direction: row;\n",
       "            flex-wrap: wrap;\n",
       "            justify-content: flex-start;\n",
       "            width: 100%;\n",
       "        }\n",
       "        .wandb-col {\n",
       "            display: flex;\n",
       "            flex-direction: column;\n",
       "            flex-basis: 100%;\n",
       "            flex: 1;\n",
       "            padding: 10px;\n",
       "        }\n",
       "    </style>\n",
       "<div class=\"wandb-row\"><div class=\"wandb-col\"><h3>Run history:</h3><br/><table class=\"wandb\"><tr><td>corr_to_avg</td><td>▁▆▇▅▆▃▅▅▅▃▃█▇▅▄▄▅▃▄▅</td></tr><tr><td>test_loss</td><td>▅▃▁▃▄▄▃▂▂▃▂▂▄▄▃▃▄▆█▇</td></tr><tr><td>train_loss</td><td>█▄▄▄▄▄▄▄▄▄▄▄▃▃▃▂▂▂▁▁</td></tr></table><br/></div><div class=\"wandb-col\"><h3>Run summary:</h3><br/><table class=\"wandb\"><tr><td>train_loss</td><td>1.3625</td></tr></table><br/></div></div>"
      ],
      "text/plain": [
       "<IPython.core.display.HTML object>"
      ]
     },
     "metadata": {},
     "output_type": "display_data"
    },
    {
     "data": {
      "text/html": [
       " View run <strong style=\"color:#cdcd00\">warm-disco-123</strong> at: <a href='https://wandb.ai/et22/video-cs230/runs/s2q46c73' target=\"_blank\">https://wandb.ai/et22/video-cs230/runs/s2q46c73</a><br/> View project at: <a href='https://wandb.ai/et22/video-cs230' target=\"_blank\">https://wandb.ai/et22/video-cs230</a><br/>Synced 5 W&B file(s), 0 media file(s), 0 artifact file(s) and 0 other file(s)"
      ],
      "text/plain": [
       "<IPython.core.display.HTML object>"
      ]
     },
     "metadata": {},
     "output_type": "display_data"
    },
    {
     "data": {
      "text/html": [
       "Find logs at: <code>./wandb/run-20241130_203125-s2q46c73/logs</code>"
      ],
      "text/plain": [
       "<IPython.core.display.HTML object>"
      ]
     },
     "metadata": {},
     "output_type": "display_data"
    },
    {
     "data": {
      "text/html": [
       "Tracking run with wandb version 0.18.7"
      ],
      "text/plain": [
       "<IPython.core.display.HTML object>"
      ]
     },
     "metadata": {},
     "output_type": "display_data"
    },
    {
     "data": {
      "text/html": [
       "Run data is saved locally in <code>/src/models/cs230/wandb/run-20241130_203616-we9i7a48</code>"
      ],
      "text/plain": [
       "<IPython.core.display.HTML object>"
      ]
     },
     "metadata": {},
     "output_type": "display_data"
    },
    {
     "data": {
      "text/html": [
       "Syncing run <strong><a href='https://wandb.ai/et22/video-cs230/runs/we9i7a48' target=\"_blank\">hopeful-rain-124</a></strong> to <a href='https://wandb.ai/et22/video-cs230' target=\"_blank\">Weights & Biases</a> (<a href='https://wandb.me/developer-guide' target=\"_blank\">docs</a>)<br/>"
      ],
      "text/plain": [
       "<IPython.core.display.HTML object>"
      ]
     },
     "metadata": {},
     "output_type": "display_data"
    },
    {
     "data": {
      "text/html": [
       " View project at <a href='https://wandb.ai/et22/video-cs230' target=\"_blank\">https://wandb.ai/et22/video-cs230</a>"
      ],
      "text/plain": [
       "<IPython.core.display.HTML object>"
      ]
     },
     "metadata": {},
     "output_type": "display_data"
    },
    {
     "data": {
      "text/html": [
       " View run at <a href='https://wandb.ai/et22/video-cs230/runs/we9i7a48' target=\"_blank\">https://wandb.ai/et22/video-cs230/runs/we9i7a48</a>"
      ],
      "text/plain": [
       "<IPython.core.display.HTML object>"
      ]
     },
     "metadata": {},
     "output_type": "display_data"
    },
    {
     "data": {
      "text/html": [
       "\n",
       "    <style>\n",
       "        .wandb-row {\n",
       "            display: flex;\n",
       "            flex-direction: row;\n",
       "            flex-wrap: wrap;\n",
       "            justify-content: flex-start;\n",
       "            width: 100%;\n",
       "        }\n",
       "        .wandb-col {\n",
       "            display: flex;\n",
       "            flex-direction: column;\n",
       "            flex-basis: 100%;\n",
       "            flex: 1;\n",
       "            padding: 10px;\n",
       "        }\n",
       "    </style>\n",
       "<div class=\"wandb-row\"><div class=\"wandb-col\"><h3>Run history:</h3><br/><table class=\"wandb\"><tr><td>corr</td><td>█▄▆▅▂▂▂▃▁▂▃▄▃▃▁▂▄▅▄▂▃▄▅▄▂▃▄▄▃▄▂▄▁▅▅▅▁▅▄▆</td></tr></table><br/></div><div class=\"wandb-col\"><h3>Run summary:</h3><br/><table class=\"wandb\"><tr><td>corr</td><td>0.24321</td></tr></table><br/></div></div>"
      ],
      "text/plain": [
       "<IPython.core.display.HTML object>"
      ]
     },
     "metadata": {},
     "output_type": "display_data"
    },
    {
     "data": {
      "text/html": [
       " View run <strong style=\"color:#cdcd00\">hopeful-rain-124</strong> at: <a href='https://wandb.ai/et22/video-cs230/runs/we9i7a48' target=\"_blank\">https://wandb.ai/et22/video-cs230/runs/we9i7a48</a><br/> View project at: <a href='https://wandb.ai/et22/video-cs230' target=\"_blank\">https://wandb.ai/et22/video-cs230</a><br/>Synced 5 W&B file(s), 0 media file(s), 0 artifact file(s) and 0 other file(s)"
      ],
      "text/plain": [
       "<IPython.core.display.HTML object>"
      ]
     },
     "metadata": {},
     "output_type": "display_data"
    },
    {
     "data": {
      "text/html": [
       "Find logs at: <code>./wandb/run-20241130_203616-we9i7a48/logs</code>"
      ],
      "text/plain": [
       "<IPython.core.display.HTML object>"
      ]
     },
     "metadata": {},
     "output_type": "display_data"
    },
    {
     "name": "stdout",
     "output_type": "stream",
     "text": [
      "100\n"
     ]
    },
    {
     "data": {
      "text/html": [
       "Tracking run with wandb version 0.18.7"
      ],
      "text/plain": [
       "<IPython.core.display.HTML object>"
      ]
     },
     "metadata": {},
     "output_type": "display_data"
    },
    {
     "data": {
      "text/html": [
       "Run data is saved locally in <code>/src/models/cs230/wandb/run-20241130_203618-lma1874m</code>"
      ],
      "text/plain": [
       "<IPython.core.display.HTML object>"
      ]
     },
     "metadata": {},
     "output_type": "display_data"
    },
    {
     "data": {
      "text/html": [
       "Syncing run <strong><a href='https://wandb.ai/et22/video-cs230/runs/lma1874m' target=\"_blank\">genial-surf-125</a></strong> to <a href='https://wandb.ai/et22/video-cs230' target=\"_blank\">Weights & Biases</a> (<a href='https://wandb.me/developer-guide' target=\"_blank\">docs</a>)<br/>"
      ],
      "text/plain": [
       "<IPython.core.display.HTML object>"
      ]
     },
     "metadata": {},
     "output_type": "display_data"
    },
    {
     "data": {
      "text/html": [
       " View project at <a href='https://wandb.ai/et22/video-cs230' target=\"_blank\">https://wandb.ai/et22/video-cs230</a>"
      ],
      "text/plain": [
       "<IPython.core.display.HTML object>"
      ]
     },
     "metadata": {},
     "output_type": "display_data"
    },
    {
     "data": {
      "text/html": [
       " View run at <a href='https://wandb.ai/et22/video-cs230/runs/lma1874m' target=\"_blank\">https://wandb.ai/et22/video-cs230/runs/lma1874m</a>"
      ],
      "text/plain": [
       "<IPython.core.display.HTML object>"
      ]
     },
     "metadata": {},
     "output_type": "display_data"
    },
    {
     "name": "stdout",
     "output_type": "stream",
     "text": [
      "readout input shape: 15360\n",
      "model.1.linear.weight\n",
      "torch.Size([54, 15360])\n",
      "True\n",
      "model.1.linear.bias\n",
      "torch.Size([54])\n",
      "True\n",
      "  epoch 1 loss: 0.14979745270293435 corr: 0.005912113176879469\n",
      " num. neurons : 54\n",
      "  epoch 2 loss: 0.1472646884565 corr: 0.021935849121347516\n",
      " num. neurons : 54\n",
      "  epoch 3 loss: 0.14500016883567526 corr: -0.011521064073509652\n",
      " num. neurons : 54\n",
      "  epoch 4 loss: 0.14138739791917213 corr: 0.02287697537438306\n",
      " num. neurons : 54\n",
      "  epoch 5 loss: 0.13928212931126724 corr: -0.021969425315065492\n",
      " num. neurons : 54\n",
      "  epoch 6 loss: 0.13749420395603887 corr: -0.03009972983220406\n",
      " num. neurons : 54\n",
      "  epoch 7 loss: 0.13461551089345672 corr: -0.011036492438976505\n",
      " num. neurons : 54\n",
      "  epoch 8 loss: 0.13360802526827212 corr: -0.009236659575651819\n",
      " num. neurons : 54\n",
      "  epoch 9 loss: 0.1317056327395969 corr: -0.05956108157421558\n",
      " num. neurons : 54\n",
      "  epoch 10 loss: 0.12953671549573356 corr: -0.03227361937382774\n",
      " num. neurons : 54\n",
      "  epoch 11 loss: 0.12923480122177688 corr: 0.07677170529816327\n",
      " num. neurons : 54\n",
      "  epoch 12 loss: 0.12776371549676965 corr: -0.01468964638484014\n",
      " num. neurons : 54\n",
      "  epoch 13 loss: 0.12801681418477753 corr: 0.052360237594746666\n",
      " num. neurons : 54\n",
      "  epoch 14 loss: 0.12591513027379542 corr: -0.0002267095880783379\n",
      " num. neurons : 54\n",
      "  epoch 15 loss: 0.12523969338263993 corr: 0.056412278685450054\n",
      " num. neurons : 54\n",
      "  epoch 16 loss: 0.12481702992945541 corr: 0.024610189057623046\n",
      " num. neurons : 54\n",
      "  epoch 17 loss: 0.12408243002714935 corr: -0.018570046000294434\n",
      " num. neurons : 54\n",
      "  epoch 18 loss: 0.12366742416664406 corr: -0.002305698210367965\n",
      " num. neurons : 54\n",
      "  epoch 19 loss: 0.12325092768963472 corr: -0.013799312468750893\n",
      " num. neurons : 54\n",
      "  epoch 20 loss: 0.12206940668600577 corr: -0.01239907957324512\n",
      " num. neurons : 54\n"
     ]
    },
    {
     "data": {
      "text/html": [
       "\n",
       "    <style>\n",
       "        .wandb-row {\n",
       "            display: flex;\n",
       "            flex-direction: row;\n",
       "            flex-wrap: wrap;\n",
       "            justify-content: flex-start;\n",
       "            width: 100%;\n",
       "        }\n",
       "        .wandb-col {\n",
       "            display: flex;\n",
       "            flex-direction: column;\n",
       "            flex-basis: 100%;\n",
       "            flex: 1;\n",
       "            padding: 10px;\n",
       "        }\n",
       "    </style>\n",
       "<div class=\"wandb-row\"><div class=\"wandb-col\"><h3>Run history:</h3><br/><table class=\"wandb\"><tr><td>corr_to_avg</td><td>▄▅▃▅▃▃▃▄▁▂█▃▇▄▇▅▃▄▃▃</td></tr><tr><td>test_loss</td><td>██▅▅▄▄▅▄▃▂▂▂▁▂▁▂▂▁▁▁</td></tr><tr><td>train_loss</td><td>█▇▇▆▅▅▄▄▃▃▃▂▃▂▂▂▂▁▁▁</td></tr></table><br/></div><div class=\"wandb-col\"><h3>Run summary:</h3><br/><table class=\"wandb\"><tr><td>train_loss</td><td>1.94638</td></tr></table><br/></div></div>"
      ],
      "text/plain": [
       "<IPython.core.display.HTML object>"
      ]
     },
     "metadata": {},
     "output_type": "display_data"
    },
    {
     "data": {
      "text/html": [
       " View run <strong style=\"color:#cdcd00\">genial-surf-125</strong> at: <a href='https://wandb.ai/et22/video-cs230/runs/lma1874m' target=\"_blank\">https://wandb.ai/et22/video-cs230/runs/lma1874m</a><br/> View project at: <a href='https://wandb.ai/et22/video-cs230' target=\"_blank\">https://wandb.ai/et22/video-cs230</a><br/>Synced 5 W&B file(s), 0 media file(s), 0 artifact file(s) and 0 other file(s)"
      ],
      "text/plain": [
       "<IPython.core.display.HTML object>"
      ]
     },
     "metadata": {},
     "output_type": "display_data"
    },
    {
     "data": {
      "text/html": [
       "Find logs at: <code>./wandb/run-20241130_203618-lma1874m/logs</code>"
      ],
      "text/plain": [
       "<IPython.core.display.HTML object>"
      ]
     },
     "metadata": {},
     "output_type": "display_data"
    },
    {
     "data": {
      "text/html": [
       "Tracking run with wandb version 0.18.7"
      ],
      "text/plain": [
       "<IPython.core.display.HTML object>"
      ]
     },
     "metadata": {},
     "output_type": "display_data"
    },
    {
     "data": {
      "text/html": [
       "Run data is saved locally in <code>/src/models/cs230/wandb/run-20241130_204026-vsjk3avg</code>"
      ],
      "text/plain": [
       "<IPython.core.display.HTML object>"
      ]
     },
     "metadata": {},
     "output_type": "display_data"
    },
    {
     "data": {
      "text/html": [
       "Syncing run <strong><a href='https://wandb.ai/et22/video-cs230/runs/vsjk3avg' target=\"_blank\">distinctive-breeze-126</a></strong> to <a href='https://wandb.ai/et22/video-cs230' target=\"_blank\">Weights & Biases</a> (<a href='https://wandb.me/developer-guide' target=\"_blank\">docs</a>)<br/>"
      ],
      "text/plain": [
       "<IPython.core.display.HTML object>"
      ]
     },
     "metadata": {},
     "output_type": "display_data"
    },
    {
     "data": {
      "text/html": [
       " View project at <a href='https://wandb.ai/et22/video-cs230' target=\"_blank\">https://wandb.ai/et22/video-cs230</a>"
      ],
      "text/plain": [
       "<IPython.core.display.HTML object>"
      ]
     },
     "metadata": {},
     "output_type": "display_data"
    },
    {
     "data": {
      "text/html": [
       " View run at <a href='https://wandb.ai/et22/video-cs230/runs/vsjk3avg' target=\"_blank\">https://wandb.ai/et22/video-cs230/runs/vsjk3avg</a>"
      ],
      "text/plain": [
       "<IPython.core.display.HTML object>"
      ]
     },
     "metadata": {},
     "output_type": "display_data"
    },
    {
     "name": "stdout",
     "output_type": "stream",
     "text": [
      "readout input shape: 15360\n",
      "model.1.linear.weight\n",
      "torch.Size([95, 15360])\n",
      "True\n",
      "model.1.linear.bias\n",
      "torch.Size([95])\n",
      "True\n",
      "  epoch 1 loss: 0.13575671642862688 corr: 0.03246384019122222\n",
      " num. neurons : 95\n",
      "  epoch 2 loss: 0.1323393753061744 corr: 0.025991631937607763\n",
      " num. neurons : 95\n",
      "  epoch 3 loss: 0.13003556959292029 corr: 0.020403643781231533\n",
      " num. neurons : 95\n",
      "  epoch 4 loss: 0.12764299334031748 corr: 0.015149203949906525\n",
      " num. neurons : 95\n",
      "  epoch 5 loss: 0.12601739979539242 corr: 0.03708560879294564\n",
      " num. neurons : 95\n",
      "  epoch 6 loss: 0.12378430609927751 corr: -0.00820102141181545\n",
      " num. neurons : 95\n",
      "  epoch 7 loss: 0.1224942006365791 corr: -0.022102132384725304\n",
      " num. neurons : 95\n",
      "  epoch 8 loss: 0.12133856549937064 corr: -0.009591811853176131\n",
      " num. neurons : 95\n",
      "  epoch 9 loss: 0.12060847881576778 corr: 0.013455774599181312\n",
      " num. neurons : 95\n",
      "  epoch 10 loss: 0.11923388810682047 corr: 0.04836671479336574\n",
      " num. neurons : 95\n",
      "  epoch 11 loss: 0.11854477727600417 corr: -0.007399238926702318\n",
      " num. neurons : 95\n",
      "  epoch 12 loss: 0.11775504132215889 corr: 0.0015442977569012429\n",
      " num. neurons : 95\n",
      "  epoch 13 loss: 0.11693109492356865 corr: 0.020477388105922967\n",
      " num. neurons : 95\n",
      "  epoch 14 loss: 0.11662361415892995 corr: 0.01518770277876856\n",
      " num. neurons : 95\n",
      "  epoch 15 loss: 0.11600381142181876 corr: -0.008567907271102801\n",
      " num. neurons : 95\n",
      "  epoch 16 loss: 0.11580127989434447 corr: 0.046352596946515084\n",
      " num. neurons : 95\n",
      "  epoch 17 loss: 0.11549312506670727 corr: -0.02252843575408856\n",
      " num. neurons : 95\n",
      "  epoch 18 loss: 0.11507341125248614 corr: -0.005603913142382527\n",
      " num. neurons : 95\n",
      "  epoch 19 loss: 0.1146789427827166 corr: 0.06595043386606762\n",
      " num. neurons : 95\n",
      "  epoch 20 loss: 0.11423228729457756 corr: 0.0050258946518829195\n",
      " num. neurons : 95\n"
     ]
    },
    {
     "data": {
      "text/html": [
       "\n",
       "    <style>\n",
       "        .wandb-row {\n",
       "            display: flex;\n",
       "            flex-direction: row;\n",
       "            flex-wrap: wrap;\n",
       "            justify-content: flex-start;\n",
       "            width: 100%;\n",
       "        }\n",
       "        .wandb-col {\n",
       "            display: flex;\n",
       "            flex-direction: column;\n",
       "            flex-basis: 100%;\n",
       "            flex: 1;\n",
       "            padding: 10px;\n",
       "        }\n",
       "    </style>\n",
       "<div class=\"wandb-row\"><div class=\"wandb-col\"><h3>Run history:</h3><br/><table class=\"wandb\"><tr><td>corr_to_avg</td><td>▅▅▄▄▆▂▁▂▄▇▂▃▄▄▂▆▁▂█▃</td></tr><tr><td>test_loss</td><td>█▇▅▅▃▄▄▃▃▂▂▂▂▂▂▂▂▁▁▂</td></tr><tr><td>train_loss</td><td>█▇▆▅▅▄▄▃▃▃▂▂▂▂▂▂▁▁▁▁</td></tr></table><br/></div><div class=\"wandb-col\"><h3>Run summary:</h3><br/><table class=\"wandb\"><tr><td>train_loss</td><td>1.8182</td></tr></table><br/></div></div>"
      ],
      "text/plain": [
       "<IPython.core.display.HTML object>"
      ]
     },
     "metadata": {},
     "output_type": "display_data"
    },
    {
     "data": {
      "text/html": [
       " View run <strong style=\"color:#cdcd00\">distinctive-breeze-126</strong> at: <a href='https://wandb.ai/et22/video-cs230/runs/vsjk3avg' target=\"_blank\">https://wandb.ai/et22/video-cs230/runs/vsjk3avg</a><br/> View project at: <a href='https://wandb.ai/et22/video-cs230' target=\"_blank\">https://wandb.ai/et22/video-cs230</a><br/>Synced 5 W&B file(s), 0 media file(s), 0 artifact file(s) and 0 other file(s)"
      ],
      "text/plain": [
       "<IPython.core.display.HTML object>"
      ]
     },
     "metadata": {},
     "output_type": "display_data"
    },
    {
     "data": {
      "text/html": [
       "Find logs at: <code>./wandb/run-20241130_204026-vsjk3avg/logs</code>"
      ],
      "text/plain": [
       "<IPython.core.display.HTML object>"
      ]
     },
     "metadata": {},
     "output_type": "display_data"
    },
    {
     "data": {
      "text/html": [
       "Tracking run with wandb version 0.18.7"
      ],
      "text/plain": [
       "<IPython.core.display.HTML object>"
      ]
     },
     "metadata": {},
     "output_type": "display_data"
    },
    {
     "data": {
      "text/html": [
       "Run data is saved locally in <code>/src/models/cs230/wandb/run-20241130_204433-yqstfk87</code>"
      ],
      "text/plain": [
       "<IPython.core.display.HTML object>"
      ]
     },
     "metadata": {},
     "output_type": "display_data"
    },
    {
     "data": {
      "text/html": [
       "Syncing run <strong><a href='https://wandb.ai/et22/video-cs230/runs/yqstfk87' target=\"_blank\">noble-voice-127</a></strong> to <a href='https://wandb.ai/et22/video-cs230' target=\"_blank\">Weights & Biases</a> (<a href='https://wandb.me/developer-guide' target=\"_blank\">docs</a>)<br/>"
      ],
      "text/plain": [
       "<IPython.core.display.HTML object>"
      ]
     },
     "metadata": {},
     "output_type": "display_data"
    },
    {
     "data": {
      "text/html": [
       " View project at <a href='https://wandb.ai/et22/video-cs230' target=\"_blank\">https://wandb.ai/et22/video-cs230</a>"
      ],
      "text/plain": [
       "<IPython.core.display.HTML object>"
      ]
     },
     "metadata": {},
     "output_type": "display_data"
    },
    {
     "data": {
      "text/html": [
       " View run at <a href='https://wandb.ai/et22/video-cs230/runs/yqstfk87' target=\"_blank\">https://wandb.ai/et22/video-cs230/runs/yqstfk87</a>"
      ],
      "text/plain": [
       "<IPython.core.display.HTML object>"
      ]
     },
     "metadata": {},
     "output_type": "display_data"
    },
    {
     "name": "stdout",
     "output_type": "stream",
     "text": [
      "readout input shape: 15360\n",
      "model.1.linear.weight\n",
      "torch.Size([54, 15360])\n",
      "True\n",
      "model.1.linear.bias\n",
      "torch.Size([54])\n",
      "True\n",
      "  epoch 1 loss: 0.17413089025729298 corr: 0.025932934084958784\n",
      " num. neurons : 54\n",
      "  epoch 2 loss: 0.16959022830414794 corr: 0.01310625218891367\n",
      " num. neurons : 54\n",
      "  epoch 3 loss: 0.16672834857121546 corr: 0.022653607951812756\n",
      " num. neurons : 54\n",
      "  epoch 4 loss: 0.16244988327229457 corr: 0.01532168308053673\n",
      " num. neurons : 54\n",
      "  epoch 5 loss: 0.1616777854359245 corr: -0.002087453361536395\n",
      " num. neurons : 54\n",
      "  epoch 6 loss: 0.1574547870453206 corr: 0.018594856395161976\n",
      " num. neurons : 54\n",
      "  epoch 7 loss: 0.15461721490100092 corr: 0.04646225354692409\n",
      " num. neurons : 54\n",
      "  epoch 8 loss: 0.15285483777470152 corr: -0.012330388392126452\n",
      " num. neurons : 54\n",
      "  epoch 9 loss: 0.15005918837482143 corr: 0.001142336464616035\n",
      " num. neurons : 54\n",
      "  epoch 10 loss: 0.14807774328825848 corr: 0.028766792452613134\n",
      " num. neurons : 54\n",
      "  epoch 11 loss: 0.1467887496355898 corr: 0.013163213430183897\n",
      " num. neurons : 54\n",
      "  epoch 12 loss: 0.1445503010618655 corr: -0.033772187470427845\n",
      " num. neurons : 54\n",
      "  epoch 13 loss: 0.14363073355980224 corr: 0.02269843041200585\n",
      " num. neurons : 54\n",
      "  epoch 14 loss: 0.14264987656365694 corr: 0.017206823908716723\n",
      " num. neurons : 54\n",
      "  epoch 15 loss: 0.1408635516450166 corr: -0.008765627652899647\n",
      " num. neurons : 54\n",
      "  epoch 16 loss: 0.14053685525506604 corr: -0.014446924774893358\n",
      " num. neurons : 54\n",
      "  epoch 17 loss: 0.13872832625760584 corr: 0.003514930405872623\n",
      " num. neurons : 54\n",
      "  epoch 18 loss: 0.14006424759379932 corr: -0.03674008800738551\n",
      " num. neurons : 54\n",
      "  epoch 19 loss: 0.13755161839453858 corr: 0.003905583961336893\n",
      " num. neurons : 54\n",
      "  epoch 20 loss: 0.13664292051608096 corr: -0.0003460492823101349\n",
      " num. neurons : 54\n"
     ]
    },
    {
     "data": {
      "text/html": [
       "\n",
       "    <style>\n",
       "        .wandb-row {\n",
       "            display: flex;\n",
       "            flex-direction: row;\n",
       "            flex-wrap: wrap;\n",
       "            justify-content: flex-start;\n",
       "            width: 100%;\n",
       "        }\n",
       "        .wandb-col {\n",
       "            display: flex;\n",
       "            flex-direction: column;\n",
       "            flex-basis: 100%;\n",
       "            flex: 1;\n",
       "            padding: 10px;\n",
       "        }\n",
       "    </style>\n",
       "<div class=\"wandb-row\"><div class=\"wandb-col\"><h3>Run history:</h3><br/><table class=\"wandb\"><tr><td>corr_to_avg</td><td>▆▅▆▅▄▆█▃▄▇▅▁▆▆▃▃▄▁▄▄</td></tr><tr><td>test_loss</td><td>█▇▇▅▅▄▄▅▄▄▂▃▂▂▂▃▂▃▁▂</td></tr><tr><td>train_loss</td><td>█▇▇▆▆▅▄▄▄▃▃▂▂▂▂▂▁▂▁▁</td></tr></table><br/></div><div class=\"wandb-col\"><h3>Run summary:</h3><br/><table class=\"wandb\"><tr><td>train_loss</td><td>2.18435</td></tr></table><br/></div></div>"
      ],
      "text/plain": [
       "<IPython.core.display.HTML object>"
      ]
     },
     "metadata": {},
     "output_type": "display_data"
    },
    {
     "data": {
      "text/html": [
       " View run <strong style=\"color:#cdcd00\">noble-voice-127</strong> at: <a href='https://wandb.ai/et22/video-cs230/runs/yqstfk87' target=\"_blank\">https://wandb.ai/et22/video-cs230/runs/yqstfk87</a><br/> View project at: <a href='https://wandb.ai/et22/video-cs230' target=\"_blank\">https://wandb.ai/et22/video-cs230</a><br/>Synced 5 W&B file(s), 0 media file(s), 0 artifact file(s) and 0 other file(s)"
      ],
      "text/plain": [
       "<IPython.core.display.HTML object>"
      ]
     },
     "metadata": {},
     "output_type": "display_data"
    },
    {
     "data": {
      "text/html": [
       "Find logs at: <code>./wandb/run-20241130_204433-yqstfk87/logs</code>"
      ],
      "text/plain": [
       "<IPython.core.display.HTML object>"
      ]
     },
     "metadata": {},
     "output_type": "display_data"
    },
    {
     "data": {
      "text/html": [
       "Tracking run with wandb version 0.18.7"
      ],
      "text/plain": [
       "<IPython.core.display.HTML object>"
      ]
     },
     "metadata": {},
     "output_type": "display_data"
    },
    {
     "data": {
      "text/html": [
       "Run data is saved locally in <code>/src/models/cs230/wandb/run-20241130_204923-8h5awncl</code>"
      ],
      "text/plain": [
       "<IPython.core.display.HTML object>"
      ]
     },
     "metadata": {},
     "output_type": "display_data"
    },
    {
     "data": {
      "text/html": [
       "Syncing run <strong><a href='https://wandb.ai/et22/video-cs230/runs/8h5awncl' target=\"_blank\">celestial-paper-128</a></strong> to <a href='https://wandb.ai/et22/video-cs230' target=\"_blank\">Weights & Biases</a> (<a href='https://wandb.me/developer-guide' target=\"_blank\">docs</a>)<br/>"
      ],
      "text/plain": [
       "<IPython.core.display.HTML object>"
      ]
     },
     "metadata": {},
     "output_type": "display_data"
    },
    {
     "data": {
      "text/html": [
       " View project at <a href='https://wandb.ai/et22/video-cs230' target=\"_blank\">https://wandb.ai/et22/video-cs230</a>"
      ],
      "text/plain": [
       "<IPython.core.display.HTML object>"
      ]
     },
     "metadata": {},
     "output_type": "display_data"
    },
    {
     "data": {
      "text/html": [
       " View run at <a href='https://wandb.ai/et22/video-cs230/runs/8h5awncl' target=\"_blank\">https://wandb.ai/et22/video-cs230/runs/8h5awncl</a>"
      ],
      "text/plain": [
       "<IPython.core.display.HTML object>"
      ]
     },
     "metadata": {},
     "output_type": "display_data"
    },
    {
     "data": {
      "text/html": [
       "\n",
       "    <style>\n",
       "        .wandb-row {\n",
       "            display: flex;\n",
       "            flex-direction: row;\n",
       "            flex-wrap: wrap;\n",
       "            justify-content: flex-start;\n",
       "            width: 100%;\n",
       "        }\n",
       "        .wandb-col {\n",
       "            display: flex;\n",
       "            flex-direction: column;\n",
       "            flex-basis: 100%;\n",
       "            flex: 1;\n",
       "            padding: 10px;\n",
       "        }\n",
       "    </style>\n",
       "<div class=\"wandb-row\"><div class=\"wandb-col\"><h3>Run history:</h3><br/><table class=\"wandb\"><tr><td>corr</td><td>▁▄▃▄▅▇▇▃▄█▅▅█▅▅▂▄▆▅▅▅▄▄▄▄▇▆▅▅▄▇▄▇▃▃▃▆▄▆▃</td></tr></table><br/></div><div class=\"wandb-col\"><h3>Run summary:</h3><br/><table class=\"wandb\"><tr><td>corr</td><td>-0.12494</td></tr></table><br/></div></div>"
      ],
      "text/plain": [
       "<IPython.core.display.HTML object>"
      ]
     },
     "metadata": {},
     "output_type": "display_data"
    },
    {
     "data": {
      "text/html": [
       " View run <strong style=\"color:#cdcd00\">celestial-paper-128</strong> at: <a href='https://wandb.ai/et22/video-cs230/runs/8h5awncl' target=\"_blank\">https://wandb.ai/et22/video-cs230/runs/8h5awncl</a><br/> View project at: <a href='https://wandb.ai/et22/video-cs230' target=\"_blank\">https://wandb.ai/et22/video-cs230</a><br/>Synced 5 W&B file(s), 0 media file(s), 0 artifact file(s) and 0 other file(s)"
      ],
      "text/plain": [
       "<IPython.core.display.HTML object>"
      ]
     },
     "metadata": {},
     "output_type": "display_data"
    },
    {
     "data": {
      "text/html": [
       "Find logs at: <code>./wandb/run-20241130_204923-8h5awncl/logs</code>"
      ],
      "text/plain": [
       "<IPython.core.display.HTML object>"
      ]
     },
     "metadata": {},
     "output_type": "display_data"
    }
   ],
   "source": [
    "#### train 4 encoding models: \n",
    "from fix_models.models import FullModel\n",
    "\n",
    "for layer in ['layer1', 'layer2', 'layer3', 'layer4']:\n",
    "    config['layer'] = layer\n",
    "    print(f'layer: {layer}')\n",
    "\n",
    "    #### 1) frozen pretrained CNN with poisson GLM readout\n",
    "    cnn_frozen_fcn = lambda train_dataset:FullModel(feat_ext_type = 'resnet3d', freeze_weights=True, use_pretrained = True, modality=config[\"modality\"], layer=config[\"layer\"], stim_shape=config[\"stim_shape\"], train_dataset=train_dataset, use_pool = config['use_pool'], pool_size = config['pool_size'], pool_stride = config[\"pool_stride\"], device=device)\n",
    "    #### 2) unfrozen pretrained CNN with poisson GLM readout\n",
    "    cnn_unfrozen_fcn = lambda train_dataset:FullModel(feat_ext_type = 'resnet3d', freeze_weights=False, use_pretrained = True, modality=config[\"modality\"], layer=config[\"layer\"], stim_shape=config[\"stim_shape\"], train_dataset=train_dataset, use_pool = config['use_pool'], pool_size = config['pool_size'], pool_stride = config[\"pool_stride\"], device=device)\n",
    "    #### 3) CNN trained from scratch with poisson GLM readout\n",
    "    cnn_untrained_fcn = lambda train_dataset:FullModel(feat_ext_type = 'resnet3d', freeze_weights=False, use_pretrained = False, modality=config[\"modality\"], layer=config[\"layer\"], stim_shape=config[\"stim_shape\"], train_dataset=train_dataset, use_pool = config['use_pool'], pool_size = config['pool_size'], pool_stride = config[\"pool_stride\"], device=device)\n",
    "    #### 4) poisson GLM trained from scratch\n",
    "    poisson_glm_fcn = lambda train_dataset: FullModel(feat_ext_type = 'none', freeze_weights=False, use_pretrained = False, modality=config[\"modality\"], layer=config[\"layer\"], stim_shape=config[\"stim_shape\"], train_dataset=train_dataset, use_pool = config['use_pool'], pool_size = config['pool_size'], pool_stride = config[\"pool_stride\"], device=device)\n",
    "\n",
    "    config['l2_weight'] = 0 #l2_weight\n",
    "    train_model(cnn_frozen_fcn, \"frozen pretrained\")\n",
    "    train_model(cnn_unfrozen_fcn, \"unfrozen pretrained\")\n",
    "    train_model(cnn_untrained_fcn, \"untrained\")\n",
    "    config['l2_weight'] = 100\n",
    "    train_model(poisson_glm_fcn, \"linear\")"
   ]
  }
 ],
 "metadata": {
  "kernelspec": {
   "display_name": "Python 3 (ipykernel)",
   "language": "python",
   "name": "python3"
  },
  "language_info": {
   "codemirror_mode": {
    "name": "ipython",
    "version": 3
   },
   "file_extension": ".py",
   "mimetype": "text/x-python",
   "name": "python",
   "nbconvert_exporter": "python",
   "pygments_lexer": "ipython3",
   "version": "3.10.12"
  }
 },
 "nbformat": 4,
 "nbformat_minor": 5
}

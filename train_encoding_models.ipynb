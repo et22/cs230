{
 "cells": [
  {
   "cell_type": "code",
   "execution_count": 1,
   "id": "830e1050-a934-43ae-b4f0-9a5ca0517603",
   "metadata": {},
   "outputs": [],
   "source": [
    "# imports \n",
    "import torch\n",
    "import wandb\n",
    "import numpy as np\n",
    "from torch.nn import PoissonNLLLoss\n",
    "from fix_models.metrics import corr_to_avg\n",
    "\n",
    "from fix_models.datasets import get_datasets_and_loaders"
   ]
  },
  {
   "cell_type": "code",
   "execution_count": 2,
   "id": "140b03c3-58b7-4b98-84a1-15e444a45001",
   "metadata": {},
   "outputs": [],
   "source": [
    "# config\n",
    "\n",
    "# all parameters\n",
    "config = dict()\n",
    "config[\"modality\"] = \"video\" # or image\n",
    "\n",
    "# paths\n",
    "input_dir = f'../data/{config[\"modality\"]}/'\n",
    "stimulus_dir = f'../data/{config[\"modality\"]}/stimuli/'\n",
    "embedding_dir = f'../data/{config[\"modality\"]}/embeddings/'\n",
    "model_output_path = f'../data/{config[\"modality\"]}/model_output/results'\n",
    "\n",
    "# dataset and dataloader hyperparameters \n",
    "config[\"win_size\"] = 240\n",
    "config['pos'] = (400, 180)\n",
    "config[\"feat_ext_type\"] = 'resnet3d'\n",
    "config[\"stim_size\"] = 32 \n",
    "config[\"stim_dur_ms\"] = 200\n",
    "config[\"stim_shape\"] = (1, 3, 5, config[\"stim_size\"], config[\"stim_size\"])\n",
    "config[\"first_frame_only\"] = False\n",
    "config[\"exp_var_thresholds\"] = [0.25, 0.25, 0.25]\n",
    "config[\"batch_size\"] = 16\n",
    "\n",
    "# model hyperparameters\n",
    "config[\"layer\"] = \"layer1\"\n",
    "config[\"use_sigma\"] = True\n",
    "config[\"center_readout\"] = False\n",
    "config[\"use_pool\"] = True\n",
    "config[\"pool_size\"] = 4\n",
    "config[\"pool_stride\"] = 2\n",
    "config[\"use_pretrained\"] = True\n",
    "config[\"flatten_time\"] = True\n",
    "\n",
    "# training parameters \n",
    "config[\"lr\"] = 0.001 \n",
    "config[\"num_epochs\"] = 20\n",
    "config[\"l2_weight\"] = 0\n",
    "\n",
    "# logging\n",
    "config[\"wandb\"] = True\n",
    "\n",
    "# save model\n",
    "config[\"save\"] = True\n",
    "\n",
    "# device\n",
    "device = torch.device('cuda' if torch.cuda.is_available() else 'cpu')\n",
    "\n",
    "# session names\n",
    "session_ids = [\"082824\", \"082924\", \"083024\"]"
   ]
  },
  {
   "cell_type": "code",
   "execution_count": 3,
   "id": "3ec88115-3400-4df0-a713-b7094212edfa",
   "metadata": {},
   "outputs": [],
   "source": [
    "def train_model(full_model_fcn, model_name):\n",
    "    # corr avgs\n",
    "    corr_avgs = []\n",
    "\n",
    "    config['model_name'] = model_name\n",
    "\n",
    "    print(config['l2_weight'])\n",
    "    \n",
    "    for ses_idx, session_id in enumerate(session_ids):\n",
    "        # set sess_corr_avg\n",
    "        sess_corr_avg = -1\n",
    "        sess_corrs = []\n",
    "\n",
    "        # set session index \n",
    "        config[\"session_id\"] = session_id\n",
    "\n",
    "        # setup logging\n",
    "        if config[\"wandb\"]:\n",
    "            wandb.init(\n",
    "                project=f'{config[\"modality\"]}-cs230',\n",
    "                config=config,\n",
    "            )\n",
    "            wandb.define_metric(\"corr_to_avg\", summary=\"max\")\n",
    "            wandb.define_metric(\"test_loss\", summary=\"min\")\n",
    "\n",
    "        # load datasets and loaders \n",
    "        train_dataset, test_dataset, train_loader, test_loader = get_datasets_and_loaders(input_dir, session_id, config[\"modality\"], config[\"exp_var_thresholds\"][ses_idx], config[\"stim_dur_ms\"], config[\"stim_size\"], config[\"win_size\"], stimulus_dir, config[\"batch_size\"], config[\"first_frame_only\"], pos = config['pos'])\n",
    "\n",
    "        full_model = full_model_fcn(train_dataset)\n",
    "\n",
    "        for name, param in full_model.named_parameters():\n",
    "            print(name)\n",
    "            print(param.shape)\n",
    "            print(param.requires_grad)\n",
    "        # set which parameters to use regularization with and which not to\n",
    "        params_with_l2 = []\n",
    "        params_without_l2 = []\n",
    "        for name, param in full_model.named_parameters():\n",
    "            if 'mu' in name or 'sigma' in name or 'bias' in name:\n",
    "                params_without_l2.append(param)\n",
    "            else:\n",
    "                params_with_l2.append(param)\n",
    "\n",
    "        # setup Adam optimizer\n",
    "        optimizer = torch.optim.Adam([\n",
    "            {'params': params_with_l2, 'weight_decay': config['l2_weight']},  # Apply L2 regularization (weight decay)\n",
    "            {'params': params_without_l2, 'weight_decay': 0.0}  # No L2 regularization\n",
    "        ], lr=config[\"lr\"], weight_decay=config['l2_weight'])\n",
    "    \n",
    "        # using poisson loss \n",
    "        loss_func = PoissonNLLLoss(log_input=False, full=True)\n",
    "            \n",
    "        for epochs in range(config[\"num_epochs\"]):\n",
    "            epoch_loss = 0\n",
    "            for i, (stimulus, targets) in enumerate(train_loader): \n",
    "                stimulus = stimulus.to(device)\n",
    "                targets = targets.to(device)\n",
    "                \n",
    "                optimizer.zero_grad()\n",
    "                preds = full_model(stimulus)\n",
    "                loss = loss_func(preds, targets)\n",
    "                loss.backward()\n",
    "                optimizer.step()\n",
    "                \n",
    "                epoch_loss += loss.item()\n",
    "    \n",
    "            # printing corr to avg and loss metrics \n",
    "            with torch.no_grad():\n",
    "                corr_avg = corr_to_avg(full_model, test_loader, modality=config[\"modality\"], device=device)\n",
    "                test_loss = 0\n",
    "                for i, (stimulus, targets) in enumerate(test_loader):\n",
    "                    stimulus = stimulus.to(device)\n",
    "                    targets = targets.to(device)\n",
    "                    preds = full_model(stimulus) \n",
    "                    loss = loss_func(preds, targets)\n",
    "                    test_loss += loss.item()\n",
    "                    \n",
    "            if config[\"wandb\"]:\n",
    "                wandb.log({\"corr_to_avg\": np.nanmean(corr_avg), \"train_loss\": epoch_loss / len(train_loader), \"test_loss\": test_loss / len(test_loader)})\n",
    "            \n",
    "            if np.nanmean(corr_avg) > sess_corr_avg:\n",
    "                sess_corr_avg = np.nanmean(corr_avg)\n",
    "                sess_corrs = corr_avg\n",
    "                \n",
    "            print('  epoch {} loss: {} corr: {}'.format(epochs + 1, epoch_loss / len(train_dataset), np.nanmean(corr_avg)))\n",
    "            print(f' num. neurons : {len(corr_avg)}')\n",
    "            \n",
    "        if config[\"save\"]:\n",
    "            torch.save(full_model.state_dict(), f\"{model_output_path}_{session_id}.pickle\")\n",
    "            \n",
    "        corr_avgs.append(sess_corrs)\n",
    "        \n",
    "        if config[\"wandb\"]:\n",
    "            wandb.finish()\n",
    "    \n",
    "    if config[\"wandb\"]:\n",
    "        wandb.init(\n",
    "            project=f'{config[\"modality\"]}-cs230',\n",
    "            config=config,\n",
    "        )\n",
    "        for sess_corr in corr_avgs:\n",
    "            for corr in sess_corr:\n",
    "                wandb.log({\"corr\": corr})\n",
    "        wandb.finish()"
   ]
  },
  {
   "cell_type": "code",
   "execution_count": null,
   "id": "1e6c805d-85a1-4715-93e7-79167c24ae5f",
   "metadata": {},
   "outputs": [
    {
     "name": "stdout",
     "output_type": "stream",
     "text": [
      "layer: layer1\n",
      "0\n"
     ]
    },
    {
     "name": "stderr",
     "output_type": "stream",
     "text": [
      "\u001b[34m\u001b[1mwandb\u001b[0m: Using wandb-core as the SDK backend.  Please refer to https://wandb.me/wandb-core for more information.\n",
      "\u001b[34m\u001b[1mwandb\u001b[0m: Currently logged in as: \u001b[33met22\u001b[0m. Use \u001b[1m`wandb login --relogin`\u001b[0m to force relogin\n"
     ]
    },
    {
     "data": {
      "text/html": [
       "Tracking run with wandb version 0.18.7"
      ],
      "text/plain": [
       "<IPython.core.display.HTML object>"
      ]
     },
     "metadata": {},
     "output_type": "display_data"
    },
    {
     "data": {
      "text/html": [
       "Run data is saved locally in <code>/src/models/cs230/wandb/run-20241130_172044-c8oo0kcr</code>"
      ],
      "text/plain": [
       "<IPython.core.display.HTML object>"
      ]
     },
     "metadata": {},
     "output_type": "display_data"
    },
    {
     "data": {
      "text/html": [
       "Syncing run <strong><a href='https://wandb.ai/et22/video-cs230/runs/c8oo0kcr' target=\"_blank\">pious-water-65</a></strong> to <a href='https://wandb.ai/et22/video-cs230' target=\"_blank\">Weights & Biases</a> (<a href='https://wandb.me/developer-guide' target=\"_blank\">docs</a>)<br/>"
      ],
      "text/plain": [
       "<IPython.core.display.HTML object>"
      ]
     },
     "metadata": {},
     "output_type": "display_data"
    },
    {
     "data": {
      "text/html": [
       " View project at <a href='https://wandb.ai/et22/video-cs230' target=\"_blank\">https://wandb.ai/et22/video-cs230</a>"
      ],
      "text/plain": [
       "<IPython.core.display.HTML object>"
      ]
     },
     "metadata": {},
     "output_type": "display_data"
    },
    {
     "data": {
      "text/html": [
       " View run at <a href='https://wandb.ai/et22/video-cs230/runs/c8oo0kcr' target=\"_blank\">https://wandb.ai/et22/video-cs230/runs/c8oo0kcr</a>"
      ],
      "text/plain": [
       "<IPython.core.display.HTML object>"
      ]
     },
     "metadata": {},
     "output_type": "display_data"
    },
    {
     "name": "stdout",
     "output_type": "stream",
     "text": [
      "readout input shape: 320\n",
      "model.0.stim\n",
      "torch.Size([1, 3, 5, 32, 32])\n",
      "True\n",
      "model.0.core.stem.0.weight\n",
      "torch.Size([64, 3, 3, 7, 7])\n",
      "False\n",
      "model.0.core.stem.1.weight\n",
      "torch.Size([64])\n",
      "False\n",
      "model.0.core.stem.1.bias\n",
      "torch.Size([64])\n",
      "False\n",
      "model.0.core.layer1.0.conv1.0.weight\n",
      "torch.Size([64, 64, 3, 3, 3])\n",
      "False\n",
      "model.0.core.layer1.0.conv1.1.weight\n",
      "torch.Size([64])\n",
      "False\n",
      "model.0.core.layer1.0.conv1.1.bias\n",
      "torch.Size([64])\n",
      "False\n",
      "model.1.mu\n",
      "torch.Size([54, 2])\n",
      "True\n",
      "model.1.sigma\n",
      "torch.Size([54])\n",
      "True\n",
      "model.1.poisson_linear.linear.weight\n",
      "torch.Size([54, 320])\n",
      "True\n",
      "model.1.poisson_linear.linear.bias\n",
      "torch.Size([54])\n",
      "True\n",
      "  epoch 1 loss: 0.11971184977778682 corr: 0.1411561720009646\n",
      " num. neurons : 54\n",
      "  epoch 2 loss: 0.11071030822801001 corr: 0.11844485913714636\n",
      " num. neurons : 54\n",
      "  epoch 3 loss: 0.11010752183419686 corr: 0.10726472906333752\n",
      " num. neurons : 54\n",
      "  epoch 4 loss: 0.10989189089080434 corr: 0.1492363559551482\n",
      " num. neurons : 54\n",
      "  epoch 5 loss: 0.1097915001857428 corr: 0.20662128215548028\n",
      " num. neurons : 54\n",
      "  epoch 6 loss: 0.10965192235546348 corr: 0.18028598249126218\n",
      " num. neurons : 54\n",
      "  epoch 7 loss: 0.10940879456790877 corr: 0.1378453254259212\n",
      " num. neurons : 54\n",
      "  epoch 8 loss: 0.10934226124374954 corr: 0.1731742270821257\n",
      " num. neurons : 54\n",
      "  epoch 9 loss: 0.10914225766688217 corr: 0.1572994052577952\n",
      " num. neurons : 54\n",
      "  epoch 10 loss: 0.10898502132039012 corr: 0.18105720450640408\n",
      " num. neurons : 54\n",
      "  epoch 11 loss: 0.10897567866761007 corr: 0.1916369278383786\n",
      " num. neurons : 54\n",
      "  epoch 12 loss: 0.10880473148675612 corr: 0.19319747354341385\n",
      " num. neurons : 54\n",
      "  epoch 13 loss: 0.1087885280891701 corr: 0.20001530420458394\n",
      " num. neurons : 54\n",
      "  epoch 14 loss: 0.10865765389101005 corr: 0.21773477195369356\n",
      " num. neurons : 54\n",
      "  epoch 15 loss: 0.10863903964007342 corr: 0.22647516857804076\n",
      " num. neurons : 54\n",
      "  epoch 16 loss: 0.10855028435035988 corr: 0.2138374457018785\n",
      " num. neurons : 54\n",
      "  epoch 17 loss: 0.1084888779675519 corr: 0.20373018013426578\n",
      " num. neurons : 54\n",
      "  epoch 18 loss: 0.10833108142570214 corr: 0.20646562348973507\n",
      " num. neurons : 54\n",
      "  epoch 19 loss: 0.10827303127006248 corr: 0.2224869117127764\n",
      " num. neurons : 54\n",
      "  epoch 20 loss: 0.1081552713299975 corr: 0.21259165451242787\n",
      " num. neurons : 54\n"
     ]
    },
    {
     "data": {
      "text/html": [
       "\n",
       "    <style>\n",
       "        .wandb-row {\n",
       "            display: flex;\n",
       "            flex-direction: row;\n",
       "            flex-wrap: wrap;\n",
       "            justify-content: flex-start;\n",
       "            width: 100%;\n",
       "        }\n",
       "        .wandb-col {\n",
       "            display: flex;\n",
       "            flex-direction: column;\n",
       "            flex-basis: 100%;\n",
       "            flex: 1;\n",
       "            padding: 10px;\n",
       "        }\n",
       "    </style>\n",
       "<div class=\"wandb-row\"><div class=\"wandb-col\"><h3>Run history:</h3><br/><table class=\"wandb\"><tr><td>corr_to_avg</td><td>▃▂▁▃▇▅▃▅▄▅▆▆▆▇█▇▇▇█▇</td></tr><tr><td>test_loss</td><td>█▆▅▄▄▅▅▄▃▄▂▃▃▁▂▃▁▂▁▃</td></tr><tr><td>train_loss</td><td>█▃▂▂▂▂▂▂▂▂▁▁▁▁▁▁▁▁▁▁</td></tr></table><br/></div><div class=\"wandb-col\"><h3>Run summary:</h3><br/><table class=\"wandb\"><tr><td>train_loss</td><td>1.72452</td></tr></table><br/></div></div>"
      ],
      "text/plain": [
       "<IPython.core.display.HTML object>"
      ]
     },
     "metadata": {},
     "output_type": "display_data"
    },
    {
     "data": {
      "text/html": [
       " View run <strong style=\"color:#cdcd00\">pious-water-65</strong> at: <a href='https://wandb.ai/et22/video-cs230/runs/c8oo0kcr' target=\"_blank\">https://wandb.ai/et22/video-cs230/runs/c8oo0kcr</a><br/> View project at: <a href='https://wandb.ai/et22/video-cs230' target=\"_blank\">https://wandb.ai/et22/video-cs230</a><br/>Synced 5 W&B file(s), 0 media file(s), 0 artifact file(s) and 0 other file(s)"
      ],
      "text/plain": [
       "<IPython.core.display.HTML object>"
      ]
     },
     "metadata": {},
     "output_type": "display_data"
    },
    {
     "data": {
      "text/html": [
       "Find logs at: <code>./wandb/run-20241130_172044-c8oo0kcr/logs</code>"
      ],
      "text/plain": [
       "<IPython.core.display.HTML object>"
      ]
     },
     "metadata": {},
     "output_type": "display_data"
    },
    {
     "data": {
      "text/html": [
       "Tracking run with wandb version 0.18.7"
      ],
      "text/plain": [
       "<IPython.core.display.HTML object>"
      ]
     },
     "metadata": {},
     "output_type": "display_data"
    },
    {
     "data": {
      "text/html": [
       "Run data is saved locally in <code>/src/models/cs230/wandb/run-20241130_172447-smuzcg9q</code>"
      ],
      "text/plain": [
       "<IPython.core.display.HTML object>"
      ]
     },
     "metadata": {},
     "output_type": "display_data"
    },
    {
     "data": {
      "text/html": [
       "Syncing run <strong><a href='https://wandb.ai/et22/video-cs230/runs/smuzcg9q' target=\"_blank\">ethereal-pine-66</a></strong> to <a href='https://wandb.ai/et22/video-cs230' target=\"_blank\">Weights & Biases</a> (<a href='https://wandb.me/developer-guide' target=\"_blank\">docs</a>)<br/>"
      ],
      "text/plain": [
       "<IPython.core.display.HTML object>"
      ]
     },
     "metadata": {},
     "output_type": "display_data"
    },
    {
     "data": {
      "text/html": [
       " View project at <a href='https://wandb.ai/et22/video-cs230' target=\"_blank\">https://wandb.ai/et22/video-cs230</a>"
      ],
      "text/plain": [
       "<IPython.core.display.HTML object>"
      ]
     },
     "metadata": {},
     "output_type": "display_data"
    },
    {
     "data": {
      "text/html": [
       " View run at <a href='https://wandb.ai/et22/video-cs230/runs/smuzcg9q' target=\"_blank\">https://wandb.ai/et22/video-cs230/runs/smuzcg9q</a>"
      ],
      "text/plain": [
       "<IPython.core.display.HTML object>"
      ]
     },
     "metadata": {},
     "output_type": "display_data"
    },
    {
     "name": "stdout",
     "output_type": "stream",
     "text": [
      "readout input shape: 320\n",
      "model.0.stim\n",
      "torch.Size([1, 3, 5, 32, 32])\n",
      "True\n",
      "model.0.core.stem.0.weight\n",
      "torch.Size([64, 3, 3, 7, 7])\n",
      "False\n",
      "model.0.core.stem.1.weight\n",
      "torch.Size([64])\n",
      "False\n",
      "model.0.core.stem.1.bias\n",
      "torch.Size([64])\n",
      "False\n",
      "model.0.core.layer1.0.conv1.0.weight\n",
      "torch.Size([64, 64, 3, 3, 3])\n",
      "False\n",
      "model.0.core.layer1.0.conv1.1.weight\n",
      "torch.Size([64])\n",
      "False\n",
      "model.0.core.layer1.0.conv1.1.bias\n",
      "torch.Size([64])\n",
      "False\n",
      "model.1.mu\n",
      "torch.Size([95, 2])\n",
      "True\n",
      "model.1.sigma\n",
      "torch.Size([95])\n",
      "True\n",
      "model.1.poisson_linear.linear.weight\n",
      "torch.Size([95, 320])\n",
      "True\n",
      "model.1.poisson_linear.linear.bias\n",
      "torch.Size([95])\n",
      "True\n",
      "  epoch 1 loss: 0.11322425641314522 corr: 0.15243800999530488\n",
      " num. neurons : 95\n",
      "  epoch 2 loss: 0.10636829025458291 corr: 0.17595817716659506\n",
      " num. neurons : 95\n",
      "  epoch 3 loss: 0.1057932906749985 corr: 0.1899716343673713\n",
      " num. neurons : 95\n",
      "  epoch 4 loss: 0.1054267930734844 corr: 0.203550364511327\n",
      " num. neurons : 95\n",
      "  epoch 5 loss: 0.10532792881521255 corr: 0.1750038053284786\n",
      " num. neurons : 95\n",
      "  epoch 6 loss: 0.10496422083590043 corr: 0.2300778521282842\n",
      " num. neurons : 95\n",
      "  epoch 7 loss: 0.10476631188267813 corr: 0.16727369042938248\n",
      " num. neurons : 95\n",
      "  epoch 8 loss: 0.10459353761523182 corr: 0.2196192988776884\n",
      " num. neurons : 95\n",
      "  epoch 9 loss: 0.10428738132197195 corr: 0.21109739910828923\n",
      " num. neurons : 95\n",
      "  epoch 10 loss: 0.10426286221798801 corr: 0.2519019556870558\n",
      " num. neurons : 95\n",
      "  epoch 11 loss: 0.10402106102848552 corr: 0.25190980865054585\n",
      " num. neurons : 95\n",
      "  epoch 12 loss: 0.10399959748952177 corr: 0.24824393271815037\n",
      " num. neurons : 95\n",
      "  epoch 13 loss: 0.10374480960256766 corr: 0.26084438492456175\n",
      " num. neurons : 95\n",
      "  epoch 14 loss: 0.10362092306476613 corr: 0.27532156193492335\n",
      " num. neurons : 95\n",
      "  epoch 15 loss: 0.10346516558013037 corr: 0.27171445673207884\n",
      " num. neurons : 95\n",
      "  epoch 16 loss: 0.1035917807623978 corr: 0.27251418333515653\n",
      " num. neurons : 95\n",
      "  epoch 17 loss: 0.10330091771030925 corr: 0.24466165844640664\n",
      " num. neurons : 95\n",
      "  epoch 18 loss: 0.1033029038244517 corr: 0.2603045700874353\n",
      " num. neurons : 95\n",
      "  epoch 19 loss: 0.10320027136677846 corr: 0.25227484760244373\n",
      " num. neurons : 95\n",
      "  epoch 20 loss: 0.10301898025093278 corr: 0.26242738464955245\n",
      " num. neurons : 95\n"
     ]
    },
    {
     "data": {
      "text/html": [
       "\n",
       "    <style>\n",
       "        .wandb-row {\n",
       "            display: flex;\n",
       "            flex-direction: row;\n",
       "            flex-wrap: wrap;\n",
       "            justify-content: flex-start;\n",
       "            width: 100%;\n",
       "        }\n",
       "        .wandb-col {\n",
       "            display: flex;\n",
       "            flex-direction: column;\n",
       "            flex-basis: 100%;\n",
       "            flex: 1;\n",
       "            padding: 10px;\n",
       "        }\n",
       "    </style>\n",
       "<div class=\"wandb-row\"><div class=\"wandb-col\"><h3>Run history:</h3><br/><table class=\"wandb\"><tr><td>corr_to_avg</td><td>▁▂▃▄▂▅▂▅▄▇▇▆▇███▆▇▇▇</td></tr><tr><td>test_loss</td><td>█▅▅▅▄▃▂▃▂▁▂▂▂▁▂▁▂▁▁▁</td></tr><tr><td>train_loss</td><td>█▃▃▃▃▂▂▂▂▂▂▂▁▁▁▁▁▁▁▁</td></tr></table><br/></div><div class=\"wandb-col\"><h3>Run summary:</h3><br/><table class=\"wandb\"><tr><td>train_loss</td><td>1.63972</td></tr></table><br/></div></div>"
      ],
      "text/plain": [
       "<IPython.core.display.HTML object>"
      ]
     },
     "metadata": {},
     "output_type": "display_data"
    },
    {
     "data": {
      "text/html": [
       " View run <strong style=\"color:#cdcd00\">ethereal-pine-66</strong> at: <a href='https://wandb.ai/et22/video-cs230/runs/smuzcg9q' target=\"_blank\">https://wandb.ai/et22/video-cs230/runs/smuzcg9q</a><br/> View project at: <a href='https://wandb.ai/et22/video-cs230' target=\"_blank\">https://wandb.ai/et22/video-cs230</a><br/>Synced 5 W&B file(s), 0 media file(s), 0 artifact file(s) and 0 other file(s)"
      ],
      "text/plain": [
       "<IPython.core.display.HTML object>"
      ]
     },
     "metadata": {},
     "output_type": "display_data"
    },
    {
     "data": {
      "text/html": [
       "Find logs at: <code>./wandb/run-20241130_172447-smuzcg9q/logs</code>"
      ],
      "text/plain": [
       "<IPython.core.display.HTML object>"
      ]
     },
     "metadata": {},
     "output_type": "display_data"
    },
    {
     "data": {
      "text/html": [
       "Tracking run with wandb version 0.18.7"
      ],
      "text/plain": [
       "<IPython.core.display.HTML object>"
      ]
     },
     "metadata": {},
     "output_type": "display_data"
    },
    {
     "data": {
      "text/html": [
       "Run data is saved locally in <code>/src/models/cs230/wandb/run-20241130_172846-exsalxo1</code>"
      ],
      "text/plain": [
       "<IPython.core.display.HTML object>"
      ]
     },
     "metadata": {},
     "output_type": "display_data"
    },
    {
     "data": {
      "text/html": [
       "Syncing run <strong><a href='https://wandb.ai/et22/video-cs230/runs/exsalxo1' target=\"_blank\">sunny-paper-67</a></strong> to <a href='https://wandb.ai/et22/video-cs230' target=\"_blank\">Weights & Biases</a> (<a href='https://wandb.me/developer-guide' target=\"_blank\">docs</a>)<br/>"
      ],
      "text/plain": [
       "<IPython.core.display.HTML object>"
      ]
     },
     "metadata": {},
     "output_type": "display_data"
    },
    {
     "data": {
      "text/html": [
       " View project at <a href='https://wandb.ai/et22/video-cs230' target=\"_blank\">https://wandb.ai/et22/video-cs230</a>"
      ],
      "text/plain": [
       "<IPython.core.display.HTML object>"
      ]
     },
     "metadata": {},
     "output_type": "display_data"
    },
    {
     "data": {
      "text/html": [
       " View run at <a href='https://wandb.ai/et22/video-cs230/runs/exsalxo1' target=\"_blank\">https://wandb.ai/et22/video-cs230/runs/exsalxo1</a>"
      ],
      "text/plain": [
       "<IPython.core.display.HTML object>"
      ]
     },
     "metadata": {},
     "output_type": "display_data"
    },
    {
     "name": "stdout",
     "output_type": "stream",
     "text": [
      "readout input shape: 320\n",
      "model.0.stim\n",
      "torch.Size([1, 3, 5, 32, 32])\n",
      "True\n",
      "model.0.core.stem.0.weight\n",
      "torch.Size([64, 3, 3, 7, 7])\n",
      "False\n",
      "model.0.core.stem.1.weight\n",
      "torch.Size([64])\n",
      "False\n",
      "model.0.core.stem.1.bias\n",
      "torch.Size([64])\n",
      "False\n",
      "model.0.core.layer1.0.conv1.0.weight\n",
      "torch.Size([64, 64, 3, 3, 3])\n",
      "False\n",
      "model.0.core.layer1.0.conv1.1.weight\n",
      "torch.Size([64])\n",
      "False\n",
      "model.0.core.layer1.0.conv1.1.bias\n",
      "torch.Size([64])\n",
      "False\n",
      "model.1.mu\n",
      "torch.Size([54, 2])\n",
      "True\n",
      "model.1.sigma\n",
      "torch.Size([54])\n",
      "True\n",
      "model.1.poisson_linear.linear.weight\n",
      "torch.Size([54, 320])\n",
      "True\n",
      "model.1.poisson_linear.linear.bias\n",
      "torch.Size([54])\n",
      "True\n",
      "  epoch 1 loss: 0.13499187587528177 corr: 0.12183234949544966\n",
      " num. neurons : 54\n",
      "  epoch 2 loss: 0.11987168215605254 corr: 0.17570166846053645\n",
      " num. neurons : 54\n",
      "  epoch 3 loss: 0.11860771409790391 corr: 0.18995573714770012\n",
      " num. neurons : 54\n",
      "  epoch 4 loss: 0.11825785926727457 corr: 0.12308779536834902\n",
      " num. neurons : 54\n",
      "  epoch 5 loss: 0.1180444964287867 corr: 0.19364934781785134\n",
      " num. neurons : 54\n",
      "  epoch 6 loss: 0.11795440302978286 corr: 0.16955550823679158\n",
      " num. neurons : 54\n",
      "  epoch 7 loss: 0.11776946922689809 corr: 0.18084280046429294\n",
      " num. neurons : 54\n",
      "  epoch 8 loss: 0.11765058757778597 corr: 0.2596059063183093\n",
      " num. neurons : 54\n",
      "  epoch 9 loss: 0.11750161954546355 corr: 0.21803521383280736\n",
      " num. neurons : 54\n",
      "  epoch 10 loss: 0.11736069925083137 corr: 0.2236481090301036\n",
      " num. neurons : 54\n",
      "  epoch 11 loss: 0.1172950474054494 corr: 0.23124128535824973\n",
      " num. neurons : 54\n",
      "  epoch 12 loss: 0.11713442896569631 corr: 0.24448146872068183\n",
      " num. neurons : 54\n",
      "  epoch 13 loss: 0.11703280606096364 corr: 0.27083770106504296\n",
      " num. neurons : 54\n",
      "  epoch 14 loss: 0.11691895452556932 corr: 0.2557249048116788\n",
      " num. neurons : 54\n",
      "  epoch 15 loss: 0.11682647635900774 corr: 0.2361253862461734\n",
      " num. neurons : 54\n",
      "  epoch 16 loss: 0.11670782858011675 corr: 0.27764003654780456\n",
      " num. neurons : 54\n",
      "  epoch 17 loss: 0.1166114415229689 corr: 0.2707769556000843\n",
      " num. neurons : 54\n",
      "  epoch 18 loss: 0.11650858495546423 corr: 0.2506608753571308\n",
      " num. neurons : 54\n",
      "  epoch 19 loss: 0.11645472382906802 corr: 0.2669808117357389\n",
      " num. neurons : 54\n",
      "  epoch 20 loss: 0.11636643337801482 corr: 0.2768755425745924\n",
      " num. neurons : 54\n"
     ]
    },
    {
     "data": {
      "text/html": [
       "\n",
       "    <style>\n",
       "        .wandb-row {\n",
       "            display: flex;\n",
       "            flex-direction: row;\n",
       "            flex-wrap: wrap;\n",
       "            justify-content: flex-start;\n",
       "            width: 100%;\n",
       "        }\n",
       "        .wandb-col {\n",
       "            display: flex;\n",
       "            flex-direction: column;\n",
       "            flex-basis: 100%;\n",
       "            flex: 1;\n",
       "            padding: 10px;\n",
       "        }\n",
       "    </style>\n",
       "<div class=\"wandb-row\"><div class=\"wandb-col\"><h3>Run history:</h3><br/><table class=\"wandb\"><tr><td>corr_to_avg</td><td>▁▃▄▁▄▃▄▇▅▆▆▇█▇▆██▇██</td></tr><tr><td>test_loss</td><td>█▅▄▄▄▄▃▄▃▂▃▂▁▂▁▂▂▁▂▁</td></tr><tr><td>train_loss</td><td>█▂▂▂▂▂▂▁▁▁▁▁▁▁▁▁▁▁▁▁</td></tr></table><br/></div><div class=\"wandb-col\"><h3>Run summary:</h3><br/><table class=\"wandb\"><tr><td>train_loss</td><td>1.86021</td></tr></table><br/></div></div>"
      ],
      "text/plain": [
       "<IPython.core.display.HTML object>"
      ]
     },
     "metadata": {},
     "output_type": "display_data"
    },
    {
     "data": {
      "text/html": [
       " View run <strong style=\"color:#cdcd00\">sunny-paper-67</strong> at: <a href='https://wandb.ai/et22/video-cs230/runs/exsalxo1' target=\"_blank\">https://wandb.ai/et22/video-cs230/runs/exsalxo1</a><br/> View project at: <a href='https://wandb.ai/et22/video-cs230' target=\"_blank\">https://wandb.ai/et22/video-cs230</a><br/>Synced 5 W&B file(s), 0 media file(s), 0 artifact file(s) and 0 other file(s)"
      ],
      "text/plain": [
       "<IPython.core.display.HTML object>"
      ]
     },
     "metadata": {},
     "output_type": "display_data"
    },
    {
     "data": {
      "text/html": [
       "Find logs at: <code>./wandb/run-20241130_172846-exsalxo1/logs</code>"
      ],
      "text/plain": [
       "<IPython.core.display.HTML object>"
      ]
     },
     "metadata": {},
     "output_type": "display_data"
    },
    {
     "data": {
      "text/html": [
       "Tracking run with wandb version 0.18.7"
      ],
      "text/plain": [
       "<IPython.core.display.HTML object>"
      ]
     },
     "metadata": {},
     "output_type": "display_data"
    },
    {
     "data": {
      "text/html": [
       "Run data is saved locally in <code>/src/models/cs230/wandb/run-20241130_173334-jutmf374</code>"
      ],
      "text/plain": [
       "<IPython.core.display.HTML object>"
      ]
     },
     "metadata": {},
     "output_type": "display_data"
    },
    {
     "data": {
      "text/html": [
       "Syncing run <strong><a href='https://wandb.ai/et22/video-cs230/runs/jutmf374' target=\"_blank\">vital-donkey-68</a></strong> to <a href='https://wandb.ai/et22/video-cs230' target=\"_blank\">Weights & Biases</a> (<a href='https://wandb.me/developer-guide' target=\"_blank\">docs</a>)<br/>"
      ],
      "text/plain": [
       "<IPython.core.display.HTML object>"
      ]
     },
     "metadata": {},
     "output_type": "display_data"
    },
    {
     "data": {
      "text/html": [
       " View project at <a href='https://wandb.ai/et22/video-cs230' target=\"_blank\">https://wandb.ai/et22/video-cs230</a>"
      ],
      "text/plain": [
       "<IPython.core.display.HTML object>"
      ]
     },
     "metadata": {},
     "output_type": "display_data"
    },
    {
     "data": {
      "text/html": [
       " View run at <a href='https://wandb.ai/et22/video-cs230/runs/jutmf374' target=\"_blank\">https://wandb.ai/et22/video-cs230/runs/jutmf374</a>"
      ],
      "text/plain": [
       "<IPython.core.display.HTML object>"
      ]
     },
     "metadata": {},
     "output_type": "display_data"
    },
    {
     "data": {
      "text/html": [
       "\n",
       "    <style>\n",
       "        .wandb-row {\n",
       "            display: flex;\n",
       "            flex-direction: row;\n",
       "            flex-wrap: wrap;\n",
       "            justify-content: flex-start;\n",
       "            width: 100%;\n",
       "        }\n",
       "        .wandb-col {\n",
       "            display: flex;\n",
       "            flex-direction: column;\n",
       "            flex-basis: 100%;\n",
       "            flex: 1;\n",
       "            padding: 10px;\n",
       "        }\n",
       "    </style>\n",
       "<div class=\"wandb-row\"><div class=\"wandb-col\"><h3>Run history:</h3><br/><table class=\"wandb\"><tr><td>corr</td><td>▅▅▅▄▆▆▇▆▇▅▆▆▇▇▅▆▇▆▅▄▁▇▅█▄▆▅▆▅▆▆▇▅▅▆▄▄▅▆▅</td></tr></table><br/></div><div class=\"wandb-col\"><h3>Run summary:</h3><br/><table class=\"wandb\"><tr><td>corr</td><td>0.3867</td></tr></table><br/></div></div>"
      ],
      "text/plain": [
       "<IPython.core.display.HTML object>"
      ]
     },
     "metadata": {},
     "output_type": "display_data"
    },
    {
     "data": {
      "text/html": [
       " View run <strong style=\"color:#cdcd00\">vital-donkey-68</strong> at: <a href='https://wandb.ai/et22/video-cs230/runs/jutmf374' target=\"_blank\">https://wandb.ai/et22/video-cs230/runs/jutmf374</a><br/> View project at: <a href='https://wandb.ai/et22/video-cs230' target=\"_blank\">https://wandb.ai/et22/video-cs230</a><br/>Synced 5 W&B file(s), 0 media file(s), 0 artifact file(s) and 0 other file(s)"
      ],
      "text/plain": [
       "<IPython.core.display.HTML object>"
      ]
     },
     "metadata": {},
     "output_type": "display_data"
    },
    {
     "data": {
      "text/html": [
       "Find logs at: <code>./wandb/run-20241130_173334-jutmf374/logs</code>"
      ],
      "text/plain": [
       "<IPython.core.display.HTML object>"
      ]
     },
     "metadata": {},
     "output_type": "display_data"
    },
    {
     "name": "stdout",
     "output_type": "stream",
     "text": [
      "0\n"
     ]
    },
    {
     "data": {
      "text/html": [
       "Tracking run with wandb version 0.18.7"
      ],
      "text/plain": [
       "<IPython.core.display.HTML object>"
      ]
     },
     "metadata": {},
     "output_type": "display_data"
    },
    {
     "data": {
      "text/html": [
       "Run data is saved locally in <code>/src/models/cs230/wandb/run-20241130_173337-r2v3o5yu</code>"
      ],
      "text/plain": [
       "<IPython.core.display.HTML object>"
      ]
     },
     "metadata": {},
     "output_type": "display_data"
    },
    {
     "data": {
      "text/html": [
       "Syncing run <strong><a href='https://wandb.ai/et22/video-cs230/runs/r2v3o5yu' target=\"_blank\">visionary-darkness-69</a></strong> to <a href='https://wandb.ai/et22/video-cs230' target=\"_blank\">Weights & Biases</a> (<a href='https://wandb.me/developer-guide' target=\"_blank\">docs</a>)<br/>"
      ],
      "text/plain": [
       "<IPython.core.display.HTML object>"
      ]
     },
     "metadata": {},
     "output_type": "display_data"
    },
    {
     "data": {
      "text/html": [
       " View project at <a href='https://wandb.ai/et22/video-cs230' target=\"_blank\">https://wandb.ai/et22/video-cs230</a>"
      ],
      "text/plain": [
       "<IPython.core.display.HTML object>"
      ]
     },
     "metadata": {},
     "output_type": "display_data"
    },
    {
     "data": {
      "text/html": [
       " View run at <a href='https://wandb.ai/et22/video-cs230/runs/r2v3o5yu' target=\"_blank\">https://wandb.ai/et22/video-cs230/runs/r2v3o5yu</a>"
      ],
      "text/plain": [
       "<IPython.core.display.HTML object>"
      ]
     },
     "metadata": {},
     "output_type": "display_data"
    },
    {
     "name": "stdout",
     "output_type": "stream",
     "text": [
      "readout input shape: 320\n",
      "model.0.stim\n",
      "torch.Size([1, 3, 5, 32, 32])\n",
      "True\n",
      "model.0.core.stem.0.weight\n",
      "torch.Size([64, 3, 3, 7, 7])\n",
      "True\n",
      "model.0.core.stem.1.weight\n",
      "torch.Size([64])\n",
      "True\n",
      "model.0.core.stem.1.bias\n",
      "torch.Size([64])\n",
      "True\n",
      "model.0.core.layer1.0.conv1.0.weight\n",
      "torch.Size([64, 64, 3, 3, 3])\n",
      "True\n",
      "model.0.core.layer1.0.conv1.1.weight\n",
      "torch.Size([64])\n",
      "True\n",
      "model.0.core.layer1.0.conv1.1.bias\n",
      "torch.Size([64])\n",
      "True\n",
      "model.1.mu\n",
      "torch.Size([54, 2])\n",
      "True\n",
      "model.1.sigma\n",
      "torch.Size([54])\n",
      "True\n",
      "model.1.poisson_linear.linear.weight\n",
      "torch.Size([54, 320])\n",
      "True\n",
      "model.1.poisson_linear.linear.bias\n",
      "torch.Size([54])\n",
      "True\n",
      "  epoch 1 loss: 0.11542467305689683 corr: 0.028716704857319815\n",
      " num. neurons : 54\n",
      "  epoch 2 loss: 0.11036782264709473 corr: 0.09549239197286756\n",
      " num. neurons : 54\n",
      "  epoch 3 loss: 0.11006301291194963 corr: 0.08663872011856187\n",
      " num. neurons : 54\n",
      "  epoch 4 loss: 0.10992128089622215 corr: 0.06881272590273341\n",
      " num. neurons : 54\n",
      "  epoch 5 loss: 0.10977907121917348 corr: 0.14203829583079683\n",
      " num. neurons : 54\n",
      "  epoch 6 loss: 0.10945251912246516 corr: 0.17703328353739686\n",
      " num. neurons : 54\n",
      "  epoch 7 loss: 0.10914434509512819 corr: 0.16364307971518402\n",
      " num. neurons : 54\n",
      "  epoch 8 loss: 0.10901655120614134 corr: 0.14577400104978738\n",
      " num. neurons : 54\n",
      "  epoch 9 loss: 0.10865546538506025 corr: 0.18374363927120746\n",
      " num. neurons : 54\n",
      "  epoch 10 loss: 0.10852978841758068 corr: 0.22334982234752931\n",
      " num. neurons : 54\n",
      "  epoch 11 loss: 0.1080217507444782 corr: 0.254361133327083\n",
      " num. neurons : 54\n",
      "  epoch 12 loss: 0.10790910697277681 corr: 0.25776126176837505\n",
      " num. neurons : 54\n",
      "  epoch 13 loss: 0.10770733374136465 corr: 0.2481956986335255\n",
      " num. neurons : 54\n",
      "  epoch 14 loss: 0.10751459233554793 corr: 0.24877533273979593\n",
      " num. neurons : 54\n",
      "  epoch 15 loss: 0.1072750762656883 corr: 0.27313401533392123\n",
      " num. neurons : 54\n",
      "  epoch 16 loss: 0.10722869749422427 corr: 0.26954549122049326\n",
      " num. neurons : 54\n",
      "  epoch 17 loss: 0.10693476341388844 corr: 0.29423791320028514\n",
      " num. neurons : 54\n",
      "  epoch 18 loss: 0.10690222575340742 corr: 0.26391329397015556\n",
      " num. neurons : 54\n",
      "  epoch 19 loss: 0.10676168494754368 corr: 0.2913893816030963\n",
      " num. neurons : 54\n",
      "  epoch 20 loss: 0.1065932869028162 corr: 0.2785007263057196\n",
      " num. neurons : 54\n"
     ]
    },
    {
     "data": {
      "text/html": [
       "\n",
       "    <style>\n",
       "        .wandb-row {\n",
       "            display: flex;\n",
       "            flex-direction: row;\n",
       "            flex-wrap: wrap;\n",
       "            justify-content: flex-start;\n",
       "            width: 100%;\n",
       "        }\n",
       "        .wandb-col {\n",
       "            display: flex;\n",
       "            flex-direction: column;\n",
       "            flex-basis: 100%;\n",
       "            flex: 1;\n",
       "            padding: 10px;\n",
       "        }\n",
       "    </style>\n",
       "<div class=\"wandb-row\"><div class=\"wandb-col\"><h3>Run history:</h3><br/><table class=\"wandb\"><tr><td>corr_to_avg</td><td>▁▃▃▂▄▅▅▄▅▆▇▇▇▇▇▇█▇██</td></tr><tr><td>test_loss</td><td>█▇▇█▆▅▆▅▅▃▃▃▂▂▂▁▁▂▁▁</td></tr><tr><td>train_loss</td><td>█▄▄▄▄▃▃▃▃▃▂▂▂▂▂▂▁▁▁▁</td></tr></table><br/></div><div class=\"wandb-col\"><h3>Run summary:</h3><br/><table class=\"wandb\"><tr><td>train_loss</td><td>1.69962</td></tr></table><br/></div></div>"
      ],
      "text/plain": [
       "<IPython.core.display.HTML object>"
      ]
     },
     "metadata": {},
     "output_type": "display_data"
    },
    {
     "data": {
      "text/html": [
       " View run <strong style=\"color:#cdcd00\">visionary-darkness-69</strong> at: <a href='https://wandb.ai/et22/video-cs230/runs/r2v3o5yu' target=\"_blank\">https://wandb.ai/et22/video-cs230/runs/r2v3o5yu</a><br/> View project at: <a href='https://wandb.ai/et22/video-cs230' target=\"_blank\">https://wandb.ai/et22/video-cs230</a><br/>Synced 5 W&B file(s), 0 media file(s), 0 artifact file(s) and 0 other file(s)"
      ],
      "text/plain": [
       "<IPython.core.display.HTML object>"
      ]
     },
     "metadata": {},
     "output_type": "display_data"
    },
    {
     "data": {
      "text/html": [
       "Find logs at: <code>./wandb/run-20241130_173337-r2v3o5yu/logs</code>"
      ],
      "text/plain": [
       "<IPython.core.display.HTML object>"
      ]
     },
     "metadata": {},
     "output_type": "display_data"
    },
    {
     "data": {
      "text/html": [
       "Tracking run with wandb version 0.18.7"
      ],
      "text/plain": [
       "<IPython.core.display.HTML object>"
      ]
     },
     "metadata": {},
     "output_type": "display_data"
    },
    {
     "data": {
      "text/html": [
       "Run data is saved locally in <code>/src/models/cs230/wandb/run-20241130_173739-mu4z7sg8</code>"
      ],
      "text/plain": [
       "<IPython.core.display.HTML object>"
      ]
     },
     "metadata": {},
     "output_type": "display_data"
    },
    {
     "data": {
      "text/html": [
       "Syncing run <strong><a href='https://wandb.ai/et22/video-cs230/runs/mu4z7sg8' target=\"_blank\">fresh-haze-70</a></strong> to <a href='https://wandb.ai/et22/video-cs230' target=\"_blank\">Weights & Biases</a> (<a href='https://wandb.me/developer-guide' target=\"_blank\">docs</a>)<br/>"
      ],
      "text/plain": [
       "<IPython.core.display.HTML object>"
      ]
     },
     "metadata": {},
     "output_type": "display_data"
    },
    {
     "data": {
      "text/html": [
       " View project at <a href='https://wandb.ai/et22/video-cs230' target=\"_blank\">https://wandb.ai/et22/video-cs230</a>"
      ],
      "text/plain": [
       "<IPython.core.display.HTML object>"
      ]
     },
     "metadata": {},
     "output_type": "display_data"
    },
    {
     "data": {
      "text/html": [
       " View run at <a href='https://wandb.ai/et22/video-cs230/runs/mu4z7sg8' target=\"_blank\">https://wandb.ai/et22/video-cs230/runs/mu4z7sg8</a>"
      ],
      "text/plain": [
       "<IPython.core.display.HTML object>"
      ]
     },
     "metadata": {},
     "output_type": "display_data"
    },
    {
     "name": "stdout",
     "output_type": "stream",
     "text": [
      "readout input shape: 320\n",
      "model.0.stim\n",
      "torch.Size([1, 3, 5, 32, 32])\n",
      "True\n",
      "model.0.core.stem.0.weight\n",
      "torch.Size([64, 3, 3, 7, 7])\n",
      "True\n",
      "model.0.core.stem.1.weight\n",
      "torch.Size([64])\n",
      "True\n",
      "model.0.core.stem.1.bias\n",
      "torch.Size([64])\n",
      "True\n",
      "model.0.core.layer1.0.conv1.0.weight\n",
      "torch.Size([64, 64, 3, 3, 3])\n",
      "True\n",
      "model.0.core.layer1.0.conv1.1.weight\n",
      "torch.Size([64])\n",
      "True\n",
      "model.0.core.layer1.0.conv1.1.bias\n",
      "torch.Size([64])\n",
      "True\n",
      "model.1.mu\n",
      "torch.Size([95, 2])\n",
      "True\n",
      "model.1.sigma\n",
      "torch.Size([95])\n",
      "True\n",
      "model.1.poisson_linear.linear.weight\n",
      "torch.Size([95, 320])\n",
      "True\n",
      "model.1.poisson_linear.linear.bias\n",
      "torch.Size([95])\n",
      "True\n",
      "  epoch 1 loss: 0.11001958853287222 corr: 0.006370007557453737\n",
      " num. neurons : 95\n",
      "  epoch 2 loss: 0.10601983095338831 corr: 0.13721229920008915\n",
      " num. neurons : 95\n",
      "  epoch 3 loss: 0.10575780980874107 corr: 0.14341386831428793\n",
      " num. neurons : 95\n",
      "  epoch 4 loss: 0.10533650826409226 corr: 0.14978830918196345\n",
      " num. neurons : 95\n",
      "  epoch 5 loss: 0.10517595812912386 corr: 0.17451204892471914\n",
      " num. neurons : 95\n",
      "  epoch 6 loss: 0.10472850487494344 corr: 0.20364417487017794\n",
      " num. neurons : 95\n",
      "  epoch 7 loss: 0.10440939402705088 corr: 0.18517530127384152\n",
      " num. neurons : 95\n",
      "  epoch 8 loss: 0.10398389625299663 corr: 0.20026767596386894\n",
      " num. neurons : 95\n",
      "  epoch 9 loss: 0.1037252346258513 corr: 0.2191700588532309\n",
      " num. neurons : 95\n",
      "  epoch 10 loss: 0.10346910891108488 corr: 0.2378207251022038\n",
      " num. neurons : 95\n",
      "  epoch 11 loss: 0.10305366559802549 corr: 0.2859194998654909\n",
      " num. neurons : 95\n",
      "  epoch 12 loss: 0.10280585569861048 corr: 0.26219793747674563\n",
      " num. neurons : 95\n",
      "  epoch 13 loss: 0.10273594213405829 corr: 0.2683439025227924\n",
      " num. neurons : 95\n",
      "  epoch 14 loss: 0.10244788873882194 corr: 0.25036642035049905\n",
      " num. neurons : 95\n",
      "  epoch 15 loss: 0.10216503049690685 corr: 0.28151912289675396\n",
      " num. neurons : 95\n",
      "  epoch 16 loss: 0.10192001471344714 corr: 0.28399142970173535\n",
      " num. neurons : 95\n",
      "  epoch 17 loss: 0.10170381949210042 corr: 0.28914885211502517\n",
      " num. neurons : 95\n",
      "  epoch 18 loss: 0.10161216483690352 corr: 0.27952966561711046\n",
      " num. neurons : 95\n",
      "  epoch 19 loss: 0.1014170693477411 corr: 0.2912979628776396\n",
      " num. neurons : 95\n",
      "  epoch 20 loss: 0.10124298746049092 corr: 0.29092238344567883\n",
      " num. neurons : 95\n"
     ]
    },
    {
     "data": {
      "text/html": [
       "\n",
       "    <style>\n",
       "        .wandb-row {\n",
       "            display: flex;\n",
       "            flex-direction: row;\n",
       "            flex-wrap: wrap;\n",
       "            justify-content: flex-start;\n",
       "            width: 100%;\n",
       "        }\n",
       "        .wandb-col {\n",
       "            display: flex;\n",
       "            flex-direction: column;\n",
       "            flex-basis: 100%;\n",
       "            flex: 1;\n",
       "            padding: 10px;\n",
       "        }\n",
       "    </style>\n",
       "<div class=\"wandb-row\"><div class=\"wandb-col\"><h3>Run history:</h3><br/><table class=\"wandb\"><tr><td>corr_to_avg</td><td>▁▄▄▅▅▆▅▆▆▇█▇▇▇██████</td></tr><tr><td>test_loss</td><td>█▇█▇▆▆▄▅▄▄▂▂▃▂▂▂▁▂▂▁</td></tr><tr><td>train_loss</td><td>█▅▅▄▄▄▄▃▃▃▂▂▂▂▂▂▁▁▁▁</td></tr></table><br/></div><div class=\"wandb-col\"><h3>Run summary:</h3><br/><table class=\"wandb\"><tr><td>train_loss</td><td>1.61145</td></tr></table><br/></div></div>"
      ],
      "text/plain": [
       "<IPython.core.display.HTML object>"
      ]
     },
     "metadata": {},
     "output_type": "display_data"
    },
    {
     "data": {
      "text/html": [
       " View run <strong style=\"color:#cdcd00\">fresh-haze-70</strong> at: <a href='https://wandb.ai/et22/video-cs230/runs/mu4z7sg8' target=\"_blank\">https://wandb.ai/et22/video-cs230/runs/mu4z7sg8</a><br/> View project at: <a href='https://wandb.ai/et22/video-cs230' target=\"_blank\">https://wandb.ai/et22/video-cs230</a><br/>Synced 5 W&B file(s), 0 media file(s), 0 artifact file(s) and 0 other file(s)"
      ],
      "text/plain": [
       "<IPython.core.display.HTML object>"
      ]
     },
     "metadata": {},
     "output_type": "display_data"
    },
    {
     "data": {
      "text/html": [
       "Find logs at: <code>./wandb/run-20241130_173739-mu4z7sg8/logs</code>"
      ],
      "text/plain": [
       "<IPython.core.display.HTML object>"
      ]
     },
     "metadata": {},
     "output_type": "display_data"
    },
    {
     "data": {
      "text/html": [
       "Tracking run with wandb version 0.18.7"
      ],
      "text/plain": [
       "<IPython.core.display.HTML object>"
      ]
     },
     "metadata": {},
     "output_type": "display_data"
    },
    {
     "data": {
      "text/html": [
       "Run data is saved locally in <code>/src/models/cs230/wandb/run-20241130_174139-raj4lkqh</code>"
      ],
      "text/plain": [
       "<IPython.core.display.HTML object>"
      ]
     },
     "metadata": {},
     "output_type": "display_data"
    },
    {
     "data": {
      "text/html": [
       "Syncing run <strong><a href='https://wandb.ai/et22/video-cs230/runs/raj4lkqh' target=\"_blank\">breezy-rain-71</a></strong> to <a href='https://wandb.ai/et22/video-cs230' target=\"_blank\">Weights & Biases</a> (<a href='https://wandb.me/developer-guide' target=\"_blank\">docs</a>)<br/>"
      ],
      "text/plain": [
       "<IPython.core.display.HTML object>"
      ]
     },
     "metadata": {},
     "output_type": "display_data"
    },
    {
     "data": {
      "text/html": [
       " View project at <a href='https://wandb.ai/et22/video-cs230' target=\"_blank\">https://wandb.ai/et22/video-cs230</a>"
      ],
      "text/plain": [
       "<IPython.core.display.HTML object>"
      ]
     },
     "metadata": {},
     "output_type": "display_data"
    },
    {
     "data": {
      "text/html": [
       " View run at <a href='https://wandb.ai/et22/video-cs230/runs/raj4lkqh' target=\"_blank\">https://wandb.ai/et22/video-cs230/runs/raj4lkqh</a>"
      ],
      "text/plain": [
       "<IPython.core.display.HTML object>"
      ]
     },
     "metadata": {},
     "output_type": "display_data"
    },
    {
     "name": "stdout",
     "output_type": "stream",
     "text": [
      "readout input shape: 320\n",
      "model.0.stim\n",
      "torch.Size([1, 3, 5, 32, 32])\n",
      "True\n",
      "model.0.core.stem.0.weight\n",
      "torch.Size([64, 3, 3, 7, 7])\n",
      "True\n",
      "model.0.core.stem.1.weight\n",
      "torch.Size([64])\n",
      "True\n",
      "model.0.core.stem.1.bias\n",
      "torch.Size([64])\n",
      "True\n",
      "model.0.core.layer1.0.conv1.0.weight\n",
      "torch.Size([64, 64, 3, 3, 3])\n",
      "True\n",
      "model.0.core.layer1.0.conv1.1.weight\n",
      "torch.Size([64])\n",
      "True\n",
      "model.0.core.layer1.0.conv1.1.bias\n",
      "torch.Size([64])\n",
      "True\n",
      "model.1.mu\n",
      "torch.Size([54, 2])\n",
      "True\n",
      "model.1.sigma\n",
      "torch.Size([54])\n",
      "True\n",
      "model.1.poisson_linear.linear.weight\n",
      "torch.Size([54, 320])\n",
      "True\n",
      "model.1.poisson_linear.linear.bias\n",
      "torch.Size([54])\n",
      "True\n",
      "  epoch 1 loss: 0.12565484264834115 corr: 0.038344091413455954\n",
      " num. neurons : 54\n",
      "  epoch 2 loss: 0.1188017301254814 corr: 0.038410125069592876\n",
      " num. neurons : 54\n",
      "  epoch 3 loss: 0.11847253467725671 corr: 0.06268410421292353\n",
      " num. neurons : 54\n",
      "  epoch 4 loss: 0.11815750223403497 corr: 0.10176583447333025\n",
      " num. neurons : 54\n",
      "  epoch 5 loss: 0.11792382960205282 corr: 0.11098815524586206\n",
      " num. neurons : 54\n",
      "  epoch 6 loss: 0.11741257486030288 corr: 0.14274602877544554\n",
      " num. neurons : 54\n",
      "  epoch 7 loss: 0.11702364529776382 corr: 0.13311619356339466\n",
      " num. neurons : 54\n",
      "  epoch 8 loss: 0.11669648973520816 corr: 0.22596429813842156\n",
      " num. neurons : 54\n",
      "  epoch 9 loss: 0.11636500757356186 corr: 0.17663408023630575\n",
      " num. neurons : 54\n",
      "  epoch 10 loss: 0.11599204692569791 corr: 0.2287052041642859\n",
      " num. neurons : 54\n",
      "  epoch 11 loss: 0.11578693137088494 corr: 0.26163508385607936\n",
      " num. neurons : 54\n",
      "  epoch 12 loss: 0.11558250875312244 corr: 0.2676782442595784\n",
      " num. neurons : 54\n",
      "  epoch 13 loss: 0.11522496021629543 corr: 0.2359284504774246\n",
      " num. neurons : 54\n",
      "  epoch 14 loss: 0.11501196875652595 corr: 0.25641856844549504\n",
      " num. neurons : 54\n",
      "  epoch 15 loss: 0.11485677238259574 corr: 0.246567121871327\n",
      " num. neurons : 54\n",
      "  epoch 16 loss: 0.11457505793093366 corr: 0.277840227472693\n",
      " num. neurons : 54\n",
      "  epoch 17 loss: 0.11471315554633221 corr: 0.2526663108984604\n",
      " num. neurons : 54\n",
      "  epoch 18 loss: 0.11440113512096727 corr: 0.27924064153401806\n",
      " num. neurons : 54\n",
      "  epoch 19 loss: 0.11417355385097445 corr: 0.2577119476769037\n",
      " num. neurons : 54\n",
      "  epoch 20 loss: 0.1140510094514862 corr: 0.2619764638619325\n",
      " num. neurons : 54\n"
     ]
    },
    {
     "data": {
      "text/html": [
       "\n",
       "    <style>\n",
       "        .wandb-row {\n",
       "            display: flex;\n",
       "            flex-direction: row;\n",
       "            flex-wrap: wrap;\n",
       "            justify-content: flex-start;\n",
       "            width: 100%;\n",
       "        }\n",
       "        .wandb-col {\n",
       "            display: flex;\n",
       "            flex-direction: column;\n",
       "            flex-basis: 100%;\n",
       "            flex: 1;\n",
       "            padding: 10px;\n",
       "        }\n",
       "    </style>\n",
       "<div class=\"wandb-row\"><div class=\"wandb-col\"><h3>Run history:</h3><br/><table class=\"wandb\"><tr><td>corr_to_avg</td><td>▁▁▂▃▃▄▄▆▅▇▇█▇▇▇█▇█▇▇</td></tr><tr><td>test_loss</td><td>█▇▅▅▅▅▄▃▄▂▂▃▃▂▃▂▂▃▂▁</td></tr><tr><td>train_loss</td><td>█▄▄▃▃▃▃▃▂▂▂▂▂▂▁▁▁▁▁▁</td></tr></table><br/></div><div class=\"wandb-col\"><h3>Run summary:</h3><br/><table class=\"wandb\"><tr><td>train_loss</td><td>1.8232</td></tr></table><br/></div></div>"
      ],
      "text/plain": [
       "<IPython.core.display.HTML object>"
      ]
     },
     "metadata": {},
     "output_type": "display_data"
    },
    {
     "data": {
      "text/html": [
       " View run <strong style=\"color:#cdcd00\">breezy-rain-71</strong> at: <a href='https://wandb.ai/et22/video-cs230/runs/raj4lkqh' target=\"_blank\">https://wandb.ai/et22/video-cs230/runs/raj4lkqh</a><br/> View project at: <a href='https://wandb.ai/et22/video-cs230' target=\"_blank\">https://wandb.ai/et22/video-cs230</a><br/>Synced 5 W&B file(s), 0 media file(s), 0 artifact file(s) and 0 other file(s)"
      ],
      "text/plain": [
       "<IPython.core.display.HTML object>"
      ]
     },
     "metadata": {},
     "output_type": "display_data"
    },
    {
     "data": {
      "text/html": [
       "Find logs at: <code>./wandb/run-20241130_174139-raj4lkqh/logs</code>"
      ],
      "text/plain": [
       "<IPython.core.display.HTML object>"
      ]
     },
     "metadata": {},
     "output_type": "display_data"
    },
    {
     "data": {
      "text/html": [
       "Tracking run with wandb version 0.18.7"
      ],
      "text/plain": [
       "<IPython.core.display.HTML object>"
      ]
     },
     "metadata": {},
     "output_type": "display_data"
    },
    {
     "data": {
      "text/html": [
       "Run data is saved locally in <code>/src/models/cs230/wandb/run-20241130_174627-ighl7sg8</code>"
      ],
      "text/plain": [
       "<IPython.core.display.HTML object>"
      ]
     },
     "metadata": {},
     "output_type": "display_data"
    },
    {
     "data": {
      "text/html": [
       "Syncing run <strong><a href='https://wandb.ai/et22/video-cs230/runs/ighl7sg8' target=\"_blank\">worldly-lake-72</a></strong> to <a href='https://wandb.ai/et22/video-cs230' target=\"_blank\">Weights & Biases</a> (<a href='https://wandb.me/developer-guide' target=\"_blank\">docs</a>)<br/>"
      ],
      "text/plain": [
       "<IPython.core.display.HTML object>"
      ]
     },
     "metadata": {},
     "output_type": "display_data"
    },
    {
     "data": {
      "text/html": [
       " View project at <a href='https://wandb.ai/et22/video-cs230' target=\"_blank\">https://wandb.ai/et22/video-cs230</a>"
      ],
      "text/plain": [
       "<IPython.core.display.HTML object>"
      ]
     },
     "metadata": {},
     "output_type": "display_data"
    },
    {
     "data": {
      "text/html": [
       " View run at <a href='https://wandb.ai/et22/video-cs230/runs/ighl7sg8' target=\"_blank\">https://wandb.ai/et22/video-cs230/runs/ighl7sg8</a>"
      ],
      "text/plain": [
       "<IPython.core.display.HTML object>"
      ]
     },
     "metadata": {},
     "output_type": "display_data"
    },
    {
     "data": {
      "text/html": [
       "\n",
       "    <style>\n",
       "        .wandb-row {\n",
       "            display: flex;\n",
       "            flex-direction: row;\n",
       "            flex-wrap: wrap;\n",
       "            justify-content: flex-start;\n",
       "            width: 100%;\n",
       "        }\n",
       "        .wandb-col {\n",
       "            display: flex;\n",
       "            flex-direction: column;\n",
       "            flex-basis: 100%;\n",
       "            flex: 1;\n",
       "            padding: 10px;\n",
       "        }\n",
       "    </style>\n",
       "<div class=\"wandb-row\"><div class=\"wandb-col\"><h3>Run history:</h3><br/><table class=\"wandb\"><tr><td>corr</td><td>▃▄▁▆▅▆▅▆▇▇█▅▆▇▃▃▃▇▇▇▄▅▁▃▆▆▂▂▆▃▄▅▃▄▅▅▆▇▅▆</td></tr></table><br/></div><div class=\"wandb-col\"><h3>Run summary:</h3><br/><table class=\"wandb\"><tr><td>corr</td><td>0.37803</td></tr></table><br/></div></div>"
      ],
      "text/plain": [
       "<IPython.core.display.HTML object>"
      ]
     },
     "metadata": {},
     "output_type": "display_data"
    },
    {
     "data": {
      "text/html": [
       " View run <strong style=\"color:#cdcd00\">worldly-lake-72</strong> at: <a href='https://wandb.ai/et22/video-cs230/runs/ighl7sg8' target=\"_blank\">https://wandb.ai/et22/video-cs230/runs/ighl7sg8</a><br/> View project at: <a href='https://wandb.ai/et22/video-cs230' target=\"_blank\">https://wandb.ai/et22/video-cs230</a><br/>Synced 5 W&B file(s), 0 media file(s), 0 artifact file(s) and 0 other file(s)"
      ],
      "text/plain": [
       "<IPython.core.display.HTML object>"
      ]
     },
     "metadata": {},
     "output_type": "display_data"
    },
    {
     "data": {
      "text/html": [
       "Find logs at: <code>./wandb/run-20241130_174627-ighl7sg8/logs</code>"
      ],
      "text/plain": [
       "<IPython.core.display.HTML object>"
      ]
     },
     "metadata": {},
     "output_type": "display_data"
    },
    {
     "name": "stdout",
     "output_type": "stream",
     "text": [
      "0\n"
     ]
    },
    {
     "data": {
      "text/html": [
       "Tracking run with wandb version 0.18.7"
      ],
      "text/plain": [
       "<IPython.core.display.HTML object>"
      ]
     },
     "metadata": {},
     "output_type": "display_data"
    },
    {
     "data": {
      "text/html": [
       "Run data is saved locally in <code>/src/models/cs230/wandb/run-20241130_174630-c4h81mgu</code>"
      ],
      "text/plain": [
       "<IPython.core.display.HTML object>"
      ]
     },
     "metadata": {},
     "output_type": "display_data"
    },
    {
     "data": {
      "text/html": [
       "Syncing run <strong><a href='https://wandb.ai/et22/video-cs230/runs/c4h81mgu' target=\"_blank\">neat-monkey-73</a></strong> to <a href='https://wandb.ai/et22/video-cs230' target=\"_blank\">Weights & Biases</a> (<a href='https://wandb.me/developer-guide' target=\"_blank\">docs</a>)<br/>"
      ],
      "text/plain": [
       "<IPython.core.display.HTML object>"
      ]
     },
     "metadata": {},
     "output_type": "display_data"
    },
    {
     "data": {
      "text/html": [
       " View project at <a href='https://wandb.ai/et22/video-cs230' target=\"_blank\">https://wandb.ai/et22/video-cs230</a>"
      ],
      "text/plain": [
       "<IPython.core.display.HTML object>"
      ]
     },
     "metadata": {},
     "output_type": "display_data"
    },
    {
     "data": {
      "text/html": [
       " View run at <a href='https://wandb.ai/et22/video-cs230/runs/c4h81mgu' target=\"_blank\">https://wandb.ai/et22/video-cs230/runs/c4h81mgu</a>"
      ],
      "text/plain": [
       "<IPython.core.display.HTML object>"
      ]
     },
     "metadata": {},
     "output_type": "display_data"
    },
    {
     "name": "stdout",
     "output_type": "stream",
     "text": [
      "readout input shape: 320\n",
      "model.0.stim\n",
      "torch.Size([1, 3, 5, 32, 32])\n",
      "True\n",
      "model.0.core.stem.0.weight\n",
      "torch.Size([64, 3, 3, 7, 7])\n",
      "True\n",
      "model.0.core.stem.1.weight\n",
      "torch.Size([64])\n",
      "True\n",
      "model.0.core.stem.1.bias\n",
      "torch.Size([64])\n",
      "True\n",
      "model.0.core.layer1.0.conv1.0.weight\n",
      "torch.Size([64, 64, 3, 3, 3])\n",
      "True\n",
      "model.0.core.layer1.0.conv1.1.weight\n",
      "torch.Size([64])\n",
      "True\n",
      "model.0.core.layer1.0.conv1.1.bias\n",
      "torch.Size([64])\n",
      "True\n",
      "model.1.mu\n",
      "torch.Size([54, 2])\n",
      "True\n",
      "model.1.sigma\n",
      "torch.Size([54])\n",
      "True\n",
      "model.1.poisson_linear.linear.weight\n",
      "torch.Size([54, 320])\n",
      "True\n",
      "model.1.poisson_linear.linear.bias\n",
      "torch.Size([54])\n",
      "True\n",
      "  epoch 1 loss: 0.11468338495419349 corr: 0.04794707155730058\n",
      " num. neurons : 54\n",
      "  epoch 2 loss: 0.11116113992384923 corr: 0.07616055395934379\n",
      " num. neurons : 54\n",
      "  epoch 3 loss: 0.1109850842864425 corr: 0.04984696446636102\n",
      " num. neurons : 54\n",
      "  epoch 4 loss: 0.11061539231995006 corr: 0.08878463360019728\n",
      " num. neurons : 54\n",
      "  epoch 5 loss: 0.11040811491601261 corr: 0.07954158635585938\n",
      " num. neurons : 54\n",
      "  epoch 6 loss: 0.11008883370293511 corr: 0.12297129141559963\n",
      " num. neurons : 54\n",
      "  epoch 7 loss: 0.11009671894120582 corr: 0.0990202799621697\n",
      " num. neurons : 54\n",
      "  epoch 8 loss: 0.10985978373774775 corr: 0.12712382255215832\n",
      " num. neurons : 54\n",
      "  epoch 9 loss: 0.10950838171405557 corr: 0.0620002003626913\n",
      " num. neurons : 54\n",
      "  epoch 10 loss: 0.10944467591650692 corr: 0.14115198203120588\n",
      " num. neurons : 54\n",
      "  epoch 11 loss: 0.10912465142615048 corr: 0.15776836615205042\n",
      " num. neurons : 54\n",
      "  epoch 12 loss: 0.10897196069175814 corr: 0.17668309994816003\n",
      " num. neurons : 54\n",
      "  epoch 13 loss: 0.10876917727199602 corr: 0.19724666450957123\n",
      " num. neurons : 54\n",
      "  epoch 14 loss: 0.1086045268729881 corr: 0.15481813582730894\n",
      " num. neurons : 54\n",
      "  epoch 15 loss: 0.10851057629526398 corr: 0.1795757423112001\n",
      " num. neurons : 54\n",
      "  epoch 16 loss: 0.10821494479238251 corr: 0.2477109332382661\n",
      " num. neurons : 54\n",
      "  epoch 17 loss: 0.10803578117747366 corr: 0.23413967488014917\n",
      " num. neurons : 54\n",
      "  epoch 18 loss: 0.10776276923992016 corr: 0.25881919875515214\n",
      " num. neurons : 54\n",
      "  epoch 19 loss: 0.10758768364235206 corr: 0.2472660800547706\n",
      " num. neurons : 54\n",
      "  epoch 20 loss: 0.1073554516427311 corr: 0.27607482879614714\n",
      " num. neurons : 54\n"
     ]
    },
    {
     "data": {
      "text/html": [
       "\n",
       "    <style>\n",
       "        .wandb-row {\n",
       "            display: flex;\n",
       "            flex-direction: row;\n",
       "            flex-wrap: wrap;\n",
       "            justify-content: flex-start;\n",
       "            width: 100%;\n",
       "        }\n",
       "        .wandb-col {\n",
       "            display: flex;\n",
       "            flex-direction: column;\n",
       "            flex-basis: 100%;\n",
       "            flex: 1;\n",
       "            padding: 10px;\n",
       "        }\n",
       "    </style>\n",
       "<div class=\"wandb-row\"><div class=\"wandb-col\"><h3>Run history:</h3><br/><table class=\"wandb\"><tr><td>corr_to_avg</td><td>▁▂▁▂▂▃▃▃▁▄▄▅▆▄▅▇▇▇▇█</td></tr><tr><td>test_loss</td><td>█▆▇▆▆▅▆▅▅▅▄▄▄▃▄▂▂▁▂▁</td></tr><tr><td>train_loss</td><td>█▅▄▄▄▄▄▃▃▃▃▃▂▂▂▂▂▁▁▁</td></tr></table><br/></div><div class=\"wandb-col\"><h3>Run summary:</h3><br/><table class=\"wandb\"><tr><td>train_loss</td><td>1.71177</td></tr></table><br/></div></div>"
      ],
      "text/plain": [
       "<IPython.core.display.HTML object>"
      ]
     },
     "metadata": {},
     "output_type": "display_data"
    },
    {
     "data": {
      "text/html": [
       " View run <strong style=\"color:#cdcd00\">neat-monkey-73</strong> at: <a href='https://wandb.ai/et22/video-cs230/runs/c4h81mgu' target=\"_blank\">https://wandb.ai/et22/video-cs230/runs/c4h81mgu</a><br/> View project at: <a href='https://wandb.ai/et22/video-cs230' target=\"_blank\">https://wandb.ai/et22/video-cs230</a><br/>Synced 5 W&B file(s), 0 media file(s), 0 artifact file(s) and 0 other file(s)"
      ],
      "text/plain": [
       "<IPython.core.display.HTML object>"
      ]
     },
     "metadata": {},
     "output_type": "display_data"
    },
    {
     "data": {
      "text/html": [
       "Find logs at: <code>./wandb/run-20241130_174630-c4h81mgu/logs</code>"
      ],
      "text/plain": [
       "<IPython.core.display.HTML object>"
      ]
     },
     "metadata": {},
     "output_type": "display_data"
    },
    {
     "data": {
      "text/html": [
       "Tracking run with wandb version 0.18.7"
      ],
      "text/plain": [
       "<IPython.core.display.HTML object>"
      ]
     },
     "metadata": {},
     "output_type": "display_data"
    },
    {
     "data": {
      "text/html": [
       "Run data is saved locally in <code>/src/models/cs230/wandb/run-20241130_175034-bl17ky7u</code>"
      ],
      "text/plain": [
       "<IPython.core.display.HTML object>"
      ]
     },
     "metadata": {},
     "output_type": "display_data"
    },
    {
     "data": {
      "text/html": [
       "Syncing run <strong><a href='https://wandb.ai/et22/video-cs230/runs/bl17ky7u' target=\"_blank\">ruby-blaze-74</a></strong> to <a href='https://wandb.ai/et22/video-cs230' target=\"_blank\">Weights & Biases</a> (<a href='https://wandb.me/developer-guide' target=\"_blank\">docs</a>)<br/>"
      ],
      "text/plain": [
       "<IPython.core.display.HTML object>"
      ]
     },
     "metadata": {},
     "output_type": "display_data"
    },
    {
     "data": {
      "text/html": [
       " View project at <a href='https://wandb.ai/et22/video-cs230' target=\"_blank\">https://wandb.ai/et22/video-cs230</a>"
      ],
      "text/plain": [
       "<IPython.core.display.HTML object>"
      ]
     },
     "metadata": {},
     "output_type": "display_data"
    },
    {
     "data": {
      "text/html": [
       " View run at <a href='https://wandb.ai/et22/video-cs230/runs/bl17ky7u' target=\"_blank\">https://wandb.ai/et22/video-cs230/runs/bl17ky7u</a>"
      ],
      "text/plain": [
       "<IPython.core.display.HTML object>"
      ]
     },
     "metadata": {},
     "output_type": "display_data"
    },
    {
     "name": "stdout",
     "output_type": "stream",
     "text": [
      "readout input shape: 320\n",
      "model.0.stim\n",
      "torch.Size([1, 3, 5, 32, 32])\n",
      "True\n",
      "model.0.core.stem.0.weight\n",
      "torch.Size([64, 3, 3, 7, 7])\n",
      "True\n",
      "model.0.core.stem.1.weight\n",
      "torch.Size([64])\n",
      "True\n",
      "model.0.core.stem.1.bias\n",
      "torch.Size([64])\n",
      "True\n",
      "model.0.core.layer1.0.conv1.0.weight\n",
      "torch.Size([64, 64, 3, 3, 3])\n",
      "True\n",
      "model.0.core.layer1.0.conv1.1.weight\n",
      "torch.Size([64])\n",
      "True\n",
      "model.0.core.layer1.0.conv1.1.bias\n",
      "torch.Size([64])\n",
      "True\n",
      "model.1.mu\n",
      "torch.Size([95, 2])\n",
      "True\n",
      "model.1.sigma\n",
      "torch.Size([95])\n",
      "True\n",
      "model.1.poisson_linear.linear.weight\n",
      "torch.Size([95, 320])\n",
      "True\n",
      "model.1.poisson_linear.linear.bias\n",
      "torch.Size([95])\n",
      "True\n",
      "  epoch 1 loss: 0.1102906804434292 corr: 0.03798632667568064\n",
      " num. neurons : 95\n",
      "  epoch 2 loss: 0.10725807257347707 corr: 0.05447175859519283\n",
      " num. neurons : 95\n",
      "  epoch 3 loss: 0.10664440892753801 corr: 0.1266031997082627\n",
      " num. neurons : 95\n",
      "  epoch 4 loss: 0.10644053014785207 corr: 0.08954136092399452\n",
      " num. neurons : 95\n",
      "  epoch 5 loss: 0.10592031447675215 corr: 0.11213714855891996\n",
      " num. neurons : 95\n",
      "  epoch 6 loss: 0.10560980642029129 corr: 0.13823798010775176\n",
      " num. neurons : 95\n",
      "  epoch 7 loss: 0.10538302722401643 corr: 0.16131729889885363\n",
      " num. neurons : 95\n",
      "  epoch 8 loss: 0.1052696488290557 corr: 0.16054711843953975\n",
      " num. neurons : 95\n",
      "  epoch 9 loss: 0.10488079705163446 corr: 0.16753671494331818\n",
      " num. neurons : 95\n",
      "  epoch 10 loss: 0.10474898528054123 corr: 0.1739438126944956\n",
      " num. neurons : 95\n",
      "  epoch 11 loss: 0.10445439597074899 corr: 0.17783165254563973\n",
      " num. neurons : 95\n",
      "  epoch 12 loss: 0.10410856482870291 corr: 0.2369591408916876\n",
      " num. neurons : 95\n",
      "  epoch 13 loss: 0.10398698676943155 corr: 0.21351252460411532\n",
      " num. neurons : 95\n",
      "  epoch 14 loss: 0.10380789553307739 corr: 0.25234921128667503\n",
      " num. neurons : 95\n",
      "  epoch 15 loss: 0.10367783414131684 corr: 0.25345102739772\n",
      " num. neurons : 95\n",
      "  epoch 16 loss: 0.10339839346121743 corr: 0.26445397589472075\n",
      " num. neurons : 95\n",
      "  epoch 17 loss: 0.10319817996149912 corr: 0.280061268162901\n",
      " num. neurons : 95\n",
      "  epoch 18 loss: 0.10295087879240825 corr: 0.2657737786764154\n",
      " num. neurons : 95\n",
      "  epoch 19 loss: 0.1027249653301938 corr: 0.2583498665048017\n",
      " num. neurons : 95\n",
      "  epoch 20 loss: 0.10245007451292108 corr: 0.2883429285254449\n",
      " num. neurons : 95\n"
     ]
    },
    {
     "data": {
      "text/html": [
       "\n",
       "    <style>\n",
       "        .wandb-row {\n",
       "            display: flex;\n",
       "            flex-direction: row;\n",
       "            flex-wrap: wrap;\n",
       "            justify-content: flex-start;\n",
       "            width: 100%;\n",
       "        }\n",
       "        .wandb-col {\n",
       "            display: flex;\n",
       "            flex-direction: column;\n",
       "            flex-basis: 100%;\n",
       "            flex: 1;\n",
       "            padding: 10px;\n",
       "        }\n",
       "    </style>\n",
       "<div class=\"wandb-row\"><div class=\"wandb-col\"><h3>Run history:</h3><br/><table class=\"wandb\"><tr><td>corr_to_avg</td><td>▁▁▃▂▃▄▄▄▅▅▅▇▆▇▇▇█▇▇█</td></tr><tr><td>test_loss</td><td>██▇▆▆▆▅▄▄▃▃▂▃▂▃▂▁▂▁▁</td></tr><tr><td>train_loss</td><td>█▅▅▅▄▄▄▄▃▃▃▂▂▂▂▂▂▁▁▁</td></tr></table><br/></div><div class=\"wandb-col\"><h3>Run summary:</h3><br/><table class=\"wandb\"><tr><td>train_loss</td><td>1.63066</td></tr></table><br/></div></div>"
      ],
      "text/plain": [
       "<IPython.core.display.HTML object>"
      ]
     },
     "metadata": {},
     "output_type": "display_data"
    },
    {
     "data": {
      "text/html": [
       " View run <strong style=\"color:#cdcd00\">ruby-blaze-74</strong> at: <a href='https://wandb.ai/et22/video-cs230/runs/bl17ky7u' target=\"_blank\">https://wandb.ai/et22/video-cs230/runs/bl17ky7u</a><br/> View project at: <a href='https://wandb.ai/et22/video-cs230' target=\"_blank\">https://wandb.ai/et22/video-cs230</a><br/>Synced 5 W&B file(s), 0 media file(s), 0 artifact file(s) and 0 other file(s)"
      ],
      "text/plain": [
       "<IPython.core.display.HTML object>"
      ]
     },
     "metadata": {},
     "output_type": "display_data"
    },
    {
     "data": {
      "text/html": [
       "Find logs at: <code>./wandb/run-20241130_175034-bl17ky7u/logs</code>"
      ],
      "text/plain": [
       "<IPython.core.display.HTML object>"
      ]
     },
     "metadata": {},
     "output_type": "display_data"
    },
    {
     "data": {
      "text/html": [
       "Tracking run with wandb version 0.18.7"
      ],
      "text/plain": [
       "<IPython.core.display.HTML object>"
      ]
     },
     "metadata": {},
     "output_type": "display_data"
    },
    {
     "data": {
      "text/html": [
       "Run data is saved locally in <code>/src/models/cs230/wandb/run-20241130_175434-j8zid709</code>"
      ],
      "text/plain": [
       "<IPython.core.display.HTML object>"
      ]
     },
     "metadata": {},
     "output_type": "display_data"
    },
    {
     "data": {
      "text/html": [
       "Syncing run <strong><a href='https://wandb.ai/et22/video-cs230/runs/j8zid709' target=\"_blank\">eager-monkey-75</a></strong> to <a href='https://wandb.ai/et22/video-cs230' target=\"_blank\">Weights & Biases</a> (<a href='https://wandb.me/developer-guide' target=\"_blank\">docs</a>)<br/>"
      ],
      "text/plain": [
       "<IPython.core.display.HTML object>"
      ]
     },
     "metadata": {},
     "output_type": "display_data"
    },
    {
     "data": {
      "text/html": [
       " View project at <a href='https://wandb.ai/et22/video-cs230' target=\"_blank\">https://wandb.ai/et22/video-cs230</a>"
      ],
      "text/plain": [
       "<IPython.core.display.HTML object>"
      ]
     },
     "metadata": {},
     "output_type": "display_data"
    },
    {
     "data": {
      "text/html": [
       " View run at <a href='https://wandb.ai/et22/video-cs230/runs/j8zid709' target=\"_blank\">https://wandb.ai/et22/video-cs230/runs/j8zid709</a>"
      ],
      "text/plain": [
       "<IPython.core.display.HTML object>"
      ]
     },
     "metadata": {},
     "output_type": "display_data"
    },
    {
     "name": "stdout",
     "output_type": "stream",
     "text": [
      "readout input shape: 320\n",
      "model.0.stim\n",
      "torch.Size([1, 3, 5, 32, 32])\n",
      "True\n",
      "model.0.core.stem.0.weight\n",
      "torch.Size([64, 3, 3, 7, 7])\n",
      "True\n",
      "model.0.core.stem.1.weight\n",
      "torch.Size([64])\n",
      "True\n",
      "model.0.core.stem.1.bias\n",
      "torch.Size([64])\n",
      "True\n",
      "model.0.core.layer1.0.conv1.0.weight\n",
      "torch.Size([64, 64, 3, 3, 3])\n",
      "True\n",
      "model.0.core.layer1.0.conv1.1.weight\n",
      "torch.Size([64])\n",
      "True\n",
      "model.0.core.layer1.0.conv1.1.bias\n",
      "torch.Size([64])\n",
      "True\n",
      "model.1.mu\n",
      "torch.Size([54, 2])\n",
      "True\n",
      "model.1.sigma\n",
      "torch.Size([54])\n",
      "True\n",
      "model.1.poisson_linear.linear.weight\n",
      "torch.Size([54, 320])\n",
      "True\n",
      "model.1.poisson_linear.linear.bias\n",
      "torch.Size([54])\n",
      "True\n",
      "  epoch 1 loss: 0.12465544596327652 corr: 0.012332993387948432\n",
      " num. neurons : 54\n",
      "  epoch 2 loss: 0.1196177595467724 corr: 0.05073651028903067\n",
      " num. neurons : 54\n",
      "  epoch 3 loss: 0.11914079276036667 corr: 0.05256499819715316\n",
      " num. neurons : 54\n",
      "  epoch 4 loss: 0.11884576394268127 corr: 0.0590014210895141\n",
      " num. neurons : 54\n",
      "  epoch 5 loss: 0.1187085795423682 corr: 0.15596740747634924\n",
      " num. neurons : 54\n",
      "  epoch 6 loss: 0.11841237333461893 corr: 0.08779729183933738\n",
      " num. neurons : 54\n",
      "  epoch 7 loss: 0.11795349869986181 corr: 0.15033357922231202\n",
      " num. neurons : 54\n",
      "  epoch 8 loss: 0.11770936214722885 corr: 0.17025360821855426\n",
      " num. neurons : 54\n",
      "  epoch 9 loss: 0.11724295040729729 corr: 0.1809034155864397\n",
      " num. neurons : 54\n",
      "  epoch 10 loss: 0.11708662487705301 corr: 0.18081484812253396\n",
      " num. neurons : 54\n",
      "  epoch 11 loss: 0.11685362185856464 corr: 0.18926346938346314\n",
      " num. neurons : 54\n",
      "  epoch 12 loss: 0.11672229172385892 corr: 0.22927000457975327\n",
      " num. neurons : 54\n",
      "  epoch 13 loss: 0.11629163124123398 corr: 0.2587363046868608\n",
      " num. neurons : 54\n",
      "  epoch 14 loss: 0.1160356865166137 corr: 0.25499639097360954\n",
      " num. neurons : 54\n",
      "  epoch 15 loss: 0.1157175080905261 corr: 0.25204040732412836\n",
      " num. neurons : 54\n",
      "  epoch 16 loss: 0.11558349854986331 corr: 0.2483447783302076\n",
      " num. neurons : 54\n",
      "  epoch 17 loss: 0.11537097070528113 corr: 0.2667947959059625\n",
      " num. neurons : 54\n",
      "  epoch 18 loss: 0.11520260657054085 corr: 0.24875173415419805\n",
      " num. neurons : 54\n",
      "  epoch 19 loss: 0.11512740185119033 corr: 0.265827217528714\n",
      " num. neurons : 54\n",
      "  epoch 20 loss: 0.11487929378871697 corr: 0.30322214927376406\n",
      " num. neurons : 54\n"
     ]
    },
    {
     "data": {
      "text/html": [
       "\n",
       "    <style>\n",
       "        .wandb-row {\n",
       "            display: flex;\n",
       "            flex-direction: row;\n",
       "            flex-wrap: wrap;\n",
       "            justify-content: flex-start;\n",
       "            width: 100%;\n",
       "        }\n",
       "        .wandb-col {\n",
       "            display: flex;\n",
       "            flex-direction: column;\n",
       "            flex-basis: 100%;\n",
       "            flex: 1;\n",
       "            padding: 10px;\n",
       "        }\n",
       "    </style>\n",
       "<div class=\"wandb-row\"><div class=\"wandb-col\"><h3>Run history:</h3><br/><table class=\"wandb\"><tr><td>corr_to_avg</td><td>▁▂▂▂▄▃▄▅▅▅▅▆▇▇▇▇▇▇▇█</td></tr><tr><td>test_loss</td><td>█▇▇▅▅▆▄▄▄▄▃▄▃▃▂▂▂▄▃▁</td></tr><tr><td>train_loss</td><td>█▄▄▄▄▄▃▃▃▃▂▂▂▂▂▂▁▁▁▁</td></tr></table><br/></div><div class=\"wandb-col\"><h3>Run summary:</h3><br/><table class=\"wandb\"><tr><td>train_loss</td><td>1.83644</td></tr></table><br/></div></div>"
      ],
      "text/plain": [
       "<IPython.core.display.HTML object>"
      ]
     },
     "metadata": {},
     "output_type": "display_data"
    },
    {
     "data": {
      "text/html": [
       " View run <strong style=\"color:#cdcd00\">eager-monkey-75</strong> at: <a href='https://wandb.ai/et22/video-cs230/runs/j8zid709' target=\"_blank\">https://wandb.ai/et22/video-cs230/runs/j8zid709</a><br/> View project at: <a href='https://wandb.ai/et22/video-cs230' target=\"_blank\">https://wandb.ai/et22/video-cs230</a><br/>Synced 5 W&B file(s), 0 media file(s), 0 artifact file(s) and 0 other file(s)"
      ],
      "text/plain": [
       "<IPython.core.display.HTML object>"
      ]
     },
     "metadata": {},
     "output_type": "display_data"
    },
    {
     "data": {
      "text/html": [
       "Find logs at: <code>./wandb/run-20241130_175434-j8zid709/logs</code>"
      ],
      "text/plain": [
       "<IPython.core.display.HTML object>"
      ]
     },
     "metadata": {},
     "output_type": "display_data"
    },
    {
     "data": {
      "text/html": [
       "Tracking run with wandb version 0.18.7"
      ],
      "text/plain": [
       "<IPython.core.display.HTML object>"
      ]
     },
     "metadata": {},
     "output_type": "display_data"
    },
    {
     "data": {
      "text/html": [
       "Run data is saved locally in <code>/src/models/cs230/wandb/run-20241130_175922-st80dfs4</code>"
      ],
      "text/plain": [
       "<IPython.core.display.HTML object>"
      ]
     },
     "metadata": {},
     "output_type": "display_data"
    },
    {
     "data": {
      "text/html": [
       "Syncing run <strong><a href='https://wandb.ai/et22/video-cs230/runs/st80dfs4' target=\"_blank\">blooming-forest-76</a></strong> to <a href='https://wandb.ai/et22/video-cs230' target=\"_blank\">Weights & Biases</a> (<a href='https://wandb.me/developer-guide' target=\"_blank\">docs</a>)<br/>"
      ],
      "text/plain": [
       "<IPython.core.display.HTML object>"
      ]
     },
     "metadata": {},
     "output_type": "display_data"
    },
    {
     "data": {
      "text/html": [
       " View project at <a href='https://wandb.ai/et22/video-cs230' target=\"_blank\">https://wandb.ai/et22/video-cs230</a>"
      ],
      "text/plain": [
       "<IPython.core.display.HTML object>"
      ]
     },
     "metadata": {},
     "output_type": "display_data"
    },
    {
     "data": {
      "text/html": [
       " View run at <a href='https://wandb.ai/et22/video-cs230/runs/st80dfs4' target=\"_blank\">https://wandb.ai/et22/video-cs230/runs/st80dfs4</a>"
      ],
      "text/plain": [
       "<IPython.core.display.HTML object>"
      ]
     },
     "metadata": {},
     "output_type": "display_data"
    },
    {
     "data": {
      "text/html": [
       "\n",
       "    <style>\n",
       "        .wandb-row {\n",
       "            display: flex;\n",
       "            flex-direction: row;\n",
       "            flex-wrap: wrap;\n",
       "            justify-content: flex-start;\n",
       "            width: 100%;\n",
       "        }\n",
       "        .wandb-col {\n",
       "            display: flex;\n",
       "            flex-direction: column;\n",
       "            flex-basis: 100%;\n",
       "            flex: 1;\n",
       "            padding: 10px;\n",
       "        }\n",
       "    </style>\n",
       "<div class=\"wandb-row\"><div class=\"wandb-col\"><h3>Run history:</h3><br/><table class=\"wandb\"><tr><td>corr</td><td>▂▅▃▄▃▂▅▅▂▆█▅▆▆▄▂▂▄▂▄▄▇▄▇▇▅▃▅▇▂▁▇▇▅▄▄▆▄▆▅</td></tr></table><br/></div><div class=\"wandb-col\"><h3>Run summary:</h3><br/><table class=\"wandb\"><tr><td>corr</td><td>0.40119</td></tr></table><br/></div></div>"
      ],
      "text/plain": [
       "<IPython.core.display.HTML object>"
      ]
     },
     "metadata": {},
     "output_type": "display_data"
    },
    {
     "data": {
      "text/html": [
       " View run <strong style=\"color:#cdcd00\">blooming-forest-76</strong> at: <a href='https://wandb.ai/et22/video-cs230/runs/st80dfs4' target=\"_blank\">https://wandb.ai/et22/video-cs230/runs/st80dfs4</a><br/> View project at: <a href='https://wandb.ai/et22/video-cs230' target=\"_blank\">https://wandb.ai/et22/video-cs230</a><br/>Synced 5 W&B file(s), 0 media file(s), 0 artifact file(s) and 0 other file(s)"
      ],
      "text/plain": [
       "<IPython.core.display.HTML object>"
      ]
     },
     "metadata": {},
     "output_type": "display_data"
    },
    {
     "data": {
      "text/html": [
       "Find logs at: <code>./wandb/run-20241130_175922-st80dfs4/logs</code>"
      ],
      "text/plain": [
       "<IPython.core.display.HTML object>"
      ]
     },
     "metadata": {},
     "output_type": "display_data"
    },
    {
     "name": "stdout",
     "output_type": "stream",
     "text": [
      "100\n"
     ]
    },
    {
     "data": {
      "text/html": [
       "Tracking run with wandb version 0.18.7"
      ],
      "text/plain": [
       "<IPython.core.display.HTML object>"
      ]
     },
     "metadata": {},
     "output_type": "display_data"
    },
    {
     "data": {
      "text/html": [
       "Run data is saved locally in <code>/src/models/cs230/wandb/run-20241130_175925-f6kox52g</code>"
      ],
      "text/plain": [
       "<IPython.core.display.HTML object>"
      ]
     },
     "metadata": {},
     "output_type": "display_data"
    },
    {
     "data": {
      "text/html": [
       "Syncing run <strong><a href='https://wandb.ai/et22/video-cs230/runs/f6kox52g' target=\"_blank\">fallen-terrain-77</a></strong> to <a href='https://wandb.ai/et22/video-cs230' target=\"_blank\">Weights & Biases</a> (<a href='https://wandb.me/developer-guide' target=\"_blank\">docs</a>)<br/>"
      ],
      "text/plain": [
       "<IPython.core.display.HTML object>"
      ]
     },
     "metadata": {},
     "output_type": "display_data"
    },
    {
     "data": {
      "text/html": [
       " View project at <a href='https://wandb.ai/et22/video-cs230' target=\"_blank\">https://wandb.ai/et22/video-cs230</a>"
      ],
      "text/plain": [
       "<IPython.core.display.HTML object>"
      ]
     },
     "metadata": {},
     "output_type": "display_data"
    },
    {
     "data": {
      "text/html": [
       " View run at <a href='https://wandb.ai/et22/video-cs230/runs/f6kox52g' target=\"_blank\">https://wandb.ai/et22/video-cs230/runs/f6kox52g</a>"
      ],
      "text/plain": [
       "<IPython.core.display.HTML object>"
      ]
     },
     "metadata": {},
     "output_type": "display_data"
    },
    {
     "name": "stdout",
     "output_type": "stream",
     "text": [
      "readout input shape: 15360\n",
      "model.1.linear.weight\n",
      "torch.Size([54, 15360])\n",
      "True\n",
      "model.1.linear.bias\n",
      "torch.Size([54])\n",
      "True\n",
      "  epoch 1 loss: 0.14995239870047863 corr: -0.0038529157763796456\n",
      " num. neurons : 54\n",
      "  epoch 2 loss: 0.1474048912378005 corr: -0.05671359284674722\n",
      " num. neurons : 54\n",
      "  epoch 3 loss: 0.14456361252584576 corr: -0.006050159369621809\n",
      " num. neurons : 54\n",
      "  epoch 4 loss: 0.14093821184134778 corr: 0.004737145754248771\n",
      " num. neurons : 54\n",
      "  epoch 5 loss: 0.13896327324855476 corr: -0.00853658614774139\n",
      " num. neurons : 54\n",
      "  epoch 6 loss: 0.13811771116138977 corr: -0.005399715796069087\n",
      " num. neurons : 54\n",
      "  epoch 7 loss: 0.13568587785885658 corr: 0.0025135657519691416\n",
      " num. neurons : 54\n",
      "  epoch 8 loss: 0.13338802190474522 corr: -0.011734927959059768\n",
      " num. neurons : 54\n",
      "  epoch 9 loss: 0.13229606498906643 corr: -0.00608360599346543\n",
      " num. neurons : 54\n",
      "  epoch 10 loss: 0.13045316372388674 corr: 0.03292582675118912\n",
      " num. neurons : 54\n",
      "  epoch 11 loss: 0.13021904209513724 corr: -0.004803498739881233\n",
      " num. neurons : 54\n",
      "  epoch 12 loss: 0.12814783661453813 corr: 0.016333798443535368\n",
      " num. neurons : 54\n",
      "  epoch 13 loss: 0.12722021409022954 corr: 0.0008256282553525619\n",
      " num. neurons : 54\n",
      "  epoch 14 loss: 0.12699702027403278 corr: 0.009085790623737487\n",
      " num. neurons : 54\n",
      "  epoch 15 loss: 0.12653350359127846 corr: 0.008316662659168321\n",
      " num. neurons : 54\n",
      "  epoch 16 loss: 0.1242277130668546 corr: 0.029639353084735066\n",
      " num. neurons : 54\n",
      "  epoch 17 loss: 0.12532029899550073 corr: 0.010522517688099612\n",
      " num. neurons : 54\n",
      "  epoch 18 loss: 0.12328008745923455 corr: -0.01662459853662062\n",
      " num. neurons : 54\n",
      "  epoch 19 loss: 0.12319048387032969 corr: 0.027239357331146463\n",
      " num. neurons : 54\n",
      "  epoch 20 loss: 0.12249953152220926 corr: 0.039800773542439556\n",
      " num. neurons : 54\n"
     ]
    },
    {
     "data": {
      "text/html": [
       "\n",
       "    <style>\n",
       "        .wandb-row {\n",
       "            display: flex;\n",
       "            flex-direction: row;\n",
       "            flex-wrap: wrap;\n",
       "            justify-content: flex-start;\n",
       "            width: 100%;\n",
       "        }\n",
       "        .wandb-col {\n",
       "            display: flex;\n",
       "            flex-direction: column;\n",
       "            flex-basis: 100%;\n",
       "            flex: 1;\n",
       "            padding: 10px;\n",
       "        }\n",
       "    </style>\n",
       "<div class=\"wandb-row\"><div class=\"wandb-col\"><h3>Run history:</h3><br/><table class=\"wandb\"><tr><td>corr_to_avg</td><td>▅▁▅▅▄▅▅▄▅█▅▆▅▆▆▇▆▄▇█</td></tr><tr><td>test_loss</td><td>██▇▅▅▄▅▄▄▃▂▂▂▂▂▂▂▁▁▁</td></tr><tr><td>train_loss</td><td>█▇▇▆▅▅▄▄▃▃▃▂▂▂▂▁▂▁▁▁</td></tr></table><br/></div><div class=\"wandb-col\"><h3>Run summary:</h3><br/><table class=\"wandb\"><tr><td>train_loss</td><td>1.95324</td></tr></table><br/></div></div>"
      ],
      "text/plain": [
       "<IPython.core.display.HTML object>"
      ]
     },
     "metadata": {},
     "output_type": "display_data"
    },
    {
     "data": {
      "text/html": [
       " View run <strong style=\"color:#cdcd00\">fallen-terrain-77</strong> at: <a href='https://wandb.ai/et22/video-cs230/runs/f6kox52g' target=\"_blank\">https://wandb.ai/et22/video-cs230/runs/f6kox52g</a><br/> View project at: <a href='https://wandb.ai/et22/video-cs230' target=\"_blank\">https://wandb.ai/et22/video-cs230</a><br/>Synced 5 W&B file(s), 0 media file(s), 0 artifact file(s) and 0 other file(s)"
      ],
      "text/plain": [
       "<IPython.core.display.HTML object>"
      ]
     },
     "metadata": {},
     "output_type": "display_data"
    },
    {
     "data": {
      "text/html": [
       "Find logs at: <code>./wandb/run-20241130_175925-f6kox52g/logs</code>"
      ],
      "text/plain": [
       "<IPython.core.display.HTML object>"
      ]
     },
     "metadata": {},
     "output_type": "display_data"
    },
    {
     "data": {
      "text/html": [
       "Tracking run with wandb version 0.18.7"
      ],
      "text/plain": [
       "<IPython.core.display.HTML object>"
      ]
     },
     "metadata": {},
     "output_type": "display_data"
    },
    {
     "data": {
      "text/html": [
       "Run data is saved locally in <code>/src/models/cs230/wandb/run-20241130_180327-yo40sklj</code>"
      ],
      "text/plain": [
       "<IPython.core.display.HTML object>"
      ]
     },
     "metadata": {},
     "output_type": "display_data"
    },
    {
     "data": {
      "text/html": [
       "Syncing run <strong><a href='https://wandb.ai/et22/video-cs230/runs/yo40sklj' target=\"_blank\">upbeat-thunder-78</a></strong> to <a href='https://wandb.ai/et22/video-cs230' target=\"_blank\">Weights & Biases</a> (<a href='https://wandb.me/developer-guide' target=\"_blank\">docs</a>)<br/>"
      ],
      "text/plain": [
       "<IPython.core.display.HTML object>"
      ]
     },
     "metadata": {},
     "output_type": "display_data"
    },
    {
     "data": {
      "text/html": [
       " View project at <a href='https://wandb.ai/et22/video-cs230' target=\"_blank\">https://wandb.ai/et22/video-cs230</a>"
      ],
      "text/plain": [
       "<IPython.core.display.HTML object>"
      ]
     },
     "metadata": {},
     "output_type": "display_data"
    },
    {
     "data": {
      "text/html": [
       " View run at <a href='https://wandb.ai/et22/video-cs230/runs/yo40sklj' target=\"_blank\">https://wandb.ai/et22/video-cs230/runs/yo40sklj</a>"
      ],
      "text/plain": [
       "<IPython.core.display.HTML object>"
      ]
     },
     "metadata": {},
     "output_type": "display_data"
    },
    {
     "name": "stdout",
     "output_type": "stream",
     "text": [
      "readout input shape: 15360\n",
      "model.1.linear.weight\n",
      "torch.Size([95, 15360])\n",
      "True\n",
      "model.1.linear.bias\n",
      "torch.Size([95])\n",
      "True\n",
      "  epoch 1 loss: 0.1360421685648214 corr: 0.018646517129874102\n",
      " num. neurons : 95\n",
      "  epoch 2 loss: 0.13247152666770975 corr: 0.004803005988310479\n",
      " num. neurons : 95\n",
      "  epoch 3 loss: 0.12975116574951492 corr: 0.03455693755503983\n",
      " num. neurons : 95\n",
      "  epoch 4 loss: 0.1272927403450012 corr: 0.011582845075603119\n",
      " num. neurons : 95\n",
      "  epoch 5 loss: 0.1255346815623538 corr: 0.037274761375642756\n",
      " num. neurons : 95\n",
      "  epoch 6 loss: 0.12401995721287752 corr: -0.0024397353897709973\n",
      " num. neurons : 95\n",
      "  epoch 7 loss: 0.12262563330964893 corr: 0.0495670665116475\n",
      " num. neurons : 95\n",
      "  epoch 8 loss: 0.12117280105021612 corr: 0.038864721137023876\n",
      " num. neurons : 95\n",
      "  epoch 9 loss: 0.12044504281738042 corr: 0.031562478900961664\n",
      " num. neurons : 95\n",
      "  epoch 10 loss: 0.11966460749741 corr: 0.036550479648757184\n",
      " num. neurons : 95\n",
      "  epoch 11 loss: 0.11815509047183691 corr: -0.010302736096494514\n",
      " num. neurons : 95\n",
      "  epoch 12 loss: 0.11841890094167899 corr: -0.005856401075906762\n",
      " num. neurons : 95\n",
      "  epoch 13 loss: 0.11722282564452806 corr: -0.004405795795842348\n",
      " num. neurons : 95\n",
      "  epoch 14 loss: 0.11667665904729155 corr: 0.03205255013036987\n",
      " num. neurons : 95\n",
      "  epoch 15 loss: 0.11639590544226282 corr: 0.0203929242076254\n",
      " num. neurons : 95\n",
      "  epoch 16 loss: 0.11558492707956523 corr: 0.03395251104573123\n",
      " num. neurons : 95\n",
      "  epoch 17 loss: 0.115590160492203 corr: 0.030006822748337283\n",
      " num. neurons : 95\n",
      "  epoch 18 loss: 0.11485462251133943 corr: 0.02221393824780996\n",
      " num. neurons : 95\n",
      "  epoch 19 loss: 0.11456707435128577 corr: -0.06206291032253368\n",
      " num. neurons : 95\n",
      "  epoch 20 loss: 0.11431846949442519 corr: 0.06958956908528709\n",
      " num. neurons : 95\n"
     ]
    },
    {
     "data": {
      "text/html": [
       "\n",
       "    <style>\n",
       "        .wandb-row {\n",
       "            display: flex;\n",
       "            flex-direction: row;\n",
       "            flex-wrap: wrap;\n",
       "            justify-content: flex-start;\n",
       "            width: 100%;\n",
       "        }\n",
       "        .wandb-col {\n",
       "            display: flex;\n",
       "            flex-direction: column;\n",
       "            flex-basis: 100%;\n",
       "            flex: 1;\n",
       "            padding: 10px;\n",
       "        }\n",
       "    </style>\n",
       "<div class=\"wandb-row\"><div class=\"wandb-col\"><h3>Run history:</h3><br/><table class=\"wandb\"><tr><td>corr_to_avg</td><td>▅▅▆▅▆▄▇▆▆▆▄▄▄▆▅▆▆▅▁█</td></tr><tr><td>test_loss</td><td>█▇▇▆▅▄▆▄▅▃▅▃▃▁▁▁▂▁▂▁</td></tr><tr><td>train_loss</td><td>█▇▆▅▅▄▄▃▃▃▂▂▂▂▂▁▁▁▁▁</td></tr></table><br/></div><div class=\"wandb-col\"><h3>Run summary:</h3><br/><table class=\"wandb\"><tr><td>train_loss</td><td>1.81957</td></tr></table><br/></div></div>"
      ],
      "text/plain": [
       "<IPython.core.display.HTML object>"
      ]
     },
     "metadata": {},
     "output_type": "display_data"
    },
    {
     "data": {
      "text/html": [
       " View run <strong style=\"color:#cdcd00\">upbeat-thunder-78</strong> at: <a href='https://wandb.ai/et22/video-cs230/runs/yo40sklj' target=\"_blank\">https://wandb.ai/et22/video-cs230/runs/yo40sklj</a><br/> View project at: <a href='https://wandb.ai/et22/video-cs230' target=\"_blank\">https://wandb.ai/et22/video-cs230</a><br/>Synced 5 W&B file(s), 0 media file(s), 0 artifact file(s) and 0 other file(s)"
      ],
      "text/plain": [
       "<IPython.core.display.HTML object>"
      ]
     },
     "metadata": {},
     "output_type": "display_data"
    },
    {
     "data": {
      "text/html": [
       "Find logs at: <code>./wandb/run-20241130_180327-yo40sklj/logs</code>"
      ],
      "text/plain": [
       "<IPython.core.display.HTML object>"
      ]
     },
     "metadata": {},
     "output_type": "display_data"
    },
    {
     "data": {
      "text/html": [
       "Tracking run with wandb version 0.18.7"
      ],
      "text/plain": [
       "<IPython.core.display.HTML object>"
      ]
     },
     "metadata": {},
     "output_type": "display_data"
    },
    {
     "data": {
      "text/html": [
       "Run data is saved locally in <code>/src/models/cs230/wandb/run-20241130_180726-cbsqmypu</code>"
      ],
      "text/plain": [
       "<IPython.core.display.HTML object>"
      ]
     },
     "metadata": {},
     "output_type": "display_data"
    },
    {
     "data": {
      "text/html": [
       "Syncing run <strong><a href='https://wandb.ai/et22/video-cs230/runs/cbsqmypu' target=\"_blank\">absurd-waterfall-79</a></strong> to <a href='https://wandb.ai/et22/video-cs230' target=\"_blank\">Weights & Biases</a> (<a href='https://wandb.me/developer-guide' target=\"_blank\">docs</a>)<br/>"
      ],
      "text/plain": [
       "<IPython.core.display.HTML object>"
      ]
     },
     "metadata": {},
     "output_type": "display_data"
    },
    {
     "data": {
      "text/html": [
       " View project at <a href='https://wandb.ai/et22/video-cs230' target=\"_blank\">https://wandb.ai/et22/video-cs230</a>"
      ],
      "text/plain": [
       "<IPython.core.display.HTML object>"
      ]
     },
     "metadata": {},
     "output_type": "display_data"
    },
    {
     "data": {
      "text/html": [
       " View run at <a href='https://wandb.ai/et22/video-cs230/runs/cbsqmypu' target=\"_blank\">https://wandb.ai/et22/video-cs230/runs/cbsqmypu</a>"
      ],
      "text/plain": [
       "<IPython.core.display.HTML object>"
      ]
     },
     "metadata": {},
     "output_type": "display_data"
    },
    {
     "name": "stdout",
     "output_type": "stream",
     "text": [
      "readout input shape: 15360\n",
      "model.1.linear.weight\n",
      "torch.Size([54, 15360])\n",
      "True\n",
      "model.1.linear.bias\n",
      "torch.Size([54])\n",
      "True\n",
      "  epoch 1 loss: 0.1735950998214884 corr: 0.008377857280703456\n",
      " num. neurons : 54\n",
      "  epoch 2 loss: 0.17024380894181151 corr: 0.038091137461167976\n",
      " num. neurons : 54\n",
      "  epoch 3 loss: 0.16686548590131217 corr: 0.02248357195822742\n",
      " num. neurons : 54\n",
      "  epoch 4 loss: 0.16317124988721765 corr: 0.007676881169460737\n",
      " num. neurons : 54\n",
      "  epoch 5 loss: 0.16301541584407533 corr: 0.009644988463717044\n",
      " num. neurons : 54\n",
      "  epoch 6 loss: 0.15681496476746282 corr: 0.009088872192952645\n",
      " num. neurons : 54\n",
      "  epoch 7 loss: 0.15402935623805292 corr: 0.04721592851534323\n",
      " num. neurons : 54\n",
      "  epoch 8 loss: 0.15326492883721177 corr: 0.002285645323471782\n",
      " num. neurons : 54\n",
      "  epoch 9 loss: 0.15154677655914767 corr: -0.04276835105069057\n",
      " num. neurons : 54\n",
      "  epoch 10 loss: 0.14810500440072885 corr: -0.025313869636037406\n",
      " num. neurons : 54\n",
      "  epoch 11 loss: 0.14597644505505025 corr: 0.011378135394074418\n",
      " num. neurons : 54\n",
      "  epoch 12 loss: 0.1447880003657506 corr: 0.005486250127387511\n",
      " num. neurons : 54\n",
      "  epoch 13 loss: 0.1423553372762218 corr: -0.013580301370948069\n",
      " num. neurons : 54\n",
      "  epoch 14 loss: 0.1417664210671541 corr: 0.020397100188045334\n",
      " num. neurons : 54\n",
      "  epoch 15 loss: 0.1415638680360755 corr: 0.05049467518959179\n",
      " num. neurons : 54\n",
      "  epoch 16 loss: 0.14015991548150647 corr: -0.022462388202784164\n",
      " num. neurons : 54\n",
      "  epoch 17 loss: 0.1402562647767054 corr: 0.055813179546941885\n",
      " num. neurons : 54\n",
      "  epoch 18 loss: 0.1383446377785521 corr: 0.005900917947545777\n",
      " num. neurons : 54\n",
      "  epoch 19 loss: 0.13742211426690076 corr: 0.007365798863654972\n",
      " num. neurons : 54\n",
      "  epoch 20 loss: 0.13609375182568975 corr: 0.029420684325325405\n",
      " num. neurons : 54\n"
     ]
    },
    {
     "data": {
      "text/html": [
       "\n",
       "    <style>\n",
       "        .wandb-row {\n",
       "            display: flex;\n",
       "            flex-direction: row;\n",
       "            flex-wrap: wrap;\n",
       "            justify-content: flex-start;\n",
       "            width: 100%;\n",
       "        }\n",
       "        .wandb-col {\n",
       "            display: flex;\n",
       "            flex-direction: column;\n",
       "            flex-basis: 100%;\n",
       "            flex: 1;\n",
       "            padding: 10px;\n",
       "        }\n",
       "    </style>\n",
       "<div class=\"wandb-row\"><div class=\"wandb-col\"><h3>Run history:</h3><br/><table class=\"wandb\"><tr><td>corr_to_avg</td><td>▅▇▆▅▅▅▇▄▁▂▅▄▃▅█▂█▄▅▆</td></tr><tr><td>test_loss</td><td>▇▇▇█▇▃▄▄▄▃▃▂▂▂▁▂▁▂▂▁</td></tr><tr><td>train_loss</td><td>█▇▇▆▆▅▄▄▄▃▃▃▂▂▂▂▂▁▁▁</td></tr></table><br/></div><div class=\"wandb-col\"><h3>Run summary:</h3><br/><table class=\"wandb\"><tr><td>train_loss</td><td>2.17557</td></tr></table><br/></div></div>"
      ],
      "text/plain": [
       "<IPython.core.display.HTML object>"
      ]
     },
     "metadata": {},
     "output_type": "display_data"
    },
    {
     "data": {
      "text/html": [
       " View run <strong style=\"color:#cdcd00\">absurd-waterfall-79</strong> at: <a href='https://wandb.ai/et22/video-cs230/runs/cbsqmypu' target=\"_blank\">https://wandb.ai/et22/video-cs230/runs/cbsqmypu</a><br/> View project at: <a href='https://wandb.ai/et22/video-cs230' target=\"_blank\">https://wandb.ai/et22/video-cs230</a><br/>Synced 5 W&B file(s), 0 media file(s), 0 artifact file(s) and 0 other file(s)"
      ],
      "text/plain": [
       "<IPython.core.display.HTML object>"
      ]
     },
     "metadata": {},
     "output_type": "display_data"
    },
    {
     "data": {
      "text/html": [
       "Find logs at: <code>./wandb/run-20241130_180726-cbsqmypu/logs</code>"
      ],
      "text/plain": [
       "<IPython.core.display.HTML object>"
      ]
     },
     "metadata": {},
     "output_type": "display_data"
    },
    {
     "data": {
      "text/html": [
       "Tracking run with wandb version 0.18.7"
      ],
      "text/plain": [
       "<IPython.core.display.HTML object>"
      ]
     },
     "metadata": {},
     "output_type": "display_data"
    },
    {
     "data": {
      "text/html": [
       "Run data is saved locally in <code>/src/models/cs230/wandb/run-20241130_181213-am061coo</code>"
      ],
      "text/plain": [
       "<IPython.core.display.HTML object>"
      ]
     },
     "metadata": {},
     "output_type": "display_data"
    },
    {
     "data": {
      "text/html": [
       "Syncing run <strong><a href='https://wandb.ai/et22/video-cs230/runs/am061coo' target=\"_blank\">laced-wildflower-80</a></strong> to <a href='https://wandb.ai/et22/video-cs230' target=\"_blank\">Weights & Biases</a> (<a href='https://wandb.me/developer-guide' target=\"_blank\">docs</a>)<br/>"
      ],
      "text/plain": [
       "<IPython.core.display.HTML object>"
      ]
     },
     "metadata": {},
     "output_type": "display_data"
    },
    {
     "data": {
      "text/html": [
       " View project at <a href='https://wandb.ai/et22/video-cs230' target=\"_blank\">https://wandb.ai/et22/video-cs230</a>"
      ],
      "text/plain": [
       "<IPython.core.display.HTML object>"
      ]
     },
     "metadata": {},
     "output_type": "display_data"
    },
    {
     "data": {
      "text/html": [
       " View run at <a href='https://wandb.ai/et22/video-cs230/runs/am061coo' target=\"_blank\">https://wandb.ai/et22/video-cs230/runs/am061coo</a>"
      ],
      "text/plain": [
       "<IPython.core.display.HTML object>"
      ]
     },
     "metadata": {},
     "output_type": "display_data"
    },
    {
     "data": {
      "text/html": [
       "\n",
       "    <style>\n",
       "        .wandb-row {\n",
       "            display: flex;\n",
       "            flex-direction: row;\n",
       "            flex-wrap: wrap;\n",
       "            justify-content: flex-start;\n",
       "            width: 100%;\n",
       "        }\n",
       "        .wandb-col {\n",
       "            display: flex;\n",
       "            flex-direction: column;\n",
       "            flex-basis: 100%;\n",
       "            flex: 1;\n",
       "            padding: 10px;\n",
       "        }\n",
       "    </style>\n",
       "<div class=\"wandb-row\"><div class=\"wandb-col\"><h3>Run history:</h3><br/><table class=\"wandb\"><tr><td>corr</td><td>▁▂▃▆▄▄▅▆▅▂▇▅▂▃▅▇▆▄▆▄▅▅▃▃▂▂▅▄▆▆▆▂▆█▆▄▄▄▅▅</td></tr></table><br/></div><div class=\"wandb-col\"><h3>Run summary:</h3><br/><table class=\"wandb\"><tr><td>corr</td><td>-0.09925</td></tr></table><br/></div></div>"
      ],
      "text/plain": [
       "<IPython.core.display.HTML object>"
      ]
     },
     "metadata": {},
     "output_type": "display_data"
    },
    {
     "data": {
      "text/html": [
       " View run <strong style=\"color:#cdcd00\">laced-wildflower-80</strong> at: <a href='https://wandb.ai/et22/video-cs230/runs/am061coo' target=\"_blank\">https://wandb.ai/et22/video-cs230/runs/am061coo</a><br/> View project at: <a href='https://wandb.ai/et22/video-cs230' target=\"_blank\">https://wandb.ai/et22/video-cs230</a><br/>Synced 5 W&B file(s), 0 media file(s), 0 artifact file(s) and 0 other file(s)"
      ],
      "text/plain": [
       "<IPython.core.display.HTML object>"
      ]
     },
     "metadata": {},
     "output_type": "display_data"
    },
    {
     "data": {
      "text/html": [
       "Find logs at: <code>./wandb/run-20241130_181213-am061coo/logs</code>"
      ],
      "text/plain": [
       "<IPython.core.display.HTML object>"
      ]
     },
     "metadata": {},
     "output_type": "display_data"
    },
    {
     "name": "stdout",
     "output_type": "stream",
     "text": [
      "layer: layer2\n",
      "0\n"
     ]
    },
    {
     "data": {
      "text/html": [
       "Tracking run with wandb version 0.18.7"
      ],
      "text/plain": [
       "<IPython.core.display.HTML object>"
      ]
     },
     "metadata": {},
     "output_type": "display_data"
    },
    {
     "data": {
      "text/html": [
       "Run data is saved locally in <code>/src/models/cs230/wandb/run-20241130_181216-l7rpivw7</code>"
      ],
      "text/plain": [
       "<IPython.core.display.HTML object>"
      ]
     },
     "metadata": {},
     "output_type": "display_data"
    },
    {
     "data": {
      "text/html": [
       "Syncing run <strong><a href='https://wandb.ai/et22/video-cs230/runs/l7rpivw7' target=\"_blank\">dulcet-rain-81</a></strong> to <a href='https://wandb.ai/et22/video-cs230' target=\"_blank\">Weights & Biases</a> (<a href='https://wandb.me/developer-guide' target=\"_blank\">docs</a>)<br/>"
      ],
      "text/plain": [
       "<IPython.core.display.HTML object>"
      ]
     },
     "metadata": {},
     "output_type": "display_data"
    },
    {
     "data": {
      "text/html": [
       " View project at <a href='https://wandb.ai/et22/video-cs230' target=\"_blank\">https://wandb.ai/et22/video-cs230</a>"
      ],
      "text/plain": [
       "<IPython.core.display.HTML object>"
      ]
     },
     "metadata": {},
     "output_type": "display_data"
    },
    {
     "data": {
      "text/html": [
       " View run at <a href='https://wandb.ai/et22/video-cs230/runs/l7rpivw7' target=\"_blank\">https://wandb.ai/et22/video-cs230/runs/l7rpivw7</a>"
      ],
      "text/plain": [
       "<IPython.core.display.HTML object>"
      ]
     },
     "metadata": {},
     "output_type": "display_data"
    },
    {
     "name": "stdout",
     "output_type": "stream",
     "text": [
      "readout input shape: 384\n",
      "model.0.stim\n",
      "torch.Size([1, 3, 5, 32, 32])\n",
      "True\n",
      "model.0.core.stem.0.weight\n",
      "torch.Size([64, 3, 3, 7, 7])\n",
      "False\n",
      "model.0.core.stem.1.weight\n",
      "torch.Size([64])\n",
      "False\n",
      "model.0.core.stem.1.bias\n",
      "torch.Size([64])\n",
      "False\n",
      "model.0.core.layer1.0.conv1.0.weight\n",
      "torch.Size([64, 64, 3, 3, 3])\n",
      "False\n",
      "model.0.core.layer1.0.conv1.1.weight\n",
      "torch.Size([64])\n",
      "False\n",
      "model.0.core.layer1.0.conv1.1.bias\n",
      "torch.Size([64])\n",
      "False\n",
      "model.0.core.layer1.0.conv2.0.weight\n",
      "torch.Size([64, 64, 3, 3, 3])\n",
      "False\n",
      "model.0.core.layer1.0.conv2.1.weight\n",
      "torch.Size([64])\n",
      "False\n",
      "model.0.core.layer1.0.conv2.1.bias\n",
      "torch.Size([64])\n",
      "False\n",
      "model.0.core.layer1.1.conv1.0.weight\n",
      "torch.Size([64, 64, 3, 3, 3])\n",
      "False\n",
      "model.0.core.layer1.1.conv1.1.weight\n",
      "torch.Size([64])\n",
      "False\n",
      "model.0.core.layer1.1.conv1.1.bias\n",
      "torch.Size([64])\n",
      "False\n",
      "model.0.core.layer1.1.conv2.0.weight\n",
      "torch.Size([64, 64, 3, 3, 3])\n",
      "False\n",
      "model.0.core.layer1.1.conv2.1.weight\n",
      "torch.Size([64])\n",
      "False\n",
      "model.0.core.layer1.1.conv2.1.bias\n",
      "torch.Size([64])\n",
      "False\n",
      "model.0.core.layer2.0.conv1.0.weight\n",
      "torch.Size([128, 64, 3, 3, 3])\n",
      "False\n",
      "model.0.core.layer2.0.conv1.1.weight\n",
      "torch.Size([128])\n",
      "False\n",
      "model.0.core.layer2.0.conv1.1.bias\n",
      "torch.Size([128])\n",
      "False\n",
      "model.1.mu\n",
      "torch.Size([54, 2])\n",
      "True\n",
      "model.1.sigma\n",
      "torch.Size([54])\n",
      "True\n",
      "model.1.poisson_linear.linear.weight\n",
      "torch.Size([54, 384])\n",
      "True\n",
      "model.1.poisson_linear.linear.bias\n",
      "torch.Size([54])\n",
      "True\n",
      "  epoch 1 loss: 0.11627613927111213 corr: 0.1717882162749436\n",
      " num. neurons : 54\n",
      "  epoch 2 loss: 0.1092704094780816 corr: 0.2531717619883521\n",
      " num. neurons : 54\n",
      "  epoch 3 loss: 0.10821722654648769 corr: 0.31252087233815445\n",
      " num. neurons : 54\n",
      "  epoch 4 loss: 0.10745361398767542 corr: 0.27178764790584475\n",
      " num. neurons : 54\n",
      "  epoch 5 loss: 0.1068849170943837 corr: 0.33185857923325596\n",
      " num. neurons : 54\n",
      "  epoch 6 loss: 0.10632838384604748 corr: 0.37307486656123434\n",
      " num. neurons : 54\n",
      "  epoch 7 loss: 0.10604619167469166 corr: 0.3789711931553505\n",
      " num. neurons : 54\n",
      "  epoch 8 loss: 0.10568418850133449 corr: 0.39078265110749344\n",
      " num. neurons : 54\n",
      "  epoch 9 loss: 0.1054506594457744 corr: 0.40958865419081886\n",
      " num. neurons : 54\n",
      "  epoch 10 loss: 0.10520266232667146 corr: 0.4079379987584308\n",
      " num. neurons : 54\n",
      "  epoch 11 loss: 0.10496927914796052 corr: 0.4161810350914062\n",
      " num. neurons : 54\n",
      "  epoch 12 loss: 0.10478344204985066 corr: 0.42308081352982174\n",
      " num. neurons : 54\n",
      "  epoch 13 loss: 0.10468369507495268 corr: 0.4259540982036371\n",
      " num. neurons : 54\n",
      "  epoch 14 loss: 0.10446020744465015 corr: 0.4366585598240022\n",
      " num. neurons : 54\n",
      "  epoch 15 loss: 0.1043161517602426 corr: 0.4397197455600901\n",
      " num. neurons : 54\n",
      "  epoch 16 loss: 0.10415676111056481 corr: 0.4392865417171946\n",
      " num. neurons : 54\n",
      "  epoch 17 loss: 0.10409376762531422 corr: 0.4443709895898287\n",
      " num. neurons : 54\n",
      "  epoch 18 loss: 0.10399095676563404 corr: 0.44271177925350547\n",
      " num. neurons : 54\n",
      "  epoch 19 loss: 0.10385949128939782 corr: 0.4435707838238142\n",
      " num. neurons : 54\n",
      "  epoch 20 loss: 0.10377665572696262 corr: 0.44894491969116845\n",
      " num. neurons : 54\n"
     ]
    },
    {
     "data": {
      "text/html": [
       "\n",
       "    <style>\n",
       "        .wandb-row {\n",
       "            display: flex;\n",
       "            flex-direction: row;\n",
       "            flex-wrap: wrap;\n",
       "            justify-content: flex-start;\n",
       "            width: 100%;\n",
       "        }\n",
       "        .wandb-col {\n",
       "            display: flex;\n",
       "            flex-direction: column;\n",
       "            flex-basis: 100%;\n",
       "            flex: 1;\n",
       "            padding: 10px;\n",
       "        }\n",
       "    </style>\n",
       "<div class=\"wandb-row\"><div class=\"wandb-col\"><h3>Run history:</h3><br/><table class=\"wandb\"><tr><td>corr_to_avg</td><td>▁▃▅▄▅▆▆▇▇▇▇▇▇███████</td></tr><tr><td>test_loss</td><td>█▆▅▅▄▃▄▃▂▂▂▂▂▂▂▂▁▁▁▂</td></tr><tr><td>train_loss</td><td>█▄▃▃▃▂▂▂▂▂▂▂▂▁▁▁▁▁▁▁</td></tr></table><br/></div><div class=\"wandb-col\"><h3>Run summary:</h3><br/><table class=\"wandb\"><tr><td>train_loss</td><td>1.65471</td></tr></table><br/></div></div>"
      ],
      "text/plain": [
       "<IPython.core.display.HTML object>"
      ]
     },
     "metadata": {},
     "output_type": "display_data"
    },
    {
     "data": {
      "text/html": [
       " View run <strong style=\"color:#cdcd00\">dulcet-rain-81</strong> at: <a href='https://wandb.ai/et22/video-cs230/runs/l7rpivw7' target=\"_blank\">https://wandb.ai/et22/video-cs230/runs/l7rpivw7</a><br/> View project at: <a href='https://wandb.ai/et22/video-cs230' target=\"_blank\">https://wandb.ai/et22/video-cs230</a><br/>Synced 5 W&B file(s), 0 media file(s), 0 artifact file(s) and 0 other file(s)"
      ],
      "text/plain": [
       "<IPython.core.display.HTML object>"
      ]
     },
     "metadata": {},
     "output_type": "display_data"
    },
    {
     "data": {
      "text/html": [
       "Find logs at: <code>./wandb/run-20241130_181216-l7rpivw7/logs</code>"
      ],
      "text/plain": [
       "<IPython.core.display.HTML object>"
      ]
     },
     "metadata": {},
     "output_type": "display_data"
    },
    {
     "data": {
      "text/html": [
       "Tracking run with wandb version 0.18.7"
      ],
      "text/plain": [
       "<IPython.core.display.HTML object>"
      ]
     },
     "metadata": {},
     "output_type": "display_data"
    },
    {
     "data": {
      "text/html": [
       "Run data is saved locally in <code>/src/models/cs230/wandb/run-20241130_181621-h8zfj5rt</code>"
      ],
      "text/plain": [
       "<IPython.core.display.HTML object>"
      ]
     },
     "metadata": {},
     "output_type": "display_data"
    },
    {
     "data": {
      "text/html": [
       "Syncing run <strong><a href='https://wandb.ai/et22/video-cs230/runs/h8zfj5rt' target=\"_blank\">fallen-morning-82</a></strong> to <a href='https://wandb.ai/et22/video-cs230' target=\"_blank\">Weights & Biases</a> (<a href='https://wandb.me/developer-guide' target=\"_blank\">docs</a>)<br/>"
      ],
      "text/plain": [
       "<IPython.core.display.HTML object>"
      ]
     },
     "metadata": {},
     "output_type": "display_data"
    },
    {
     "data": {
      "text/html": [
       " View project at <a href='https://wandb.ai/et22/video-cs230' target=\"_blank\">https://wandb.ai/et22/video-cs230</a>"
      ],
      "text/plain": [
       "<IPython.core.display.HTML object>"
      ]
     },
     "metadata": {},
     "output_type": "display_data"
    },
    {
     "data": {
      "text/html": [
       " View run at <a href='https://wandb.ai/et22/video-cs230/runs/h8zfj5rt' target=\"_blank\">https://wandb.ai/et22/video-cs230/runs/h8zfj5rt</a>"
      ],
      "text/plain": [
       "<IPython.core.display.HTML object>"
      ]
     },
     "metadata": {},
     "output_type": "display_data"
    },
    {
     "name": "stdout",
     "output_type": "stream",
     "text": [
      "readout input shape: 384\n",
      "model.0.stim\n",
      "torch.Size([1, 3, 5, 32, 32])\n",
      "True\n",
      "model.0.core.stem.0.weight\n",
      "torch.Size([64, 3, 3, 7, 7])\n",
      "False\n",
      "model.0.core.stem.1.weight\n",
      "torch.Size([64])\n",
      "False\n",
      "model.0.core.stem.1.bias\n",
      "torch.Size([64])\n",
      "False\n",
      "model.0.core.layer1.0.conv1.0.weight\n",
      "torch.Size([64, 64, 3, 3, 3])\n",
      "False\n",
      "model.0.core.layer1.0.conv1.1.weight\n",
      "torch.Size([64])\n",
      "False\n",
      "model.0.core.layer1.0.conv1.1.bias\n",
      "torch.Size([64])\n",
      "False\n",
      "model.0.core.layer1.0.conv2.0.weight\n",
      "torch.Size([64, 64, 3, 3, 3])\n",
      "False\n",
      "model.0.core.layer1.0.conv2.1.weight\n",
      "torch.Size([64])\n",
      "False\n",
      "model.0.core.layer1.0.conv2.1.bias\n",
      "torch.Size([64])\n",
      "False\n",
      "model.0.core.layer1.1.conv1.0.weight\n",
      "torch.Size([64, 64, 3, 3, 3])\n",
      "False\n",
      "model.0.core.layer1.1.conv1.1.weight\n",
      "torch.Size([64])\n",
      "False\n",
      "model.0.core.layer1.1.conv1.1.bias\n",
      "torch.Size([64])\n",
      "False\n",
      "model.0.core.layer1.1.conv2.0.weight\n",
      "torch.Size([64, 64, 3, 3, 3])\n",
      "False\n",
      "model.0.core.layer1.1.conv2.1.weight\n",
      "torch.Size([64])\n",
      "False\n",
      "model.0.core.layer1.1.conv2.1.bias\n",
      "torch.Size([64])\n",
      "False\n",
      "model.0.core.layer2.0.conv1.0.weight\n",
      "torch.Size([128, 64, 3, 3, 3])\n",
      "False\n",
      "model.0.core.layer2.0.conv1.1.weight\n",
      "torch.Size([128])\n",
      "False\n",
      "model.0.core.layer2.0.conv1.1.bias\n",
      "torch.Size([128])\n",
      "False\n",
      "model.1.mu\n",
      "torch.Size([95, 2])\n",
      "True\n",
      "model.1.sigma\n",
      "torch.Size([95])\n",
      "True\n",
      "model.1.poisson_linear.linear.weight\n",
      "torch.Size([95, 384])\n",
      "True\n",
      "model.1.poisson_linear.linear.bias\n",
      "torch.Size([95])\n",
      "True\n",
      "  epoch 1 loss: 0.1107194208349857 corr: 0.20166708008197815\n",
      " num. neurons : 95\n",
      "  epoch 2 loss: 0.10498589938847806 corr: 0.2655807944781295\n",
      " num. neurons : 95\n",
      "  epoch 3 loss: 0.10399192190919247 corr: 0.32198398535725586\n",
      " num. neurons : 95\n",
      "  epoch 4 loss: 0.10317453183428779 corr: 0.34868428588960054\n",
      " num. neurons : 95\n",
      "  epoch 5 loss: 0.10254030340004966 corr: 0.3759320285017014\n",
      " num. neurons : 95\n",
      "  epoch 6 loss: 0.10195204350336684 corr: 0.40074464807526833\n",
      " num. neurons : 95\n",
      "  epoch 7 loss: 0.10149118787955239 corr: 0.37954624195337555\n",
      " num. neurons : 95\n",
      "  epoch 8 loss: 0.10113787807095113 corr: 0.39832490449314994\n",
      " num. neurons : 95\n",
      "  epoch 9 loss: 0.10081533898857875 corr: 0.40834998366616626\n",
      " num. neurons : 95\n"
     ]
    }
   ],
   "source": [
    "#### train 4 encoding models: \n",
    "from fix_models.models import FullModel\n",
    "\n",
    "for layer in ['layer1', 'layer2', 'layer3', 'layer4']:\n",
    "    config['layer'] = layer\n",
    "    print(f'layer: {layer}')\n",
    "\n",
    "    #### 1) frozen pretrained CNN with poisson GLM readout\n",
    "    cnn_frozen_fcn = lambda train_dataset:FullModel(feat_ext_type = 'resnet3d', freeze_weights=True, use_pretrained = True, modality=config[\"modality\"], layer=config[\"layer\"], stim_shape=config[\"stim_shape\"], train_dataset=train_dataset, use_pool = config['use_pool'], pool_size = config['pool_size'], pool_stride = config[\"pool_stride\"], device=device)\n",
    "    #### 2) unfrozen pretrained CNN with poisson GLM readout\n",
    "    cnn_unfrozen_fcn = lambda train_dataset:FullModel(feat_ext_type = 'resnet3d', freeze_weights=False, use_pretrained = True, modality=config[\"modality\"], layer=config[\"layer\"], stim_shape=config[\"stim_shape\"], train_dataset=train_dataset, use_pool = config['use_pool'], pool_size = config['pool_size'], pool_stride = config[\"pool_stride\"], device=device)\n",
    "    #### 3) CNN trained from scratch with poisson GLM readout\n",
    "    cnn_untrained_fcn = lambda train_dataset:FullModel(feat_ext_type = 'resnet3d', freeze_weights=False, use_pretrained = False, modality=config[\"modality\"], layer=config[\"layer\"], stim_shape=config[\"stim_shape\"], train_dataset=train_dataset, use_pool = config['use_pool'], pool_size = config['pool_size'], pool_stride = config[\"pool_stride\"], device=device)\n",
    "    #### 4) poisson GLM trained from scratch\n",
    "    poisson_glm_fcn = lambda train_dataset: FullModel(feat_ext_type = 'none', freeze_weights=False, use_pretrained = False, modality=config[\"modality\"], layer=config[\"layer\"], stim_shape=config[\"stim_shape\"], train_dataset=train_dataset, use_pool = config['use_pool'], pool_size = config['pool_size'], pool_stride = config[\"pool_stride\"], device=device)\n",
    "\n",
    "    config['l2_weight'] = 0 #l2_weight\n",
    "    train_model(cnn_frozen_fcn, \"frozen pretrained\")\n",
    "    train_model(cnn_unfrozen_fcn, \"unfrozen pretrained\")\n",
    "    train_model(cnn_untrained_fcn, \"untrained\")\n",
    "    config['l2_weight'] = 100\n",
    "    train_model(poisson_glm_fcn, \"linear\")"
   ]
  }
 ],
 "metadata": {
  "kernelspec": {
   "display_name": "Python 3 (ipykernel)",
   "language": "python",
   "name": "python3"
  },
  "language_info": {
   "codemirror_mode": {
    "name": "ipython",
    "version": 3
   },
   "file_extension": ".py",
   "mimetype": "text/x-python",
   "name": "python",
   "nbconvert_exporter": "python",
   "pygments_lexer": "ipython3",
   "version": "3.10.12"
  }
 },
 "nbformat": 4,
 "nbformat_minor": 5
}
